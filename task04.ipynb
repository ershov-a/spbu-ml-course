{
  "nbformat": 4,
  "nbformat_minor": 0,
  "metadata": {
    "colab": {
      "provenance": []
    },
    "kernelspec": {
      "name": "python3",
      "display_name": "Python 3"
    },
    "language_info": {
      "name": "python"
    }
  },
  "cells": [
    {
      "cell_type": "markdown",
      "source": [
        "## Задача 4. Ансамбли\n",
        "\n",
        "Ершов Александр Сергеевич, гр. 22.М04-мм\n",
        "\n",
        "Задача:\n",
        "\n",
        "\\+ Найти данные размера хотя бы 10000, на которых можно решить задачу классификации или регрессии.\n",
        "\n",
        "\\+ Выполнить разведочный анализ (EDA). При необходимости выполнить полезные преобразования данных.\n",
        "\n",
        "\\+ Самостоятельно реализуйте алгоритмы Bagging и AdaBoost, которые позволят обучить ансамбли каких-то простых моделей, например деревьев принятия решений.\n",
        "Обучите ансамбли для каких-то простых моделей, используя свои две реализации, а также реализации из sklearn (Bagging, Random Forest, AdaBoost, Gradient Tree Boosting, Histogram-Based Gradient Boosting).\n",
        "\n",
        "\\+ При обучении использовать подбор гиперпараметров, кросс-валидацию.\n",
        "\n",
        "\\+ Сравнить качество моделей: замерить скорость обучения, вычислить различные метрики качества, построить матрицы ошибок.\n",
        "\n",
        "\\+ * (+2 балла) Также добавить в сравнение модели из библиотек Xgboost, LightGBM и CatBoost.\n",
        "\n",
        "\\+ * (+3 балла) Для подбора гиперпараметров использовать фреймворк Optuna."
      ],
      "metadata": {
        "id": "dpRFprXvSIQt"
      }
    },
    {
      "cell_type": "markdown",
      "source": [
        "### Найти данные размера хотя бы 10000, на которых можно решить задачу классификации или регрессии.\n",
        "\n",
        "Датасет \"Airlines Delay. Can you predict when a flight in delayed?\" https://www.kaggle.com/datasets/ulrikthygepedersen/airlines-delay.\n"
      ],
      "metadata": {
        "id": "MA9K3iQHSyMa"
      }
    },
    {
      "cell_type": "code",
      "source": [
        "import pandas as pd\n",
        "data = pd.read_csv(\"data.csv\")\n",
        "data.head()"
      ],
      "metadata": {
        "colab": {
          "base_uri": "https://localhost:8080/",
          "height": 206
        },
        "id": "BncCGQtT-t9y",
        "outputId": "739735f3-54b6-40b8-edaa-6b2af929ccb1"
      },
      "execution_count": null,
      "outputs": [
        {
          "output_type": "execute_result",
          "data": {
            "text/plain": [
              "   Flight    Time  Length Airline AirportFrom AirportTo  DayOfWeek  Class\n",
              "0  2313.0  1296.0   141.0      DL         ATL       HOU          1      0\n",
              "1  6948.0   360.0   146.0      OO         COS       ORD          4      0\n",
              "2  1247.0  1170.0   143.0      B6         BOS       CLT          3      0\n",
              "3    31.0  1410.0   344.0      US         OGG       PHX          6      0\n",
              "4   563.0   692.0    98.0      FL         BMI       ATL          4      0"
            ],
            "text/html": [
              "\n",
              "  <div id=\"df-1f5b3852-bb2b-4700-be91-c45e77f29ea0\">\n",
              "    <div class=\"colab-df-container\">\n",
              "      <div>\n",
              "<style scoped>\n",
              "    .dataframe tbody tr th:only-of-type {\n",
              "        vertical-align: middle;\n",
              "    }\n",
              "\n",
              "    .dataframe tbody tr th {\n",
              "        vertical-align: top;\n",
              "    }\n",
              "\n",
              "    .dataframe thead th {\n",
              "        text-align: right;\n",
              "    }\n",
              "</style>\n",
              "<table border=\"1\" class=\"dataframe\">\n",
              "  <thead>\n",
              "    <tr style=\"text-align: right;\">\n",
              "      <th></th>\n",
              "      <th>Flight</th>\n",
              "      <th>Time</th>\n",
              "      <th>Length</th>\n",
              "      <th>Airline</th>\n",
              "      <th>AirportFrom</th>\n",
              "      <th>AirportTo</th>\n",
              "      <th>DayOfWeek</th>\n",
              "      <th>Class</th>\n",
              "    </tr>\n",
              "  </thead>\n",
              "  <tbody>\n",
              "    <tr>\n",
              "      <th>0</th>\n",
              "      <td>2313.0</td>\n",
              "      <td>1296.0</td>\n",
              "      <td>141.0</td>\n",
              "      <td>DL</td>\n",
              "      <td>ATL</td>\n",
              "      <td>HOU</td>\n",
              "      <td>1</td>\n",
              "      <td>0</td>\n",
              "    </tr>\n",
              "    <tr>\n",
              "      <th>1</th>\n",
              "      <td>6948.0</td>\n",
              "      <td>360.0</td>\n",
              "      <td>146.0</td>\n",
              "      <td>OO</td>\n",
              "      <td>COS</td>\n",
              "      <td>ORD</td>\n",
              "      <td>4</td>\n",
              "      <td>0</td>\n",
              "    </tr>\n",
              "    <tr>\n",
              "      <th>2</th>\n",
              "      <td>1247.0</td>\n",
              "      <td>1170.0</td>\n",
              "      <td>143.0</td>\n",
              "      <td>B6</td>\n",
              "      <td>BOS</td>\n",
              "      <td>CLT</td>\n",
              "      <td>3</td>\n",
              "      <td>0</td>\n",
              "    </tr>\n",
              "    <tr>\n",
              "      <th>3</th>\n",
              "      <td>31.0</td>\n",
              "      <td>1410.0</td>\n",
              "      <td>344.0</td>\n",
              "      <td>US</td>\n",
              "      <td>OGG</td>\n",
              "      <td>PHX</td>\n",
              "      <td>6</td>\n",
              "      <td>0</td>\n",
              "    </tr>\n",
              "    <tr>\n",
              "      <th>4</th>\n",
              "      <td>563.0</td>\n",
              "      <td>692.0</td>\n",
              "      <td>98.0</td>\n",
              "      <td>FL</td>\n",
              "      <td>BMI</td>\n",
              "      <td>ATL</td>\n",
              "      <td>4</td>\n",
              "      <td>0</td>\n",
              "    </tr>\n",
              "  </tbody>\n",
              "</table>\n",
              "</div>\n",
              "      <button class=\"colab-df-convert\" onclick=\"convertToInteractive('df-1f5b3852-bb2b-4700-be91-c45e77f29ea0')\"\n",
              "              title=\"Convert this dataframe to an interactive table.\"\n",
              "              style=\"display:none;\">\n",
              "        \n",
              "  <svg xmlns=\"http://www.w3.org/2000/svg\" height=\"24px\"viewBox=\"0 0 24 24\"\n",
              "       width=\"24px\">\n",
              "    <path d=\"M0 0h24v24H0V0z\" fill=\"none\"/>\n",
              "    <path d=\"M18.56 5.44l.94 2.06.94-2.06 2.06-.94-2.06-.94-.94-2.06-.94 2.06-2.06.94zm-11 1L8.5 8.5l.94-2.06 2.06-.94-2.06-.94L8.5 2.5l-.94 2.06-2.06.94zm10 10l.94 2.06.94-2.06 2.06-.94-2.06-.94-.94-2.06-.94 2.06-2.06.94z\"/><path d=\"M17.41 7.96l-1.37-1.37c-.4-.4-.92-.59-1.43-.59-.52 0-1.04.2-1.43.59L10.3 9.45l-7.72 7.72c-.78.78-.78 2.05 0 2.83L4 21.41c.39.39.9.59 1.41.59.51 0 1.02-.2 1.41-.59l7.78-7.78 2.81-2.81c.8-.78.8-2.07 0-2.86zM5.41 20L4 18.59l7.72-7.72 1.47 1.35L5.41 20z\"/>\n",
              "  </svg>\n",
              "      </button>\n",
              "      \n",
              "  <style>\n",
              "    .colab-df-container {\n",
              "      display:flex;\n",
              "      flex-wrap:wrap;\n",
              "      gap: 12px;\n",
              "    }\n",
              "\n",
              "    .colab-df-convert {\n",
              "      background-color: #E8F0FE;\n",
              "      border: none;\n",
              "      border-radius: 50%;\n",
              "      cursor: pointer;\n",
              "      display: none;\n",
              "      fill: #1967D2;\n",
              "      height: 32px;\n",
              "      padding: 0 0 0 0;\n",
              "      width: 32px;\n",
              "    }\n",
              "\n",
              "    .colab-df-convert:hover {\n",
              "      background-color: #E2EBFA;\n",
              "      box-shadow: 0px 1px 2px rgba(60, 64, 67, 0.3), 0px 1px 3px 1px rgba(60, 64, 67, 0.15);\n",
              "      fill: #174EA6;\n",
              "    }\n",
              "\n",
              "    [theme=dark] .colab-df-convert {\n",
              "      background-color: #3B4455;\n",
              "      fill: #D2E3FC;\n",
              "    }\n",
              "\n",
              "    [theme=dark] .colab-df-convert:hover {\n",
              "      background-color: #434B5C;\n",
              "      box-shadow: 0px 1px 3px 1px rgba(0, 0, 0, 0.15);\n",
              "      filter: drop-shadow(0px 1px 2px rgba(0, 0, 0, 0.3));\n",
              "      fill: #FFFFFF;\n",
              "    }\n",
              "  </style>\n",
              "\n",
              "      <script>\n",
              "        const buttonEl =\n",
              "          document.querySelector('#df-1f5b3852-bb2b-4700-be91-c45e77f29ea0 button.colab-df-convert');\n",
              "        buttonEl.style.display =\n",
              "          google.colab.kernel.accessAllowed ? 'block' : 'none';\n",
              "\n",
              "        async function convertToInteractive(key) {\n",
              "          const element = document.querySelector('#df-1f5b3852-bb2b-4700-be91-c45e77f29ea0');\n",
              "          const dataTable =\n",
              "            await google.colab.kernel.invokeFunction('convertToInteractive',\n",
              "                                                     [key], {});\n",
              "          if (!dataTable) return;\n",
              "\n",
              "          const docLinkHtml = 'Like what you see? Visit the ' +\n",
              "            '<a target=\"_blank\" href=https://colab.research.google.com/notebooks/data_table.ipynb>data table notebook</a>'\n",
              "            + ' to learn more about interactive tables.';\n",
              "          element.innerHTML = '';\n",
              "          dataTable['output_type'] = 'display_data';\n",
              "          await google.colab.output.renderOutput(dataTable, element);\n",
              "          const docLink = document.createElement('div');\n",
              "          docLink.innerHTML = docLinkHtml;\n",
              "          element.appendChild(docLink);\n",
              "        }\n",
              "      </script>\n",
              "    </div>\n",
              "  </div>\n",
              "  "
            ]
          },
          "metadata": {},
          "execution_count": 1
        }
      ]
    },
    {
      "cell_type": "markdown",
      "source": [
        "Описание датасета:\n",
        "- Flight - номер рейса\n",
        "- Time - время вылета по расписанию\n",
        "- Length - длительность задержки\n",
        "- Airline - авиакомпания\n",
        "- AirportFrom - аэропорт вылета\n",
        "- AirportTo - аэропорт прилета\n",
        "- DayOfWeek - день недели\n",
        "- Class - класс рейса, целевой признак"
      ],
      "metadata": {
        "id": "iFTVJn9m-_Uw"
      }
    },
    {
      "cell_type": "markdown",
      "source": [
        "### Выполнить разведочный анализ (EDA). При необходимости выполнить полезные преобразования данных."
      ],
      "metadata": {
        "id": "pgfPrFwqAKnN"
      }
    },
    {
      "cell_type": "code",
      "source": [
        "data.info()"
      ],
      "metadata": {
        "id": "nHOZw0JC-_C9",
        "colab": {
          "base_uri": "https://localhost:8080/"
        },
        "outputId": "46cd7d7c-892f-4549-eedb-318901a7436e"
      },
      "execution_count": null,
      "outputs": [
        {
          "output_type": "stream",
          "name": "stdout",
          "text": [
            "<class 'pandas.core.frame.DataFrame'>\n",
            "RangeIndex: 539382 entries, 0 to 539381\n",
            "Data columns (total 8 columns):\n",
            " #   Column       Non-Null Count   Dtype  \n",
            "---  ------       --------------   -----  \n",
            " 0   Flight       539382 non-null  float64\n",
            " 1   Time         539382 non-null  float64\n",
            " 2   Length       539382 non-null  float64\n",
            " 3   Airline      539382 non-null  object \n",
            " 4   AirportFrom  539382 non-null  object \n",
            " 5   AirportTo    539382 non-null  object \n",
            " 6   DayOfWeek    539382 non-null  int64  \n",
            " 7   Class        539382 non-null  int64  \n",
            "dtypes: float64(3), int64(2), object(3)\n",
            "memory usage: 32.9+ MB\n"
          ]
        }
      ]
    },
    {
      "cell_type": "markdown",
      "source": [
        "В датасете 539382 строки и 8 признаков."
      ],
      "metadata": {
        "id": "f1aMKX5DHxtB"
      }
    },
    {
      "cell_type": "code",
      "source": [
        "import missingno as msno\n",
        "import matplotlib.pyplot as plt\n",
        "\n",
        "msno.matrix(data)\n",
        "plt.show()"
      ],
      "metadata": {
        "colab": {
          "base_uri": "https://localhost:8080/",
          "height": 671
        },
        "id": "GW84w5qwIC5g",
        "outputId": "260de012-9d00-47e8-854e-0e4a51bcd45d"
      },
      "execution_count": null,
      "outputs": [
        {
          "output_type": "display_data",
          "data": {
            "text/plain": [
              "<Figure size 1800x720 with 2 Axes>"
            ],
            "image/png": "[encoded data removed]"
          },
          "metadata": {
            "needs_background": "light"
          }
        }
      ]
    },
    {
      "cell_type": "code",
      "source": [
        "data.isnull().sum()"
      ],
      "metadata": {
        "colab": {
          "base_uri": "https://localhost:8080/"
        },
        "id": "OiwoyNmX4Phw",
        "outputId": "f7f1f99e-fd7a-4e81-dd92-242c17180e78"
      },
      "execution_count": null,
      "outputs": [
        {
          "output_type": "execute_result",
          "data": {
            "text/plain": [
              "Flight         0\n",
              "Time           0\n",
              "Length         0\n",
              "Airline        0\n",
              "AirportFrom    0\n",
              "AirportTo      0\n",
              "DayOfWeek      0\n",
              "Class          0\n",
              "dtype: int64"
            ]
          },
          "metadata": {},
          "execution_count": 4
        }
      ]
    },
    {
      "cell_type": "markdown",
      "source": [
        "Пропусков в данных нет."
      ],
      "metadata": {
        "id": "DFka6Ggm5E4x"
      }
    },
    {
      "cell_type": "code",
      "source": [
        "import seaborn as sns\n",
        "sns.set (rc = {'figure.figsize':(15, 9)})\n",
        "sns.heatmap(data.corr(), annot = True)\n",
        "plt.show ()"
      ],
      "metadata": {
        "colab": {
          "base_uri": "https://localhost:8080/",
          "height": 544
        },
        "id": "423RZrfTJAoe",
        "outputId": "0c04ed1b-a445-4ff1-f613-826701506fec"
      },
      "execution_count": null,
      "outputs": [
        {
          "output_type": "display_data",
          "data": {
            "text/plain": [
              "<Figure size 1080x648 with 2 Axes>"
            ],
            "image/png": "[encoded data removed]"
          },
          "metadata": {}
        }
      ]
    },
    {
      "cell_type": "markdown",
      "source": [
        "Сильной корреляции признаков не найдено."
      ],
      "metadata": {
        "id": "FWxI2VEjJpTj"
      }
    },
    {
      "cell_type": "code",
      "source": [
        "c = data.groupby('Airline').sum()['Class'].sort_values(ascending=False)\n",
        "c.plot(kind='bar')\n",
        "plt.ylabel('Number of delayed flights')\n",
        "plt.title('Number of delayed flights per airline')\n",
        "plt.show()"
      ],
      "metadata": {
        "colab": {
          "base_uri": "https://localhost:8080/",
          "height": 582
        },
        "id": "tNaR9kOvJoxd",
        "outputId": "0e494783-621b-45ee-c2cc-adfcadd0c9a0"
      },
      "execution_count": null,
      "outputs": [
        {
          "output_type": "display_data",
          "data": {
            "text/plain": [
              "<Figure size 1080x648 with 1 Axes>"
            ],
            "image/png": "[encoded data removed]"
          },
          "metadata": {}
        }
      ]
    },
    {
      "cell_type": "markdown",
      "source": [
        "У авиакомпании WN наибольшее количество задержанных рейсов."
      ],
      "metadata": {
        "id": "Qn0yGCS6Kclj"
      }
    },
    {
      "cell_type": "code",
      "source": [
        "import seaborn as sns\n",
        "sns.histplot(data=data, x=\"Airline\").set(title='Number of flights by firline')"
      ],
      "metadata": {
        "colab": {
          "base_uri": "https://localhost:8080/",
          "height": 591
        },
        "id": "NreNrojazx0J",
        "outputId": "04efd184-5307-40d9-a81c-9be532637c16"
      },
      "execution_count": null,
      "outputs": [
        {
          "output_type": "execute_result",
          "data": {
            "text/plain": [
              "[Text(0.5, 1.0, 'Number of flights by firline')]"
            ]
          },
          "metadata": {},
          "execution_count": 7
        },
        {
          "output_type": "display_data",
          "data": {
            "text/plain": [
              "<Figure size 1080x648 with 1 Axes>"
            ],
            "image/png": "[encoded data removed]"
          },
          "metadata": {}
        }
      ]
    },
    {
      "cell_type": "markdown",
      "source": [
        "Однако у авиакомпании WN также наибольшее число рейсов."
      ],
      "metadata": {
        "id": "4fKg2XR-z6Ez"
      }
    },
    {
      "cell_type": "code",
      "source": [
        "sns.histplot(data=data, x=\"Airline\",\n",
        "             multiple=\"dodge\",\n",
        "             hue=\"Class\").set(title='On-time and delayed flights by airline')"
      ],
      "metadata": {
        "colab": {
          "base_uri": "https://localhost:8080/",
          "height": 591
        },
        "id": "ROOQWhMl0Dpe",
        "outputId": "21c11c30-6b6d-4c57-848a-1454352651b0"
      },
      "execution_count": null,
      "outputs": [
        {
          "output_type": "execute_result",
          "data": {
            "text/plain": [
              "[Text(0.5, 1.0, 'On-time and delayed flights by airline')]"
            ]
          },
          "metadata": {},
          "execution_count": 8
        },
        {
          "output_type": "display_data",
          "data": {
            "text/plain": [
              "<Figure size 1080x648 with 1 Axes>"
            ],
            "image/png": "[encoded data removed]"
          },
          "metadata": {}
        }
      ]
    },
    {
      "cell_type": "markdown",
      "source": [
        "Разбивка по классам рейса даёт схожий с предыдущими результат."
      ],
      "metadata": {
        "id": "EVcU5AKy0V6H"
      }
    },
    {
      "cell_type": "code",
      "source": [
        "sns.countplot(data=data, x=\"DayOfWeek\")"
      ],
      "metadata": {
        "colab": {
          "base_uri": "https://localhost:8080/",
          "height": 575
        },
        "id": "BwMIl_Lz0xYd",
        "outputId": "ddbb5014-834d-4b08-fe3c-1b3e2e48ea6b"
      },
      "execution_count": null,
      "outputs": [
        {
          "output_type": "execute_result",
          "data": {
            "text/plain": [
              "<Axes: xlabel='DayOfWeek', ylabel='count'>"
            ]
          },
          "metadata": {},
          "execution_count": 9
        },
        {
          "output_type": "display_data",
          "data": {
            "text/plain": [
              "<Figure size 1080x648 with 1 Axes>"
            ],
            "image/png": "[encoded data removed]"
          },
          "metadata": {}
        }
      ]
    },
    {
      "cell_type": "markdown",
      "source": [
        "Задержки рейсов чаще всего происходили в дни недели 3, 4, 5."
      ],
      "metadata": {
        "id": "fFeT2hRp01t8"
      }
    },
    {
      "cell_type": "markdown",
      "source": [
        "Преобразуем количественные признаки `Flight`, `Time`, `Length` в категориальные, разделив значения на 7 приблизительно равных групп с помощью `qcut()` из Pandas."
      ],
      "metadata": {
        "id": "lLMn7ivugNLT"
      }
    },
    {
      "cell_type": "code",
      "source": [
        "data.head()"
      ],
      "metadata": {
        "colab": {
          "base_uri": "https://localhost:8080/",
          "height": 206
        },
        "id": "6Y42fzLpaHPR",
        "outputId": "21ee6c07-1160-417b-b239-feb16d0f0c2f"
      },
      "execution_count": null,
      "outputs": [
        {
          "output_type": "execute_result",
          "data": {
            "text/plain": [
              "   Flight    Time  Length Airline AirportFrom AirportTo  DayOfWeek  Class\n",
              "0  2313.0  1296.0   141.0      DL         ATL       HOU          1      0\n",
              "1  6948.0   360.0   146.0      OO         COS       ORD          4      0\n",
              "2  1247.0  1170.0   143.0      B6         BOS       CLT          3      0\n",
              "3    31.0  1410.0   344.0      US         OGG       PHX          6      0\n",
              "4   563.0   692.0    98.0      FL         BMI       ATL          4      0"
            ],
            "text/html": [
              "\n",
              "  <div id=\"df-a0a0af25-9c89-411a-952d-7326ea985c4a\">\n",
              "    <div class=\"colab-df-container\">\n",
              "      <div>\n",
              "<style scoped>\n",
              "    .dataframe tbody tr th:only-of-type {\n",
              "        vertical-align: middle;\n",
              "    }\n",
              "\n",
              "    .dataframe tbody tr th {\n",
              "        vertical-align: top;\n",
              "    }\n",
              "\n",
              "    .dataframe thead th {\n",
              "        text-align: right;\n",
              "    }\n",
              "</style>\n",
              "<table border=\"1\" class=\"dataframe\">\n",
              "  <thead>\n",
              "    <tr style=\"text-align: right;\">\n",
              "      <th></th>\n",
              "      <th>Flight</th>\n",
              "      <th>Time</th>\n",
              "      <th>Length</th>\n",
              "      <th>Airline</th>\n",
              "      <th>AirportFrom</th>\n",
              "      <th>AirportTo</th>\n",
              "      <th>DayOfWeek</th>\n",
              "      <th>Class</th>\n",
              "    </tr>\n",
              "  </thead>\n",
              "  <tbody>\n",
              "    <tr>\n",
              "      <th>0</th>\n",
              "      <td>2313.0</td>\n",
              "      <td>1296.0</td>\n",
              "      <td>141.0</td>\n",
              "      <td>DL</td>\n",
              "      <td>ATL</td>\n",
              "      <td>HOU</td>\n",
              "      <td>1</td>\n",
              "      <td>0</td>\n",
              "    </tr>\n",
              "    <tr>\n",
              "      <th>1</th>\n",
              "      <td>6948.0</td>\n",
              "      <td>360.0</td>\n",
              "      <td>146.0</td>\n",
              "      <td>OO</td>\n",
              "      <td>COS</td>\n",
              "      <td>ORD</td>\n",
              "      <td>4</td>\n",
              "      <td>0</td>\n",
              "    </tr>\n",
              "    <tr>\n",
              "      <th>2</th>\n",
              "      <td>1247.0</td>\n",
              "      <td>1170.0</td>\n",
              "      <td>143.0</td>\n",
              "      <td>B6</td>\n",
              "      <td>BOS</td>\n",
              "      <td>CLT</td>\n",
              "      <td>3</td>\n",
              "      <td>0</td>\n",
              "    </tr>\n",
              "    <tr>\n",
              "      <th>3</th>\n",
              "      <td>31.0</td>\n",
              "      <td>1410.0</td>\n",
              "      <td>344.0</td>\n",
              "      <td>US</td>\n",
              "      <td>OGG</td>\n",
              "      <td>PHX</td>\n",
              "      <td>6</td>\n",
              "      <td>0</td>\n",
              "    </tr>\n",
              "    <tr>\n",
              "      <th>4</th>\n",
              "      <td>563.0</td>\n",
              "      <td>692.0</td>\n",
              "      <td>98.0</td>\n",
              "      <td>FL</td>\n",
              "      <td>BMI</td>\n",
              "      <td>ATL</td>\n",
              "      <td>4</td>\n",
              "      <td>0</td>\n",
              "    </tr>\n",
              "  </tbody>\n",
              "</table>\n",
              "</div>\n",
              "      <button class=\"colab-df-convert\" onclick=\"convertToInteractive('df-a0a0af25-9c89-411a-952d-7326ea985c4a')\"\n",
              "              title=\"Convert this dataframe to an interactive table.\"\n",
              "              style=\"display:none;\">\n",
              "        \n",
              "  <svg xmlns=\"http://www.w3.org/2000/svg\" height=\"24px\"viewBox=\"0 0 24 24\"\n",
              "       width=\"24px\">\n",
              "    <path d=\"M0 0h24v24H0V0z\" fill=\"none\"/>\n",
              "    <path d=\"M18.56 5.44l.94 2.06.94-2.06 2.06-.94-2.06-.94-.94-2.06-.94 2.06-2.06.94zm-11 1L8.5 8.5l.94-2.06 2.06-.94-2.06-.94L8.5 2.5l-.94 2.06-2.06.94zm10 10l.94 2.06.94-2.06 2.06-.94-2.06-.94-.94-2.06-.94 2.06-2.06.94z\"/><path d=\"M17.41 7.96l-1.37-1.37c-.4-.4-.92-.59-1.43-.59-.52 0-1.04.2-1.43.59L10.3 9.45l-7.72 7.72c-.78.78-.78 2.05 0 2.83L4 21.41c.39.39.9.59 1.41.59.51 0 1.02-.2 1.41-.59l7.78-7.78 2.81-2.81c.8-.78.8-2.07 0-2.86zM5.41 20L4 18.59l7.72-7.72 1.47 1.35L5.41 20z\"/>\n",
              "  </svg>\n",
              "      </button>\n",
              "      \n",
              "  <style>\n",
              "    .colab-df-container {\n",
              "      display:flex;\n",
              "      flex-wrap:wrap;\n",
              "      gap: 12px;\n",
              "    }\n",
              "\n",
              "    .colab-df-convert {\n",
              "      background-color: #E8F0FE;\n",
              "      border: none;\n",
              "      border-radius: 50%;\n",
              "      cursor: pointer;\n",
              "      display: none;\n",
              "      fill: #1967D2;\n",
              "      height: 32px;\n",
              "      padding: 0 0 0 0;\n",
              "      width: 32px;\n",
              "    }\n",
              "\n",
              "    .colab-df-convert:hover {\n",
              "      background-color: #E2EBFA;\n",
              "      box-shadow: 0px 1px 2px rgba(60, 64, 67, 0.3), 0px 1px 3px 1px rgba(60, 64, 67, 0.15);\n",
              "      fill: #174EA6;\n",
              "    }\n",
              "\n",
              "    [theme=dark] .colab-df-convert {\n",
              "      background-color: #3B4455;\n",
              "      fill: #D2E3FC;\n",
              "    }\n",
              "\n",
              "    [theme=dark] .colab-df-convert:hover {\n",
              "      background-color: #434B5C;\n",
              "      box-shadow: 0px 1px 3px 1px rgba(0, 0, 0, 0.15);\n",
              "      filter: drop-shadow(0px 1px 2px rgba(0, 0, 0, 0.3));\n",
              "      fill: #FFFFFF;\n",
              "    }\n",
              "  </style>\n",
              "\n",
              "      <script>\n",
              "        const buttonEl =\n",
              "          document.querySelector('#df-a0a0af25-9c89-411a-952d-7326ea985c4a button.colab-df-convert');\n",
              "        buttonEl.style.display =\n",
              "          google.colab.kernel.accessAllowed ? 'block' : 'none';\n",
              "\n",
              "        async function convertToInteractive(key) {\n",
              "          const element = document.querySelector('#df-a0a0af25-9c89-411a-952d-7326ea985c4a');\n",
              "          const dataTable =\n",
              "            await google.colab.kernel.invokeFunction('convertToInteractive',\n",
              "                                                     [key], {});\n",
              "          if (!dataTable) return;\n",
              "\n",
              "          const docLinkHtml = 'Like what you see? Visit the ' +\n",
              "            '<a target=\"_blank\" href=https://colab.research.google.com/notebooks/data_table.ipynb>data table notebook</a>'\n",
              "            + ' to learn more about interactive tables.';\n",
              "          element.innerHTML = '';\n",
              "          dataTable['output_type'] = 'display_data';\n",
              "          await google.colab.output.renderOutput(dataTable, element);\n",
              "          const docLink = document.createElement('div');\n",
              "          docLink.innerHTML = docLinkHtml;\n",
              "          element.appendChild(docLink);\n",
              "        }\n",
              "      </script>\n",
              "    </div>\n",
              "  </div>\n",
              "  "
            ]
          },
          "metadata": {},
          "execution_count": 10
        }
      ]
    },
    {
      "cell_type": "code",
      "source": [
        "bin_labels = ['0', '1', '2', '3', '4', '5', '6']\n",
        "data['Flight'] = pd.qcut(data['Flight'], q=7, precision=0, labels=bin_labels)\n",
        "data['Time'] = pd.qcut(data['Time'], q=7, precision=0, labels=bin_labels)\n",
        "data['Length'] = pd.qcut(data['Length'], q=7, precision=0, labels=bin_labels)"
      ],
      "metadata": {
        "id": "nce4jS_hYaUT"
      },
      "execution_count": null,
      "outputs": []
    },
    {
      "cell_type": "markdown",
      "source": [
        "Закодируем коды авиакомпании, аэропортов вылета и прилета."
      ],
      "metadata": {
        "id": "NH5Y_gtuYqGy"
      }
    },
    {
      "cell_type": "code",
      "source": [
        "from sklearn.preprocessing import LabelEncoder\n",
        "data[['Airline','AirportFrom','AirportTo']] = data[['Airline','AirportFrom','AirportTo']].apply(LabelEncoder().fit_transform)"
      ],
      "metadata": {
        "id": "RctjB530gUBK"
      },
      "execution_count": null,
      "outputs": []
    },
    {
      "cell_type": "code",
      "source": [
        "data.head()"
      ],
      "metadata": {
        "colab": {
          "base_uri": "https://localhost:8080/",
          "height": 206
        },
        "id": "PLNaTSMXgf-N",
        "outputId": "253b7299-4768-4b26-8ad6-79371257dff1"
      },
      "execution_count": null,
      "outputs": [
        {
          "output_type": "execute_result",
          "data": {
            "text/plain": [
              "  Flight Time Length  Airline  AirportFrom  AirportTo  DayOfWeek  Class\n",
              "0      4    6      4        5           16        129          1      0\n",
              "1      6    0      4       12           65        208          4      0\n",
              "2      2    6      4        3           35         60          3      0\n",
              "3      0    6      6       14          203        217          6      0\n",
              "4      1    2      2        8           32         16          4      0"
            ],
            "text/html": [
              "\n",
              "  <div id=\"df-19b3ef93-292a-4449-91f4-2552983488dd\">\n",
              "    <div class=\"colab-df-container\">\n",
              "      <div>\n",
              "<style scoped>\n",
              "    .dataframe tbody tr th:only-of-type {\n",
              "        vertical-align: middle;\n",
              "    }\n",
              "\n",
              "    .dataframe tbody tr th {\n",
              "        vertical-align: top;\n",
              "    }\n",
              "\n",
              "    .dataframe thead th {\n",
              "        text-align: right;\n",
              "    }\n",
              "</style>\n",
              "<table border=\"1\" class=\"dataframe\">\n",
              "  <thead>\n",
              "    <tr style=\"text-align: right;\">\n",
              "      <th></th>\n",
              "      <th>Flight</th>\n",
              "      <th>Time</th>\n",
              "      <th>Length</th>\n",
              "      <th>Airline</th>\n",
              "      <th>AirportFrom</th>\n",
              "      <th>AirportTo</th>\n",
              "      <th>DayOfWeek</th>\n",
              "      <th>Class</th>\n",
              "    </tr>\n",
              "  </thead>\n",
              "  <tbody>\n",
              "    <tr>\n",
              "      <th>0</th>\n",
              "      <td>4</td>\n",
              "      <td>6</td>\n",
              "      <td>4</td>\n",
              "      <td>5</td>\n",
              "      <td>16</td>\n",
              "      <td>129</td>\n",
              "      <td>1</td>\n",
              "      <td>0</td>\n",
              "    </tr>\n",
              "    <tr>\n",
              "      <th>1</th>\n",
              "      <td>6</td>\n",
              "      <td>0</td>\n",
              "      <td>4</td>\n",
              "      <td>12</td>\n",
              "      <td>65</td>\n",
              "      <td>208</td>\n",
              "      <td>4</td>\n",
              "      <td>0</td>\n",
              "    </tr>\n",
              "    <tr>\n",
              "      <th>2</th>\n",
              "      <td>2</td>\n",
              "      <td>6</td>\n",
              "      <td>4</td>\n",
              "      <td>3</td>\n",
              "      <td>35</td>\n",
              "      <td>60</td>\n",
              "      <td>3</td>\n",
              "      <td>0</td>\n",
              "    </tr>\n",
              "    <tr>\n",
              "      <th>3</th>\n",
              "      <td>0</td>\n",
              "      <td>6</td>\n",
              "      <td>6</td>\n",
              "      <td>14</td>\n",
              "      <td>203</td>\n",
              "      <td>217</td>\n",
              "      <td>6</td>\n",
              "      <td>0</td>\n",
              "    </tr>\n",
              "    <tr>\n",
              "      <th>4</th>\n",
              "      <td>1</td>\n",
              "      <td>2</td>\n",
              "      <td>2</td>\n",
              "      <td>8</td>\n",
              "      <td>32</td>\n",
              "      <td>16</td>\n",
              "      <td>4</td>\n",
              "      <td>0</td>\n",
              "    </tr>\n",
              "  </tbody>\n",
              "</table>\n",
              "</div>\n",
              "      <button class=\"colab-df-convert\" onclick=\"convertToInteractive('df-19b3ef93-292a-4449-91f4-2552983488dd')\"\n",
              "              title=\"Convert this dataframe to an interactive table.\"\n",
              "              style=\"display:none;\">\n",
              "        \n",
              "  <svg xmlns=\"http://www.w3.org/2000/svg\" height=\"24px\"viewBox=\"0 0 24 24\"\n",
              "       width=\"24px\">\n",
              "    <path d=\"M0 0h24v24H0V0z\" fill=\"none\"/>\n",
              "    <path d=\"M18.56 5.44l.94 2.06.94-2.06 2.06-.94-2.06-.94-.94-2.06-.94 2.06-2.06.94zm-11 1L8.5 8.5l.94-2.06 2.06-.94-2.06-.94L8.5 2.5l-.94 2.06-2.06.94zm10 10l.94 2.06.94-2.06 2.06-.94-2.06-.94-.94-2.06-.94 2.06-2.06.94z\"/><path d=\"M17.41 7.96l-1.37-1.37c-.4-.4-.92-.59-1.43-.59-.52 0-1.04.2-1.43.59L10.3 9.45l-7.72 7.72c-.78.78-.78 2.05 0 2.83L4 21.41c.39.39.9.59 1.41.59.51 0 1.02-.2 1.41-.59l7.78-7.78 2.81-2.81c.8-.78.8-2.07 0-2.86zM5.41 20L4 18.59l7.72-7.72 1.47 1.35L5.41 20z\"/>\n",
              "  </svg>\n",
              "      </button>\n",
              "      \n",
              "  <style>\n",
              "    .colab-df-container {\n",
              "      display:flex;\n",
              "      flex-wrap:wrap;\n",
              "      gap: 12px;\n",
              "    }\n",
              "\n",
              "    .colab-df-convert {\n",
              "      background-color: #E8F0FE;\n",
              "      border: none;\n",
              "      border-radius: 50%;\n",
              "      cursor: pointer;\n",
              "      display: none;\n",
              "      fill: #1967D2;\n",
              "      height: 32px;\n",
              "      padding: 0 0 0 0;\n",
              "      width: 32px;\n",
              "    }\n",
              "\n",
              "    .colab-df-convert:hover {\n",
              "      background-color: #E2EBFA;\n",
              "      box-shadow: 0px 1px 2px rgba(60, 64, 67, 0.3), 0px 1px 3px 1px rgba(60, 64, 67, 0.15);\n",
              "      fill: #174EA6;\n",
              "    }\n",
              "\n",
              "    [theme=dark] .colab-df-convert {\n",
              "      background-color: #3B4455;\n",
              "      fill: #D2E3FC;\n",
              "    }\n",
              "\n",
              "    [theme=dark] .colab-df-convert:hover {\n",
              "      background-color: #434B5C;\n",
              "      box-shadow: 0px 1px 3px 1px rgba(0, 0, 0, 0.15);\n",
              "      filter: drop-shadow(0px 1px 2px rgba(0, 0, 0, 0.3));\n",
              "      fill: #FFFFFF;\n",
              "    }\n",
              "  </style>\n",
              "\n",
              "      <script>\n",
              "        const buttonEl =\n",
              "          document.querySelector('#df-19b3ef93-292a-4449-91f4-2552983488dd button.colab-df-convert');\n",
              "        buttonEl.style.display =\n",
              "          google.colab.kernel.accessAllowed ? 'block' : 'none';\n",
              "\n",
              "        async function convertToInteractive(key) {\n",
              "          const element = document.querySelector('#df-19b3ef93-292a-4449-91f4-2552983488dd');\n",
              "          const dataTable =\n",
              "            await google.colab.kernel.invokeFunction('convertToInteractive',\n",
              "                                                     [key], {});\n",
              "          if (!dataTable) return;\n",
              "\n",
              "          const docLinkHtml = 'Like what you see? Visit the ' +\n",
              "            '<a target=\"_blank\" href=https://colab.research.google.com/notebooks/data_table.ipynb>data table notebook</a>'\n",
              "            + ' to learn more about interactive tables.';\n",
              "          element.innerHTML = '';\n",
              "          dataTable['output_type'] = 'display_data';\n",
              "          await google.colab.output.renderOutput(dataTable, element);\n",
              "          const docLink = document.createElement('div');\n",
              "          docLink.innerHTML = docLinkHtml;\n",
              "          element.appendChild(docLink);\n",
              "        }\n",
              "      </script>\n",
              "    </div>\n",
              "  </div>\n",
              "  "
            ]
          },
          "metadata": {},
          "execution_count": 13
        }
      ]
    },
    {
      "cell_type": "markdown",
      "source": [
        "Соберем данные для обучения."
      ],
      "metadata": {
        "id": "HeUwDNgRjFPo"
      }
    },
    {
      "cell_type": "code",
      "source": [
        "x = data.drop('Class', axis = 1).values\n",
        "y = data['Class'].values"
      ],
      "metadata": {
        "id": "-qmdNClvjEpY"
      },
      "execution_count": null,
      "outputs": []
    },
    {
      "cell_type": "markdown",
      "source": [
        "Разделим выборку на обучающую и тестовую."
      ],
      "metadata": {
        "id": "vns05Kc1jXpw"
      }
    },
    {
      "cell_type": "code",
      "source": [
        "from sklearn.model_selection import train_test_split\n",
        "x_train, x_test, y_train, y_test = train_test_split(x, y, test_size = 0.3, random_state=19)"
      ],
      "metadata": {
        "id": "bQnr56-wjcvK"
      },
      "execution_count": null,
      "outputs": []
    },
    {
      "cell_type": "markdown",
      "source": [
        "### Самостоятельно реализуйте алгоритмы Bagging и AdaBoost, которые позволят обучить ансамбли каких-то простых моделей, например деревьев принятия решений. Обучите ансамбли для каких-то простых моделей, используя свои две реализации, а также реализации из sklearn (Bagging, Random Forest, AdaBoost, Gradient Tree Boosting, Histogram-Based Gradient Boosting)."
      ],
      "metadata": {
        "id": "nuYPy2tYjunP"
      }
    },
    {
      "cell_type": "markdown",
      "source": [
        "Реализация Bagging - MyBaggingDt"
      ],
      "metadata": {
        "id": "1rukYcEwlCpl"
      }
    },
    {
      "cell_type": "code",
      "source": [
        "import numpy as np\n",
        "from sklearn.tree import DecisionTreeClassifier\n",
        "\n",
        "class MyBaggingDt:\n",
        "    def __init__(self, est_count = 15, samples_count = 1):\n",
        "        self.est_count = est_count\n",
        "        self.samples_count = samples_count\n",
        "\n",
        "    def fit(self, x, y):\n",
        "        self.est = []\n",
        "        \n",
        "        for i in range(self.est_count):\n",
        "            sample_index = np.random.choice(self.samples_count, size = len(x))\n",
        "            x_i = x[sample_index]\n",
        "            y_i = y[sample_index]\n",
        "            estimator = DecisionTreeClassifier()\n",
        "            estimator.fit(x_i, y_i)\n",
        "            self.est.append(estimator)\n",
        "\n",
        "    def predict(self, x):\n",
        "        prediction = np.zeros(len(x))\n",
        "        for estimator in self.est:\n",
        "            prediction += estimator.predict(x)\n",
        "            \n",
        "        return np.round(prediction / self.est_count)"
      ],
      "metadata": {
        "id": "eOkrHQOdjuBw"
      },
      "execution_count": 37,
      "outputs": []
    },
    {
      "cell_type": "markdown",
      "source": [
        "Реализация AdaBoost - MyAdaBoostDt"
      ],
      "metadata": {
        "id": "lmdkvwwqlDZf"
      }
    },
    {
      "cell_type": "code",
      "source": [
        "class MyAdaBoostDt:\n",
        "    def __init__(self, est_count = 50, learning_rate = 1):\n",
        "        self.est_count = est_count\n",
        "        self.learning_rate = learning_rate\n",
        "        self.est = []\n",
        "        self.weights = np.zeros(est_count)\n",
        "\n",
        "    def fit(self, x, y):\n",
        "        w = (np.ones(len(x))) / len(x)\n",
        "        \n",
        "        for i in range(self.est_count):\n",
        "            estimator = DecisionTreeClassifier()\n",
        "            estimator.fit(x, y, sample_weight = w)\n",
        "            error, incorrect = self.compute_error(x, y, w, estimator)\n",
        "            \n",
        "            weight = self.compute_weight(error, self.learning_rate)\n",
        "            self.weights[i] = weight\n",
        "\n",
        "            w *= np.exp(weight * incorrect * ((w > 0) | (weight < 0)))\n",
        "            w /= np.sum(w)\n",
        "\n",
        "            self.est.append(estimator)\n",
        "            \n",
        "    def compute_error(self, x, y, w, estimator):\n",
        "        y_pred = estimator.predict(x)\n",
        "        incorrect = (y_pred != y)\n",
        "        estimator_error = np.sum(w[incorrect])\n",
        "        \n",
        "        return (estimator_error, incorrect)\n",
        "    \n",
        "    def compute_weight(self, error, learning_rate):\n",
        "        return 1 if error <= 0 else learning_rate * np.log((1 - error) / error)\n",
        "\n",
        "    def get_params(self, deep=True):\n",
        "        return {'n_est': self.est_count, 'learning_rate': self.learning_rate}\n",
        "\n",
        "    def predict(self, x):\n",
        "        y_pred = np.zeros(len(x))\n",
        "        for i, estimator in enumerate(self.est):\n",
        "            y_pred += self.weights[i] * estimator.predict(x)\n",
        "            \n",
        "        return np.sign(y_pred)"
      ],
      "metadata": {
        "id": "-87JWILmnWOc"
      },
      "execution_count": null,
      "outputs": []
    },
    {
      "cell_type": "markdown",
      "source": [
        "#### Обучение ансамблей с подбором гиперпараметров с использованием фреймворка Optuna."
      ],
      "metadata": {
        "id": "8KDC-YkCpE-4"
      }
    },
    {
      "cell_type": "markdown",
      "source": [
        "#### Реализации Bagging и AdaBoost"
      ],
      "metadata": {
        "id": "tw7bD0AzgR3E"
      }
    },
    {
      "cell_type": "markdown",
      "source": [
        "MyBaggingDt"
      ],
      "metadata": {
        "id": "XlDB0D5Tp1GQ"
      }
    },
    {
      "cell_type": "code",
      "source": [
        "#!pip install --quiet optuna"
      ],
      "metadata": {
        "id": "w41S9MHlqeTN"
      },
      "execution_count": null,
      "outputs": []
    },
    {
      "cell_type": "code",
      "source": [
        "from sklearn.metrics import accuracy_score\n",
        "import time\n",
        "import optuna\n",
        "optuna.logging.set_verbosity(optuna.logging.WARNING)\n",
        "\n",
        "n_trials = 22\n",
        "\n",
        "def objective(trial):\n",
        "    est_count = trial.suggest_int('Estimators count', 1, 25)\n",
        "    samples_count = trial.suggest_int('Samples number', 1, 20)\n",
        "    \n",
        "    model = MyBaggingDt(est_count, samples_count)\n",
        "    model.fit(x_train, y_train)\n",
        "    y_pred = model.predict(x_test)\n",
        "\n",
        "    return accuracy_score(y_test, y_pred)\n",
        "\n",
        "study = optuna.create_study(direction='maximize')\n",
        "study.optimize(objective, n_trials = n_trials)\n",
        "\n",
        "print(f'Optuna: parameters {study.best_trial.params}')\n",
        "print(f'Optuna: accuracy {study.best_value}')\n",
        "\n",
        "est_count_best = study.best_trial.params['Estimators count']\n",
        "samples_count_best = study.best_trial.params['Samples number']\n",
        "\n",
        "model = MyBaggingDt(est_count_best, samples_count_best)\n",
        "\n",
        "start = time.time()\n",
        "model.fit(x_train, y_train)\n",
        "end = time.time()\n",
        "\n",
        "bagging_pred = model.predict(x_test)\n",
        "bagging_accuracy = accuracy_score(y_test, bagging_pred)\n",
        "bagging_time = end - start\n",
        "\n",
        "print(f'Accuracy {bagging_accuracy}')\n",
        "print(f'Time {bagging_time}')"
      ],
      "metadata": {
        "colab": {
          "base_uri": "https://localhost:8080/"
        },
        "id": "aF04iQg2pKlO",
        "outputId": "e4d6558b-834e-40a1-965f-313cd99aca75"
      },
      "execution_count": 38,
      "outputs": [
        {
          "output_type": "stream",
          "name": "stdout",
          "text": [
            "Optuna: parameters {'Estimators count': 20, 'Samples number': 1}\n",
            "Optuna: accuracy 0.5533726786762662\n",
            "Accuracy 0.5533726786762662\n",
            "Time 6.713970184326172\n"
          ]
        }
      ]
    },
    {
      "cell_type": "markdown",
      "source": [
        "MyAdaBoostDt"
      ],
      "metadata": {
        "id": "CUrCU2dxfccr"
      }
    },
    {
      "cell_type": "code",
      "source": [
        "def objective(trial):\n",
        "    est_count = trial.suggest_int('Estimators count', 1, 25)\n",
        "    learning_rate = trial.suggest_int('Learning rate', 1, 10)\n",
        "    \n",
        "    model = MyAdaBoostDt(est_count, learning_rate / 10)\n",
        "    model.fit(x_train, y_train)\n",
        "    y_pred = model.predict(x_test)\n",
        "\n",
        "    return accuracy_score(y_test, y_pred)\n",
        "\n",
        "study = optuna.create_study(direction='maximize')\n",
        "study.optimize(objective, n_trials = n_trials)\n",
        "\n",
        "print(f'Optuna: parameters {study.best_trial.params}')\n",
        "print(f'Optuna: accuracy {study.best_value}')\n",
        "\n",
        "est_count_best = study.best_trial.params['Estimators count']\n",
        "learning_rate_best = study.best_trial.params['Learning rate']\n",
        "\n",
        "model = MyAdaBoostDt(est_count_best, learning_rate_best)\n",
        "\n",
        "start = time.time()\n",
        "model.fit(x_train, y_train)\n",
        "end = time.time()\n",
        "\n",
        "adaboost_pred = model.predict(x_test)\n",
        "adaboost_accuracy = accuracy_score(y_test, adaboost_pred)\n",
        "adaboost_time = end - start\n",
        "\n",
        "print(f'Accuracy {adaboost_accuracy}')\n",
        "print(f'Time {adaboost_time}')"
      ],
      "metadata": {
        "colab": {
          "base_uri": "https://localhost:8080/"
        },
        "id": "IULKeIVofPYY",
        "outputId": "a9bc1beb-3156-48d7-9798-da3e312e747e"
      },
      "execution_count": null,
      "outputs": [
        {
          "output_type": "stream",
          "name": "stdout",
          "text": [
            "Optuna: parameters {'Estimators count': 1, 'Learning rate': 3}\n",
            "Optuna: accuracy 0.6087816333467231\n",
            "Accuracy 0.6086580354108087\n",
            "Time 2.824287176132202\n"
          ]
        }
      ]
    },
    {
      "cell_type": "markdown",
      "source": [
        "#### Библиотечные модели"
      ],
      "metadata": {
        "id": "ANPN7VRvgKqY"
      }
    },
    {
      "cell_type": "markdown",
      "source": [
        "Sklearn - Bagging"
      ],
      "metadata": {
        "id": "h24jA9iLaNiN"
      }
    },
    {
      "cell_type": "code",
      "source": [
        "from sklearn.ensemble import BaggingClassifier\n",
        "\n",
        "def objective(trial):\n",
        "    est_count = trial.suggest_int('Estimators number', 1, 25)\n",
        "    samples_count = trial.suggest_int('Samples number', 1, 20)\n",
        "    features_count = trial.suggest_int('Features number', 2, 10)\n",
        "    model = BaggingClassifier(\n",
        "        n_estimators = est_count,\n",
        "        max_samples = samples_count / 20,\n",
        "        max_features = features_count / 10,\n",
        "        estimator = DecisionTreeClassifier())\n",
        "    \n",
        "    model.fit(x_train, y_train)\n",
        "    y_pred = model.predict(x_test)\n",
        "\n",
        "    return accuracy_score(y_test, y_pred)\n",
        "\n",
        "study = optuna.create_study(direction = 'maximize')\n",
        "study.optimize(objective, n_trials = n_trials)\n",
        "\n",
        "print(f'Optuna: parameters {study.best_trial.params}')\n",
        "print(f'Optuna: accuracy {study.best_value}')\n",
        "\n",
        "est_count_best = study.best_trial.params['Estimators number']\n",
        "samples_count_best = study.best_trial.params['Samples number']\n",
        "features_count_best = study.best_trial.params['Features number']\n",
        "\n",
        "model = BaggingClassifier(\n",
        "    n_estimators = est_count_best,\n",
        "    max_samples = samples_count_best / 20,\n",
        "    max_features = features_count_best / 12,\n",
        "    estimator = DecisionTreeClassifier())\n",
        "\n",
        "start = time.time()\n",
        "model.fit(x_train, y_train)\n",
        "end = time.time()\n",
        "\n",
        "sklearn_bagging_pred = model.predict(x_test)\n",
        "sklearn_bagging_accuracy = accuracy_score(y_test, sklearn_bagging_pred)\n",
        "sklearn_bagging_time = end - start\n",
        "\n",
        "print(f'Accuracy {sklearn_bagging_accuracy}')\n",
        "print(f'Time {sklearn_bagging_time}')"
      ],
      "metadata": {
        "colab": {
          "base_uri": "https://localhost:8080/"
        },
        "id": "AXQg_qkOaN45",
        "outputId": "63682a0c-05b6-4f84-df61-22299c3b3941"
      },
      "execution_count": null,
      "outputs": [
        {
          "output_type": "stream",
          "name": "stdout",
          "text": [
            "Optuna: parameters {'Estimators number': 17, 'Samples number': 12, 'Features number': 7}\n",
            "Optuna: accuracy 0.6599264592281309\n",
            "Accuracy 0.6437104100361524\n",
            "Time 11.498838663101196\n"
          ]
        }
      ]
    },
    {
      "cell_type": "markdown",
      "source": [
        "Sklearn - Random Forest"
      ],
      "metadata": {
        "id": "bDrC8ZcM8akQ"
      }
    },
    {
      "cell_type": "code",
      "source": [
        "from sklearn.ensemble import RandomForestClassifier\n",
        "\n",
        "def objective(trial):\n",
        "    est_count = trial.suggest_int('Estimators number', 1, 100)\n",
        "    samples_count = trial.suggest_int('Samples number', 1, 20)\n",
        "    features_count = trial.suggest_int('Features number', 2, 10)\n",
        "    rfc = RandomForestClassifier(\n",
        "        n_estimators = est_count,\n",
        "        max_samples = samples_count / 20,\n",
        "        max_features = features_count / 10,\n",
        "        max_depth = 4,\n",
        "        random_state = 19)\n",
        "    rfc.fit(x_train, y_train)\n",
        "    y_pred = rfc.predict(x_test)\n",
        "\n",
        "    return accuracy_score(y_test, y_pred)\n",
        "\n",
        "study = optuna.create_study(direction = 'maximize')\n",
        "study.optimize(objective, n_trials = n_trials)\n",
        "\n",
        "print(f'Optuna: parameters {study.best_trial.params}')\n",
        "print(f'Optuna: accuracy {study.best_value}')\n",
        "\n",
        "est_count_best = study.best_trial.params['Estimators number']\n",
        "samples_count_best = study.best_trial.params['Samples number']\n",
        "features_count_best = study.best_trial.params['Features number']\n",
        "\n",
        "model = RandomForestClassifier(\n",
        "    n_estimators = est_count_best,\n",
        "    max_samples = samples_count_best / 20,\n",
        "    max_features = features_count_best / 10,\n",
        "    max_depth = 4,\n",
        "    random_state = 19)\n",
        "\n",
        "start = time.time()\n",
        "model.fit(x_train, y_train)\n",
        "end = time.time()\n",
        "\n",
        "sklearn_rfc_pred = model.predict(x_test)\n",
        "sklearn_rfc_accuracy = accuracy_score(y_test, sklearn_rfc_pred)\n",
        "sklearn_rfc_time = end - start\n",
        "\n",
        "print(f'Accuracy {sklearn_rfc_accuracy}')\n",
        "print(f'Time {sklearn_rfc_time}')"
      ],
      "metadata": {
        "colab": {
          "base_uri": "https://localhost:8080/"
        },
        "id": "-hS9q54X8a0Y",
        "outputId": "233cff05-b6ad-46aa-cede-8126f9219b06"
      },
      "execution_count": null,
      "outputs": [
        {
          "output_type": "stream",
          "name": "stdout",
          "text": [
            "Optuna: parameters {'Estimators number': 58, 'Samples number': 4, 'Features number': 9}\n",
            "Optuna: accuracy 0.6355653060593888\n",
            "Accuracy 0.6355653060593888\n",
            "Time 9.289645671844482\n"
          ]
        }
      ]
    },
    {
      "cell_type": "markdown",
      "source": [
        "Sklearn - AdaBoost"
      ],
      "metadata": {
        "id": "80CD9zgC7gLQ"
      }
    },
    {
      "cell_type": "code",
      "source": [
        "from sklearn.ensemble import AdaBoostClassifier\n",
        "\n",
        "def objective(trial):\n",
        "    est_count = trial.suggest_int('Estimators number', 1, 10)\n",
        "    learning_rate = trial.suggest_int('Learning rate', 1, 5)\n",
        "    \n",
        "    model = AdaBoostClassifier(\n",
        "        n_estimators = est_count,\n",
        "        learning_rate = learning_rate / 10,\n",
        "        estimator = DecisionTreeClassifier())\n",
        "    model.fit(x_train, y_train)\n",
        "    y_pred = model.predict(x_test)\n",
        "\n",
        "    return accuracy_score(y_test, y_pred)\n",
        "\n",
        "study = optuna.create_study(direction = 'maximize')\n",
        "study.optimize(objective, n_trials = n_trials)\n",
        "\n",
        "print(f'Optuna: parameters {study.best_trial.params}')\n",
        "print(f'Optuna: accuracy {study.best_value}')\n",
        "\n",
        "est_count_best = study.best_trial.params['Estimators number']\n",
        "learning_rate_best = study.best_trial.params['Learning rate']\n",
        "\n",
        "model = AdaBoostClassifier(\n",
        "    n_estimators = est_count_best,\n",
        "    learning_rate = learning_rate_best / 10,\n",
        "    estimator = DecisionTreeClassifier())\n",
        "\n",
        "start = time.time()\n",
        "model.fit(x_train, y_train)\n",
        "end = time.time()\n",
        "\n",
        "sklearn_adaboost_pred = model.predict(x_test)\n",
        "sklearn_adaboost_accuracy = accuracy_score(y_test, adaboost_pred)\n",
        "sklearn_adaboost_time = end - start\n",
        "\n",
        "print(f'Accuracy {sklearn_adaboost_accuracy}')\n",
        "print(f'Time {sklearn_adaboost_time}')"
      ],
      "metadata": {
        "colab": {
          "base_uri": "https://localhost:8080/"
        },
        "id": "2FLjwPLy7f3-",
        "outputId": "9e27bc7e-58bf-4fb8-f9ab-835d128abf9d"
      },
      "execution_count": null,
      "outputs": [
        {
          "output_type": "stream",
          "name": "stdout",
          "text": [
            "Optuna: parameters {'Estimators number': 3, 'Learning rate': 1}\n",
            "Optuna: accuracy 0.611241232271421\n",
            "Accuracy 0.6086580354108087\n",
            "Time 9.61298155784607\n"
          ]
        }
      ]
    },
    {
      "cell_type": "markdown",
      "source": [
        "Sklearn - Gradient Tree Boosting"
      ],
      "metadata": {
        "id": "96tiVWtr91S0"
      }
    },
    {
      "cell_type": "code",
      "source": [
        "from sklearn.ensemble import GradientBoostingClassifier\n",
        "\n",
        "def objective(trial):\n",
        "    estimators_count = trial.suggest_int('Estimators number', 1, 25)\n",
        "    depth = trial.suggest_int('Depth', 1, 10)\n",
        "    features_count = trial.suggest_int('Features number', 2, 10)\n",
        "    gbc = GradientBoostingClassifier(\n",
        "        n_estimators = estimators_count,\n",
        "        max_depth = depth,\n",
        "        max_features = features_count / 10,\n",
        "        random_state = 19)\n",
        "    \n",
        "    gbc.fit(x_train, y_train)\n",
        "    y_pred = gbc.predict(x_test)\n",
        "\n",
        "    return accuracy_score(y_test, y_pred)\n",
        "\n",
        "study = optuna.create_study(direction = 'maximize')\n",
        "study.optimize(objective, n_trials = n_trials)\n",
        "\n",
        "print(f'Optuna: parameters {study.best_trial.params}')\n",
        "print(f'Optuna: accuracy {study.best_value}')\n",
        "\n",
        "estimators_count_best = study.best_trial.params['Estimators number']\n",
        "depth_best = study.best_trial.params['Depth']\n",
        "features_count_best = study.best_trial.params['Features number']\n",
        "\n",
        "model = GradientBoostingClassifier(\n",
        "    n_estimators = estimators_count_best,\n",
        "    max_depth = depth_best,\n",
        "    max_features = features_count_best / 10,\n",
        "    random_state = 19)\n",
        "\n",
        "start = time.time()\n",
        "model.fit(x_train, y_train)\n",
        "end = time.time()\n",
        "\n",
        "sklearn_gbc_pred = model.predict(x_test)\n",
        "sklearn_gbc_accuracy = accuracy_score(y_test, sklearn_gbc_pred)\n",
        "sklearn_gbc_time = end - start\n",
        "\n",
        "print(f'Accuracy {sklearn_gbc_accuracy}')\n",
        "print(f'Time {sklearn_gbc_time}')"
      ],
      "metadata": {
        "colab": {
          "base_uri": "https://localhost:8080/"
        },
        "id": "ERbVhome91jy",
        "outputId": "4895b39a-d8fd-4b9c-eebb-3bcb80aafc73"
      },
      "execution_count": null,
      "outputs": [
        {
          "output_type": "stream",
          "name": "stdout",
          "text": [
            "Optuna: parameters {'Estimators number': 22, 'Depth': 10, 'Features number': 8}\n",
            "Optuna: accuracy 0.6592157710966227\n",
            "Accuracy 0.6592157710966227\n",
            "Time 33.59503126144409\n"
          ]
        }
      ]
    },
    {
      "cell_type": "markdown",
      "source": [
        "Sklearn - Histogram-Based Gradient Boosting"
      ],
      "metadata": {
        "id": "aqzwuZEg-sdU"
      }
    },
    {
      "cell_type": "code",
      "source": [
        "from sklearn.ensemble import HistGradientBoostingClassifier\n",
        "\n",
        "def objective(trial):\n",
        "    learning_rate = trial.suggest_int('Learning rate', 1, 10)\n",
        "    iter_count = trial.suggest_int('Iterations number', 1, 15)\n",
        "    leaf_nodes_count = trial.suggest_int('Leaf nodes number', 2, 30)\n",
        "    depth = trial.suggest_int('Depth', 1, 10)\n",
        "    hgbc = HistGradientBoostingClassifier(\n",
        "        learning_rate = learning_rate / 10,\n",
        "        max_iter = iter_count,\n",
        "        max_depth = depth,\n",
        "        max_leaf_nodes = leaf_nodes_count,\n",
        "        random_state = 19)\n",
        "    \n",
        "    hgbc.fit(x_train, y_train)\n",
        "    y_pred = hgbc.predict(x_test)\n",
        "\n",
        "    return accuracy_score(y_test, y_pred)\n",
        "\n",
        "study = optuna.create_study(direction = 'maximize')\n",
        "study.optimize(objective, n_trials = n_trials)\n",
        "\n",
        "print(f'Optuna: parameters {study.best_trial.params}')\n",
        "print(f'Optuna: accuracy {study.best_value}')\n",
        "\n",
        "learning_rate_best = study.best_trial.params['Learning rate']\n",
        "iter_count_best = study.best_trial.params['Iterations number']\n",
        "depth_best = study.best_trial.params['Depth']\n",
        "leaf_nodes_count_best = study.best_trial.params['Leaf nodes number']\n",
        "\n",
        "model = HistGradientBoostingClassifier(\n",
        "    learning_rate = learning_rate_best / 10,\n",
        "    max_iter = iter_count_best,\n",
        "    max_depth = depth_best,\n",
        "    max_leaf_nodes = leaf_nodes_count_best,\n",
        "    random_state = 19)\n",
        "\n",
        "start = time.time()\n",
        "model.fit(x_train, y_train)\n",
        "end = time.time()\n",
        "\n",
        "sklearn_hgbc_pred = model.predict(x_test)\n",
        "sklearn_hgbc_accuracy = accuracy_score(y_test, sklearn_hgbc_pred)\n",
        "sklearn_hgbc_time = end - start\n",
        "\n",
        "print(f'Accuracy {sklearn_hgbc_accuracy}')\n",
        "print(f'Time {sklearn_hgbc_time}')"
      ],
      "metadata": {
        "colab": {
          "base_uri": "https://localhost:8080/"
        },
        "id": "8XSrf9y1-ssx",
        "outputId": "672141be-c05c-442d-a72a-623b77c1e212"
      },
      "execution_count": null,
      "outputs": [
        {
          "output_type": "stream",
          "name": "stdout",
          "text": [
            "Optuna: parameters {'Learning rate': 6, 'Iterations number': 14, 'Leaf nodes number': 27, 'Depth': 9}\n",
            "Optuna: accuracy 0.6536724036708587\n",
            "Accuracy 0.6536724036708587\n",
            "Time 2.869513750076294\n"
          ]
        }
      ]
    },
    {
      "cell_type": "markdown",
      "source": [
        "XGBoost - XGBClassifier"
      ],
      "metadata": {
        "id": "BHaBKg8-_RuL"
      }
    },
    {
      "cell_type": "code",
      "source": [
        "from xgboost import XGBClassifier\n",
        "\n",
        "def objective(trial):\n",
        "    est_count = trial.suggest_int('Estimators number', 1, 25)\n",
        "    leaves_number = trial.suggest_int('Leaves number', 1, 20)\n",
        "    depth = trial.suggest_int('Depth', 1, 10)\n",
        "    xgbc = XGBClassifier(\n",
        "        n_estimators = est_count,\n",
        "        max_leaves = leaves_number,\n",
        "        max_depth = depth,\n",
        "        random_state = 19)\n",
        "    \n",
        "    xgbc.fit(x_train, y_train)\n",
        "    y_pred = xgbc.predict(x_test)\n",
        "\n",
        "    return accuracy_score(y_test, y_pred)\n",
        "\n",
        "study = optuna.create_study(direction = 'maximize')\n",
        "study.optimize(objective, n_trials = n_trials)\n",
        "\n",
        "print(f'Optuna: parameters {study.best_trial.params}')\n",
        "print(f'Optuna: accuracy {study.best_value}')\n",
        "\n",
        "est_count_best = study.best_trial.params['Estimators number']\n",
        "leaves_number_best = study.best_trial.params['Leaves number']\n",
        "depth_best = study.best_trial.params['Depth']\n",
        "\n",
        "model = XGBClassifier(\n",
        "    n_estimators = est_count_best,\n",
        "    max_leaves = leaves_number_best,\n",
        "    max_depth = depth_best,\n",
        "    random_state = 19)\n",
        "\n",
        "start = time.time()\n",
        "model.fit(x_train, y_train)\n",
        "end = time.time()\n",
        "\n",
        "xgbc_pred = model.predict(x_test)\n",
        "xgbc_accuracy = accuracy_score(y_test, xgbc_pred)\n",
        "xgbc_time = end - start\n",
        "\n",
        "print(f'Accuracy {xgbc_accuracy}')\n",
        "print(f'Time {xgbc_time}')"
      ],
      "metadata": {
        "colab": {
          "base_uri": "https://localhost:8080/"
        },
        "id": "i2tqvZuo_R4v",
        "outputId": "18b585a6-ef9c-4ad8-e73b-60b2f744d924"
      },
      "execution_count": null,
      "outputs": [
        {
          "output_type": "stream",
          "name": "stdout",
          "text": [
            "Optuna: parameters {'Estimators number': 25, 'Leaves number': 18, 'Depth': 10}\n",
            "Optuna: accuracy 0.6645428421345364\n",
            "Accuracy 0.6645428421345364\n",
            "Time 15.019673824310303\n"
          ]
        }
      ]
    },
    {
      "cell_type": "markdown",
      "source": [
        "LightGBM - LGBMClassifier"
      ],
      "metadata": {
        "id": "TcnuvhqXAeg_"
      }
    },
    {
      "cell_type": "code",
      "source": [
        "from lightgbm import LGBMClassifier\n",
        "\n",
        "def objective(trial):\n",
        "    est_count = trial.suggest_int('Estimators number', 1, 25)\n",
        "    learning_rate = trial.suggest_int('Learning rate', 1, 10)\n",
        "    depth = trial.suggest_int('Depth', 1, 10)\n",
        "    lgbmc = LGBMClassifier(\n",
        "        n_estimators = est_count,\n",
        "        learning_rate = learning_rate / 10,\n",
        "        max_depth = depth,\n",
        "        random_state = 19)\n",
        "    \n",
        "    lgbmc.fit(x_train, y_train)\n",
        "    y_pred = lgbmc.predict(x_test)\n",
        "\n",
        "    return accuracy_score(y_test, y_pred)\n",
        "\n",
        "study = optuna.create_study(direction = 'maximize')\n",
        "study.optimize(objective, n_trials = n_trials)\n",
        "\n",
        "print(f'Optuna: parameters {study.best_trial.params}')\n",
        "print(f'Optuna: accuracy {study.best_value}')\n",
        "\n",
        "est_count_best = study.best_trial.params['Estimators number']\n",
        "learning_rate_best = study.best_trial.params['Learning rate']\n",
        "depth_best = study.best_trial.params['Depth']\n",
        "\n",
        "model = LGBMClassifier(\n",
        "    n_estimators = est_count_best,\n",
        "    learning_rate = learning_rate_best / 10,\n",
        "    max_depth = depth_best,\n",
        "    random_state = 19)\n",
        "\n",
        "start = time.time()\n",
        "model.fit(x_train, y_train)\n",
        "end = time.time()\n",
        "\n",
        "lgbmc_pred = model.predict(x_test)\n",
        "lgbmc_accuracy = accuracy_score(y_test, lgbmc_pred)\n",
        "lgbmc_time = end - start\n",
        "\n",
        "print(f'Accuracy {lgbmc_accuracy}')\n",
        "print(f'Time {lgbmc_time}')"
      ],
      "metadata": {
        "colab": {
          "base_uri": "https://localhost:8080/"
        },
        "id": "C25i9z_JAe0Y",
        "outputId": "b416648d-6681-44c5-b365-b2cc281b945a"
      },
      "execution_count": null,
      "outputs": [
        {
          "output_type": "stream",
          "name": "stdout",
          "text": [
            "Optuna: parameters {'Estimators number': 25, 'Learning rate': 7, 'Depth': 8}\n",
            "Optuna: accuracy 0.6572382041219912\n",
            "Accuracy 0.6572382041219912\n",
            "Time 1.1314315795898438\n"
          ]
        }
      ]
    },
    {
      "cell_type": "markdown",
      "source": [
        "CatBoost - CatBoostClassifier"
      ],
      "metadata": {
        "id": "vA1qR4CdBVKh"
      }
    },
    {
      "cell_type": "code",
      "source": [
        "#!pip install catboost --quiet"
      ],
      "metadata": {
        "id": "7X-5pbTSBt60"
      },
      "execution_count": null,
      "outputs": []
    },
    {
      "cell_type": "code",
      "source": [
        "from catboost import CatBoostClassifier\n",
        "\n",
        "def objective(trial):\n",
        "    estimators_number = trial.suggest_int('Estimators number', 1, 25)\n",
        "    learning_rate = trial.suggest_int('Learning rate', 1, 10)\n",
        "    depth = trial.suggest_int('Depth', 1, 10)\n",
        "    cbc = CatBoostClassifier(\n",
        "        n_estimators = estimators_number,\n",
        "        learning_rate = learning_rate / 10,\n",
        "        max_depth = depth,\n",
        "        random_state = 42,\n",
        "        verbose = False)\n",
        "    \n",
        "    cbc.fit(x_train, y_train)\n",
        "    y_pred = cbc.predict(x_test)\n",
        "\n",
        "    return accuracy_score(y_test, y_pred)\n",
        "\n",
        "study = optuna.create_study(direction = 'maximize')\n",
        "study.optimize(objective, n_trials = n_trials)\n",
        "\n",
        "print(f'Best parameters: {study.best_trial.params}')\n",
        "print(f'Best accuracy: {study.best_value}')\n",
        "\n",
        "estimators_number_best = study.best_trial.params['Estimators number']\n",
        "learning_rate_best = study.best_trial.params['Learning rate']\n",
        "depth_best = study.best_trial.params['Depth']\n",
        "\n",
        "model = CatBoostClassifier(\n",
        "    n_estimators = estimators_number_best,\n",
        "    learning_rate = learning_rate_best / 10,\n",
        "    max_depth = depth_best,\n",
        "    random_state = 42,\n",
        "    verbose = False)\n",
        "\n",
        "start = time.time()\n",
        "model.fit(x_train, y_train)\n",
        "end = time.time()\n",
        "\n",
        "cbc_pred = model.predict(x_test)\n",
        "cbc_accuracy = accuracy_score(y_test, cbc_pred)\n",
        "cbc_time = end - start\n",
        "\n",
        "print(f'Accuracy {cbc_accuracy}')\n",
        "print(f'Time {cbc_time}')"
      ],
      "metadata": {
        "colab": {
          "base_uri": "https://localhost:8080/"
        },
        "id": "o55_4PLdBVA4",
        "outputId": "d4894039-308b-4b3f-c80c-877e9f3387cc"
      },
      "execution_count": null,
      "outputs": [
        {
          "output_type": "stream",
          "name": "stdout",
          "text": [
            "Best parameters: {'Estimators number': 22, 'Learning rate': 7, 'Depth': 10}\n",
            "Best accuracy: 0.6556376108518988\n",
            "Accuracy 0.6556376108518988\n",
            "Time 2.8980298042297363\n"
          ]
        }
      ]
    },
    {
      "cell_type": "markdown",
      "source": [
        "### Сравнить качество моделей: замерить скорость обучения, вычислить различные метрики качества, построить матрицы ошибок."
      ],
      "metadata": {
        "id": "momZ_MMMDTRg"
      }
    },
    {
      "cell_type": "code",
      "source": [
        "metrics_summary = {\n",
        "    'Accuracy': [bagging_accuracy, adaboost_accuracy, sklearn_bagging_accuracy,\n",
        "                 sklearn_rfc_accuracy, sklearn_adaboost_accuracy,\n",
        "                 sklearn_gbc_accuracy, sklearn_hgbc_accuracy, xgbc_accuracy,\n",
        "                 lgbmc_accuracy, cbc_accuracy],\n",
        "    'Time': [bagging_time, adaboost_time, sklearn_bagging_time,\n",
        "             sklearn_rfc_time, sklearn_adaboost_time, \n",
        "             sklearn_gbc_time, sklearn_hgbc_time, xgbc_time, lgbmc_time, cbc_time]\n",
        "}\n",
        "\n",
        "models = [\n",
        "    'MyBaggingDt', 'MyAdaBoostDt', 'Sklearn - Bagging',  \n",
        "    'Sklearn - Random Forest', 'Sklearn - AdaBoost',\n",
        "    'Sklearn - Gradient Tree Boosting', 'Sklearn - Histogram-Based Gradient Boosting',\n",
        "    'XGBoost - XGBClassifier', 'LightGBM - LGBMClassifier', 'CatBoost - CatBoostClassifier'\n",
        "]\n",
        "\n",
        "results = pd.DataFrame(metrics_summary, index = models)\n",
        "results"
      ],
      "metadata": {
        "colab": {
          "base_uri": "https://localhost:8080/",
          "height": 363
        },
        "id": "Lvsa_QT5GSTw",
        "outputId": "51bd8e28-e94d-415a-e7d3-5e775f9cc44e"
      },
      "execution_count": 39,
      "outputs": [
        {
          "output_type": "execute_result",
          "data": {
            "text/plain": [
              "                                             Accuracy       Time\n",
              "MyBaggingDt                                  0.553373   6.713970\n",
              "MyAdaBoostDt                                 0.608658   2.824287\n",
              "Sklearn - Bagging                            0.643710  11.498839\n",
              "Sklearn - Random Forest                      0.635565   9.289646\n",
              "Sklearn - AdaBoost                           0.608658   9.612982\n",
              "Sklearn - Gradient Tree Boosting             0.659216  33.595031\n",
              "Sklearn - Histogram-Based Gradient Boosting  0.653672   2.869514\n",
              "XGBoost - XGBClassifier                      0.664543  15.019674\n",
              "LightGBM - LGBMClassifier                    0.657238   1.131432\n",
              "CatBoost - CatBoostClassifier                0.655638   2.898030"
            ],
            "text/html": [
              "\n",
              "  <div id=\"df-42c30178-bd35-40ef-98a4-3d18860b325d\">\n",
              "    <div class=\"colab-df-container\">\n",
              "      <div>\n",
              "<style scoped>\n",
              "    .dataframe tbody tr th:only-of-type {\n",
              "        vertical-align: middle;\n",
              "    }\n",
              "\n",
              "    .dataframe tbody tr th {\n",
              "        vertical-align: top;\n",
              "    }\n",
              "\n",
              "    .dataframe thead th {\n",
              "        text-align: right;\n",
              "    }\n",
              "</style>\n",
              "<table border=\"1\" class=\"dataframe\">\n",
              "  <thead>\n",
              "    <tr style=\"text-align: right;\">\n",
              "      <th></th>\n",
              "      <th>Accuracy</th>\n",
              "      <th>Time</th>\n",
              "    </tr>\n",
              "  </thead>\n",
              "  <tbody>\n",
              "    <tr>\n",
              "      <th>MyBaggingDt</th>\n",
              "      <td>0.553373</td>\n",
              "      <td>6.713970</td>\n",
              "    </tr>\n",
              "    <tr>\n",
              "      <th>MyAdaBoostDt</th>\n",
              "      <td>0.608658</td>\n",
              "      <td>2.824287</td>\n",
              "    </tr>\n",
              "    <tr>\n",
              "      <th>Sklearn - Bagging</th>\n",
              "      <td>0.643710</td>\n",
              "      <td>11.498839</td>\n",
              "    </tr>\n",
              "    <tr>\n",
              "      <th>Sklearn - Random Forest</th>\n",
              "      <td>0.635565</td>\n",
              "      <td>9.289646</td>\n",
              "    </tr>\n",
              "    <tr>\n",
              "      <th>Sklearn - AdaBoost</th>\n",
              "      <td>0.608658</td>\n",
              "      <td>9.612982</td>\n",
              "    </tr>\n",
              "    <tr>\n",
              "      <th>Sklearn - Gradient Tree Boosting</th>\n",
              "      <td>0.659216</td>\n",
              "      <td>33.595031</td>\n",
              "    </tr>\n",
              "    <tr>\n",
              "      <th>Sklearn - Histogram-Based Gradient Boosting</th>\n",
              "      <td>0.653672</td>\n",
              "      <td>2.869514</td>\n",
              "    </tr>\n",
              "    <tr>\n",
              "      <th>XGBoost - XGBClassifier</th>\n",
              "      <td>0.664543</td>\n",
              "      <td>15.019674</td>\n",
              "    </tr>\n",
              "    <tr>\n",
              "      <th>LightGBM - LGBMClassifier</th>\n",
              "      <td>0.657238</td>\n",
              "      <td>1.131432</td>\n",
              "    </tr>\n",
              "    <tr>\n",
              "      <th>CatBoost - CatBoostClassifier</th>\n",
              "      <td>0.655638</td>\n",
              "      <td>2.898030</td>\n",
              "    </tr>\n",
              "  </tbody>\n",
              "</table>\n",
              "</div>\n",
              "      <button class=\"colab-df-convert\" onclick=\"convertToInteractive('df-42c30178-bd35-40ef-98a4-3d18860b325d')\"\n",
              "              title=\"Convert this dataframe to an interactive table.\"\n",
              "              style=\"display:none;\">\n",
              "        \n",
              "  <svg xmlns=\"http://www.w3.org/2000/svg\" height=\"24px\"viewBox=\"0 0 24 24\"\n",
              "       width=\"24px\">\n",
              "    <path d=\"M0 0h24v24H0V0z\" fill=\"none\"/>\n",
              "    <path d=\"M18.56 5.44l.94 2.06.94-2.06 2.06-.94-2.06-.94-.94-2.06-.94 2.06-2.06.94zm-11 1L8.5 8.5l.94-2.06 2.06-.94-2.06-.94L8.5 2.5l-.94 2.06-2.06.94zm10 10l.94 2.06.94-2.06 2.06-.94-2.06-.94-.94-2.06-.94 2.06-2.06.94z\"/><path d=\"M17.41 7.96l-1.37-1.37c-.4-.4-.92-.59-1.43-.59-.52 0-1.04.2-1.43.59L10.3 9.45l-7.72 7.72c-.78.78-.78 2.05 0 2.83L4 21.41c.39.39.9.59 1.41.59.51 0 1.02-.2 1.41-.59l7.78-7.78 2.81-2.81c.8-.78.8-2.07 0-2.86zM5.41 20L4 18.59l7.72-7.72 1.47 1.35L5.41 20z\"/>\n",
              "  </svg>\n",
              "      </button>\n",
              "      \n",
              "  <style>\n",
              "    .colab-df-container {\n",
              "      display:flex;\n",
              "      flex-wrap:wrap;\n",
              "      gap: 12px;\n",
              "    }\n",
              "\n",
              "    .colab-df-convert {\n",
              "      background-color: #E8F0FE;\n",
              "      border: none;\n",
              "      border-radius: 50%;\n",
              "      cursor: pointer;\n",
              "      display: none;\n",
              "      fill: #1967D2;\n",
              "      height: 32px;\n",
              "      padding: 0 0 0 0;\n",
              "      width: 32px;\n",
              "    }\n",
              "\n",
              "    .colab-df-convert:hover {\n",
              "      background-color: #E2EBFA;\n",
              "      box-shadow: 0px 1px 2px rgba(60, 64, 67, 0.3), 0px 1px 3px 1px rgba(60, 64, 67, 0.15);\n",
              "      fill: #174EA6;\n",
              "    }\n",
              "\n",
              "    [theme=dark] .colab-df-convert {\n",
              "      background-color: #3B4455;\n",
              "      fill: #D2E3FC;\n",
              "    }\n",
              "\n",
              "    [theme=dark] .colab-df-convert:hover {\n",
              "      background-color: #434B5C;\n",
              "      box-shadow: 0px 1px 3px 1px rgba(0, 0, 0, 0.15);\n",
              "      filter: drop-shadow(0px 1px 2px rgba(0, 0, 0, 0.3));\n",
              "      fill: #FFFFFF;\n",
              "    }\n",
              "  </style>\n",
              "\n",
              "      <script>\n",
              "        const buttonEl =\n",
              "          document.querySelector('#df-42c30178-bd35-40ef-98a4-3d18860b325d button.colab-df-convert');\n",
              "        buttonEl.style.display =\n",
              "          google.colab.kernel.accessAllowed ? 'block' : 'none';\n",
              "\n",
              "        async function convertToInteractive(key) {\n",
              "          const element = document.querySelector('#df-42c30178-bd35-40ef-98a4-3d18860b325d');\n",
              "          const dataTable =\n",
              "            await google.colab.kernel.invokeFunction('convertToInteractive',\n",
              "                                                     [key], {});\n",
              "          if (!dataTable) return;\n",
              "\n",
              "          const docLinkHtml = 'Like what you see? Visit the ' +\n",
              "            '<a target=\"_blank\" href=https://colab.research.google.com/notebooks/data_table.ipynb>data table notebook</a>'\n",
              "            + ' to learn more about interactive tables.';\n",
              "          element.innerHTML = '';\n",
              "          dataTable['output_type'] = 'display_data';\n",
              "          await google.colab.output.renderOutput(dataTable, element);\n",
              "          const docLink = document.createElement('div');\n",
              "          docLink.innerHTML = docLinkHtml;\n",
              "          element.appendChild(docLink);\n",
              "        }\n",
              "      </script>\n",
              "    </div>\n",
              "  </div>\n",
              "  "
            ]
          },
          "metadata": {},
          "execution_count": 39
        }
      ]
    },
    {
      "cell_type": "markdown",
      "source": [
        "- Обе собственные реализации показали точность хуже, чем таковые из sklearn, но обучались быстрее.\n",
        "- Наибольшую точность показал алгоритм XGBClassifier из библотеки XGBoost.\n",
        "- Наименьшую точность показала собственная реализация алгоритма Bagging.\n",
        "- Быстрее всех обучился Histogram-Based Gradient Boosting из библиотеки Sklearn, при этом точность немногим меньше XGBClassifier.\n",
        "- Дольше остальных обучался Gradient Tree Boosting.\n"
      ],
      "metadata": {
        "id": "WT93CPOLDaDU"
      }
    },
    {
      "cell_type": "markdown",
      "source": [
        "Матрицы ошибок"
      ],
      "metadata": {
        "id": "nI-Kts26DsQ9"
      }
    },
    {
      "cell_type": "code",
      "source": [
        "from sklearn.metrics import confusion_matrix\n",
        "\n",
        "plt.figure(figsize=(24, 12))\n",
        "\n",
        "plt.suptitle(\"Confusion matrixes\", fontsize = 24)\n",
        "plt.subplots_adjust(wspace = 0.5, hspace = 0.5)\n",
        "\n",
        "plt.subplot(4, 3, 1)\n",
        "plt.title(\"MyBaggingDt\")\n",
        "sns.heatmap(confusion_matrix(y_test, bagging_pred), cmap='Greens', annot = True, fmt = 'd')\n",
        "\n",
        "plt.subplot(4, 3, 2)\n",
        "plt.title(\"MyAdaBoostDt\")\n",
        "sns.heatmap(confusion_matrix(y_test, adaboost_pred), cmap='Greens', annot = True, fmt = 'd')\n",
        "\n",
        "plt.subplot(4, 3, 3)\n",
        "plt.title(\"Sklearn - Bagging\")\n",
        "sns.heatmap(confusion_matrix(y_test, sklearn_bagging_pred), cmap='Greens', annot = True, fmt = 'd')\n",
        "\n",
        "plt.subplot(4, 3, 4)\n",
        "plt.title(\"Sklearn - Random Forest\")\n",
        "sns.heatmap(confusion_matrix(y_test, sklearn_rfc_pred), cmap = 'Greens', annot = True, fmt = 'd')\n",
        "\n",
        "plt.subplot(4, 3, 5)\n",
        "plt.title(\"Sklearn - AdaBoost\")\n",
        "sns.heatmap(confusion_matrix(y_test, sklearn_adaboost_pred), cmap = 'Greens', annot = True, fmt = 'd')\n",
        "\n",
        "plt.subplot(4, 3, 6)\n",
        "plt.title(\"Sklearn - Gradient Tree Boosting\")\n",
        "sns.heatmap(confusion_matrix(y_test, sklearn_gbc_pred), cmap = 'Greens', annot = True, fmt = 'd')\n",
        "\n",
        "plt.subplot(4, 3, 7)\n",
        "plt.title(\"Sklearn - Histogram-Based Gradient Boosting\")\n",
        "sns.heatmap(confusion_matrix(y_test, sklearn_hgbc_pred), cmap = 'Greens', annot = True, fmt = 'd')\n",
        "\n",
        "plt.subplot(4, 3, 8)\n",
        "plt.title(\"XGBoost - XGBClassifier\")\n",
        "sns.heatmap(confusion_matrix(y_test, xgbc_pred), cmap = 'Greens', annot = True, fmt = 'd')\n",
        "\n",
        "plt.subplot(4, 3, 9)\n",
        "plt.title(\"LightGBM - LGBMClassifier\")\n",
        "sns.heatmap(confusion_matrix(y_test, lgbmc_pred), cmap = 'Greens', annot = True, fmt = 'd')\n",
        "\n",
        "plt.subplot(4, 3, 11)\n",
        "plt.title(\"CatBoost - CatBoostClassifier\")\n",
        "sns.heatmap(confusion_matrix(y_test, cbc_pred), cmap = 'Greens', annot = True, fmt = 'd')\n",
        "\n",
        "plt.show()"
      ],
      "metadata": {
        "colab": {
          "base_uri": "https://localhost:8080/",
          "height": 789
        },
        "id": "ZueV3UlZDsn2",
        "outputId": "64d08313-c16d-424d-c5dc-43557d4f3447"
      },
      "execution_count": 40,
      "outputs": [
        {
          "output_type": "display_data",
          "data": {
            "text/plain": [
              "<Figure size 1728x864 with 20 Axes>"
            ],
            "image/png": "[encoded data removed]"
          },
          "metadata": {}
        }
      ]
    },
    {
      "cell_type": "markdown",
      "source": [
        "- Реализация AdaBoost показывает сходные с библиотечной реализацией результаты.\n",
        "- Реализациия Bagging предсказывает больше True Negative, чем другие алгоритмы, при этом не предсказывает True Positive, сильно теряя в точности в сравнении с другими моделями. \n",
        "- Библиотечные реализации показали сходные друг с другом результаты."
      ],
      "metadata": {
        "id": "dnn3-RUIML2u"
      }
    }
  ]
}