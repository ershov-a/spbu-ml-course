{
  "nbformat": 4,
  "nbformat_minor": 0,
  "metadata": {
    "colab": {
      "provenance": [],
      "collapsed_sections": [
        "d0rf1fhofU5t",
        "54zpkQgzfU51",
        "udxzYRAYfU57",
        "vLAMGvVffU5_",
        "r4oMojrgfU6E"
      ]
    },
    "kernelspec": {
      "name": "python3",
      "display_name": "Python 3"
    },
    "language_info": {
      "name": "python"
    }
  },
  "cells": [
    {
      "cell_type": "markdown",
      "source": [
        "## Задача 2. Сравнение методов классификации\n",
        "\n",
        "Ершов Александр Сергеевич, гр. 22.М04-мм\n",
        "\n",
        "Выполненные пункты задания:\n",
        "- Самостоятельно реализовать один из методов классификации, с возможностью настройки гиперпараметров.\n",
        "- Взять данные для предсказания заболеваний сердца тут (целевой признак для предсказания --- target). Демо блакнот с анализом этих данных можно найти тут.\n",
        "- Считать данные, выполнить первичный анализ данных, при необходимости произвести чистку данных (Data Cleaning).\n",
        "- Выполнить разведочный анализ (EDA), использовать визуализацию, сделать выводы, которые могут быть полезны при дальнейшем решении задачи классификации.\n",
        "- При необходимости выполнить полезные преобразования данных (например, трансформировать категариальные признаки в количественные), убрать ненужные признаки, создать новые (Feature Engineering).\n",
        "- Используя подбор гиперпараметров, кросс-валидацию и при необходимости масштабирование данных, добиться наилучшего качества предсказания от Вашей реализации на выделенной заранее тестовой выборке.\n",
        "- Повторить предыдущий пункт для библиотечных реализаций (например, из sklearn) всех пройденных методов классификации (logistic regression, svm, knn, naive bayes, decision tree).\n",
        "- Сравнить все обученные модели, построить их confusion matrices. Сделать выводы о полученных моделях в рамках решения задачи классификации на выбранных данных.\n",
        "- \\* (+2 балла) Реализовать еще один из методов классификации и добавить его в сравнение.\n",
        "- \\* (+2 балла) Найти данные, на которых интересно будет решать задачу классификации. Повторить все пункты задания на новых данных."
      ],
      "metadata": {
        "id": "cuDzF7jQDaN1"
      }
    },
    {
      "cell_type": "markdown",
      "source": [
        "### Самостоятельно реализовать один из методов классификации, с возможностью настройки гиперпараметров.\n",
        "### \\* (+2 балла) Реализовать еще один из методов классификации и добавить его в сравнение."
      ],
      "metadata": {
        "id": "_Uzis0aWdA2Z"
      }
    },
    {
      "cell_type": "code",
      "source": [
        "import numpy as np"
      ],
      "metadata": {
        "id": "Pwp8BAWBAVD6"
      },
      "execution_count": 1,
      "outputs": []
    },
    {
      "cell_type": "code",
      "source": [
        "class myLogisticRegression:\n",
        "\n",
        "  def __init__(self, lr=0.01, n_iters=100):\n",
        "    self.lr = lr\n",
        "    self.n_iters = n_iters\n",
        "    self.weights = None\n",
        "    self.bias = None\n",
        "\n",
        "  def set_params(self, **parameters):\n",
        "    for parameter, value in parameters.items():\n",
        "      setattr(self, parameter, value)\n",
        "    return self\n",
        "\n",
        "  def get_params(self, deep=True):\n",
        "        return {\"lr\": self.lr, \"n_iters\": self.n_iters}\n",
        "\n",
        "  def fit(self,X,y):\n",
        "    n_samples, n_features = X.shape\n",
        "    self.weights = np.zeros(n_features)\n",
        "    self.bias = 0\n",
        "\n",
        "    for _ in range(self.n_iters):\n",
        "      linear_model = np.dot(X,self.weights) + self.bias\n",
        "      y_predicted = self._sigmoid(linear_model)\n",
        "\n",
        "      dw = (1/n_samples) * np.dot(X.T,(y_predicted-y))\n",
        "      db = (1/n_samples) * np.sum(y_predicted-y)\n",
        "\n",
        "      self.weights -= self.lr *dw\n",
        "      self.bias -= self.lr * db \n",
        "\n",
        "  def predict(self,X):\n",
        "    linear_model = np.dot(X,self.weights) + self.bias\n",
        "    y_predicted = self._sigmoid(linear_model)\n",
        "    y_predicted_cls = [1 if i>0.5 else 0 for i in y_predicted]\n",
        "    return y_predicted_cls\n",
        "  \n",
        "  def _sigmoid(self,x):\n",
        "    return(1/(1+np.exp(-x)))"
      ],
      "metadata": {
        "id": "fylYg984Qqip"
      },
      "execution_count": 41,
      "outputs": []
    },
    {
      "cell_type": "code",
      "source": [
        "def accuracy(y_true,y_pred):\n",
        "  accuracy = np.sum(y_true == y_pred)/len(y_true)\n",
        "  return accuracy"
      ],
      "metadata": {
        "id": "LnvWwZaMN_Ma"
      },
      "execution_count": 3,
      "outputs": []
    },
    {
      "cell_type": "code",
      "source": [
        "class mySVM:\n",
        "    def __init__(self, iterations=100, lr=0.01, lambda_param=0.01):\n",
        "        self.lambda_param = lambda_param\n",
        "        self.iterations = iterations\n",
        "        self.lr = lr\n",
        "        self.w = None\n",
        "        self.b = None\n",
        "\n",
        "    def set_params(self, **parameters):\n",
        "        for parameter, value in parameters.items():\n",
        "          setattr(self, parameter, value)\n",
        "        return self\n",
        "\n",
        "    def get_params(self, deep=True):\n",
        "        return {\"lr\": self.lr, \"lambda_param\": self.lambda_param, \"iterations\": self.iterations}\n",
        "\n",
        "    def initialize_parameters(self,X):\n",
        "        m, n = X.shape\n",
        "        self.w = np.zeros(n)\n",
        "        self.b = 0\n",
        "        \n",
        "    def gradient_descent(self, X, y):\n",
        "        y_ = np.where(y <= 0, -1, 1)\n",
        "        for i, x in enumerate(X):\n",
        "            if y_[i] * (np.dot(x, self.w) - self.b) >= 1:\n",
        "                dw = 2 * self.lambda_param * self.w\n",
        "                db = 0\n",
        "            else:\n",
        "                dw = 2 * self.lambda_param * self.w - np.dot(x, y_[i])\n",
        "                db = y_[i]\n",
        "            self.update_parameters(dw,db)\n",
        "        \n",
        "    def update_parameters(self, dw, db):\n",
        "        self.w = self.w - self.lr * dw\n",
        "        self.b = self.b - self.lr * db\n",
        "        \n",
        "    def fit(self, X, y):\n",
        "        self.initialize_parameters(X)\n",
        "        for i in range(self.iterations):\n",
        "            self.gradient_descent(X,y)       \n",
        "            \n",
        "    def predict(self, X):\n",
        "        output = np.dot(X, self.w) - self.b\n",
        "        label_signs = np.sign(output)\n",
        "        predictions = np.where(label_signs <= -1, 0, 1)\n",
        "        return predictions"
      ],
      "metadata": {
        "id": "9tHL9mNtVNRT"
      },
      "execution_count": 42,
      "outputs": []
    },
    {
      "cell_type": "markdown",
      "source": [
        "### Взять данные для предсказания заболеваний сердца тут (целевой признак для предсказания --- target). Демо блакнот с анализом этих данных можно найти тут.\n",
        "### Считать данные, выполнить первичный анализ данных, при необходимости произвести чистку данных (Data Cleaning)."
      ],
      "metadata": {
        "id": "ZfY4tyf7dH7J"
      }
    },
    {
      "cell_type": "code",
      "source": [
        "import pandas as pd\n",
        "\n",
        "heart_data = pd.read_csv(\"heart.csv\")\n",
        "\n",
        "heart_data.head()"
      ],
      "metadata": {
        "colab": {
          "base_uri": "https://localhost:8080/",
          "height": 206
        },
        "id": "P7efftIcFKjW",
        "outputId": "f92b1541-a348-467a-d490-840bc1570287"
      },
      "execution_count": 9,
      "outputs": [
        {
          "output_type": "execute_result",
          "data": {
            "text/plain": [
              "   age  sex  cp  trestbps  chol  fbs  restecg  thalach  exang  oldpeak  slope  \\\n",
              "0   52    1   0       125   212    0        1      168      0      1.0      2   \n",
              "1   53    1   0       140   203    1        0      155      1      3.1      0   \n",
              "2   70    1   0       145   174    0        1      125      1      2.6      0   \n",
              "3   61    1   0       148   203    0        1      161      0      0.0      2   \n",
              "4   62    0   0       138   294    1        1      106      0      1.9      1   \n",
              "\n",
              "   ca  thal  target  \n",
              "0   2     3       0  \n",
              "1   0     3       0  \n",
              "2   0     3       0  \n",
              "3   1     3       0  \n",
              "4   3     2       0  "
            ],
            "text/html": [
              "\n",
              "  <div id=\"df-64671440-5ff6-41ad-a73f-2fdae7333603\">\n",
              "    <div class=\"colab-df-container\">\n",
              "      <div>\n",
              "<style scoped>\n",
              "    .dataframe tbody tr th:only-of-type {\n",
              "        vertical-align: middle;\n",
              "    }\n",
              "\n",
              "    .dataframe tbody tr th {\n",
              "        vertical-align: top;\n",
              "    }\n",
              "\n",
              "    .dataframe thead th {\n",
              "        text-align: right;\n",
              "    }\n",
              "</style>\n",
              "<table border=\"1\" class=\"dataframe\">\n",
              "  <thead>\n",
              "    <tr style=\"text-align: right;\">\n",
              "      <th></th>\n",
              "      <th>age</th>\n",
              "      <th>sex</th>\n",
              "      <th>cp</th>\n",
              "      <th>trestbps</th>\n",
              "      <th>chol</th>\n",
              "      <th>fbs</th>\n",
              "      <th>restecg</th>\n",
              "      <th>thalach</th>\n",
              "      <th>exang</th>\n",
              "      <th>oldpeak</th>\n",
              "      <th>slope</th>\n",
              "      <th>ca</th>\n",
              "      <th>thal</th>\n",
              "      <th>target</th>\n",
              "    </tr>\n",
              "  </thead>\n",
              "  <tbody>\n",
              "    <tr>\n",
              "      <th>0</th>\n",
              "      <td>52</td>\n",
              "      <td>1</td>\n",
              "      <td>0</td>\n",
              "      <td>125</td>\n",
              "      <td>212</td>\n",
              "      <td>0</td>\n",
              "      <td>1</td>\n",
              "      <td>168</td>\n",
              "      <td>0</td>\n",
              "      <td>1.0</td>\n",
              "      <td>2</td>\n",
              "      <td>2</td>\n",
              "      <td>3</td>\n",
              "      <td>0</td>\n",
              "    </tr>\n",
              "    <tr>\n",
              "      <th>1</th>\n",
              "      <td>53</td>\n",
              "      <td>1</td>\n",
              "      <td>0</td>\n",
              "      <td>140</td>\n",
              "      <td>203</td>\n",
              "      <td>1</td>\n",
              "      <td>0</td>\n",
              "      <td>155</td>\n",
              "      <td>1</td>\n",
              "      <td>3.1</td>\n",
              "      <td>0</td>\n",
              "      <td>0</td>\n",
              "      <td>3</td>\n",
              "      <td>0</td>\n",
              "    </tr>\n",
              "    <tr>\n",
              "      <th>2</th>\n",
              "      <td>70</td>\n",
              "      <td>1</td>\n",
              "      <td>0</td>\n",
              "      <td>145</td>\n",
              "      <td>174</td>\n",
              "      <td>0</td>\n",
              "      <td>1</td>\n",
              "      <td>125</td>\n",
              "      <td>1</td>\n",
              "      <td>2.6</td>\n",
              "      <td>0</td>\n",
              "      <td>0</td>\n",
              "      <td>3</td>\n",
              "      <td>0</td>\n",
              "    </tr>\n",
              "    <tr>\n",
              "      <th>3</th>\n",
              "      <td>61</td>\n",
              "      <td>1</td>\n",
              "      <td>0</td>\n",
              "      <td>148</td>\n",
              "      <td>203</td>\n",
              "      <td>0</td>\n",
              "      <td>1</td>\n",
              "      <td>161</td>\n",
              "      <td>0</td>\n",
              "      <td>0.0</td>\n",
              "      <td>2</td>\n",
              "      <td>1</td>\n",
              "      <td>3</td>\n",
              "      <td>0</td>\n",
              "    </tr>\n",
              "    <tr>\n",
              "      <th>4</th>\n",
              "      <td>62</td>\n",
              "      <td>0</td>\n",
              "      <td>0</td>\n",
              "      <td>138</td>\n",
              "      <td>294</td>\n",
              "      <td>1</td>\n",
              "      <td>1</td>\n",
              "      <td>106</td>\n",
              "      <td>0</td>\n",
              "      <td>1.9</td>\n",
              "      <td>1</td>\n",
              "      <td>3</td>\n",
              "      <td>2</td>\n",
              "      <td>0</td>\n",
              "    </tr>\n",
              "  </tbody>\n",
              "</table>\n",
              "</div>\n",
              "      <button class=\"colab-df-convert\" onclick=\"convertToInteractive('df-64671440-5ff6-41ad-a73f-2fdae7333603')\"\n",
              "              title=\"Convert this dataframe to an interactive table.\"\n",
              "              style=\"display:none;\">\n",
              "        \n",
              "  <svg xmlns=\"http://www.w3.org/2000/svg\" height=\"24px\"viewBox=\"0 0 24 24\"\n",
              "       width=\"24px\">\n",
              "    <path d=\"M0 0h24v24H0V0z\" fill=\"none\"/>\n",
              "    <path d=\"M18.56 5.44l.94 2.06.94-2.06 2.06-.94-2.06-.94-.94-2.06-.94 2.06-2.06.94zm-11 1L8.5 8.5l.94-2.06 2.06-.94-2.06-.94L8.5 2.5l-.94 2.06-2.06.94zm10 10l.94 2.06.94-2.06 2.06-.94-2.06-.94-.94-2.06-.94 2.06-2.06.94z\"/><path d=\"M17.41 7.96l-1.37-1.37c-.4-.4-.92-.59-1.43-.59-.52 0-1.04.2-1.43.59L10.3 9.45l-7.72 7.72c-.78.78-.78 2.05 0 2.83L4 21.41c.39.39.9.59 1.41.59.51 0 1.02-.2 1.41-.59l7.78-7.78 2.81-2.81c.8-.78.8-2.07 0-2.86zM5.41 20L4 18.59l7.72-7.72 1.47 1.35L5.41 20z\"/>\n",
              "  </svg>\n",
              "      </button>\n",
              "      \n",
              "  <style>\n",
              "    .colab-df-container {\n",
              "      display:flex;\n",
              "      flex-wrap:wrap;\n",
              "      gap: 12px;\n",
              "    }\n",
              "\n",
              "    .colab-df-convert {\n",
              "      background-color: #E8F0FE;\n",
              "      border: none;\n",
              "      border-radius: 50%;\n",
              "      cursor: pointer;\n",
              "      display: none;\n",
              "      fill: #1967D2;\n",
              "      height: 32px;\n",
              "      padding: 0 0 0 0;\n",
              "      width: 32px;\n",
              "    }\n",
              "\n",
              "    .colab-df-convert:hover {\n",
              "      background-color: #E2EBFA;\n",
              "      box-shadow: 0px 1px 2px rgba(60, 64, 67, 0.3), 0px 1px 3px 1px rgba(60, 64, 67, 0.15);\n",
              "      fill: #174EA6;\n",
              "    }\n",
              "\n",
              "    [theme=dark] .colab-df-convert {\n",
              "      background-color: #3B4455;\n",
              "      fill: #D2E3FC;\n",
              "    }\n",
              "\n",
              "    [theme=dark] .colab-df-convert:hover {\n",
              "      background-color: #434B5C;\n",
              "      box-shadow: 0px 1px 3px 1px rgba(0, 0, 0, 0.15);\n",
              "      filter: drop-shadow(0px 1px 2px rgba(0, 0, 0, 0.3));\n",
              "      fill: #FFFFFF;\n",
              "    }\n",
              "  </style>\n",
              "\n",
              "      <script>\n",
              "        const buttonEl =\n",
              "          document.querySelector('#df-64671440-5ff6-41ad-a73f-2fdae7333603 button.colab-df-convert');\n",
              "        buttonEl.style.display =\n",
              "          google.colab.kernel.accessAllowed ? 'block' : 'none';\n",
              "\n",
              "        async function convertToInteractive(key) {\n",
              "          const element = document.querySelector('#df-64671440-5ff6-41ad-a73f-2fdae7333603');\n",
              "          const dataTable =\n",
              "            await google.colab.kernel.invokeFunction('convertToInteractive',\n",
              "                                                     [key], {});\n",
              "          if (!dataTable) return;\n",
              "\n",
              "          const docLinkHtml = 'Like what you see? Visit the ' +\n",
              "            '<a target=\"_blank\" href=https://colab.research.google.com/notebooks/data_table.ipynb>data table notebook</a>'\n",
              "            + ' to learn more about interactive tables.';\n",
              "          element.innerHTML = '';\n",
              "          dataTable['output_type'] = 'display_data';\n",
              "          await google.colab.output.renderOutput(dataTable, element);\n",
              "          const docLink = document.createElement('div');\n",
              "          docLink.innerHTML = docLinkHtml;\n",
              "          element.appendChild(docLink);\n",
              "        }\n",
              "      </script>\n",
              "    </div>\n",
              "  </div>\n",
              "  "
            ]
          },
          "metadata": {},
          "execution_count": 9
        }
      ]
    },
    {
      "cell_type": "code",
      "source": [
        "heart_data.describe()"
      ],
      "metadata": {
        "colab": {
          "base_uri": "https://localhost:8080/",
          "height": 300
        },
        "id": "13QHvaZjdieD",
        "outputId": "0b3dabe1-e0a4-44fb-8197-c15af3fe1150"
      },
      "execution_count": 10,
      "outputs": [
        {
          "output_type": "execute_result",
          "data": {
            "text/plain": [
              "               age          sex           cp     trestbps        chol  \\\n",
              "count  1025.000000  1025.000000  1025.000000  1025.000000  1025.00000   \n",
              "mean     54.434146     0.695610     0.942439   131.611707   246.00000   \n",
              "std       9.072290     0.460373     1.029641    17.516718    51.59251   \n",
              "min      29.000000     0.000000     0.000000    94.000000   126.00000   \n",
              "25%      48.000000     0.000000     0.000000   120.000000   211.00000   \n",
              "50%      56.000000     1.000000     1.000000   130.000000   240.00000   \n",
              "75%      61.000000     1.000000     2.000000   140.000000   275.00000   \n",
              "max      77.000000     1.000000     3.000000   200.000000   564.00000   \n",
              "\n",
              "               fbs      restecg      thalach        exang      oldpeak  \\\n",
              "count  1025.000000  1025.000000  1025.000000  1025.000000  1025.000000   \n",
              "mean      0.149268     0.529756   149.114146     0.336585     1.071512   \n",
              "std       0.356527     0.527878    23.005724     0.472772     1.175053   \n",
              "min       0.000000     0.000000    71.000000     0.000000     0.000000   \n",
              "25%       0.000000     0.000000   132.000000     0.000000     0.000000   \n",
              "50%       0.000000     1.000000   152.000000     0.000000     0.800000   \n",
              "75%       0.000000     1.000000   166.000000     1.000000     1.800000   \n",
              "max       1.000000     2.000000   202.000000     1.000000     6.200000   \n",
              "\n",
              "             slope           ca         thal       target  \n",
              "count  1025.000000  1025.000000  1025.000000  1025.000000  \n",
              "mean      1.385366     0.754146     2.323902     0.513171  \n",
              "std       0.617755     1.030798     0.620660     0.500070  \n",
              "min       0.000000     0.000000     0.000000     0.000000  \n",
              "25%       1.000000     0.000000     2.000000     0.000000  \n",
              "50%       1.000000     0.000000     2.000000     1.000000  \n",
              "75%       2.000000     1.000000     3.000000     1.000000  \n",
              "max       2.000000     4.000000     3.000000     1.000000  "
            ],
            "text/html": [
              "\n",
              "  <div id=\"df-5bc042d3-35af-4003-b718-05da473d3784\">\n",
              "    <div class=\"colab-df-container\">\n",
              "      <div>\n",
              "<style scoped>\n",
              "    .dataframe tbody tr th:only-of-type {\n",
              "        vertical-align: middle;\n",
              "    }\n",
              "\n",
              "    .dataframe tbody tr th {\n",
              "        vertical-align: top;\n",
              "    }\n",
              "\n",
              "    .dataframe thead th {\n",
              "        text-align: right;\n",
              "    }\n",
              "</style>\n",
              "<table border=\"1\" class=\"dataframe\">\n",
              "  <thead>\n",
              "    <tr style=\"text-align: right;\">\n",
              "      <th></th>\n",
              "      <th>age</th>\n",
              "      <th>sex</th>\n",
              "      <th>cp</th>\n",
              "      <th>trestbps</th>\n",
              "      <th>chol</th>\n",
              "      <th>fbs</th>\n",
              "      <th>restecg</th>\n",
              "      <th>thalach</th>\n",
              "      <th>exang</th>\n",
              "      <th>oldpeak</th>\n",
              "      <th>slope</th>\n",
              "      <th>ca</th>\n",
              "      <th>thal</th>\n",
              "      <th>target</th>\n",
              "    </tr>\n",
              "  </thead>\n",
              "  <tbody>\n",
              "    <tr>\n",
              "      <th>count</th>\n",
              "      <td>1025.000000</td>\n",
              "      <td>1025.000000</td>\n",
              "      <td>1025.000000</td>\n",
              "      <td>1025.000000</td>\n",
              "      <td>1025.00000</td>\n",
              "      <td>1025.000000</td>\n",
              "      <td>1025.000000</td>\n",
              "      <td>1025.000000</td>\n",
              "      <td>1025.000000</td>\n",
              "      <td>1025.000000</td>\n",
              "      <td>1025.000000</td>\n",
              "      <td>1025.000000</td>\n",
              "      <td>1025.000000</td>\n",
              "      <td>1025.000000</td>\n",
              "    </tr>\n",
              "    <tr>\n",
              "      <th>mean</th>\n",
              "      <td>54.434146</td>\n",
              "      <td>0.695610</td>\n",
              "      <td>0.942439</td>\n",
              "      <td>131.611707</td>\n",
              "      <td>246.00000</td>\n",
              "      <td>0.149268</td>\n",
              "      <td>0.529756</td>\n",
              "      <td>149.114146</td>\n",
              "      <td>0.336585</td>\n",
              "      <td>1.071512</td>\n",
              "      <td>1.385366</td>\n",
              "      <td>0.754146</td>\n",
              "      <td>2.323902</td>\n",
              "      <td>0.513171</td>\n",
              "    </tr>\n",
              "    <tr>\n",
              "      <th>std</th>\n",
              "      <td>9.072290</td>\n",
              "      <td>0.460373</td>\n",
              "      <td>1.029641</td>\n",
              "      <td>17.516718</td>\n",
              "      <td>51.59251</td>\n",
              "      <td>0.356527</td>\n",
              "      <td>0.527878</td>\n",
              "      <td>23.005724</td>\n",
              "      <td>0.472772</td>\n",
              "      <td>1.175053</td>\n",
              "      <td>0.617755</td>\n",
              "      <td>1.030798</td>\n",
              "      <td>0.620660</td>\n",
              "      <td>0.500070</td>\n",
              "    </tr>\n",
              "    <tr>\n",
              "      <th>min</th>\n",
              "      <td>29.000000</td>\n",
              "      <td>0.000000</td>\n",
              "      <td>0.000000</td>\n",
              "      <td>94.000000</td>\n",
              "      <td>126.00000</td>\n",
              "      <td>0.000000</td>\n",
              "      <td>0.000000</td>\n",
              "      <td>71.000000</td>\n",
              "      <td>0.000000</td>\n",
              "      <td>0.000000</td>\n",
              "      <td>0.000000</td>\n",
              "      <td>0.000000</td>\n",
              "      <td>0.000000</td>\n",
              "      <td>0.000000</td>\n",
              "    </tr>\n",
              "    <tr>\n",
              "      <th>25%</th>\n",
              "      <td>48.000000</td>\n",
              "      <td>0.000000</td>\n",
              "      <td>0.000000</td>\n",
              "      <td>120.000000</td>\n",
              "      <td>211.00000</td>\n",
              "      <td>0.000000</td>\n",
              "      <td>0.000000</td>\n",
              "      <td>132.000000</td>\n",
              "      <td>0.000000</td>\n",
              "      <td>0.000000</td>\n",
              "      <td>1.000000</td>\n",
              "      <td>0.000000</td>\n",
              "      <td>2.000000</td>\n",
              "      <td>0.000000</td>\n",
              "    </tr>\n",
              "    <tr>\n",
              "      <th>50%</th>\n",
              "      <td>56.000000</td>\n",
              "      <td>1.000000</td>\n",
              "      <td>1.000000</td>\n",
              "      <td>130.000000</td>\n",
              "      <td>240.00000</td>\n",
              "      <td>0.000000</td>\n",
              "      <td>1.000000</td>\n",
              "      <td>152.000000</td>\n",
              "      <td>0.000000</td>\n",
              "      <td>0.800000</td>\n",
              "      <td>1.000000</td>\n",
              "      <td>0.000000</td>\n",
              "      <td>2.000000</td>\n",
              "      <td>1.000000</td>\n",
              "    </tr>\n",
              "    <tr>\n",
              "      <th>75%</th>\n",
              "      <td>61.000000</td>\n",
              "      <td>1.000000</td>\n",
              "      <td>2.000000</td>\n",
              "      <td>140.000000</td>\n",
              "      <td>275.00000</td>\n",
              "      <td>0.000000</td>\n",
              "      <td>1.000000</td>\n",
              "      <td>166.000000</td>\n",
              "      <td>1.000000</td>\n",
              "      <td>1.800000</td>\n",
              "      <td>2.000000</td>\n",
              "      <td>1.000000</td>\n",
              "      <td>3.000000</td>\n",
              "      <td>1.000000</td>\n",
              "    </tr>\n",
              "    <tr>\n",
              "      <th>max</th>\n",
              "      <td>77.000000</td>\n",
              "      <td>1.000000</td>\n",
              "      <td>3.000000</td>\n",
              "      <td>200.000000</td>\n",
              "      <td>564.00000</td>\n",
              "      <td>1.000000</td>\n",
              "      <td>2.000000</td>\n",
              "      <td>202.000000</td>\n",
              "      <td>1.000000</td>\n",
              "      <td>6.200000</td>\n",
              "      <td>2.000000</td>\n",
              "      <td>4.000000</td>\n",
              "      <td>3.000000</td>\n",
              "      <td>1.000000</td>\n",
              "    </tr>\n",
              "  </tbody>\n",
              "</table>\n",
              "</div>\n",
              "      <button class=\"colab-df-convert\" onclick=\"convertToInteractive('df-5bc042d3-35af-4003-b718-05da473d3784')\"\n",
              "              title=\"Convert this dataframe to an interactive table.\"\n",
              "              style=\"display:none;\">\n",
              "        \n",
              "  <svg xmlns=\"http://www.w3.org/2000/svg\" height=\"24px\"viewBox=\"0 0 24 24\"\n",
              "       width=\"24px\">\n",
              "    <path d=\"M0 0h24v24H0V0z\" fill=\"none\"/>\n",
              "    <path d=\"M18.56 5.44l.94 2.06.94-2.06 2.06-.94-2.06-.94-.94-2.06-.94 2.06-2.06.94zm-11 1L8.5 8.5l.94-2.06 2.06-.94-2.06-.94L8.5 2.5l-.94 2.06-2.06.94zm10 10l.94 2.06.94-2.06 2.06-.94-2.06-.94-.94-2.06-.94 2.06-2.06.94z\"/><path d=\"M17.41 7.96l-1.37-1.37c-.4-.4-.92-.59-1.43-.59-.52 0-1.04.2-1.43.59L10.3 9.45l-7.72 7.72c-.78.78-.78 2.05 0 2.83L4 21.41c.39.39.9.59 1.41.59.51 0 1.02-.2 1.41-.59l7.78-7.78 2.81-2.81c.8-.78.8-2.07 0-2.86zM5.41 20L4 18.59l7.72-7.72 1.47 1.35L5.41 20z\"/>\n",
              "  </svg>\n",
              "      </button>\n",
              "      \n",
              "  <style>\n",
              "    .colab-df-container {\n",
              "      display:flex;\n",
              "      flex-wrap:wrap;\n",
              "      gap: 12px;\n",
              "    }\n",
              "\n",
              "    .colab-df-convert {\n",
              "      background-color: #E8F0FE;\n",
              "      border: none;\n",
              "      border-radius: 50%;\n",
              "      cursor: pointer;\n",
              "      display: none;\n",
              "      fill: #1967D2;\n",
              "      height: 32px;\n",
              "      padding: 0 0 0 0;\n",
              "      width: 32px;\n",
              "    }\n",
              "\n",
              "    .colab-df-convert:hover {\n",
              "      background-color: #E2EBFA;\n",
              "      box-shadow: 0px 1px 2px rgba(60, 64, 67, 0.3), 0px 1px 3px 1px rgba(60, 64, 67, 0.15);\n",
              "      fill: #174EA6;\n",
              "    }\n",
              "\n",
              "    [theme=dark] .colab-df-convert {\n",
              "      background-color: #3B4455;\n",
              "      fill: #D2E3FC;\n",
              "    }\n",
              "\n",
              "    [theme=dark] .colab-df-convert:hover {\n",
              "      background-color: #434B5C;\n",
              "      box-shadow: 0px 1px 3px 1px rgba(0, 0, 0, 0.15);\n",
              "      filter: drop-shadow(0px 1px 2px rgba(0, 0, 0, 0.3));\n",
              "      fill: #FFFFFF;\n",
              "    }\n",
              "  </style>\n",
              "\n",
              "      <script>\n",
              "        const buttonEl =\n",
              "          document.querySelector('#df-5bc042d3-35af-4003-b718-05da473d3784 button.colab-df-convert');\n",
              "        buttonEl.style.display =\n",
              "          google.colab.kernel.accessAllowed ? 'block' : 'none';\n",
              "\n",
              "        async function convertToInteractive(key) {\n",
              "          const element = document.querySelector('#df-5bc042d3-35af-4003-b718-05da473d3784');\n",
              "          const dataTable =\n",
              "            await google.colab.kernel.invokeFunction('convertToInteractive',\n",
              "                                                     [key], {});\n",
              "          if (!dataTable) return;\n",
              "\n",
              "          const docLinkHtml = 'Like what you see? Visit the ' +\n",
              "            '<a target=\"_blank\" href=https://colab.research.google.com/notebooks/data_table.ipynb>data table notebook</a>'\n",
              "            + ' to learn more about interactive tables.';\n",
              "          element.innerHTML = '';\n",
              "          dataTable['output_type'] = 'display_data';\n",
              "          await google.colab.output.renderOutput(dataTable, element);\n",
              "          const docLink = document.createElement('div');\n",
              "          docLink.innerHTML = docLinkHtml;\n",
              "          element.appendChild(docLink);\n",
              "        }\n",
              "      </script>\n",
              "    </div>\n",
              "  </div>\n",
              "  "
            ]
          },
          "metadata": {},
          "execution_count": 10
        }
      ]
    },
    {
      "cell_type": "markdown",
      "source": [
        "### Выполнить разведочный анализ (EDA), использовать визуализацию, сделать выводы, которые могут быть полезны при дальнейшем решении задачи классификации.\n"
      ],
      "metadata": {
        "id": "kvO0xplqdRTB"
      }
    },
    {
      "cell_type": "code",
      "source": [
        "heart_data.isnull().sum()"
      ],
      "metadata": {
        "colab": {
          "base_uri": "https://localhost:8080/"
        },
        "id": "VoXWshR2ddd1",
        "outputId": "0146a2cb-30b5-4582-cccf-327768cb3c7b"
      },
      "execution_count": 11,
      "outputs": [
        {
          "output_type": "execute_result",
          "data": {
            "text/plain": [
              "age         0\n",
              "sex         0\n",
              "cp          0\n",
              "trestbps    0\n",
              "chol        0\n",
              "fbs         0\n",
              "restecg     0\n",
              "thalach     0\n",
              "exang       0\n",
              "oldpeak     0\n",
              "slope       0\n",
              "ca          0\n",
              "thal        0\n",
              "target      0\n",
              "dtype: int64"
            ]
          },
          "metadata": {},
          "execution_count": 11
        }
      ]
    },
    {
      "cell_type": "markdown",
      "source": [
        "Пропусков в данных нет."
      ],
      "metadata": {
        "id": "eaUyCkWBexiw"
      }
    },
    {
      "cell_type": "code",
      "source": [
        "import seaborn as sns \n",
        "import matplotlib.pyplot as plt\n",
        "\n",
        "sns.countplot(x = \"target\", data = sns.countplot)\n",
        "plt.show()"
      ],
      "metadata": {
        "colab": {
          "base_uri": "https://localhost:8080/",
          "height": 279
        },
        "id": "GLyZ4Pivg2EL",
        "outputId": "7225d9fe-9cef-4fc8-ecd2-43a245db681a"
      },
      "execution_count": 13,
      "outputs": [
        {
          "output_type": "display_data",
          "data": {
            "text/plain": [
              "<Figure size 432x288 with 1 Axes>"
            ],
            "image/png": "[encoded data removed]"
          },
          "metadata": {
            "needs_background": "light"
          }
        }
      ]
    },
    {
      "cell_type": "markdown",
      "source": [
        "В исходных данных число пациентов обоих полов схоже."
      ],
      "metadata": {
        "id": "nJPP23pSg4qn"
      }
    },
    {
      "cell_type": "code",
      "source": [
        "cor_matrix = heart_data.corr()\n",
        "plt.figure(figsize = (15,9))\n",
        "sns.heatmap(cor_matrix, \n",
        "           annot = True,\n",
        "           linewidth = 1,\n",
        "            fmt= \".3f\", \n",
        "            cmap=\"YlGnBu\"\n",
        "           )"
      ],
      "metadata": {
        "colab": {
          "base_uri": "https://localhost:8080/",
          "height": 559
        },
        "id": "W6mczuKofEZD",
        "outputId": "143ce17d-f3fd-4294-982e-4110085ec64c"
      },
      "execution_count": 14,
      "outputs": [
        {
          "output_type": "execute_result",
          "data": {
            "text/plain": [
              "<matplotlib.axes._subplots.AxesSubplot at 0x7fe5bd4dda10>"
            ]
          },
          "metadata": {},
          "execution_count": 14
        },
        {
          "output_type": "display_data",
          "data": {
            "text/plain": [
              "<Figure size 1080x648 with 2 Axes>"
            ],
            "image/png": "[encoded data removed]"
          },
          "metadata": {
            "needs_background": "light"
          }
        }
      ]
    },
    {
      "cell_type": "markdown",
      "source": [
        "Признаков с высокой корреляцией для отбрасывания нет."
      ],
      "metadata": {
        "id": "j4Xiy0kTfTZp"
      }
    },
    {
      "cell_type": "code",
      "source": [
        "plt.figure(figsize = (10,6))\n",
        "\n",
        "plt.scatter(heart_data.age[heart_data.target == 1],\n",
        "           heart_data.chol[heart_data.target ==1], \n",
        "           color = \"red\")\n",
        "\n",
        "plt.scatter(heart_data.age[heart_data.target==0],\n",
        "           heart_data.chol[heart_data.target==0],\n",
        "           color = \"blue\")\n",
        "\n",
        "plt.xlabel(\"age\")\n",
        "plt.ylabel(\"cholestrol\")\n",
        "plt.legend([\"Disease\", \"No Disease\"])\n",
        "plt.xticks(rotation = 0);"
      ],
      "metadata": {
        "colab": {
          "base_uri": "https://localhost:8080/",
          "height": 388
        },
        "id": "avwAJws5gBG8",
        "outputId": "f4702b08-e704-400b-cab4-344c12f41a92"
      },
      "execution_count": 15,
      "outputs": [
        {
          "output_type": "display_data",
          "data": {
            "text/plain": [
              "<Figure size 720x432 with 1 Axes>"
            ],
            "image/png": "[encoded data removed]"
          },
          "metadata": {
            "needs_background": "light"
          }
        }
      ]
    },
    {
      "cell_type": "markdown",
      "source": [
        "На диаграмме по вертикальной оси уровень холестирина, по горизонтальной - возраст, цвет точки обозначает наличие/отсутсвие заболевания."
      ],
      "metadata": {
        "id": "A_ABqjfjgOq8"
      }
    },
    {
      "cell_type": "markdown",
      "source": [
        "### \\* (+2 балла) Найти данные, на которых интересно будет решать задачу классификации. Повторить все пункты задания на новых данных."
      ],
      "metadata": {
        "id": "mK6QzHj_yvEi"
      }
    },
    {
      "cell_type": "markdown",
      "source": [
        "Titanic - Machine Learning from Disaster\n",
        "https://www.kaggle.com/competitions/titanic/data"
      ],
      "metadata": {
        "id": "OxWe8YhUy15f"
      }
    },
    {
      "cell_type": "code",
      "source": [
        "titanic_data = pd.read_csv('train.csv')"
      ],
      "metadata": {
        "id": "YOS2x8wazS8Z"
      },
      "execution_count": 63,
      "outputs": []
    },
    {
      "cell_type": "code",
      "source": [
        "titanic_data.shape"
      ],
      "metadata": {
        "colab": {
          "base_uri": "https://localhost:8080/"
        },
        "id": "gdesm6QkzasM",
        "outputId": "26ff1078-b1c0-4a08-b3b3-070109e2c8a8"
      },
      "execution_count": 64,
      "outputs": [
        {
          "output_type": "execute_result",
          "data": {
            "text/plain": [
              "(891, 12)"
            ]
          },
          "metadata": {},
          "execution_count": 64
        }
      ]
    },
    {
      "cell_type": "code",
      "source": [
        "titanic_data.head()"
      ],
      "metadata": {
        "colab": {
          "base_uri": "https://localhost:8080/",
          "height": 206
        },
        "id": "sJD3q2kjzeQH",
        "outputId": "25810885-8779-4906-8003-22d2b9c8de82"
      },
      "execution_count": 65,
      "outputs": [
        {
          "output_type": "execute_result",
          "data": {
            "text/plain": [
              "   PassengerId  Survived  Pclass  \\\n",
              "0            1         0       3   \n",
              "1            2         1       1   \n",
              "2            3         1       3   \n",
              "3            4         1       1   \n",
              "4            5         0       3   \n",
              "\n",
              "                                                Name     Sex   Age  SibSp  \\\n",
              "0                            Braund, Mr. Owen Harris    male  22.0      1   \n",
              "1  Cumings, Mrs. John Bradley (Florence Briggs Th...  female  38.0      1   \n",
              "2                             Heikkinen, Miss. Laina  female  26.0      0   \n",
              "3       Futrelle, Mrs. Jacques Heath (Lily May Peel)  female  35.0      1   \n",
              "4                           Allen, Mr. William Henry    male  35.0      0   \n",
              "\n",
              "   Parch            Ticket     Fare Cabin Embarked  \n",
              "0      0         A/5 21171   7.2500   NaN        S  \n",
              "1      0          PC 17599  71.2833   C85        C  \n",
              "2      0  STON/O2. 3101282   7.9250   NaN        S  \n",
              "3      0            113803  53.1000  C123        S  \n",
              "4      0            373450   8.0500   NaN        S  "
            ],
            "text/html": [
              "\n",
              "  <div id=\"df-db68279a-8903-44b6-9d56-f3406bcf48dc\">\n",
              "    <div class=\"colab-df-container\">\n",
              "      <div>\n",
              "<style scoped>\n",
              "    .dataframe tbody tr th:only-of-type {\n",
              "        vertical-align: middle;\n",
              "    }\n",
              "\n",
              "    .dataframe tbody tr th {\n",
              "        vertical-align: top;\n",
              "    }\n",
              "\n",
              "    .dataframe thead th {\n",
              "        text-align: right;\n",
              "    }\n",
              "</style>\n",
              "<table border=\"1\" class=\"dataframe\">\n",
              "  <thead>\n",
              "    <tr style=\"text-align: right;\">\n",
              "      <th></th>\n",
              "      <th>PassengerId</th>\n",
              "      <th>Survived</th>\n",
              "      <th>Pclass</th>\n",
              "      <th>Name</th>\n",
              "      <th>Sex</th>\n",
              "      <th>Age</th>\n",
              "      <th>SibSp</th>\n",
              "      <th>Parch</th>\n",
              "      <th>Ticket</th>\n",
              "      <th>Fare</th>\n",
              "      <th>Cabin</th>\n",
              "      <th>Embarked</th>\n",
              "    </tr>\n",
              "  </thead>\n",
              "  <tbody>\n",
              "    <tr>\n",
              "      <th>0</th>\n",
              "      <td>1</td>\n",
              "      <td>0</td>\n",
              "      <td>3</td>\n",
              "      <td>Braund, Mr. Owen Harris</td>\n",
              "      <td>male</td>\n",
              "      <td>22.0</td>\n",
              "      <td>1</td>\n",
              "      <td>0</td>\n",
              "      <td>A/5 21171</td>\n",
              "      <td>7.2500</td>\n",
              "      <td>NaN</td>\n",
              "      <td>S</td>\n",
              "    </tr>\n",
              "    <tr>\n",
              "      <th>1</th>\n",
              "      <td>2</td>\n",
              "      <td>1</td>\n",
              "      <td>1</td>\n",
              "      <td>Cumings, Mrs. John Bradley (Florence Briggs Th...</td>\n",
              "      <td>female</td>\n",
              "      <td>38.0</td>\n",
              "      <td>1</td>\n",
              "      <td>0</td>\n",
              "      <td>PC 17599</td>\n",
              "      <td>71.2833</td>\n",
              "      <td>C85</td>\n",
              "      <td>C</td>\n",
              "    </tr>\n",
              "    <tr>\n",
              "      <th>2</th>\n",
              "      <td>3</td>\n",
              "      <td>1</td>\n",
              "      <td>3</td>\n",
              "      <td>Heikkinen, Miss. Laina</td>\n",
              "      <td>female</td>\n",
              "      <td>26.0</td>\n",
              "      <td>0</td>\n",
              "      <td>0</td>\n",
              "      <td>STON/O2. 3101282</td>\n",
              "      <td>7.9250</td>\n",
              "      <td>NaN</td>\n",
              "      <td>S</td>\n",
              "    </tr>\n",
              "    <tr>\n",
              "      <th>3</th>\n",
              "      <td>4</td>\n",
              "      <td>1</td>\n",
              "      <td>1</td>\n",
              "      <td>Futrelle, Mrs. Jacques Heath (Lily May Peel)</td>\n",
              "      <td>female</td>\n",
              "      <td>35.0</td>\n",
              "      <td>1</td>\n",
              "      <td>0</td>\n",
              "      <td>113803</td>\n",
              "      <td>53.1000</td>\n",
              "      <td>C123</td>\n",
              "      <td>S</td>\n",
              "    </tr>\n",
              "    <tr>\n",
              "      <th>4</th>\n",
              "      <td>5</td>\n",
              "      <td>0</td>\n",
              "      <td>3</td>\n",
              "      <td>Allen, Mr. William Henry</td>\n",
              "      <td>male</td>\n",
              "      <td>35.0</td>\n",
              "      <td>0</td>\n",
              "      <td>0</td>\n",
              "      <td>373450</td>\n",
              "      <td>8.0500</td>\n",
              "      <td>NaN</td>\n",
              "      <td>S</td>\n",
              "    </tr>\n",
              "  </tbody>\n",
              "</table>\n",
              "</div>\n",
              "      <button class=\"colab-df-convert\" onclick=\"convertToInteractive('df-db68279a-8903-44b6-9d56-f3406bcf48dc')\"\n",
              "              title=\"Convert this dataframe to an interactive table.\"\n",
              "              style=\"display:none;\">\n",
              "        \n",
              "  <svg xmlns=\"http://www.w3.org/2000/svg\" height=\"24px\"viewBox=\"0 0 24 24\"\n",
              "       width=\"24px\">\n",
              "    <path d=\"M0 0h24v24H0V0z\" fill=\"none\"/>\n",
              "    <path d=\"M18.56 5.44l.94 2.06.94-2.06 2.06-.94-2.06-.94-.94-2.06-.94 2.06-2.06.94zm-11 1L8.5 8.5l.94-2.06 2.06-.94-2.06-.94L8.5 2.5l-.94 2.06-2.06.94zm10 10l.94 2.06.94-2.06 2.06-.94-2.06-.94-.94-2.06-.94 2.06-2.06.94z\"/><path d=\"M17.41 7.96l-1.37-1.37c-.4-.4-.92-.59-1.43-.59-.52 0-1.04.2-1.43.59L10.3 9.45l-7.72 7.72c-.78.78-.78 2.05 0 2.83L4 21.41c.39.39.9.59 1.41.59.51 0 1.02-.2 1.41-.59l7.78-7.78 2.81-2.81c.8-.78.8-2.07 0-2.86zM5.41 20L4 18.59l7.72-7.72 1.47 1.35L5.41 20z\"/>\n",
              "  </svg>\n",
              "      </button>\n",
              "      \n",
              "  <style>\n",
              "    .colab-df-container {\n",
              "      display:flex;\n",
              "      flex-wrap:wrap;\n",
              "      gap: 12px;\n",
              "    }\n",
              "\n",
              "    .colab-df-convert {\n",
              "      background-color: #E8F0FE;\n",
              "      border: none;\n",
              "      border-radius: 50%;\n",
              "      cursor: pointer;\n",
              "      display: none;\n",
              "      fill: #1967D2;\n",
              "      height: 32px;\n",
              "      padding: 0 0 0 0;\n",
              "      width: 32px;\n",
              "    }\n",
              "\n",
              "    .colab-df-convert:hover {\n",
              "      background-color: #E2EBFA;\n",
              "      box-shadow: 0px 1px 2px rgba(60, 64, 67, 0.3), 0px 1px 3px 1px rgba(60, 64, 67, 0.15);\n",
              "      fill: #174EA6;\n",
              "    }\n",
              "\n",
              "    [theme=dark] .colab-df-convert {\n",
              "      background-color: #3B4455;\n",
              "      fill: #D2E3FC;\n",
              "    }\n",
              "\n",
              "    [theme=dark] .colab-df-convert:hover {\n",
              "      background-color: #434B5C;\n",
              "      box-shadow: 0px 1px 3px 1px rgba(0, 0, 0, 0.15);\n",
              "      filter: drop-shadow(0px 1px 2px rgba(0, 0, 0, 0.3));\n",
              "      fill: #FFFFFF;\n",
              "    }\n",
              "  </style>\n",
              "\n",
              "      <script>\n",
              "        const buttonEl =\n",
              "          document.querySelector('#df-db68279a-8903-44b6-9d56-f3406bcf48dc button.colab-df-convert');\n",
              "        buttonEl.style.display =\n",
              "          google.colab.kernel.accessAllowed ? 'block' : 'none';\n",
              "\n",
              "        async function convertToInteractive(key) {\n",
              "          const element = document.querySelector('#df-db68279a-8903-44b6-9d56-f3406bcf48dc');\n",
              "          const dataTable =\n",
              "            await google.colab.kernel.invokeFunction('convertToInteractive',\n",
              "                                                     [key], {});\n",
              "          if (!dataTable) return;\n",
              "\n",
              "          const docLinkHtml = 'Like what you see? Visit the ' +\n",
              "            '<a target=\"_blank\" href=https://colab.research.google.com/notebooks/data_table.ipynb>data table notebook</a>'\n",
              "            + ' to learn more about interactive tables.';\n",
              "          element.innerHTML = '';\n",
              "          dataTable['output_type'] = 'display_data';\n",
              "          await google.colab.output.renderOutput(dataTable, element);\n",
              "          const docLink = document.createElement('div');\n",
              "          docLink.innerHTML = docLinkHtml;\n",
              "          element.appendChild(docLink);\n",
              "        }\n",
              "      </script>\n",
              "    </div>\n",
              "  </div>\n",
              "  "
            ]
          },
          "metadata": {},
          "execution_count": 65
        }
      ]
    },
    {
      "cell_type": "code",
      "source": [
        "titanic_data.isnull().sum()"
      ],
      "metadata": {
        "colab": {
          "base_uri": "https://localhost:8080/"
        },
        "id": "a8UrfpgUziaA",
        "outputId": "eb48cb43-d93b-44c4-a563-eb7fee7d1484"
      },
      "execution_count": 66,
      "outputs": [
        {
          "output_type": "execute_result",
          "data": {
            "text/plain": [
              "PassengerId      0\n",
              "Survived         0\n",
              "Pclass           0\n",
              "Name             0\n",
              "Sex              0\n",
              "Age            177\n",
              "SibSp            0\n",
              "Parch            0\n",
              "Ticket           0\n",
              "Fare             0\n",
              "Cabin          687\n",
              "Embarked         2\n",
              "dtype: int64"
            ]
          },
          "metadata": {},
          "execution_count": 66
        }
      ]
    },
    {
      "cell_type": "markdown",
      "source": [
        "В данных есть пропуски в признаках Age, Cabin, Embarked."
      ],
      "metadata": {
        "id": "90cHQcwszmN3"
      }
    },
    {
      "cell_type": "markdown",
      "source": [
        "Статистика целевой переменной."
      ],
      "metadata": {
        "id": "ZsCkevDUzzLK"
      }
    },
    {
      "cell_type": "code",
      "source": [
        "titanic_data['Survived'].value_counts()"
      ],
      "metadata": {
        "colab": {
          "base_uri": "https://localhost:8080/"
        },
        "id": "VwD-yafnzqPT",
        "outputId": "34d1de0f-7b8e-4ad3-81d9-e0874ccc7627"
      },
      "execution_count": 67,
      "outputs": [
        {
          "output_type": "execute_result",
          "data": {
            "text/plain": [
              "0    549\n",
              "1    342\n",
              "Name: Survived, dtype: int64"
            ]
          },
          "metadata": {},
          "execution_count": 67
        }
      ]
    },
    {
      "cell_type": "code",
      "source": [
        "pd.crosstab(titanic_data.Pclass, titanic_data.Survived, margins=True).style.background_gradient(cmap='autumn_r')"
      ],
      "metadata": {
        "colab": {
          "base_uri": "https://localhost:8080/",
          "height": 206
        },
        "id": "CBamDbNf36Qu",
        "outputId": "788dd511-cec1-4a0e-a5af-0f22600972f4"
      },
      "execution_count": 181,
      "outputs": [
        {
          "output_type": "execute_result",
          "data": {
            "text/plain": [
              "<pandas.io.formats.style.Styler at 0x7fe5b7dc4d90>"
            ],
            "text/html": [
              "<style type=\"text/css\">\n",
              "#T_98e49_row0_col0, #T_98e49_row1_col1, #T_98e49_row1_col2 {\n",
              "  background-color: #ffff00;\n",
              "  color: #000000;\n",
              "}\n",
              "#T_98e49_row0_col1 {\n",
              "  background-color: #ffce00;\n",
              "  color: #000000;\n",
              "}\n",
              "#T_98e49_row0_col2 {\n",
              "  background-color: #fff400;\n",
              "  color: #000000;\n",
              "}\n",
              "#T_98e49_row1_col0 {\n",
              "  background-color: #fff600;\n",
              "  color: #000000;\n",
              "}\n",
              "#T_98e49_row2_col0 {\n",
              "  background-color: #ff6000;\n",
              "  color: #f1f1f1;\n",
              "}\n",
              "#T_98e49_row2_col1 {\n",
              "  background-color: #ffdf00;\n",
              "  color: #000000;\n",
              "}\n",
              "#T_98e49_row2_col2 {\n",
              "  background-color: #ff9000;\n",
              "  color: #000000;\n",
              "}\n",
              "#T_98e49_row3_col0, #T_98e49_row3_col1, #T_98e49_row3_col2 {\n",
              "  background-color: #ff0000;\n",
              "  color: #f1f1f1;\n",
              "}\n",
              "</style>\n",
              "<table id=\"T_98e49_\" class=\"dataframe\">\n",
              "  <thead>\n",
              "    <tr>\n",
              "      <th class=\"index_name level0\" >Survived</th>\n",
              "      <th class=\"col_heading level0 col0\" >0</th>\n",
              "      <th class=\"col_heading level0 col1\" >1</th>\n",
              "      <th class=\"col_heading level0 col2\" >All</th>\n",
              "    </tr>\n",
              "    <tr>\n",
              "      <th class=\"index_name level0\" >Pclass</th>\n",
              "      <th class=\"blank col0\" >&nbsp;</th>\n",
              "      <th class=\"blank col1\" >&nbsp;</th>\n",
              "      <th class=\"blank col2\" >&nbsp;</th>\n",
              "    </tr>\n",
              "  </thead>\n",
              "  <tbody>\n",
              "    <tr>\n",
              "      <th id=\"T_98e49_level0_row0\" class=\"row_heading level0 row0\" >1</th>\n",
              "      <td id=\"T_98e49_row0_col0\" class=\"data row0 col0\" >80</td>\n",
              "      <td id=\"T_98e49_row0_col1\" class=\"data row0 col1\" >136</td>\n",
              "      <td id=\"T_98e49_row0_col2\" class=\"data row0 col2\" >216</td>\n",
              "    </tr>\n",
              "    <tr>\n",
              "      <th id=\"T_98e49_level0_row1\" class=\"row_heading level0 row1\" >2</th>\n",
              "      <td id=\"T_98e49_row1_col0\" class=\"data row1 col0\" >97</td>\n",
              "      <td id=\"T_98e49_row1_col1\" class=\"data row1 col1\" >87</td>\n",
              "      <td id=\"T_98e49_row1_col2\" class=\"data row1 col2\" >184</td>\n",
              "    </tr>\n",
              "    <tr>\n",
              "      <th id=\"T_98e49_level0_row2\" class=\"row_heading level0 row2\" >3</th>\n",
              "      <td id=\"T_98e49_row2_col0\" class=\"data row2 col0\" >372</td>\n",
              "      <td id=\"T_98e49_row2_col1\" class=\"data row2 col1\" >119</td>\n",
              "      <td id=\"T_98e49_row2_col2\" class=\"data row2 col2\" >491</td>\n",
              "    </tr>\n",
              "    <tr>\n",
              "      <th id=\"T_98e49_level0_row3\" class=\"row_heading level0 row3\" >All</th>\n",
              "      <td id=\"T_98e49_row3_col0\" class=\"data row3 col0\" >549</td>\n",
              "      <td id=\"T_98e49_row3_col1\" class=\"data row3 col1\" >342</td>\n",
              "      <td id=\"T_98e49_row3_col2\" class=\"data row3 col2\" >891</td>\n",
              "    </tr>\n",
              "  </tbody>\n",
              "</table>\n"
            ]
          },
          "metadata": {},
          "execution_count": 181
        }
      ]
    },
    {
      "cell_type": "markdown",
      "source": [
        "Число выживших падает с понижением класса."
      ],
      "metadata": {
        "id": "pVZmXzYg4M8i"
      }
    },
    {
      "cell_type": "code",
      "source": [
        "pd.crosstab([titanic_data.Sex, titanic_data.Survived], titanic_data.Pclass, margins=True).style.background_gradient(cmap='autumn_r')"
      ],
      "metadata": {
        "colab": {
          "base_uri": "https://localhost:8080/",
          "height": 237
        },
        "id": "GeXbOFw85jiY",
        "outputId": "a58b4e00-b62d-4e43-c65f-c07bd5ee2a17"
      },
      "execution_count": 183,
      "outputs": [
        {
          "output_type": "execute_result",
          "data": {
            "text/plain": [
              "<pandas.io.formats.style.Styler at 0x7fe5b7072f10>"
            ],
            "text/html": [
              "<style type=\"text/css\">\n",
              "#T_8aec8_row0_col0, #T_8aec8_row0_col1, #T_8aec8_row0_col3, #T_8aec8_row3_col2 {\n",
              "  background-color: #ffff00;\n",
              "  color: #000000;\n",
              "}\n",
              "#T_8aec8_row0_col2, #T_8aec8_row1_col2 {\n",
              "  background-color: #fff100;\n",
              "  color: #000000;\n",
              "}\n",
              "#T_8aec8_row1_col0 {\n",
              "  background-color: #ff9600;\n",
              "  color: #000000;\n",
              "}\n",
              "#T_8aec8_row1_col1 {\n",
              "  background-color: #ffa300;\n",
              "  color: #000000;\n",
              "}\n",
              "#T_8aec8_row1_col3 {\n",
              "  background-color: #ffcf00;\n",
              "  color: #000000;\n",
              "}\n",
              "#T_8aec8_row2_col0 {\n",
              "  background-color: #ffa700;\n",
              "  color: #000000;\n",
              "}\n",
              "#T_8aec8_row2_col1, #T_8aec8_row2_col3 {\n",
              "  background-color: #ff8500;\n",
              "  color: #f1f1f1;\n",
              "}\n",
              "#T_8aec8_row2_col2 {\n",
              "  background-color: #ff6e00;\n",
              "  color: #f1f1f1;\n",
              "}\n",
              "#T_8aec8_row3_col0 {\n",
              "  background-color: #ffcd00;\n",
              "  color: #000000;\n",
              "}\n",
              "#T_8aec8_row3_col1 {\n",
              "  background-color: #fff000;\n",
              "  color: #000000;\n",
              "}\n",
              "#T_8aec8_row3_col3 {\n",
              "  background-color: #fff700;\n",
              "  color: #000000;\n",
              "}\n",
              "#T_8aec8_row4_col0, #T_8aec8_row4_col1, #T_8aec8_row4_col2, #T_8aec8_row4_col3 {\n",
              "  background-color: #ff0000;\n",
              "  color: #f1f1f1;\n",
              "}\n",
              "</style>\n",
              "<table id=\"T_8aec8_\" class=\"dataframe\">\n",
              "  <thead>\n",
              "    <tr>\n",
              "      <th class=\"blank\" >&nbsp;</th>\n",
              "      <th class=\"index_name level0\" >Pclass</th>\n",
              "      <th class=\"col_heading level0 col0\" >1</th>\n",
              "      <th class=\"col_heading level0 col1\" >2</th>\n",
              "      <th class=\"col_heading level0 col2\" >3</th>\n",
              "      <th class=\"col_heading level0 col3\" >All</th>\n",
              "    </tr>\n",
              "    <tr>\n",
              "      <th class=\"index_name level0\" >Sex</th>\n",
              "      <th class=\"index_name level1\" >Survived</th>\n",
              "      <th class=\"blank col0\" >&nbsp;</th>\n",
              "      <th class=\"blank col1\" >&nbsp;</th>\n",
              "      <th class=\"blank col2\" >&nbsp;</th>\n",
              "      <th class=\"blank col3\" >&nbsp;</th>\n",
              "    </tr>\n",
              "  </thead>\n",
              "  <tbody>\n",
              "    <tr>\n",
              "      <th id=\"T_8aec8_level0_row0\" class=\"row_heading level0 row0\" rowspan=\"2\">female</th>\n",
              "      <th id=\"T_8aec8_level1_row0\" class=\"row_heading level1 row0\" >0</th>\n",
              "      <td id=\"T_8aec8_row0_col0\" class=\"data row0 col0\" >3</td>\n",
              "      <td id=\"T_8aec8_row0_col1\" class=\"data row0 col1\" >6</td>\n",
              "      <td id=\"T_8aec8_row0_col2\" class=\"data row0 col2\" >72</td>\n",
              "      <td id=\"T_8aec8_row0_col3\" class=\"data row0 col3\" >81</td>\n",
              "    </tr>\n",
              "    <tr>\n",
              "      <th id=\"T_8aec8_level1_row1\" class=\"row_heading level1 row1\" >1</th>\n",
              "      <td id=\"T_8aec8_row1_col0\" class=\"data row1 col0\" >91</td>\n",
              "      <td id=\"T_8aec8_row1_col1\" class=\"data row1 col1\" >70</td>\n",
              "      <td id=\"T_8aec8_row1_col2\" class=\"data row1 col2\" >72</td>\n",
              "      <td id=\"T_8aec8_row1_col3\" class=\"data row1 col3\" >233</td>\n",
              "    </tr>\n",
              "    <tr>\n",
              "      <th id=\"T_8aec8_level0_row2\" class=\"row_heading level0 row2\" rowspan=\"2\">male</th>\n",
              "      <th id=\"T_8aec8_level1_row2\" class=\"row_heading level1 row2\" >0</th>\n",
              "      <td id=\"T_8aec8_row2_col0\" class=\"data row2 col0\" >77</td>\n",
              "      <td id=\"T_8aec8_row2_col1\" class=\"data row2 col1\" >91</td>\n",
              "      <td id=\"T_8aec8_row2_col2\" class=\"data row2 col2\" >300</td>\n",
              "      <td id=\"T_8aec8_row2_col3\" class=\"data row2 col3\" >468</td>\n",
              "    </tr>\n",
              "    <tr>\n",
              "      <th id=\"T_8aec8_level1_row3\" class=\"row_heading level1 row3\" >1</th>\n",
              "      <td id=\"T_8aec8_row3_col0\" class=\"data row3 col0\" >45</td>\n",
              "      <td id=\"T_8aec8_row3_col1\" class=\"data row3 col1\" >17</td>\n",
              "      <td id=\"T_8aec8_row3_col2\" class=\"data row3 col2\" >47</td>\n",
              "      <td id=\"T_8aec8_row3_col3\" class=\"data row3 col3\" >109</td>\n",
              "    </tr>\n",
              "    <tr>\n",
              "      <th id=\"T_8aec8_level0_row4\" class=\"row_heading level0 row4\" >All</th>\n",
              "      <th id=\"T_8aec8_level1_row4\" class=\"row_heading level1 row4\" ></th>\n",
              "      <td id=\"T_8aec8_row4_col0\" class=\"data row4 col0\" >216</td>\n",
              "      <td id=\"T_8aec8_row4_col1\" class=\"data row4 col1\" >184</td>\n",
              "      <td id=\"T_8aec8_row4_col2\" class=\"data row4 col2\" >491</td>\n",
              "      <td id=\"T_8aec8_row4_col3\" class=\"data row4 col3\" >891</td>\n",
              "    </tr>\n",
              "  </tbody>\n",
              "</table>\n"
            ]
          },
          "metadata": {},
          "execution_count": 183
        }
      ]
    },
    {
      "cell_type": "markdown",
      "source": [
        "Почти все женщины в 1 и 2 классе выжили, при это почти все мужчины в 2 и 3 классе умерли."
      ],
      "metadata": {
        "id": "nZlJ0r3m5qDX"
      }
    },
    {
      "cell_type": "markdown",
      "source": [
        "Общая информация о числовых признаках."
      ],
      "metadata": {
        "id": "-iHGurq6z9WP"
      }
    },
    {
      "cell_type": "code",
      "source": [
        "titanic_data.describe()"
      ],
      "metadata": {
        "colab": {
          "base_uri": "https://localhost:8080/",
          "height": 300
        },
        "id": "AxcmJCBxz6Q9",
        "outputId": "4aa72062-7d22-4edb-cc32-7bd97fcce7f8"
      },
      "execution_count": 68,
      "outputs": [
        {
          "output_type": "execute_result",
          "data": {
            "text/plain": [
              "       PassengerId    Survived      Pclass         Age       SibSp  \\\n",
              "count   891.000000  891.000000  891.000000  714.000000  891.000000   \n",
              "mean    446.000000    0.383838    2.308642   29.699118    0.523008   \n",
              "std     257.353842    0.486592    0.836071   14.526497    1.102743   \n",
              "min       1.000000    0.000000    1.000000    0.420000    0.000000   \n",
              "25%     223.500000    0.000000    2.000000   20.125000    0.000000   \n",
              "50%     446.000000    0.000000    3.000000   28.000000    0.000000   \n",
              "75%     668.500000    1.000000    3.000000   38.000000    1.000000   \n",
              "max     891.000000    1.000000    3.000000   80.000000    8.000000   \n",
              "\n",
              "            Parch        Fare  \n",
              "count  891.000000  891.000000  \n",
              "mean     0.381594   32.204208  \n",
              "std      0.806057   49.693429  \n",
              "min      0.000000    0.000000  \n",
              "25%      0.000000    7.910400  \n",
              "50%      0.000000   14.454200  \n",
              "75%      0.000000   31.000000  \n",
              "max      6.000000  512.329200  "
            ],
            "text/html": [
              "\n",
              "  <div id=\"df-b04c18dc-4d26-4b26-ad93-4614d4f18ffd\">\n",
              "    <div class=\"colab-df-container\">\n",
              "      <div>\n",
              "<style scoped>\n",
              "    .dataframe tbody tr th:only-of-type {\n",
              "        vertical-align: middle;\n",
              "    }\n",
              "\n",
              "    .dataframe tbody tr th {\n",
              "        vertical-align: top;\n",
              "    }\n",
              "\n",
              "    .dataframe thead th {\n",
              "        text-align: right;\n",
              "    }\n",
              "</style>\n",
              "<table border=\"1\" class=\"dataframe\">\n",
              "  <thead>\n",
              "    <tr style=\"text-align: right;\">\n",
              "      <th></th>\n",
              "      <th>PassengerId</th>\n",
              "      <th>Survived</th>\n",
              "      <th>Pclass</th>\n",
              "      <th>Age</th>\n",
              "      <th>SibSp</th>\n",
              "      <th>Parch</th>\n",
              "      <th>Fare</th>\n",
              "    </tr>\n",
              "  </thead>\n",
              "  <tbody>\n",
              "    <tr>\n",
              "      <th>count</th>\n",
              "      <td>891.000000</td>\n",
              "      <td>891.000000</td>\n",
              "      <td>891.000000</td>\n",
              "      <td>714.000000</td>\n",
              "      <td>891.000000</td>\n",
              "      <td>891.000000</td>\n",
              "      <td>891.000000</td>\n",
              "    </tr>\n",
              "    <tr>\n",
              "      <th>mean</th>\n",
              "      <td>446.000000</td>\n",
              "      <td>0.383838</td>\n",
              "      <td>2.308642</td>\n",
              "      <td>29.699118</td>\n",
              "      <td>0.523008</td>\n",
              "      <td>0.381594</td>\n",
              "      <td>32.204208</td>\n",
              "    </tr>\n",
              "    <tr>\n",
              "      <th>std</th>\n",
              "      <td>257.353842</td>\n",
              "      <td>0.486592</td>\n",
              "      <td>0.836071</td>\n",
              "      <td>14.526497</td>\n",
              "      <td>1.102743</td>\n",
              "      <td>0.806057</td>\n",
              "      <td>49.693429</td>\n",
              "    </tr>\n",
              "    <tr>\n",
              "      <th>min</th>\n",
              "      <td>1.000000</td>\n",
              "      <td>0.000000</td>\n",
              "      <td>1.000000</td>\n",
              "      <td>0.420000</td>\n",
              "      <td>0.000000</td>\n",
              "      <td>0.000000</td>\n",
              "      <td>0.000000</td>\n",
              "    </tr>\n",
              "    <tr>\n",
              "      <th>25%</th>\n",
              "      <td>223.500000</td>\n",
              "      <td>0.000000</td>\n",
              "      <td>2.000000</td>\n",
              "      <td>20.125000</td>\n",
              "      <td>0.000000</td>\n",
              "      <td>0.000000</td>\n",
              "      <td>7.910400</td>\n",
              "    </tr>\n",
              "    <tr>\n",
              "      <th>50%</th>\n",
              "      <td>446.000000</td>\n",
              "      <td>0.000000</td>\n",
              "      <td>3.000000</td>\n",
              "      <td>28.000000</td>\n",
              "      <td>0.000000</td>\n",
              "      <td>0.000000</td>\n",
              "      <td>14.454200</td>\n",
              "    </tr>\n",
              "    <tr>\n",
              "      <th>75%</th>\n",
              "      <td>668.500000</td>\n",
              "      <td>1.000000</td>\n",
              "      <td>3.000000</td>\n",
              "      <td>38.000000</td>\n",
              "      <td>1.000000</td>\n",
              "      <td>0.000000</td>\n",
              "      <td>31.000000</td>\n",
              "    </tr>\n",
              "    <tr>\n",
              "      <th>max</th>\n",
              "      <td>891.000000</td>\n",
              "      <td>1.000000</td>\n",
              "      <td>3.000000</td>\n",
              "      <td>80.000000</td>\n",
              "      <td>8.000000</td>\n",
              "      <td>6.000000</td>\n",
              "      <td>512.329200</td>\n",
              "    </tr>\n",
              "  </tbody>\n",
              "</table>\n",
              "</div>\n",
              "      <button class=\"colab-df-convert\" onclick=\"convertToInteractive('df-b04c18dc-4d26-4b26-ad93-4614d4f18ffd')\"\n",
              "              title=\"Convert this dataframe to an interactive table.\"\n",
              "              style=\"display:none;\">\n",
              "        \n",
              "  <svg xmlns=\"http://www.w3.org/2000/svg\" height=\"24px\"viewBox=\"0 0 24 24\"\n",
              "       width=\"24px\">\n",
              "    <path d=\"M0 0h24v24H0V0z\" fill=\"none\"/>\n",
              "    <path d=\"M18.56 5.44l.94 2.06.94-2.06 2.06-.94-2.06-.94-.94-2.06-.94 2.06-2.06.94zm-11 1L8.5 8.5l.94-2.06 2.06-.94-2.06-.94L8.5 2.5l-.94 2.06-2.06.94zm10 10l.94 2.06.94-2.06 2.06-.94-2.06-.94-.94-2.06-.94 2.06-2.06.94z\"/><path d=\"M17.41 7.96l-1.37-1.37c-.4-.4-.92-.59-1.43-.59-.52 0-1.04.2-1.43.59L10.3 9.45l-7.72 7.72c-.78.78-.78 2.05 0 2.83L4 21.41c.39.39.9.59 1.41.59.51 0 1.02-.2 1.41-.59l7.78-7.78 2.81-2.81c.8-.78.8-2.07 0-2.86zM5.41 20L4 18.59l7.72-7.72 1.47 1.35L5.41 20z\"/>\n",
              "  </svg>\n",
              "      </button>\n",
              "      \n",
              "  <style>\n",
              "    .colab-df-container {\n",
              "      display:flex;\n",
              "      flex-wrap:wrap;\n",
              "      gap: 12px;\n",
              "    }\n",
              "\n",
              "    .colab-df-convert {\n",
              "      background-color: #E8F0FE;\n",
              "      border: none;\n",
              "      border-radius: 50%;\n",
              "      cursor: pointer;\n",
              "      display: none;\n",
              "      fill: #1967D2;\n",
              "      height: 32px;\n",
              "      padding: 0 0 0 0;\n",
              "      width: 32px;\n",
              "    }\n",
              "\n",
              "    .colab-df-convert:hover {\n",
              "      background-color: #E2EBFA;\n",
              "      box-shadow: 0px 1px 2px rgba(60, 64, 67, 0.3), 0px 1px 3px 1px rgba(60, 64, 67, 0.15);\n",
              "      fill: #174EA6;\n",
              "    }\n",
              "\n",
              "    [theme=dark] .colab-df-convert {\n",
              "      background-color: #3B4455;\n",
              "      fill: #D2E3FC;\n",
              "    }\n",
              "\n",
              "    [theme=dark] .colab-df-convert:hover {\n",
              "      background-color: #434B5C;\n",
              "      box-shadow: 0px 1px 3px 1px rgba(0, 0, 0, 0.15);\n",
              "      filter: drop-shadow(0px 1px 2px rgba(0, 0, 0, 0.3));\n",
              "      fill: #FFFFFF;\n",
              "    }\n",
              "  </style>\n",
              "\n",
              "      <script>\n",
              "        const buttonEl =\n",
              "          document.querySelector('#df-b04c18dc-4d26-4b26-ad93-4614d4f18ffd button.colab-df-convert');\n",
              "        buttonEl.style.display =\n",
              "          google.colab.kernel.accessAllowed ? 'block' : 'none';\n",
              "\n",
              "        async function convertToInteractive(key) {\n",
              "          const element = document.querySelector('#df-b04c18dc-4d26-4b26-ad93-4614d4f18ffd');\n",
              "          const dataTable =\n",
              "            await google.colab.kernel.invokeFunction('convertToInteractive',\n",
              "                                                     [key], {});\n",
              "          if (!dataTable) return;\n",
              "\n",
              "          const docLinkHtml = 'Like what you see? Visit the ' +\n",
              "            '<a target=\"_blank\" href=https://colab.research.google.com/notebooks/data_table.ipynb>data table notebook</a>'\n",
              "            + ' to learn more about interactive tables.';\n",
              "          element.innerHTML = '';\n",
              "          dataTable['output_type'] = 'display_data';\n",
              "          await google.colab.output.renderOutput(dataTable, element);\n",
              "          const docLink = document.createElement('div');\n",
              "          docLink.innerHTML = docLinkHtml;\n",
              "          element.appendChild(docLink);\n",
              "        }\n",
              "      </script>\n",
              "    </div>\n",
              "  </div>\n",
              "  "
            ]
          },
          "metadata": {},
          "execution_count": 68
        }
      ]
    },
    {
      "cell_type": "markdown",
      "source": [
        "Кодирование категориальных признаков."
      ],
      "metadata": {
        "id": "q-CuVjq201ce"
      }
    },
    {
      "cell_type": "code",
      "source": [
        "embark = pd.get_dummies(titanic_data['Embarked'])\n",
        "gender = pd.get_dummies(titanic_data['Sex'])"
      ],
      "metadata": {
        "id": "U8tansYn03xc"
      },
      "execution_count": 69,
      "outputs": []
    },
    {
      "cell_type": "markdown",
      "source": [
        "Пропуски возраста заполняются средним значением 30."
      ],
      "metadata": {
        "id": "m4H56B4u1Gkk"
      }
    },
    {
      "cell_type": "code",
      "source": [
        "titanic_data['Age'].fillna(30,inplace=True)\n",
        "titanic_data['Age'] = titanic_data['Age'].astype('int')"
      ],
      "metadata": {
        "id": "XXDbJVdV1IB3"
      },
      "execution_count": 70,
      "outputs": []
    },
    {
      "cell_type": "markdown",
      "source": [
        "Возраст разделен на 6 категорий."
      ],
      "metadata": {
        "id": "IyVfwfTM1Jn6"
      }
    },
    {
      "cell_type": "code",
      "source": [
        "def age_grp(age):\n",
        "    if age<13:\n",
        "        return '<13'\n",
        "    elif (age>=13) &(age<18):\n",
        "        return '13-18'\n",
        "    elif (age>=18) &(age<=24):\n",
        "        return '18-24'\n",
        "    elif (age>=25) &(age<=34):\n",
        "        return '25-34'\n",
        "    elif (age>=35) &(age<=44):\n",
        "        return '35-44'\n",
        "    else:\n",
        "        return '45+'\n",
        "\n",
        "titanic_data['Age_grp'] = titanic_data['Age'].apply(lambda x: age_grp(x))\n",
        "age = pd.get_dummies(titanic_data['Age_grp'])"
      ],
      "metadata": {
        "id": "GZoG1Ijo1Eg-"
      },
      "execution_count": 71,
      "outputs": []
    },
    {
      "cell_type": "code",
      "source": [
        "titanic_data = pd.concat([titanic_data,embark,gender,age],axis=1)\n",
        "titanic_data.columns"
      ],
      "metadata": {
        "colab": {
          "base_uri": "https://localhost:8080/"
        },
        "id": "pgIaF3F11TE-",
        "outputId": "c1439f42-72e4-4526-d8d4-9aeccecc283d"
      },
      "execution_count": 72,
      "outputs": [
        {
          "output_type": "execute_result",
          "data": {
            "text/plain": [
              "Index(['PassengerId', 'Survived', 'Pclass', 'Name', 'Sex', 'Age', 'SibSp',\n",
              "       'Parch', 'Ticket', 'Fare', 'Cabin', 'Embarked', 'Age_grp', 'C', 'Q',\n",
              "       'S', 'female', 'male', '13-18', '18-24', '25-34', '35-44', '45+',\n",
              "       '<13'],\n",
              "      dtype='object')"
            ]
          },
          "metadata": {},
          "execution_count": 72
        }
      ]
    },
    {
      "cell_type": "code",
      "source": [
        "def is_var(val):\n",
        "    if val>0:\n",
        "        return 1\n",
        "    else:\n",
        "        return 0"
      ],
      "metadata": {
        "id": "uqsz2buu1lkg"
      },
      "execution_count": 73,
      "outputs": []
    },
    {
      "cell_type": "markdown",
      "source": [
        "Добавление нового признака - Family - количество членов одной семьи на Титанике."
      ],
      "metadata": {
        "id": "PnZtt4WI1qOZ"
      }
    },
    {
      "cell_type": "code",
      "source": [
        "titanic_data['Family'] = titanic_data['Parch'] + 1 + titanic_data['SibSp']\n",
        "titanic_data['Parch'] = titanic_data['Parch'].apply(lambda x: is_var(x))\n",
        "titanic_data['SibSp'] = titanic_data['SibSp'].apply(lambda x: is_var(x))"
      ],
      "metadata": {
        "id": "BlOXChyP1o77"
      },
      "execution_count": 74,
      "outputs": []
    },
    {
      "cell_type": "code",
      "source": [
        "sel_cols=['Fare', \n",
        "    'Pclass', 'SibSp',\n",
        "       'Parch',  'C', 'Q',\n",
        "       'S', 'female', 'male', '18-24', '25-34', '35-44', '45+', '<13','13-18', 'Family'\n",
        "]\n",
        "\n",
        "titanic_data.fillna(0,inplace=True)\n",
        "\n",
        "titanic_data_X = titanic_data[sel_cols]\n",
        "titanic_data_y = titanic_data['Survived']\n",
        "\n",
        "from sklearn.preprocessing import StandardScaler\n",
        "from sklearn.model_selection import train_test_split\n",
        "\n",
        "titanic_train_X, titanic_test_X, titanic_train_y, titanic_test_y = train_test_split(titanic_data_X, titanic_data_y, test_size = 0.3, random_state=19)\n",
        "\n",
        "# Scaling with Standard Scaler\n",
        "scaler = StandardScaler() \n",
        "titanic_train_X_scaled = scaler.fit_transform(titanic_train_X)\n",
        "titanic_test_X_scaled = scaler.transform(titanic_test_X)"
      ],
      "metadata": {
        "id": "uLYI_oP61xyG"
      },
      "execution_count": 75,
      "outputs": []
    },
    {
      "cell_type": "markdown",
      "source": [
        "### При необходимости выполнить полезные преобразования данных (например, трансформировать категариальные признаки в количественные), убрать ненужные признаки, создать новые (Feature Engineering)."
      ],
      "metadata": {
        "id": "kzjOpbsXdZ0F"
      }
    },
    {
      "cell_type": "markdown",
      "source": [
        "Преобразование категориальных признаков cp, thal, slope."
      ],
      "metadata": {
        "id": "NSciNdEfhbN2"
      }
    },
    {
      "cell_type": "code",
      "source": [
        "cp_dum = pd.get_dummies(heart_data['cp'], prefix = \"cp\")\n",
        "thal_dum = pd.get_dummies(heart_data['thal'], prefix = \"thal\")\n",
        "slope_dum = pd.get_dummies(heart_data['slope'], prefix = \"slope\")\n",
        "\n",
        "frames = [heart_data, cp_dum, thal_dum, slope_dum]\n",
        "heart = pd.concat(frames, axis = 1)\n",
        "\n",
        "heart_data = heart_data.drop(columns = ['cp', 'thal', 'slope'])\n",
        "heart_data.head()"
      ],
      "metadata": {
        "colab": {
          "base_uri": "https://localhost:8080/",
          "height": 206
        },
        "id": "_SmE1YSTdaYL",
        "outputId": "2c97d8bc-9f65-48f4-a1e2-1d3f0142944b"
      },
      "execution_count": 29,
      "outputs": [
        {
          "output_type": "execute_result",
          "data": {
            "text/plain": [
              "   age  sex  trestbps  chol  fbs  restecg  thalach  exang  oldpeak  ca  target\n",
              "0   52    1       125   212    0        1      168      0      1.0   2       0\n",
              "1   53    1       140   203    1        0      155      1      3.1   0       0\n",
              "2   70    1       145   174    0        1      125      1      2.6   0       0\n",
              "3   61    1       148   203    0        1      161      0      0.0   1       0\n",
              "4   62    0       138   294    1        1      106      0      1.9   3       0"
            ],
            "text/html": [
              "\n",
              "  <div id=\"df-b232b562-5a04-41d9-8fa4-3ac54138f6bc\">\n",
              "    <div class=\"colab-df-container\">\n",
              "      <div>\n",
              "<style scoped>\n",
              "    .dataframe tbody tr th:only-of-type {\n",
              "        vertical-align: middle;\n",
              "    }\n",
              "\n",
              "    .dataframe tbody tr th {\n",
              "        vertical-align: top;\n",
              "    }\n",
              "\n",
              "    .dataframe thead th {\n",
              "        text-align: right;\n",
              "    }\n",
              "</style>\n",
              "<table border=\"1\" class=\"dataframe\">\n",
              "  <thead>\n",
              "    <tr style=\"text-align: right;\">\n",
              "      <th></th>\n",
              "      <th>age</th>\n",
              "      <th>sex</th>\n",
              "      <th>trestbps</th>\n",
              "      <th>chol</th>\n",
              "      <th>fbs</th>\n",
              "      <th>restecg</th>\n",
              "      <th>thalach</th>\n",
              "      <th>exang</th>\n",
              "      <th>oldpeak</th>\n",
              "      <th>ca</th>\n",
              "      <th>target</th>\n",
              "    </tr>\n",
              "  </thead>\n",
              "  <tbody>\n",
              "    <tr>\n",
              "      <th>0</th>\n",
              "      <td>52</td>\n",
              "      <td>1</td>\n",
              "      <td>125</td>\n",
              "      <td>212</td>\n",
              "      <td>0</td>\n",
              "      <td>1</td>\n",
              "      <td>168</td>\n",
              "      <td>0</td>\n",
              "      <td>1.0</td>\n",
              "      <td>2</td>\n",
              "      <td>0</td>\n",
              "    </tr>\n",
              "    <tr>\n",
              "      <th>1</th>\n",
              "      <td>53</td>\n",
              "      <td>1</td>\n",
              "      <td>140</td>\n",
              "      <td>203</td>\n",
              "      <td>1</td>\n",
              "      <td>0</td>\n",
              "      <td>155</td>\n",
              "      <td>1</td>\n",
              "      <td>3.1</td>\n",
              "      <td>0</td>\n",
              "      <td>0</td>\n",
              "    </tr>\n",
              "    <tr>\n",
              "      <th>2</th>\n",
              "      <td>70</td>\n",
              "      <td>1</td>\n",
              "      <td>145</td>\n",
              "      <td>174</td>\n",
              "      <td>0</td>\n",
              "      <td>1</td>\n",
              "      <td>125</td>\n",
              "      <td>1</td>\n",
              "      <td>2.6</td>\n",
              "      <td>0</td>\n",
              "      <td>0</td>\n",
              "    </tr>\n",
              "    <tr>\n",
              "      <th>3</th>\n",
              "      <td>61</td>\n",
              "      <td>1</td>\n",
              "      <td>148</td>\n",
              "      <td>203</td>\n",
              "      <td>0</td>\n",
              "      <td>1</td>\n",
              "      <td>161</td>\n",
              "      <td>0</td>\n",
              "      <td>0.0</td>\n",
              "      <td>1</td>\n",
              "      <td>0</td>\n",
              "    </tr>\n",
              "    <tr>\n",
              "      <th>4</th>\n",
              "      <td>62</td>\n",
              "      <td>0</td>\n",
              "      <td>138</td>\n",
              "      <td>294</td>\n",
              "      <td>1</td>\n",
              "      <td>1</td>\n",
              "      <td>106</td>\n",
              "      <td>0</td>\n",
              "      <td>1.9</td>\n",
              "      <td>3</td>\n",
              "      <td>0</td>\n",
              "    </tr>\n",
              "  </tbody>\n",
              "</table>\n",
              "</div>\n",
              "      <button class=\"colab-df-convert\" onclick=\"convertToInteractive('df-b232b562-5a04-41d9-8fa4-3ac54138f6bc')\"\n",
              "              title=\"Convert this dataframe to an interactive table.\"\n",
              "              style=\"display:none;\">\n",
              "        \n",
              "  <svg xmlns=\"http://www.w3.org/2000/svg\" height=\"24px\"viewBox=\"0 0 24 24\"\n",
              "       width=\"24px\">\n",
              "    <path d=\"M0 0h24v24H0V0z\" fill=\"none\"/>\n",
              "    <path d=\"M18.56 5.44l.94 2.06.94-2.06 2.06-.94-2.06-.94-.94-2.06-.94 2.06-2.06.94zm-11 1L8.5 8.5l.94-2.06 2.06-.94-2.06-.94L8.5 2.5l-.94 2.06-2.06.94zm10 10l.94 2.06.94-2.06 2.06-.94-2.06-.94-.94-2.06-.94 2.06-2.06.94z\"/><path d=\"M17.41 7.96l-1.37-1.37c-.4-.4-.92-.59-1.43-.59-.52 0-1.04.2-1.43.59L10.3 9.45l-7.72 7.72c-.78.78-.78 2.05 0 2.83L4 21.41c.39.39.9.59 1.41.59.51 0 1.02-.2 1.41-.59l7.78-7.78 2.81-2.81c.8-.78.8-2.07 0-2.86zM5.41 20L4 18.59l7.72-7.72 1.47 1.35L5.41 20z\"/>\n",
              "  </svg>\n",
              "      </button>\n",
              "      \n",
              "  <style>\n",
              "    .colab-df-container {\n",
              "      display:flex;\n",
              "      flex-wrap:wrap;\n",
              "      gap: 12px;\n",
              "    }\n",
              "\n",
              "    .colab-df-convert {\n",
              "      background-color: #E8F0FE;\n",
              "      border: none;\n",
              "      border-radius: 50%;\n",
              "      cursor: pointer;\n",
              "      display: none;\n",
              "      fill: #1967D2;\n",
              "      height: 32px;\n",
              "      padding: 0 0 0 0;\n",
              "      width: 32px;\n",
              "    }\n",
              "\n",
              "    .colab-df-convert:hover {\n",
              "      background-color: #E2EBFA;\n",
              "      box-shadow: 0px 1px 2px rgba(60, 64, 67, 0.3), 0px 1px 3px 1px rgba(60, 64, 67, 0.15);\n",
              "      fill: #174EA6;\n",
              "    }\n",
              "\n",
              "    [theme=dark] .colab-df-convert {\n",
              "      background-color: #3B4455;\n",
              "      fill: #D2E3FC;\n",
              "    }\n",
              "\n",
              "    [theme=dark] .colab-df-convert:hover {\n",
              "      background-color: #434B5C;\n",
              "      box-shadow: 0px 1px 3px 1px rgba(0, 0, 0, 0.15);\n",
              "      filter: drop-shadow(0px 1px 2px rgba(0, 0, 0, 0.3));\n",
              "      fill: #FFFFFF;\n",
              "    }\n",
              "  </style>\n",
              "\n",
              "      <script>\n",
              "        const buttonEl =\n",
              "          document.querySelector('#df-b232b562-5a04-41d9-8fa4-3ac54138f6bc button.colab-df-convert');\n",
              "        buttonEl.style.display =\n",
              "          google.colab.kernel.accessAllowed ? 'block' : 'none';\n",
              "\n",
              "        async function convertToInteractive(key) {\n",
              "          const element = document.querySelector('#df-b232b562-5a04-41d9-8fa4-3ac54138f6bc');\n",
              "          const dataTable =\n",
              "            await google.colab.kernel.invokeFunction('convertToInteractive',\n",
              "                                                     [key], {});\n",
              "          if (!dataTable) return;\n",
              "\n",
              "          const docLinkHtml = 'Like what you see? Visit the ' +\n",
              "            '<a target=\"_blank\" href=https://colab.research.google.com/notebooks/data_table.ipynb>data table notebook</a>'\n",
              "            + ' to learn more about interactive tables.';\n",
              "          element.innerHTML = '';\n",
              "          dataTable['output_type'] = 'display_data';\n",
              "          await google.colab.output.renderOutput(dataTable, element);\n",
              "          const docLink = document.createElement('div');\n",
              "          docLink.innerHTML = docLinkHtml;\n",
              "          element.appendChild(docLink);\n",
              "        }\n",
              "      </script>\n",
              "    </div>\n",
              "  </div>\n",
              "  "
            ]
          },
          "metadata": {},
          "execution_count": 29
        }
      ]
    },
    {
      "cell_type": "markdown",
      "source": [
        "Признаков, которые можно убрать, по результатам EDA нет."
      ],
      "metadata": {
        "id": "cgS62NtGhihv"
      }
    },
    {
      "cell_type": "markdown",
      "source": [
        "### Используя подбор гиперпараметров, кросс-валидацию и при необходимости масштабирование данных, добиться наилучшего качества предсказания от Вашей реализации на выделенной заранее тестовой выборке."
      ],
      "metadata": {
        "id": "HymlA6G8dWro"
      }
    },
    {
      "cell_type": "markdown",
      "source": [
        "#### Датасет heart.csv"
      ],
      "metadata": {
        "id": "xXrmhC5L6BDX"
      }
    },
    {
      "cell_type": "code",
      "source": [
        "from sklearn.preprocessing import StandardScaler\n",
        "from sklearn.model_selection import train_test_split\n",
        "\n",
        "heart_data_X = heart_data.drop(columns=['target'])\n",
        "heart_data_y = heart_data['target']\n",
        "\n",
        "heart_train_X, heart_test_X, heart_train_y, heart_test_y = train_test_split(heart_data_X, heart_data_y, test_size = 0.3, random_state=19)\n",
        "\n",
        "# Scaling with Standard Scaler\n",
        "scaler = StandardScaler() \n",
        "heart_train_X_scaled = scaler.fit_transform(heart_train_X)\n",
        "heart_test_X_scaled = scaler.transform(heart_test_X)"
      ],
      "metadata": {
        "id": "GUOrP8aaGyOQ"
      },
      "execution_count": 30,
      "outputs": []
    },
    {
      "cell_type": "markdown",
      "source": [
        "Logistic Regression"
      ],
      "metadata": {
        "id": "-e5_J2L5-q1-"
      }
    },
    {
      "cell_type": "code",
      "source": [
        "myLR_heart = myLogisticRegression()\n",
        "myLR_heart.fit(heart_train_X_scaled, heart_train_y)"
      ],
      "metadata": {
        "id": "QhwSQCHouzdP"
      },
      "execution_count": 43,
      "outputs": []
    },
    {
      "cell_type": "code",
      "source": [
        "accuracies_heart = {}"
      ],
      "metadata": {
        "id": "JWPf-Kaq76Xp"
      },
      "execution_count": 44,
      "outputs": []
    },
    {
      "cell_type": "code",
      "source": [
        "predictions = myLR_heart.predict(heart_test_X_scaled)\n",
        "\n",
        "acc = accuracy(heart_test_y, predictions)\n",
        "accuracies_heart['myLR'] = acc\n",
        "print(\"Accuracy {:.4f}\".format(acc))"
      ],
      "metadata": {
        "colab": {
          "base_uri": "https://localhost:8080/"
        },
        "id": "7j7I0wbdu7Y1",
        "outputId": "ca5837ed-e34c-4c94-f259-deee696cc638"
      },
      "execution_count": 45,
      "outputs": [
        {
          "output_type": "stream",
          "name": "stdout",
          "text": [
            "Accuracy 0.8182\n"
          ]
        }
      ]
    },
    {
      "cell_type": "markdown",
      "source": [
        "Подбор гиперпараметров"
      ],
      "metadata": {
        "id": "FNXqVcyxvCMN"
      }
    },
    {
      "cell_type": "code",
      "source": [
        "from sklearn.model_selection import GridSearchCV\n",
        "\n",
        "# parameter grid\n",
        "parameters = {\n",
        "    'lr' : np.logspace(-5,-1,5),\n",
        "    'n_inters' : np.logspace(3,6,4)\n",
        "}\n",
        "\n",
        "Grid_myLR_heart = GridSearchCV(myLogisticRegression(), param_grid = parameters, scoring='accuracy')"
      ],
      "metadata": {
        "id": "jan-zZzqlobl"
      },
      "execution_count": 46,
      "outputs": []
    },
    {
      "cell_type": "code",
      "source": [
        "Grid_myLR_heart.fit(heart_train_X_scaled, heart_train_y)"
      ],
      "metadata": {
        "colab": {
          "base_uri": "https://localhost:8080/"
        },
        "id": "A1x4Rkn7QsdY",
        "outputId": "31a01083-e4d0-4fc7-a3ef-30d143b1062b"
      },
      "execution_count": 47,
      "outputs": [
        {
          "output_type": "execute_result",
          "data": {
            "text/plain": [
              "GridSearchCV(estimator=<__main__.myLogisticRegression object at 0x7fe5b864f950>,\n",
              "             param_grid={'lr': array([1.e-05, 1.e-04, 1.e-03, 1.e-02, 1.e-01]),\n",
              "                         'n_inters': array([   1000.,   10000.,  100000., 1000000.])},\n",
              "             scoring='accuracy')"
            ]
          },
          "metadata": {},
          "execution_count": 47
        }
      ]
    },
    {
      "cell_type": "code",
      "source": [
        "Grid_myLR_heart.best_params_"
      ],
      "metadata": {
        "colab": {
          "base_uri": "https://localhost:8080/"
        },
        "id": "VacAbs5joKwC",
        "outputId": "8970e30c-9b9d-4868-c3e3-144fcb313d97"
      },
      "execution_count": 48,
      "outputs": [
        {
          "output_type": "execute_result",
          "data": {
            "text/plain": [
              "{'lr': 0.01, 'n_inters': 1000.0}"
            ]
          },
          "metadata": {},
          "execution_count": 48
        }
      ]
    },
    {
      "cell_type": "code",
      "source": [
        "predictions = Grid_myLR_heart.predict(heart_test_X_scaled)\n",
        "\n",
        "acc = accuracy(heart_test_y, predictions)\n",
        "accuracies_heart['myLR with hp tuning'] = acc\n",
        "print(\"Accuracy {:.4f}\".format(acc))"
      ],
      "metadata": {
        "id": "bVLZhItBh75X",
        "colab": {
          "base_uri": "https://localhost:8080/"
        },
        "outputId": "2654dfbe-67c2-4da2-d67c-9b736f9dd2f9"
      },
      "execution_count": 49,
      "outputs": [
        {
          "output_type": "stream",
          "name": "stdout",
          "text": [
            "Accuracy 0.8182\n"
          ]
        }
      ]
    },
    {
      "cell_type": "markdown",
      "source": [
        "Кросс-валидация"
      ],
      "metadata": {
        "id": "4z_6p9QdvLXw"
      }
    },
    {
      "cell_type": "code",
      "source": [
        "from sklearn.model_selection import cross_val_score\n",
        "scores = cross_val_score(Grid_myLR_heart, heart_train_X_scaled, heart_train_y, cv=5)"
      ],
      "metadata": {
        "id": "feK0hG40ssE7"
      },
      "execution_count": 38,
      "outputs": []
    },
    {
      "cell_type": "code",
      "source": [
        "scores.mean()"
      ],
      "metadata": {
        "colab": {
          "base_uri": "https://localhost:8080/"
        },
        "id": "D2yqvZDss5Fl",
        "outputId": "16ba9403-7632-4f7c-cb00-1f31ecdbb28c"
      },
      "execution_count": 39,
      "outputs": [
        {
          "output_type": "execute_result",
          "data": {
            "text/plain": [
              "0.8047688422688422"
            ]
          },
          "metadata": {},
          "execution_count": 39
        }
      ]
    },
    {
      "cell_type": "code",
      "source": [
        "scores.std()"
      ],
      "metadata": {
        "colab": {
          "base_uri": "https://localhost:8080/"
        },
        "id": "qqDJtZaVzdBZ",
        "outputId": "ce9bdda2-c81f-47d4-bc85-bbe8fcdc1877"
      },
      "execution_count": 40,
      "outputs": [
        {
          "output_type": "execute_result",
          "data": {
            "text/plain": [
              "0.02594288250439572"
            ]
          },
          "metadata": {},
          "execution_count": 40
        }
      ]
    },
    {
      "cell_type": "markdown",
      "source": [
        "SVM"
      ],
      "metadata": {
        "id": "Pc_QPQa5-zCw"
      }
    },
    {
      "cell_type": "code",
      "source": [
        "mySVM_heart = mySVM()\n",
        "mySVM_heart.fit(heart_train_X_scaled, heart_train_y)"
      ],
      "metadata": {
        "id": "lMZlmMgZ_GAr"
      },
      "execution_count": 50,
      "outputs": []
    },
    {
      "cell_type": "code",
      "source": [
        "predictions = mySVM_heart.predict(heart_test_X_scaled)\n",
        "\n",
        "acc = accuracy(heart_test_y, predictions)\n",
        "accuracies_heart['mySVM'] = acc\n",
        "print(\"Accuracy {:.4f}\".format(acc))"
      ],
      "metadata": {
        "colab": {
          "base_uri": "https://localhost:8080/"
        },
        "outputId": "0874d579-7175-430b-94dc-258f1b80c208",
        "id": "r0nq9xvD_GAt"
      },
      "execution_count": 51,
      "outputs": [
        {
          "output_type": "stream",
          "name": "stdout",
          "text": [
            "Accuracy 0.7825\n"
          ]
        }
      ]
    },
    {
      "cell_type": "markdown",
      "source": [
        "Подбор гиперпараметров"
      ],
      "metadata": {
        "id": "OOwCrBIb_qO2"
      }
    },
    {
      "cell_type": "code",
      "source": [
        "from sklearn.model_selection import GridSearchCV\n",
        "\n",
        "# parameter grid\n",
        "parameters = {\n",
        "    'lr' : [0.01, 0.001],\n",
        "    'lambda_param' : [0.01, 0.001],\n",
        "    'iterations' : [100, 500, 1000]\n",
        "}\n",
        "\n",
        "Grid_mySVM_heart = GridSearchCV(mySVM(), param_grid = parameters, scoring='accuracy')"
      ],
      "metadata": {
        "id": "2wqqPweo_qO3"
      },
      "execution_count": 52,
      "outputs": []
    },
    {
      "cell_type": "code",
      "source": [
        "Grid_mySVM_heart.fit(heart_train_X_scaled, heart_train_y)"
      ],
      "metadata": {
        "colab": {
          "base_uri": "https://localhost:8080/"
        },
        "outputId": "e63682dc-bf15-4b48-db99-f92514465d0b",
        "id": "cwVLsy6o_qO5"
      },
      "execution_count": 55,
      "outputs": [
        {
          "output_type": "execute_result",
          "data": {
            "text/plain": [
              "GridSearchCV(estimator=<__main__.mySVM object at 0x7fe5b85d8110>,\n",
              "             param_grid={'iterations': [100, 500, 1000],\n",
              "                         'lambda_param': [0.01, 0.001], 'lr': [0.01, 0.001]},\n",
              "             scoring='accuracy')"
            ]
          },
          "metadata": {},
          "execution_count": 55
        }
      ]
    },
    {
      "cell_type": "code",
      "source": [
        "Grid_mySVM_heart.best_params_"
      ],
      "metadata": {
        "colab": {
          "base_uri": "https://localhost:8080/"
        },
        "outputId": "1720e3cf-98c4-4c99-b2ed-96efa1c601c3",
        "id": "pP53sSK9_qO5"
      },
      "execution_count": 56,
      "outputs": [
        {
          "output_type": "execute_result",
          "data": {
            "text/plain": [
              "{'iterations': 500, 'lambda_param': 0.01, 'lr': 0.01}"
            ]
          },
          "metadata": {},
          "execution_count": 56
        }
      ]
    },
    {
      "cell_type": "code",
      "source": [
        "predictions = Grid_mySVM_heart.predict(heart_test_X_scaled)\n",
        "\n",
        "acc = accuracy(heart_test_y, predictions)\n",
        "accuracies_heart['mySVM with hp tuning'] = acc\n",
        "print(\"Accuracy {:.4f}\".format(acc))"
      ],
      "metadata": {
        "colab": {
          "base_uri": "https://localhost:8080/"
        },
        "outputId": "86ca11c8-f601-4dee-cb50-dfb670b8f2ab",
        "id": "X8yWRjbM_qO8"
      },
      "execution_count": 57,
      "outputs": [
        {
          "output_type": "stream",
          "name": "stdout",
          "text": [
            "Accuracy 0.7825\n"
          ]
        }
      ]
    },
    {
      "cell_type": "code",
      "source": [
        "from sklearn.model_selection import cross_val_score\n",
        "scores = cross_val_score(Grid_mySVM_heart, heart_train_X_scaled, heart_train_y, cv=5)"
      ],
      "metadata": {
        "id": "IRuBVjx8cajh"
      },
      "execution_count": 58,
      "outputs": []
    },
    {
      "cell_type": "code",
      "source": [
        "scores.mean()"
      ],
      "metadata": {
        "colab": {
          "base_uri": "https://localhost:8080/"
        },
        "outputId": "05d99e82-6744-4a7f-88e1-e3ac2044ef54",
        "id": "aywDDceGcaji"
      },
      "execution_count": 59,
      "outputs": [
        {
          "output_type": "execute_result",
          "data": {
            "text/plain": [
              "0.8005924630924632"
            ]
          },
          "metadata": {},
          "execution_count": 59
        }
      ]
    },
    {
      "cell_type": "code",
      "source": [
        "scores.std()"
      ],
      "metadata": {
        "colab": {
          "base_uri": "https://localhost:8080/"
        },
        "outputId": "cb7d7b0d-5672-4bbc-f897-c173d97266fc",
        "id": "OEs_tMcUcajk"
      },
      "execution_count": 60,
      "outputs": [
        {
          "output_type": "execute_result",
          "data": {
            "text/plain": [
              "0.04228390379511601"
            ]
          },
          "metadata": {},
          "execution_count": 60
        }
      ]
    },
    {
      "cell_type": "markdown",
      "source": [
        "#### Датасет titanic.csv"
      ],
      "metadata": {
        "id": "5wcTOsH28fEQ"
      }
    },
    {
      "cell_type": "markdown",
      "source": [
        "Logistic Regression"
      ],
      "metadata": {
        "id": "KpOWEyOeksbK"
      }
    },
    {
      "cell_type": "code",
      "source": [
        "myLR_titanic = myLogisticRegression()\n",
        "myLR_titanic.fit(titanic_train_X_scaled, titanic_train_y)"
      ],
      "metadata": {
        "id": "IcJN06irksbT"
      },
      "execution_count": 76,
      "outputs": []
    },
    {
      "cell_type": "code",
      "source": [
        "accuracies_titanic = {}"
      ],
      "metadata": {
        "id": "1SToQx9Bksbb"
      },
      "execution_count": 77,
      "outputs": []
    },
    {
      "cell_type": "code",
      "source": [
        "predictions = myLR_titanic.predict(titanic_test_X_scaled)\n",
        "\n",
        "acc = accuracy(titanic_test_y, predictions)\n",
        "accuracies_titanic['myLR'] = acc\n",
        "print(\"Accuracy {:.4f}\".format(acc))"
      ],
      "metadata": {
        "colab": {
          "base_uri": "https://localhost:8080/"
        },
        "outputId": "28e38678-8e94-499a-e71c-0c5de3fda457",
        "id": "SaMxgA9Mksbi"
      },
      "execution_count": 78,
      "outputs": [
        {
          "output_type": "stream",
          "name": "stdout",
          "text": [
            "Accuracy 0.8172\n"
          ]
        }
      ]
    },
    {
      "cell_type": "markdown",
      "source": [
        "Подбор гиперпараметров"
      ],
      "metadata": {
        "id": "qlBMVROmksbv"
      }
    },
    {
      "cell_type": "code",
      "source": [
        "from sklearn.model_selection import GridSearchCV\n",
        "\n",
        "# parameter grid\n",
        "parameters = {\n",
        "    'lr' : np.logspace(-5,-1,5),\n",
        "    'n_inters' : np.logspace(3,6,4)\n",
        "}\n",
        "\n",
        "myLR_titanic = myLogisticRegression()\n",
        "Grid_myLR_titanic = GridSearchCV(myLR_titanic, param_grid = parameters, scoring='accuracy')"
      ],
      "metadata": {
        "id": "HXug1FHUksb2"
      },
      "execution_count": 79,
      "outputs": []
    },
    {
      "cell_type": "code",
      "source": [
        "Grid_myLR_titanic.fit(titanic_train_X_scaled, titanic_train_y)"
      ],
      "metadata": {
        "colab": {
          "base_uri": "https://localhost:8080/"
        },
        "outputId": "16baba3d-7258-4fc9-bddc-1dfd3af1622d",
        "id": "ga665CHfksb8"
      },
      "execution_count": 80,
      "outputs": [
        {
          "output_type": "execute_result",
          "data": {
            "text/plain": [
              "GridSearchCV(estimator=<__main__.myLogisticRegression object at 0x7fe5b84ca9d0>,\n",
              "             param_grid={'lr': array([1.e-05, 1.e-04, 1.e-03, 1.e-02, 1.e-01]),\n",
              "                         'n_inters': array([   1000.,   10000.,  100000., 1000000.])},\n",
              "             scoring='accuracy')"
            ]
          },
          "metadata": {},
          "execution_count": 80
        }
      ]
    },
    {
      "cell_type": "code",
      "source": [
        "Grid_myLR_titanic.best_params_"
      ],
      "metadata": {
        "id": "Pk3XczWPkscC",
        "colab": {
          "base_uri": "https://localhost:8080/"
        },
        "outputId": "859f0f05-9708-4ad4-bdca-c789b2d929bd"
      },
      "execution_count": 81,
      "outputs": [
        {
          "output_type": "execute_result",
          "data": {
            "text/plain": [
              "{'lr': 0.1, 'n_inters': 1000.0}"
            ]
          },
          "metadata": {},
          "execution_count": 81
        }
      ]
    },
    {
      "cell_type": "code",
      "source": [
        "predictions = Grid_myLR_titanic.predict(titanic_test_X_scaled)\n",
        "\n",
        "acc = accuracy(titanic_test_y, predictions)\n",
        "accuracies_titanic['myLR with hp tuning'] = acc\n",
        "print(\"Accuracy {:.4f}\".format(acc))"
      ],
      "metadata": {
        "id": "X5r5lmsckscI",
        "colab": {
          "base_uri": "https://localhost:8080/"
        },
        "outputId": "76609670-bf21-4df8-eedd-9db9e8fb063f"
      },
      "execution_count": 82,
      "outputs": [
        {
          "output_type": "stream",
          "name": "stdout",
          "text": [
            "Accuracy 0.8246\n"
          ]
        }
      ]
    },
    {
      "cell_type": "markdown",
      "source": [
        "Кросс-валидация"
      ],
      "metadata": {
        "id": "5wq-y8pOkscP"
      }
    },
    {
      "cell_type": "code",
      "source": [
        "from sklearn.model_selection import cross_val_score\n",
        "scores = cross_val_score(Grid_myLR_titanic, titanic_train_X_scaled, titanic_train_y, cv=5)"
      ],
      "metadata": {
        "id": "24fgpa9skscY"
      },
      "execution_count": 83,
      "outputs": []
    },
    {
      "cell_type": "code",
      "source": [
        "scores.mean()"
      ],
      "metadata": {
        "colab": {
          "base_uri": "https://localhost:8080/"
        },
        "outputId": "a9e2c89d-8c14-433f-8e8f-1ecd2aa06d08",
        "id": "7bSnFVGGkscf"
      },
      "execution_count": 84,
      "outputs": [
        {
          "output_type": "execute_result",
          "data": {
            "text/plain": [
              "0.7801161290322581"
            ]
          },
          "metadata": {},
          "execution_count": 84
        }
      ]
    },
    {
      "cell_type": "code",
      "source": [
        "scores.std()"
      ],
      "metadata": {
        "colab": {
          "base_uri": "https://localhost:8080/"
        },
        "outputId": "1453d78a-128c-4602-e27b-29e930673d85",
        "id": "AMt32EwVkscj"
      },
      "execution_count": 85,
      "outputs": [
        {
          "output_type": "execute_result",
          "data": {
            "text/plain": [
              "0.05124264613111048"
            ]
          },
          "metadata": {},
          "execution_count": 85
        }
      ]
    },
    {
      "cell_type": "markdown",
      "source": [
        "SVM"
      ],
      "metadata": {
        "id": "5HIHGsogjzsA"
      }
    },
    {
      "cell_type": "code",
      "source": [
        "mySVM_titanic = mySVM()\n",
        "mySVM_titanic.fit(titanic_train_X_scaled, titanic_train_y)"
      ],
      "metadata": {
        "id": "AN8gQm8ajzsD"
      },
      "execution_count": 86,
      "outputs": []
    },
    {
      "cell_type": "code",
      "source": [
        "predictions = mySVM_titanic.predict(titanic_test_X_scaled)\n",
        "\n",
        "acc = accuracy(titanic_test_y, predictions)\n",
        "accuracies_titanic['mySVM'] = acc\n",
        "print(\"Accuracy {:.4f}\".format(acc))"
      ],
      "metadata": {
        "colab": {
          "base_uri": "https://localhost:8080/"
        },
        "outputId": "a98348e2-63f0-4ea9-ace1-007720159526",
        "id": "gOev1VBJjzsE"
      },
      "execution_count": 87,
      "outputs": [
        {
          "output_type": "stream",
          "name": "stdout",
          "text": [
            "Accuracy 0.8321\n"
          ]
        }
      ]
    },
    {
      "cell_type": "markdown",
      "source": [
        "Подбор гиперпараметров"
      ],
      "metadata": {
        "id": "N0G13I--jzsG"
      }
    },
    {
      "cell_type": "code",
      "source": [
        "from sklearn.model_selection import GridSearchCV\n",
        "\n",
        "# parameter grid\n",
        "parameters = {\n",
        "    'lr' : [0.01, 0.001],\n",
        "    'lambda_param' : [0.01, 0.001],\n",
        "    'iterations' : [100, 500, 1000]\n",
        "}\n",
        "\n",
        "Grid_mySVM_titanic = GridSearchCV(mySVM(), param_grid = parameters, scoring='accuracy')"
      ],
      "metadata": {
        "id": "G5QEotNajzsH"
      },
      "execution_count": 88,
      "outputs": []
    },
    {
      "cell_type": "code",
      "source": [
        "Grid_mySVM_titanic.fit(titanic_train_X_scaled, titanic_train_y)"
      ],
      "metadata": {
        "colab": {
          "base_uri": "https://localhost:8080/"
        },
        "outputId": "e73f5a0c-2ca1-412e-c193-5b0c67d2e00f",
        "id": "VXxsoXzqjzsJ"
      },
      "execution_count": 89,
      "outputs": [
        {
          "output_type": "execute_result",
          "data": {
            "text/plain": [
              "GridSearchCV(estimator=<__main__.mySVM object at 0x7fe5b851e350>,\n",
              "             param_grid={'iterations': [100, 500, 1000],\n",
              "                         'lambda_param': [0.01, 0.001], 'lr': [0.01, 0.001]},\n",
              "             scoring='accuracy')"
            ]
          },
          "metadata": {},
          "execution_count": 89
        }
      ]
    },
    {
      "cell_type": "code",
      "source": [
        "Grid_mySVM_titanic.best_params_"
      ],
      "metadata": {
        "colab": {
          "base_uri": "https://localhost:8080/"
        },
        "outputId": "5f5983de-d78c-45d0-87ad-f639cb947e5e",
        "id": "IUrGWvj9jzsK"
      },
      "execution_count": 90,
      "outputs": [
        {
          "output_type": "execute_result",
          "data": {
            "text/plain": [
              "{'iterations': 1000, 'lambda_param': 0.001, 'lr': 0.01}"
            ]
          },
          "metadata": {},
          "execution_count": 90
        }
      ]
    },
    {
      "cell_type": "code",
      "source": [
        "predictions = Grid_mySVM_titanic.predict(titanic_test_X_scaled)\n",
        "\n",
        "acc = accuracy(titanic_test_y, predictions)\n",
        "accuracies_titanic['mySVM with hp tuning'] = acc\n",
        "print(\"Accuracy {:.4f}\".format(acc))"
      ],
      "metadata": {
        "colab": {
          "base_uri": "https://localhost:8080/"
        },
        "outputId": "dd25ade9-5568-4912-db40-00721a3b5c7e",
        "id": "3yF59DXYjzsL"
      },
      "execution_count": 91,
      "outputs": [
        {
          "output_type": "stream",
          "name": "stdout",
          "text": [
            "Accuracy 0.8396\n"
          ]
        }
      ]
    },
    {
      "cell_type": "code",
      "source": [
        "from sklearn.model_selection import cross_val_score\n",
        "scores = cross_val_score(Grid_mySVM_heart, titanic_train_X_scaled, titanic_train_y, cv=5)"
      ],
      "metadata": {
        "id": "v81DxB1bjzsM"
      },
      "execution_count": 92,
      "outputs": []
    },
    {
      "cell_type": "code",
      "source": [
        "scores.mean()"
      ],
      "metadata": {
        "colab": {
          "base_uri": "https://localhost:8080/"
        },
        "outputId": "10282c0c-99e9-4c32-b157-ceb6d8154917",
        "id": "41qJiAM-jzsO"
      },
      "execution_count": 93,
      "outputs": [
        {
          "output_type": "execute_result",
          "data": {
            "text/plain": [
              "0.7993548387096775"
            ]
          },
          "metadata": {},
          "execution_count": 93
        }
      ]
    },
    {
      "cell_type": "code",
      "source": [
        "scores.std()"
      ],
      "metadata": {
        "colab": {
          "base_uri": "https://localhost:8080/"
        },
        "outputId": "eefe8e5a-83c3-42f6-d214-e88712c10c6a",
        "id": "UXuBYUsujzsQ"
      },
      "execution_count": 94,
      "outputs": [
        {
          "output_type": "execute_result",
          "data": {
            "text/plain": [
              "0.03250934389012632"
            ]
          },
          "metadata": {},
          "execution_count": 94
        }
      ]
    },
    {
      "cell_type": "markdown",
      "source": [
        "### Повторить предыдущий пункт для библиотечных реализаций (например, из sklearn) всех пройденных методов классификации (logistic regression, svm, knn, naive bayes, decision tree)"
      ],
      "metadata": {
        "id": "K-0todIjz38t"
      }
    },
    {
      "cell_type": "markdown",
      "source": [
        "#### Датасет heart.csv"
      ],
      "metadata": {
        "id": "PXMec-8nfENQ"
      }
    },
    {
      "cell_type": "markdown",
      "source": [
        "logistic regression"
      ],
      "metadata": {
        "id": "dFhHZYaL0tK2"
      }
    },
    {
      "cell_type": "code",
      "source": [
        "from sklearn.linear_model import LogisticRegression\n",
        "\n",
        "logist_hp = {\"C\": np.logspace(-4, 4, 20),\n",
        "            \"solver\": [\"liblinear\", \"newton-cg\",\"sag\"]}\n",
        "\n",
        "Grid_LR_heart = GridSearchCV(LogisticRegression(),\n",
        "                      logist_hp,\n",
        "                      cv = 5)"
      ],
      "metadata": {
        "id": "sh8vHRJQ0tel"
      },
      "execution_count": 95,
      "outputs": []
    },
    {
      "cell_type": "code",
      "source": [
        "Grid_LR_heart.fit(heart_train_X_scaled, heart_train_y);"
      ],
      "metadata": {
        "id": "AcieQYyD1crs"
      },
      "execution_count": 96,
      "outputs": []
    },
    {
      "cell_type": "code",
      "source": [
        "predictions = Grid_LR_heart.predict(heart_test_X_scaled)\n",
        "print(\"Accuracy: \",accuracy(heart_test_y, predictions))"
      ],
      "metadata": {
        "colab": {
          "base_uri": "https://localhost:8080/"
        },
        "id": "kOCMjKMU1oH6",
        "outputId": "32ee7cd1-c801-425b-d982-74e63d8452e4"
      },
      "execution_count": 97,
      "outputs": [
        {
          "output_type": "stream",
          "name": "stdout",
          "text": [
            "Accuracy:  0.8181818181818182\n"
          ]
        }
      ]
    },
    {
      "cell_type": "code",
      "source": [
        "scores = cross_val_score(Grid_LR_heart, heart_train_X_scaled, heart_train_y, cv=5)"
      ],
      "metadata": {
        "id": "xZ8XokAI1_0b"
      },
      "execution_count": 98,
      "outputs": []
    },
    {
      "cell_type": "code",
      "source": [
        "scores.mean()"
      ],
      "metadata": {
        "colab": {
          "base_uri": "https://localhost:8080/"
        },
        "id": "OCqTK4qR2N2j",
        "outputId": "fa81bc8c-0a80-4390-9c71-902bc73ebf4e"
      },
      "execution_count": 99,
      "outputs": [
        {
          "output_type": "execute_result",
          "data": {
            "text/plain": [
              "0.8047494172494172"
            ]
          },
          "metadata": {},
          "execution_count": 99
        }
      ]
    },
    {
      "cell_type": "code",
      "source": [
        "scores.std()"
      ],
      "metadata": {
        "colab": {
          "base_uri": "https://localhost:8080/"
        },
        "id": "ohO9yqpE2ONg",
        "outputId": "67075e66-76ef-46ee-f484-5395ca80152f"
      },
      "execution_count": 100,
      "outputs": [
        {
          "output_type": "execute_result",
          "data": {
            "text/plain": [
              "0.014530953263877596"
            ]
          },
          "metadata": {},
          "execution_count": 100
        }
      ]
    },
    {
      "cell_type": "markdown",
      "source": [
        "#### svm"
      ],
      "metadata": {
        "id": "BWLg-6Hm0wXf"
      }
    },
    {
      "cell_type": "code",
      "source": [
        "from sklearn.svm import SVC\n",
        "\n",
        "SVM_hp = {'C': [0.1, 1, 10, 100, 1000], \n",
        "              'gamma': [1, 0.1, 0.01, 0.001, 0.0001],\n",
        "              'kernel': ['rbf']} \n",
        "  \n",
        "Grid_SVM_heart = GridSearchCV(SVC(),\n",
        "                        SVM_hp,\n",
        "                        cv = 5)"
      ],
      "metadata": {
        "id": "oObi75kf0yB-"
      },
      "execution_count": 101,
      "outputs": []
    },
    {
      "cell_type": "code",
      "source": [
        "Grid_SVM_heart.fit(heart_train_X_scaled, heart_train_y)"
      ],
      "metadata": {
        "colab": {
          "base_uri": "https://localhost:8080/"
        },
        "id": "vjsXJNZ8AGFp",
        "outputId": "8574a8ae-489b-4c96-9d52-969fa1e750d2"
      },
      "execution_count": 102,
      "outputs": [
        {
          "output_type": "execute_result",
          "data": {
            "text/plain": [
              "GridSearchCV(cv=5, estimator=SVC(),\n",
              "             param_grid={'C': [0.1, 1, 10, 100, 1000],\n",
              "                         'gamma': [1, 0.1, 0.01, 0.001, 0.0001],\n",
              "                         'kernel': ['rbf']})"
            ]
          },
          "metadata": {},
          "execution_count": 102
        }
      ]
    },
    {
      "cell_type": "code",
      "source": [
        "predictions = Grid_SVM_heart.predict(heart_test_X_scaled)\n",
        "print(\"Accuracy: \",accuracy(heart_test_y, predictions))"
      ],
      "metadata": {
        "colab": {
          "base_uri": "https://localhost:8080/"
        },
        "id": "bloxDGKlALci",
        "outputId": "f72b7e8a-7724-4bb0-d538-a39a7122045f"
      },
      "execution_count": 103,
      "outputs": [
        {
          "output_type": "stream",
          "name": "stdout",
          "text": [
            "Accuracy:  0.9642857142857143\n"
          ]
        }
      ]
    },
    {
      "cell_type": "code",
      "source": [
        "scores = cross_val_score(Grid_SVM_heart, heart_train_X_scaled, heart_train_y, cv=5)"
      ],
      "metadata": {
        "id": "eKUkRHgrASyu"
      },
      "execution_count": 104,
      "outputs": []
    },
    {
      "cell_type": "code",
      "source": [
        "scores.mean()"
      ],
      "metadata": {
        "colab": {
          "base_uri": "https://localhost:8080/"
        },
        "outputId": "9fd4ad84-eeb9-4a9f-8144-e0f160032894",
        "id": "vPUnKudwASyy"
      },
      "execution_count": 105,
      "outputs": [
        {
          "output_type": "execute_result",
          "data": {
            "text/plain": [
              "0.9469794094794095"
            ]
          },
          "metadata": {},
          "execution_count": 105
        }
      ]
    },
    {
      "cell_type": "code",
      "source": [
        "scores.std()"
      ],
      "metadata": {
        "colab": {
          "base_uri": "https://localhost:8080/"
        },
        "outputId": "4cb04e4b-a093-4b96-82dd-05b3e480b09d",
        "id": "Fk2nH5TaASyz"
      },
      "execution_count": 106,
      "outputs": [
        {
          "output_type": "execute_result",
          "data": {
            "text/plain": [
              "0.021070693833209038"
            ]
          },
          "metadata": {},
          "execution_count": 106
        }
      ]
    },
    {
      "cell_type": "markdown",
      "source": [
        "#### knn"
      ],
      "metadata": {
        "id": "r-GK1_5N0yTu"
      }
    },
    {
      "cell_type": "code",
      "source": [
        "from sklearn.neighbors import KNeighborsClassifier\n",
        "\n",
        "KNN_hp = {'n_neighbors': list(range(1, 31))} \n",
        "\n",
        "Grid_KNN_heart = GridSearchCV(KNeighborsClassifier(),\n",
        "                        KNN_hp,\n",
        "                        cv = 5)"
      ],
      "metadata": {
        "id": "YY5HKiqu01pe"
      },
      "execution_count": 107,
      "outputs": []
    },
    {
      "cell_type": "code",
      "source": [
        "Grid_KNN_heart.fit(heart_train_X_scaled, heart_train_y)"
      ],
      "metadata": {
        "colab": {
          "base_uri": "https://localhost:8080/"
        },
        "id": "8yRtnTaRB-24",
        "outputId": "e7f59e08-9766-4474-8ab6-339365a08a13"
      },
      "execution_count": 108,
      "outputs": [
        {
          "output_type": "execute_result",
          "data": {
            "text/plain": [
              "GridSearchCV(cv=5, estimator=KNeighborsClassifier(),\n",
              "             param_grid={'n_neighbors': [1, 2, 3, 4, 5, 6, 7, 8, 9, 10, 11, 12,\n",
              "                                         13, 14, 15, 16, 17, 18, 19, 20, 21, 22,\n",
              "                                         23, 24, 25, 26, 27, 28, 29, 30]})"
            ]
          },
          "metadata": {},
          "execution_count": 108
        }
      ]
    },
    {
      "cell_type": "code",
      "source": [
        "predictions = Grid_KNN_heart.predict(heart_test_X_scaled)\n",
        "print(\"Accuracy: \",accuracy(heart_test_y, predictions))"
      ],
      "metadata": {
        "colab": {
          "base_uri": "https://localhost:8080/"
        },
        "id": "4aVnEFwyCPLg",
        "outputId": "2af857ca-dbc4-478b-c574-596506bbbf2c"
      },
      "execution_count": 109,
      "outputs": [
        {
          "output_type": "stream",
          "name": "stdout",
          "text": [
            "Accuracy:  0.9642857142857143\n"
          ]
        }
      ]
    },
    {
      "cell_type": "code",
      "source": [
        "scores = cross_val_score(Grid_KNN_heart, heart_train_X_scaled, heart_train_y, cv=5)"
      ],
      "metadata": {
        "id": "g7uokmH0CHaO"
      },
      "execution_count": 110,
      "outputs": []
    },
    {
      "cell_type": "code",
      "source": [
        "scores.mean()"
      ],
      "metadata": {
        "colab": {
          "base_uri": "https://localhost:8080/"
        },
        "outputId": "9d155e10-21c2-4e85-968d-df74cab86e2c",
        "id": "goC2cdOCCHaQ"
      },
      "execution_count": 111,
      "outputs": [
        {
          "output_type": "execute_result",
          "data": {
            "text/plain": [
              "0.9525446775446775"
            ]
          },
          "metadata": {},
          "execution_count": 111
        }
      ]
    },
    {
      "cell_type": "code",
      "source": [
        "scores.std()"
      ],
      "metadata": {
        "colab": {
          "base_uri": "https://localhost:8080/"
        },
        "outputId": "f700d9e6-cbb3-4bd1-8ac2-9bc0f5bdf0d0",
        "id": "hMXAD92kCHaQ"
      },
      "execution_count": 112,
      "outputs": [
        {
          "output_type": "execute_result",
          "data": {
            "text/plain": [
              "0.02631495845770777"
            ]
          },
          "metadata": {},
          "execution_count": 112
        }
      ]
    },
    {
      "cell_type": "markdown",
      "source": [
        "#### naive bayes"
      ],
      "metadata": {
        "id": "u-0df6zn019g"
      }
    },
    {
      "cell_type": "code",
      "source": [
        "from sklearn.naive_bayes import GaussianNB\n",
        "NB_hp = {'var_smoothing': np.logspace(0,-9, num=100)}\n",
        "Grid_NB_heart = GridSearchCV(GaussianNB(),\n",
        "                       NB_hp, \n",
        "                       cv=5) "
      ],
      "metadata": {
        "id": "bEnjZQb1D4LK"
      },
      "execution_count": 113,
      "outputs": []
    },
    {
      "cell_type": "code",
      "source": [
        "Grid_NB_heart.fit(heart_train_X_scaled, heart_train_y)"
      ],
      "metadata": {
        "colab": {
          "base_uri": "https://localhost:8080/"
        },
        "id": "I3talMNxEShf",
        "outputId": "702edc2d-8695-49a7-f987-055ad574bd00"
      },
      "execution_count": 114,
      "outputs": [
        {
          "output_type": "execute_result",
          "data": {
            "text/plain": [
              "GridSearchCV(cv=5, estimator=GaussianNB(),\n",
              "             param_grid={'var_smoothing': array([1.00000000e+00, 8.11130831e-01, 6.57933225e-01, 5.33669923e-01,\n",
              "       4.32876128e-01, 3.51119173e-01, 2.84803587e-01, 2.31012970e-01,\n",
              "       1.87381742e-01, 1.51991108e-01, 1.23284674e-01, 1.00000000e-01,\n",
              "       8.11130831e-02, 6.57933225e-02, 5.33669923e-02, 4.32876128e-02,\n",
              "       3.51119173e-02, 2.84803587e-02, 2.31...\n",
              "       1.23284674e-07, 1.00000000e-07, 8.11130831e-08, 6.57933225e-08,\n",
              "       5.33669923e-08, 4.32876128e-08, 3.51119173e-08, 2.84803587e-08,\n",
              "       2.31012970e-08, 1.87381742e-08, 1.51991108e-08, 1.23284674e-08,\n",
              "       1.00000000e-08, 8.11130831e-09, 6.57933225e-09, 5.33669923e-09,\n",
              "       4.32876128e-09, 3.51119173e-09, 2.84803587e-09, 2.31012970e-09,\n",
              "       1.87381742e-09, 1.51991108e-09, 1.23284674e-09, 1.00000000e-09])})"
            ]
          },
          "metadata": {},
          "execution_count": 114
        }
      ]
    },
    {
      "cell_type": "code",
      "source": [
        "predictions = Grid_NB_heart.predict(heart_test_X_scaled)\n",
        "print(\"Accuracy: \",accuracy(heart_test_y, predictions))"
      ],
      "metadata": {
        "colab": {
          "base_uri": "https://localhost:8080/"
        },
        "id": "faBDaliJDkDB",
        "outputId": "91301bb5-c9b3-4862-fd10-5866a67fbf2c"
      },
      "execution_count": 115,
      "outputs": [
        {
          "output_type": "stream",
          "name": "stdout",
          "text": [
            "Accuracy:  0.7987012987012987\n"
          ]
        }
      ]
    },
    {
      "cell_type": "code",
      "source": [
        "scores = cross_val_score(Grid_NB_heart, heart_train_X_scaled, heart_train_y, cv=5)"
      ],
      "metadata": {
        "id": "YW8X2DScEXUd"
      },
      "execution_count": 116,
      "outputs": []
    },
    {
      "cell_type": "code",
      "source": [
        "scores.mean()"
      ],
      "metadata": {
        "colab": {
          "base_uri": "https://localhost:8080/"
        },
        "outputId": "09b5b137-7f43-496b-b3de-0ebb84f88c2c",
        "id": "XptU6RcAEXUf"
      },
      "execution_count": 117,
      "outputs": [
        {
          "output_type": "execute_result",
          "data": {
            "text/plain": [
              "0.7991452991452992"
            ]
          },
          "metadata": {},
          "execution_count": 117
        }
      ]
    },
    {
      "cell_type": "code",
      "source": [
        "scores.std()"
      ],
      "metadata": {
        "colab": {
          "base_uri": "https://localhost:8080/"
        },
        "outputId": "d3d17173-9bfc-4496-f52f-48f3657174b8",
        "id": "Q3aX3AfQEXUh"
      },
      "execution_count": 118,
      "outputs": [
        {
          "output_type": "execute_result",
          "data": {
            "text/plain": [
              "0.0228618738773005"
            ]
          },
          "metadata": {},
          "execution_count": 118
        }
      ]
    },
    {
      "cell_type": "markdown",
      "source": [
        "#### decision tree"
      ],
      "metadata": {
        "id": "zPe9YRv_03zM"
      }
    },
    {
      "cell_type": "code",
      "source": [
        "from sklearn.tree import DecisionTreeClassifier\n",
        "DT_hp = {\n",
        "    'max_depth': [2, 3, 5, 10, 20],\n",
        "    'min_samples_leaf': [5, 10, 20, 50, 100],\n",
        "    'criterion': [\"gini\", \"entropy\"]\n",
        "}\n",
        "\n",
        "Grid_DT_heart = GridSearchCV(DecisionTreeClassifier(),\n",
        "                       DT_hp, \n",
        "                       cv=5) "
      ],
      "metadata": {
        "id": "pxvzKW_DElln"
      },
      "execution_count": 119,
      "outputs": []
    },
    {
      "cell_type": "code",
      "source": [
        "Grid_DT_heart.fit(heart_train_X_scaled, heart_train_y)"
      ],
      "metadata": {
        "colab": {
          "base_uri": "https://localhost:8080/"
        },
        "id": "dSZenFqxFAwe",
        "outputId": "66399e4f-a4e6-4f72-ec0f-17660842850c"
      },
      "execution_count": 120,
      "outputs": [
        {
          "output_type": "execute_result",
          "data": {
            "text/plain": [
              "GridSearchCV(cv=5, estimator=DecisionTreeClassifier(),\n",
              "             param_grid={'criterion': ['gini', 'entropy'],\n",
              "                         'max_depth': [2, 3, 5, 10, 20],\n",
              "                         'min_samples_leaf': [5, 10, 20, 50, 100]})"
            ]
          },
          "metadata": {},
          "execution_count": 120
        }
      ]
    },
    {
      "cell_type": "code",
      "source": [
        "predictions = Grid_DT_heart.predict(heart_test_X_scaled)\n",
        "print(\"Accuracy: \",accuracy(heart_test_y, predictions))"
      ],
      "metadata": {
        "colab": {
          "base_uri": "https://localhost:8080/"
        },
        "outputId": "fcbc1252-5815-467e-f5d5-fdf555cf0a6d",
        "id": "Is1VocqSFFle"
      },
      "execution_count": 121,
      "outputs": [
        {
          "output_type": "stream",
          "name": "stdout",
          "text": [
            "Accuracy:  0.8668831168831169\n"
          ]
        }
      ]
    },
    {
      "cell_type": "code",
      "source": [
        "scores = cross_val_score(Grid_DT_heart, heart_train_X_scaled, heart_train_y, cv=5)"
      ],
      "metadata": {
        "id": "SdSokprrFFlg"
      },
      "execution_count": 122,
      "outputs": []
    },
    {
      "cell_type": "code",
      "source": [
        "scores.mean()"
      ],
      "metadata": {
        "colab": {
          "base_uri": "https://localhost:8080/"
        },
        "outputId": "ef6325fb-73b0-4ad0-c0bc-8261e8f2173b",
        "id": "HwJoHgKTFFlh"
      },
      "execution_count": 123,
      "outputs": [
        {
          "output_type": "execute_result",
          "data": {
            "text/plain": [
              "0.8703282828282827"
            ]
          },
          "metadata": {},
          "execution_count": 123
        }
      ]
    },
    {
      "cell_type": "code",
      "source": [
        "scores.std()"
      ],
      "metadata": {
        "colab": {
          "base_uri": "https://localhost:8080/"
        },
        "outputId": "c161e9c2-1ef9-4b9a-9d2b-e4856a56c7d1",
        "id": "hWo6uk8TFFlk"
      },
      "execution_count": 124,
      "outputs": [
        {
          "output_type": "execute_result",
          "data": {
            "text/plain": [
              "0.033092423412310376"
            ]
          },
          "metadata": {},
          "execution_count": 124
        }
      ]
    },
    {
      "cell_type": "markdown",
      "source": [
        "### Датасет titanic"
      ],
      "metadata": {
        "id": "DOe-8XmsfU5r"
      }
    },
    {
      "cell_type": "markdown",
      "source": [
        "#### logistic regression"
      ],
      "metadata": {
        "id": "d0rf1fhofU5t"
      }
    },
    {
      "cell_type": "code",
      "source": [
        "from sklearn.linear_model import LogisticRegression\n",
        "\n",
        "logist_hp = {\"C\": np.logspace(-4, 4, 20),\n",
        "            \"solver\": [\"liblinear\", \"newton-cg\",\"sag\"]}\n",
        "\n",
        "Grid_LR_titanic = GridSearchCV(LogisticRegression(),\n",
        "                      logist_hp,\n",
        "                      cv = 5)"
      ],
      "metadata": {
        "id": "9_32gLJXfU5u"
      },
      "execution_count": 125,
      "outputs": []
    },
    {
      "cell_type": "code",
      "source": [
        "Grid_LR_titanic.fit(titanic_train_X_scaled, titanic_train_y);"
      ],
      "metadata": {
        "id": "eIjGHIJIfU5x"
      },
      "execution_count": null,
      "outputs": []
    },
    {
      "cell_type": "code",
      "source": [
        "predictions = Grid_LR_titanic.predict(titanic_test_X_scaled)\n",
        "print(\"Accuracy: \",accuracy(titanic_test_y, predictions))"
      ],
      "metadata": {
        "colab": {
          "base_uri": "https://localhost:8080/"
        },
        "outputId": "5c8bbfea-341a-406f-c21b-8b32693bc104",
        "id": "jPzC6fr-fU5x"
      },
      "execution_count": 127,
      "outputs": [
        {
          "output_type": "stream",
          "name": "stdout",
          "text": [
            "Accuracy:  0.835820895522388\n"
          ]
        }
      ]
    },
    {
      "cell_type": "code",
      "source": [
        "scores = cross_val_score(Grid_LR_titanic, titanic_train_X_scaled, titanic_train_y, cv=5)"
      ],
      "metadata": {
        "id": "WdDzv92bfU5y"
      },
      "execution_count": null,
      "outputs": []
    },
    {
      "cell_type": "code",
      "source": [
        "scores.mean()"
      ],
      "metadata": {
        "colab": {
          "base_uri": "https://localhost:8080/"
        },
        "outputId": "ccd6acc6-723f-472b-dbe0-8cdaa734651a",
        "id": "EcjiTzqdfU5z"
      },
      "execution_count": 129,
      "outputs": [
        {
          "output_type": "execute_result",
          "data": {
            "text/plain": [
              "0.7897290322580647"
            ]
          },
          "metadata": {},
          "execution_count": 129
        }
      ]
    },
    {
      "cell_type": "code",
      "source": [
        "scores.std()"
      ],
      "metadata": {
        "colab": {
          "base_uri": "https://localhost:8080/"
        },
        "outputId": "02e05b59-a124-471b-d10f-d7bfc4aa2cc3",
        "id": "SiTTbGC5fU51"
      },
      "execution_count": 130,
      "outputs": [
        {
          "output_type": "execute_result",
          "data": {
            "text/plain": [
              "0.04717300767903137"
            ]
          },
          "metadata": {},
          "execution_count": 130
        }
      ]
    },
    {
      "cell_type": "markdown",
      "source": [
        "#### svm"
      ],
      "metadata": {
        "id": "54zpkQgzfU51"
      }
    },
    {
      "cell_type": "code",
      "source": [
        "from sklearn.svm import SVC\n",
        "\n",
        "SVM_hp = {'C': [0.1, 1, 10, 100, 1000], \n",
        "              'gamma': [1, 0.1, 0.01, 0.001, 0.0001],\n",
        "              'kernel': ['rbf']} \n",
        "  \n",
        "Grid_SVM_titanic = GridSearchCV(SVC(),\n",
        "                        SVM_hp,\n",
        "                        cv = 5)"
      ],
      "metadata": {
        "id": "gothwNF3fU51"
      },
      "execution_count": 131,
      "outputs": []
    },
    {
      "cell_type": "code",
      "source": [
        "Grid_SVM_titanic.fit(titanic_train_X_scaled, titanic_train_y)"
      ],
      "metadata": {
        "colab": {
          "base_uri": "https://localhost:8080/"
        },
        "outputId": "a47237e3-ef5f-42de-fb08-f4063e9e0ee4",
        "id": "QtbM0ZKxfU53"
      },
      "execution_count": 132,
      "outputs": [
        {
          "output_type": "execute_result",
          "data": {
            "text/plain": [
              "GridSearchCV(cv=5, estimator=SVC(),\n",
              "             param_grid={'C': [0.1, 1, 10, 100, 1000],\n",
              "                         'gamma': [1, 0.1, 0.01, 0.001, 0.0001],\n",
              "                         'kernel': ['rbf']})"
            ]
          },
          "metadata": {},
          "execution_count": 132
        }
      ]
    },
    {
      "cell_type": "code",
      "source": [
        "predictions = Grid_SVM_titanic.predict(titanic_test_X_scaled)\n",
        "print(\"Accuracy: \",accuracy(titanic_test_y, predictions))"
      ],
      "metadata": {
        "colab": {
          "base_uri": "https://localhost:8080/"
        },
        "outputId": "57eba9e5-fed8-4e0e-e6d9-92d2117d264b",
        "id": "1LbwuWAffU53"
      },
      "execution_count": 133,
      "outputs": [
        {
          "output_type": "stream",
          "name": "stdout",
          "text": [
            "Accuracy:  0.8395522388059702\n"
          ]
        }
      ]
    },
    {
      "cell_type": "code",
      "source": [
        "scores = cross_val_score(Grid_SVM_titanic, titanic_train_X_scaled, titanic_train_y, cv=5)"
      ],
      "metadata": {
        "id": "3eW2SGfVfU54"
      },
      "execution_count": 134,
      "outputs": []
    },
    {
      "cell_type": "code",
      "source": [
        "scores.mean()"
      ],
      "metadata": {
        "colab": {
          "base_uri": "https://localhost:8080/"
        },
        "outputId": "f743d3af-2a7f-4ca1-fb4a-c8a253d388e2",
        "id": "ywMq9vZhfU55"
      },
      "execution_count": 135,
      "outputs": [
        {
          "output_type": "execute_result",
          "data": {
            "text/plain": [
              "0.8154193548387096"
            ]
          },
          "metadata": {},
          "execution_count": 135
        }
      ]
    },
    {
      "cell_type": "code",
      "source": [
        "scores.std()"
      ],
      "metadata": {
        "colab": {
          "base_uri": "https://localhost:8080/"
        },
        "outputId": "ee78db3f-54be-460f-d526-e050b05c66e4",
        "id": "N5s0PnhvfU56"
      },
      "execution_count": 136,
      "outputs": [
        {
          "output_type": "execute_result",
          "data": {
            "text/plain": [
              "0.03763510659874994"
            ]
          },
          "metadata": {},
          "execution_count": 136
        }
      ]
    },
    {
      "cell_type": "markdown",
      "source": [
        "#### knn"
      ],
      "metadata": {
        "id": "udxzYRAYfU57"
      }
    },
    {
      "cell_type": "code",
      "source": [
        "from sklearn.neighbors import KNeighborsClassifier\n",
        "\n",
        "KNN_hp = {'n_neighbors': list(range(1, 31))} \n",
        "\n",
        "Grid_KNN_titanic = GridSearchCV(KNeighborsClassifier(),\n",
        "                        KNN_hp,\n",
        "                        cv = 5)"
      ],
      "metadata": {
        "id": "YP22gWK_fU58"
      },
      "execution_count": 137,
      "outputs": []
    },
    {
      "cell_type": "code",
      "source": [
        "Grid_KNN_titanic.fit(titanic_train_X_scaled, titanic_train_y)"
      ],
      "metadata": {
        "colab": {
          "base_uri": "https://localhost:8080/"
        },
        "outputId": "937d2a7b-3a91-4cb9-abd1-35a727cd2210",
        "id": "gKh-I27zfU59"
      },
      "execution_count": 138,
      "outputs": [
        {
          "output_type": "execute_result",
          "data": {
            "text/plain": [
              "GridSearchCV(cv=5, estimator=KNeighborsClassifier(),\n",
              "             param_grid={'n_neighbors': [1, 2, 3, 4, 5, 6, 7, 8, 9, 10, 11, 12,\n",
              "                                         13, 14, 15, 16, 17, 18, 19, 20, 21, 22,\n",
              "                                         23, 24, 25, 26, 27, 28, 29, 30]})"
            ]
          },
          "metadata": {},
          "execution_count": 138
        }
      ]
    },
    {
      "cell_type": "code",
      "source": [
        "predictions = Grid_KNN_titanic.predict(titanic_test_X_scaled)\n",
        "print(\"Accuracy: \",accuracy(titanic_test_y, predictions))"
      ],
      "metadata": {
        "colab": {
          "base_uri": "https://localhost:8080/"
        },
        "outputId": "9feaaf8c-18d5-47ec-e863-a29de54560b9",
        "id": "S63guyqQfU59"
      },
      "execution_count": 139,
      "outputs": [
        {
          "output_type": "stream",
          "name": "stdout",
          "text": [
            "Accuracy:  0.8432835820895522\n"
          ]
        }
      ]
    },
    {
      "cell_type": "code",
      "source": [
        "scores = cross_val_score(Grid_KNN_titanic, titanic_train_X_scaled, titanic_train_y, cv=5)"
      ],
      "metadata": {
        "id": "-ZKST40lfU5-"
      },
      "execution_count": 141,
      "outputs": []
    },
    {
      "cell_type": "code",
      "source": [
        "scores.mean()"
      ],
      "metadata": {
        "colab": {
          "base_uri": "https://localhost:8080/"
        },
        "outputId": "486ac2ea-5fd7-4616-fedf-2f0702a3799a",
        "id": "_97cibICfU5-"
      },
      "execution_count": 142,
      "outputs": [
        {
          "output_type": "execute_result",
          "data": {
            "text/plain": [
              "0.791341935483871"
            ]
          },
          "metadata": {},
          "execution_count": 142
        }
      ]
    },
    {
      "cell_type": "code",
      "source": [
        "scores.std()"
      ],
      "metadata": {
        "colab": {
          "base_uri": "https://localhost:8080/"
        },
        "outputId": "e4863cf6-d5eb-4685-af58-6d65fd75cbfa",
        "id": "moJMxBq-fU5_"
      },
      "execution_count": 143,
      "outputs": [
        {
          "output_type": "execute_result",
          "data": {
            "text/plain": [
              "0.04883216217243471"
            ]
          },
          "metadata": {},
          "execution_count": 143
        }
      ]
    },
    {
      "cell_type": "markdown",
      "source": [
        "#### naive bayes"
      ],
      "metadata": {
        "id": "vLAMGvVffU5_"
      }
    },
    {
      "cell_type": "code",
      "source": [
        "from sklearn.naive_bayes import GaussianNB\n",
        "NB_hp = {'var_smoothing': np.logspace(0,-9, num=100)}\n",
        "Grid_NB_titanic = GridSearchCV(GaussianNB(),\n",
        "                       NB_hp, \n",
        "                       cv=5) "
      ],
      "metadata": {
        "id": "NH-1TSYLfU6A"
      },
      "execution_count": 144,
      "outputs": []
    },
    {
      "cell_type": "code",
      "source": [
        "Grid_NB_titanic.fit(titanic_train_X_scaled, titanic_train_y)"
      ],
      "metadata": {
        "colab": {
          "base_uri": "https://localhost:8080/"
        },
        "outputId": "e56ef28c-63c1-4f80-a40a-3f5790e047d9",
        "id": "5hmk7b7UfU6A"
      },
      "execution_count": 145,
      "outputs": [
        {
          "output_type": "execute_result",
          "data": {
            "text/plain": [
              "GridSearchCV(cv=5, estimator=GaussianNB(),\n",
              "             param_grid={'var_smoothing': array([1.00000000e+00, 8.11130831e-01, 6.57933225e-01, 5.33669923e-01,\n",
              "       4.32876128e-01, 3.51119173e-01, 2.84803587e-01, 2.31012970e-01,\n",
              "       1.87381742e-01, 1.51991108e-01, 1.23284674e-01, 1.00000000e-01,\n",
              "       8.11130831e-02, 6.57933225e-02, 5.33669923e-02, 4.32876128e-02,\n",
              "       3.51119173e-02, 2.84803587e-02, 2.31...\n",
              "       1.23284674e-07, 1.00000000e-07, 8.11130831e-08, 6.57933225e-08,\n",
              "       5.33669923e-08, 4.32876128e-08, 3.51119173e-08, 2.84803587e-08,\n",
              "       2.31012970e-08, 1.87381742e-08, 1.51991108e-08, 1.23284674e-08,\n",
              "       1.00000000e-08, 8.11130831e-09, 6.57933225e-09, 5.33669923e-09,\n",
              "       4.32876128e-09, 3.51119173e-09, 2.84803587e-09, 2.31012970e-09,\n",
              "       1.87381742e-09, 1.51991108e-09, 1.23284674e-09, 1.00000000e-09])})"
            ]
          },
          "metadata": {},
          "execution_count": 145
        }
      ]
    },
    {
      "cell_type": "code",
      "source": [
        "predictions = Grid_NB_titanic.predict(titanic_test_X_scaled)\n",
        "print(\"Accuracy: \",accuracy(titanic_test_y, predictions))"
      ],
      "metadata": {
        "colab": {
          "base_uri": "https://localhost:8080/"
        },
        "outputId": "76fa928c-833d-4032-92f7-a4a12d325dae",
        "id": "FVJymBXTfU6B"
      },
      "execution_count": 146,
      "outputs": [
        {
          "output_type": "stream",
          "name": "stdout",
          "text": [
            "Accuracy:  0.8171641791044776\n"
          ]
        }
      ]
    },
    {
      "cell_type": "code",
      "source": [
        "scores = cross_val_score(Grid_NB_titanic, titanic_train_X_scaled, titanic_train_y, cv=5)"
      ],
      "metadata": {
        "id": "rLkcZAz6fU6C"
      },
      "execution_count": 147,
      "outputs": []
    },
    {
      "cell_type": "code",
      "source": [
        "scores.mean()"
      ],
      "metadata": {
        "colab": {
          "base_uri": "https://localhost:8080/"
        },
        "outputId": "19447060-f6fd-4d71-9064-8941ca7a5a22",
        "id": "Vg9Obe8AfU6D"
      },
      "execution_count": 148,
      "outputs": [
        {
          "output_type": "execute_result",
          "data": {
            "text/plain": [
              "0.7721161290322581"
            ]
          },
          "metadata": {},
          "execution_count": 148
        }
      ]
    },
    {
      "cell_type": "code",
      "source": [
        "scores.std()"
      ],
      "metadata": {
        "colab": {
          "base_uri": "https://localhost:8080/"
        },
        "outputId": "4ca9b0ca-5854-4c60-d8e9-3245b0e88f60",
        "id": "GSmqvOvofU6D"
      },
      "execution_count": 149,
      "outputs": [
        {
          "output_type": "execute_result",
          "data": {
            "text/plain": [
              "0.052127409747985166"
            ]
          },
          "metadata": {},
          "execution_count": 149
        }
      ]
    },
    {
      "cell_type": "markdown",
      "source": [
        "#### decision tree"
      ],
      "metadata": {
        "id": "r4oMojrgfU6E"
      }
    },
    {
      "cell_type": "code",
      "source": [
        "from sklearn.tree import DecisionTreeClassifier\n",
        "DT_hp = {\n",
        "    'max_depth': [2, 3, 5, 10, 20],\n",
        "    'min_samples_leaf': [5, 10, 20, 50, 100],\n",
        "    'criterion': [\"gini\", \"entropy\"]\n",
        "}\n",
        "\n",
        "Grid_DT_titanic = GridSearchCV(DecisionTreeClassifier(),\n",
        "                       DT_hp, \n",
        "                       cv=5) "
      ],
      "metadata": {
        "id": "dMHZNSx_fU6G"
      },
      "execution_count": 150,
      "outputs": []
    },
    {
      "cell_type": "code",
      "source": [
        "Grid_DT_titanic.fit(titanic_train_X_scaled, titanic_train_y)"
      ],
      "metadata": {
        "colab": {
          "base_uri": "https://localhost:8080/"
        },
        "outputId": "0cc150c8-886c-4bd5-92e9-8d0052134998",
        "id": "wy-P23cUfU6J"
      },
      "execution_count": 151,
      "outputs": [
        {
          "output_type": "execute_result",
          "data": {
            "text/plain": [
              "GridSearchCV(cv=5, estimator=DecisionTreeClassifier(),\n",
              "             param_grid={'criterion': ['gini', 'entropy'],\n",
              "                         'max_depth': [2, 3, 5, 10, 20],\n",
              "                         'min_samples_leaf': [5, 10, 20, 50, 100]})"
            ]
          },
          "metadata": {},
          "execution_count": 151
        }
      ]
    },
    {
      "cell_type": "code",
      "source": [
        "predictions = Grid_DT_titanic.predict(titanic_test_X_scaled)\n",
        "print(\"Accuracy: \",accuracy(titanic_test_y, predictions))"
      ],
      "metadata": {
        "colab": {
          "base_uri": "https://localhost:8080/"
        },
        "outputId": "f564b714-c28f-42e2-c8fb-ac84e7755f52",
        "id": "9sAXD-d-fU6K"
      },
      "execution_count": 152,
      "outputs": [
        {
          "output_type": "stream",
          "name": "stdout",
          "text": [
            "Accuracy:  0.8059701492537313\n"
          ]
        }
      ]
    },
    {
      "cell_type": "code",
      "source": [
        "scores = cross_val_score(Grid_DT_titanic, titanic_train_X_scaled, titanic_train_y, cv=5)"
      ],
      "metadata": {
        "id": "cH1fGa1TfU6L"
      },
      "execution_count": 153,
      "outputs": []
    },
    {
      "cell_type": "code",
      "source": [
        "scores.mean()"
      ],
      "metadata": {
        "colab": {
          "base_uri": "https://localhost:8080/"
        },
        "outputId": "2b0b8f9e-a386-4159-8797-54fbf2135e35",
        "id": "uuNystR3fU6L"
      },
      "execution_count": 154,
      "outputs": [
        {
          "output_type": "execute_result",
          "data": {
            "text/plain": [
              "0.8058451612903225"
            ]
          },
          "metadata": {},
          "execution_count": 154
        }
      ]
    },
    {
      "cell_type": "code",
      "source": [
        "scores.std()"
      ],
      "metadata": {
        "colab": {
          "base_uri": "https://localhost:8080/"
        },
        "outputId": "742f1904-5090-4ba3-d1c7-677b5eaf4f8d",
        "id": "9oQheqmAfU6M"
      },
      "execution_count": 155,
      "outputs": [
        {
          "output_type": "execute_result",
          "data": {
            "text/plain": [
              "0.0511414532587332"
            ]
          },
          "metadata": {},
          "execution_count": 155
        }
      ]
    },
    {
      "cell_type": "markdown",
      "source": [
        "### Сравнить все обученные модели, построить их confusion matrices. Сделать выводы о полученных моделях в рамках решения задачи классификации на выбранных данных"
      ],
      "metadata": {
        "id": "MZFeyDzjv3e1"
      }
    },
    {
      "cell_type": "markdown",
      "source": [
        "#### Датасет heart.csv"
      ],
      "metadata": {
        "id": "maDpc0Xc16fJ"
      }
    },
    {
      "cell_type": "code",
      "source": [
        "from sklearn.metrics import confusion_matrix\n",
        "\n",
        "# Predictions\n",
        "y_pred_lr_heart = Grid_LR_heart.best_estimator_.predict(heart_test_X_scaled)\n",
        "y_pred_knn_heart = Grid_KNN_heart.best_estimator_.predict(heart_test_X_scaled)\n",
        "y_pred_svm_heart = Grid_SVM_heart.best_estimator_.predict(heart_test_X_scaled)\n",
        "y_pred_nb_heart = Grid_NB_heart.best_estimator_.predict(heart_test_X_scaled)\n",
        "y_pred_dt_heart = Grid_DT_heart.best_estimator_.predict(heart_test_X_scaled)\n",
        "\n",
        "# Confusion Matrices\n",
        "# TP FP\n",
        "# FN TN\n",
        "cm_lr_heart = confusion_matrix(heart_test_y, y_pred_lr_heart)\n",
        "cm_knn_heart = confusion_matrix(heart_test_y, y_pred_knn_heart)\n",
        "cm_svm_heart = confusion_matrix(heart_test_y, y_pred_svm_heart)\n",
        "cm_nb_heart = confusion_matrix(heart_test_y, y_pred_nb_heart)\n",
        "cm_dt_heart = confusion_matrix(heart_test_y, y_pred_dt_heart)"
      ],
      "metadata": {
        "id": "rPkLSS3pd7_P"
      },
      "execution_count": 177,
      "outputs": []
    },
    {
      "cell_type": "code",
      "source": [
        "import matplotlib.pyplot as plt\n",
        "import seaborn as sns\n",
        "\n",
        "plt.figure(figsize=(24, 12))\n",
        "\n",
        "plt.suptitle(\"Confusion Matrixes for heart.csv (sklearn classifiers)\", fontsize=24)\n",
        "plt.subplots_adjust(wspace = 0.4, hspace= 0.4)\n",
        "\n",
        "plt.subplot(2,3,1)\n",
        "plt.title(\"Logistic Regression\")\n",
        "sns.heatmap(cm_lr_heart,annot=True,cmap=\"Blues\",fmt=\"d\",cbar=False, annot_kws={\"size\": 24})\n",
        "\n",
        "plt.subplot(2,3,2)\n",
        "plt.title(\"K Nearest Neighbors\")\n",
        "sns.heatmap(cm_knn_heart,annot=True,cmap=\"Blues\",fmt=\"d\",cbar=False, annot_kws={\"size\": 24})\n",
        "\n",
        "plt.subplot(2,3,3)\n",
        "plt.title(\"SVM\")\n",
        "sns.heatmap(cm_svm_heart,annot=True,cmap=\"Blues\",fmt=\"d\",cbar=False, annot_kws={\"size\": 24})\n",
        "\n",
        "plt.subplot(2,3,4)\n",
        "plt.title(\"Naive Bayes\")\n",
        "sns.heatmap(cm_nb_heart,annot=True,cmap=\"Blues\",fmt=\"d\",cbar=False, annot_kws={\"size\": 24})\n",
        "\n",
        "plt.subplot(2,3,5)\n",
        "plt.title(\"Decision Tree Classifier\")\n",
        "sns.heatmap(cm_dt_heart,annot=True,cmap=\"Blues\",fmt=\"d\",cbar=False, annot_kws={\"size\": 24})\n",
        "\n",
        "plt.show()"
      ],
      "metadata": {
        "colab": {
          "base_uri": "https://localhost:8080/",
          "height": 787
        },
        "outputId": "fd8df72b-10b4-4ec9-cb6d-3b6e0f669a3f",
        "id": "so-IDaW0d7_R"
      },
      "execution_count": 178,
      "outputs": [
        {
          "output_type": "display_data",
          "data": {
            "text/plain": [
              "<Figure size 1728x864 with 5 Axes>"
            ],
            "image/png": "[encoded data removed]"
          },
          "metadata": {
            "needs_background": "light"
          }
        }
      ]
    },
    {
      "cell_type": "code",
      "source": [
        "# Predictions\n",
        "y_pred_my_lr_heart = Grid_myLR_heart.best_estimator_.predict(heart_test_X_scaled)\n",
        "y_pred_my_svm_heart = Grid_mySVM_heart.best_estimator_.predict(heart_test_X_scaled)\n",
        "\n",
        "\n",
        "# Confusion Matrices\n",
        "# TP FP\n",
        "# FN TN\n",
        "cm_my_lr_heart = confusion_matrix(heart_test_y, y_pred_my_lr_heart)\n",
        "cm_my_svm_heart = confusion_matrix(heart_test_y, y_pred_my_svm_heart)\n",
        "\n",
        "plt.figure(figsize=(24, 12))\n",
        "\n",
        "plt.suptitle(\"Confusion Matrixes for heart.csv (my classifiers)\", fontsize=24)\n",
        "plt.subplots_adjust(wspace = 0.4, hspace= 0.4)\n",
        "\n",
        "plt.subplot(2,3,1)\n",
        "plt.title(\"Logistic Regression\")\n",
        "sns.heatmap(cm_my_lr_heart,annot=True,cmap=\"Blues\",fmt=\"d\",cbar=False, annot_kws={\"size\": 24})\n",
        "\n",
        "plt.subplot(2,3,2)\n",
        "plt.title(\"SVM\")\n",
        "sns.heatmap(cm_my_svm_heart,annot=True,cmap=\"Blues\",fmt=\"d\",cbar=False, annot_kws={\"size\": 24})"
      ],
      "metadata": {
        "id": "jSYvJ18NgDrf",
        "colab": {
          "base_uri": "https://localhost:8080/",
          "height": 424
        },
        "outputId": "43d90c42-a2bc-4ebd-923d-bd788bcff44d"
      },
      "execution_count": 170,
      "outputs": [
        {
          "output_type": "execute_result",
          "data": {
            "text/plain": [
              "<matplotlib.axes._subplots.AxesSubplot at 0x7fe5b784e350>"
            ]
          },
          "metadata": {},
          "execution_count": 170
        },
        {
          "output_type": "display_data",
          "data": {
            "text/plain": [
              "<Figure size 1728x864 with 2 Axes>"
            ],
            "image/png": "[encoded data removed]"
          },
          "metadata": {
            "needs_background": "light"
          }
        }
      ]
    },
    {
      "cell_type": "markdown",
      "source": [
        "На датасете heart.csv:\n",
        "- Реализованные модели показывают точность больше средней по кросс-валидации.\n",
        "- Точность классификации увеличивается после подбора гиперпараметров.\n",
        "- У реализованных моделей есть потенциал для улучшения, как в части подготовки данных, так и в части подбора параметров классификатора.\n",
        "- По матрицам ошибок видно, что реализованные модели работают хуже (SVM) или на уровне (logistic regression) библиотечных реализаций.\n",
        "- Из библиотечных реализаций наилучший результат классификации показали SVM и KNN."
      ],
      "metadata": {
        "id": "XWXtpxY0v1Dm"
      }
    },
    {
      "cell_type": "markdown",
      "source": [
        "#### Датасет titanic"
      ],
      "metadata": {
        "id": "SbPnlBFC15eQ"
      }
    },
    {
      "cell_type": "code",
      "source": [
        "from sklearn.metrics import confusion_matrix\n",
        "\n",
        "# Predictions\n",
        "y_pred_lr_titanic = Grid_LR_titanic.best_estimator_.predict(titanic_test_X_scaled)\n",
        "y_pred_knn_titanic = Grid_KNN_titanic.best_estimator_.predict(titanic_test_X_scaled)\n",
        "y_pred_svm_titanic = Grid_SVM_titanic.best_estimator_.predict(titanic_test_X_scaled)\n",
        "y_pred_nb_titanic = Grid_NB_titanic.best_estimator_.predict(titanic_test_X_scaled)\n",
        "y_pred_dt_titanic = Grid_DT_titanic.best_estimator_.predict(titanic_test_X_scaled)\n",
        "\n",
        "# Confusion Matrices\n",
        "# TP FP\n",
        "# FN TN\n",
        "cm_lr_titanic = confusion_matrix(titanic_test_y, y_pred_lr_titanic)\n",
        "cm_knn_titanic = confusion_matrix(titanic_test_y, y_pred_knn_titanic)\n",
        "cm_svm_titanic = confusion_matrix(titanic_test_y, y_pred_svm_titanic)\n",
        "cm_nb_titanic = confusion_matrix(titanic_test_y, y_pred_nb_titanic)\n",
        "cm_dt_titanic = confusion_matrix(titanic_test_y, y_pred_dt_titanic)"
      ],
      "metadata": {
        "id": "LCwoCU1a19AA"
      },
      "execution_count": 179,
      "outputs": []
    },
    {
      "cell_type": "code",
      "source": [
        "import matplotlib.pyplot as plt\n",
        "import seaborn as sns\n",
        "\n",
        "plt.figure(figsize=(24, 12))\n",
        "\n",
        "plt.suptitle(\"Confusion Matrixes for titanic (sklearn classifiers)\", fontsize=24)\n",
        "plt.subplots_adjust(wspace = 0.4, hspace= 0.4)\n",
        "\n",
        "plt.subplot(2,3,1)\n",
        "plt.title(\"Logistic Regression\")\n",
        "sns.heatmap(cm_lr_titanic,annot=True,cmap=\"Blues\",fmt=\"d\",cbar=False, annot_kws={\"size\": 24})\n",
        "\n",
        "plt.subplot(2,3,2)\n",
        "plt.title(\"K Nearest Neighbors\")\n",
        "sns.heatmap(cm_knn_titanic,annot=True,cmap=\"Blues\",fmt=\"d\",cbar=False, annot_kws={\"size\": 24})\n",
        "\n",
        "plt.subplot(2,3,3)\n",
        "plt.title(\"SVM\")\n",
        "sns.heatmap(cm_svm_titanic,annot=True,cmap=\"Blues\",fmt=\"d\",cbar=False, annot_kws={\"size\": 24})\n",
        "\n",
        "plt.subplot(2,3,4)\n",
        "plt.title(\"Naive Bayes\")\n",
        "sns.heatmap(cm_nb_titanic,annot=True,cmap=\"Blues\",fmt=\"d\",cbar=False, annot_kws={\"size\": 24})\n",
        "\n",
        "plt.subplot(2,3,5)\n",
        "plt.title(\"Decision Tree Classifier\")\n",
        "sns.heatmap(cm_dt_titanic,annot=True,cmap=\"Blues\",fmt=\"d\",cbar=False, annot_kws={\"size\": 24})\n",
        "\n",
        "plt.show()"
      ],
      "metadata": {
        "colab": {
          "base_uri": "https://localhost:8080/",
          "height": 787
        },
        "id": "CUap4dPxFVt2",
        "outputId": "7ec3d693-b463-430f-ae2d-ec4fed67d0c5"
      },
      "execution_count": 180,
      "outputs": [
        {
          "output_type": "display_data",
          "data": {
            "text/plain": [
              "<Figure size 1728x864 with 5 Axes>"
            ],
            "image/png": "[encoded data removed]"
          },
          "metadata": {
            "needs_background": "light"
          }
        }
      ]
    },
    {
      "cell_type": "code",
      "source": [
        "# Predictions\n",
        "y_pred_my_lr_titanic = Grid_myLR_titanic.best_estimator_.predict(titanic_test_X_scaled)\n",
        "y_pred_my_svm_titanic = Grid_mySVM_titanic.best_estimator_.predict(titanic_test_X_scaled)\n",
        "\n",
        "\n",
        "# Confusion Matrices\n",
        "# TP FP\n",
        "# FN TN\n",
        "cm_my_lr_titanic = confusion_matrix(titanic_test_y, y_pred_my_lr_titanic)\n",
        "cm_my_svm_titanic = confusion_matrix(titanic_test_y, y_pred_my_svm_titanic)\n",
        "\n",
        "plt.figure(figsize=(24, 12))\n",
        "\n",
        "plt.suptitle(\"Confusion Matrixes for titanic (my classifiers)\", fontsize=24)\n",
        "plt.subplots_adjust(wspace = 0.4, hspace= 0.4)\n",
        "\n",
        "plt.subplot(2,3,1)\n",
        "plt.title(\"Logistic Regression\")\n",
        "sns.heatmap(cm_my_lr_titanic,annot=True,cmap=\"Blues\",fmt=\"d\",cbar=False, annot_kws={\"size\": 24})\n",
        "\n",
        "plt.subplot(2,3,2)\n",
        "plt.title(\"SVM\")\n",
        "sns.heatmap(cm_my_svm_titanic,annot=True,cmap=\"Blues\",fmt=\"d\",cbar=False, annot_kws={\"size\": 24})"
      ],
      "metadata": {
        "colab": {
          "base_uri": "https://localhost:8080/",
          "height": 424
        },
        "id": "ho4-XLtqpZgx",
        "outputId": "75470f9f-c403-4284-eb17-315fe3c852fa"
      },
      "execution_count": 173,
      "outputs": [
        {
          "output_type": "execute_result",
          "data": {
            "text/plain": [
              "<matplotlib.axes._subplots.AxesSubplot at 0x7fe5b75f5690>"
            ]
          },
          "metadata": {},
          "execution_count": 173
        },
        {
          "output_type": "display_data",
          "data": {
            "text/plain": [
              "<Figure size 1728x864 with 2 Axes>"
            ],
            "image/png": "[encoded data removed]"
          },
          "metadata": {
            "needs_background": "light"
          }
        }
      ]
    },
    {
      "cell_type": "markdown",
      "source": [
        "На датасете heart.csv:\n",
        "- Реализованные модели показывают точность больше средней по кросс-валидации.\n",
        "- Точность классификации увеличивается после подбора гиперпараметров.\n",
        "- У реализованных моделей есть потенциал для улучшения, как в части подготовки данных, так и в части подбора параметров классификатора.\n",
        "- По матрицам ошибок видно, что реализованные модели работают на уровне библиотечных реализаций.\n",
        "- Из библиотечных реализаций наилучший результат классификации показали SVM и KNN."
      ],
      "metadata": {
        "id": "fKBMOeWt1J3w"
      }
    }
  ]
}