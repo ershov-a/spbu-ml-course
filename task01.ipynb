{
  "cells": [
    {
      "cell_type": "markdown",
      "source": [
        "## Задача 1. Линейная регрессия, метод градиентного спуска"
      ],
      "metadata": {
        "id": "seod8eM29X2D"
      },
      "id": "seod8eM29X2D"
    },
    {
      "cell_type": "markdown",
      "source": [
        "#### Самостоятельно реализовать функцию gradient_descent(X, y), которая по заданной обучающей выборке обучает модель линейной регрессии, оптимизируя функционал методом градиентного спуска (Batch Gradient Descent, GD) и возвращая вектор весов w. В качестве функционала можно выбрать, например, функцию ошибок **MSE** + $L_2$-регуляризатор. Использовать матрично-векторные операции для вычисления градиента."
      ],
      "metadata": {
        "id": "dkLOpjcD9KYf"
      },
      "id": "dkLOpjcD9KYf"
    },
    {
      "cell_type": "code",
      "source": [
        "import numpy as np"
      ],
      "metadata": {
        "id": "a7fDg675-OuL"
      },
      "id": "a7fDg675-OuL",
      "execution_count": 1,
      "outputs": []
    },
    {
      "cell_type": "code",
      "source": [
        "def my_mse(y, y_pred):\n",
        "    y = np.array(y)\n",
        "    y_pred = np.array(y_pred)\n",
        "    diff = np.subtract(y, y_pred)\n",
        "    squared_diff = np.square(diff)\n",
        "    return squared_diff.mean()\n",
        "\n",
        "def my_rmse(y, y_pred):\n",
        "    return (my_mse(y, y_pred)) ** 0.5\n",
        "\n",
        "def my_r2(y, y_pred):\n",
        "    y = np.array(y)\n",
        "    y_pred = np.array(y_pred)\n",
        "    diff1 = np.subtract(y, y_pred)\n",
        "    squared_diff1 = np.square(diff1)\n",
        "    diff2 = y - y.mean()\n",
        "    squared_diff2 = np.square(diff2)\n",
        "    return 1-squared_diff1.sum()/squared_diff2.sum()\n",
        "\n",
        "def my_metrics(y, predicts):\n",
        "    mse = my_mse(y, predicts)\n",
        "    rmse = my_rmse(y, predicts)\n",
        "    r2 = my_r2(y, predicts)\n",
        "    return mse, rmse, r2\n",
        "\n",
        "def gradient_step(X, y, curr_weights = 0, curr_bias = 0, learning_rate = 0.001):\n",
        "    # Очередное предсказание\n",
        "    y_pred = np.dot(X, curr_weights) + curr_bias\n",
        "\n",
        "    new_weights = 0\n",
        "    new_bias = 0\n",
        "    \n",
        "    # Частные производные\n",
        "    partial_w = (1 / X.shape[0]) * (2 * np.dot(X.T, (y_pred - y)))\n",
        "    partial_b = (1 / X.shape[0]) * (2 * np.sum(y_pred - y))\n",
        "    \n",
        "    # Обновление весов и смещения\n",
        "    new_weights = curr_weights - learning_rate * partial_w\n",
        "    new_bias = curr_bias - learning_rate * partial_b\n",
        "    \n",
        "    return new_weights, new_bias\n",
        "\n",
        "def gradient_descent(X, y, learning_rate=0.01, n_iterations=1000):\n",
        "    # Инициализация весов и смещения\n",
        "    weights = np.zeros(X.shape[1])\n",
        "    bias = 0\n",
        "    \n",
        "    # Градиентный спуск\n",
        "    for i in range(n_iterations):\n",
        "        weights, bias = gradient_step(X, y, weights, bias, learning_rate)\n",
        "\n",
        "    return weights, bias"
      ],
      "metadata": {
        "id": "p0HJuvjt-JpF"
      },
      "id": "p0HJuvjt-JpF",
      "execution_count": 2,
      "outputs": []
    },
    {
      "cell_type": "markdown",
      "source": [
        "#### Найти данные, на которых интересно будет решать задачу регрессии. Зависимость целового признака от нецелевых должна быть не слишком сложной, чтобы обученная линейная модель смогла показать приемлимый результат. В крайнем случае взять данные для предсказания стоимости машин тут (целевой признак для предсказания --- **price**)."
      ],
      "metadata": {
        "id": "xIqeaMuAAo-f"
      },
      "id": "xIqeaMuAAo-f"
    },
    {
      "cell_type": "markdown",
      "source": [
        "Данные - California Housing Dataset https://www.kaggle.com/datasets/camnugent/california-housing-prices.\n",
        "Целевой признак для предсказания `median_house_value`."
      ],
      "metadata": {
        "id": "6KZ0_hGTAzQ3"
      },
      "id": "6KZ0_hGTAzQ3"
    },
    {
      "cell_type": "markdown",
      "source": [
        "#### Считать данные, выполнить первичный анализ данных, при необходимости произвести чистку данных (Data Cleaning)."
      ],
      "metadata": {
        "id": "2GJcUKg6BQ0q"
      },
      "id": "2GJcUKg6BQ0q"
    },
    {
      "cell_type": "code",
      "source": [
        "import pandas as pd\n",
        "\n",
        "data = pd.read_csv(\"housing.csv\")"
      ],
      "metadata": {
        "id": "wYN0e2xsBftd"
      },
      "execution_count": 3,
      "outputs": [],
      "id": "wYN0e2xsBftd"
    },
    {
      "cell_type": "code",
      "execution_count": 4,
      "metadata": {
        "execution": {
          "iopub.execute_input": "2021-10-31T11:18:53.701340Z",
          "iopub.status.busy": "2021-10-31T11:18:53.700707Z",
          "iopub.status.idle": "2021-10-31T11:18:53.722904Z",
          "shell.execute_reply": "2021-10-31T11:18:53.723363Z",
          "shell.execute_reply.started": "2021-10-31T11:10:59.601994Z"
        },
        "outputId": "9c44bb03-90bc-4fc7-95dd-4f2606c50a19",
        "papermill": {
          "duration": 0.061964,
          "end_time": "2021-10-31T11:18:53.723570",
          "exception": false,
          "start_time": "2021-10-31T11:18:53.661606",
          "status": "completed"
        },
        "tags": [],
        "colab": {
          "base_uri": "https://localhost:8080/",
          "height": 270
        },
        "id": "GUbpY3VOBftf"
      },
      "outputs": [
        {
          "output_type": "execute_result",
          "data": {
            "text/plain": [
              "   longitude  latitude  housing_median_age  total_rooms  total_bedrooms  \\\n",
              "0    -122.23     37.88                41.0        880.0           129.0   \n",
              "1    -122.22     37.86                21.0       7099.0          1106.0   \n",
              "2    -122.24     37.85                52.0       1467.0           190.0   \n",
              "3    -122.25     37.85                52.0       1274.0           235.0   \n",
              "4    -122.25     37.85                52.0       1627.0           280.0   \n",
              "\n",
              "   population  households  median_income  median_house_value ocean_proximity  \n",
              "0       322.0       126.0         8.3252            452600.0        NEAR BAY  \n",
              "1      2401.0      1138.0         8.3014            358500.0        NEAR BAY  \n",
              "2       496.0       177.0         7.2574            352100.0        NEAR BAY  \n",
              "3       558.0       219.0         5.6431            341300.0        NEAR BAY  \n",
              "4       565.0       259.0         3.8462            342200.0        NEAR BAY  "
            ],
            "text/html": [
              "\n",
              "  <div id=\"df-40e253f3-5ff3-43e6-b858-6bddf532e873\">\n",
              "    <div class=\"colab-df-container\">\n",
              "      <div>\n",
              "<style scoped>\n",
              "    .dataframe tbody tr th:only-of-type {\n",
              "        vertical-align: middle;\n",
              "    }\n",
              "\n",
              "    .dataframe tbody tr th {\n",
              "        vertical-align: top;\n",
              "    }\n",
              "\n",
              "    .dataframe thead th {\n",
              "        text-align: right;\n",
              "    }\n",
              "</style>\n",
              "<table border=\"1\" class=\"dataframe\">\n",
              "  <thead>\n",
              "    <tr style=\"text-align: right;\">\n",
              "      <th></th>\n",
              "      <th>longitude</th>\n",
              "      <th>latitude</th>\n",
              "      <th>housing_median_age</th>\n",
              "      <th>total_rooms</th>\n",
              "      <th>total_bedrooms</th>\n",
              "      <th>population</th>\n",
              "      <th>households</th>\n",
              "      <th>median_income</th>\n",
              "      <th>median_house_value</th>\n",
              "      <th>ocean_proximity</th>\n",
              "    </tr>\n",
              "  </thead>\n",
              "  <tbody>\n",
              "    <tr>\n",
              "      <th>0</th>\n",
              "      <td>-122.23</td>\n",
              "      <td>37.88</td>\n",
              "      <td>41.0</td>\n",
              "      <td>880.0</td>\n",
              "      <td>129.0</td>\n",
              "      <td>322.0</td>\n",
              "      <td>126.0</td>\n",
              "      <td>8.3252</td>\n",
              "      <td>452600.0</td>\n",
              "      <td>NEAR BAY</td>\n",
              "    </tr>\n",
              "    <tr>\n",
              "      <th>1</th>\n",
              "      <td>-122.22</td>\n",
              "      <td>37.86</td>\n",
              "      <td>21.0</td>\n",
              "      <td>7099.0</td>\n",
              "      <td>1106.0</td>\n",
              "      <td>2401.0</td>\n",
              "      <td>1138.0</td>\n",
              "      <td>8.3014</td>\n",
              "      <td>358500.0</td>\n",
              "      <td>NEAR BAY</td>\n",
              "    </tr>\n",
              "    <tr>\n",
              "      <th>2</th>\n",
              "      <td>-122.24</td>\n",
              "      <td>37.85</td>\n",
              "      <td>52.0</td>\n",
              "      <td>1467.0</td>\n",
              "      <td>190.0</td>\n",
              "      <td>496.0</td>\n",
              "      <td>177.0</td>\n",
              "      <td>7.2574</td>\n",
              "      <td>352100.0</td>\n",
              "      <td>NEAR BAY</td>\n",
              "    </tr>\n",
              "    <tr>\n",
              "      <th>3</th>\n",
              "      <td>-122.25</td>\n",
              "      <td>37.85</td>\n",
              "      <td>52.0</td>\n",
              "      <td>1274.0</td>\n",
              "      <td>235.0</td>\n",
              "      <td>558.0</td>\n",
              "      <td>219.0</td>\n",
              "      <td>5.6431</td>\n",
              "      <td>341300.0</td>\n",
              "      <td>NEAR BAY</td>\n",
              "    </tr>\n",
              "    <tr>\n",
              "      <th>4</th>\n",
              "      <td>-122.25</td>\n",
              "      <td>37.85</td>\n",
              "      <td>52.0</td>\n",
              "      <td>1627.0</td>\n",
              "      <td>280.0</td>\n",
              "      <td>565.0</td>\n",
              "      <td>259.0</td>\n",
              "      <td>3.8462</td>\n",
              "      <td>342200.0</td>\n",
              "      <td>NEAR BAY</td>\n",
              "    </tr>\n",
              "  </tbody>\n",
              "</table>\n",
              "</div>\n",
              "      <button class=\"colab-df-convert\" onclick=\"convertToInteractive('df-40e253f3-5ff3-43e6-b858-6bddf532e873')\"\n",
              "              title=\"Convert this dataframe to an interactive table.\"\n",
              "              style=\"display:none;\">\n",
              "        \n",
              "  <svg xmlns=\"http://www.w3.org/2000/svg\" height=\"24px\"viewBox=\"0 0 24 24\"\n",
              "       width=\"24px\">\n",
              "    <path d=\"M0 0h24v24H0V0z\" fill=\"none\"/>\n",
              "    <path d=\"M18.56 5.44l.94 2.06.94-2.06 2.06-.94-2.06-.94-.94-2.06-.94 2.06-2.06.94zm-11 1L8.5 8.5l.94-2.06 2.06-.94-2.06-.94L8.5 2.5l-.94 2.06-2.06.94zm10 10l.94 2.06.94-2.06 2.06-.94-2.06-.94-.94-2.06-.94 2.06-2.06.94z\"/><path d=\"M17.41 7.96l-1.37-1.37c-.4-.4-.92-.59-1.43-.59-.52 0-1.04.2-1.43.59L10.3 9.45l-7.72 7.72c-.78.78-.78 2.05 0 2.83L4 21.41c.39.39.9.59 1.41.59.51 0 1.02-.2 1.41-.59l7.78-7.78 2.81-2.81c.8-.78.8-2.07 0-2.86zM5.41 20L4 18.59l7.72-7.72 1.47 1.35L5.41 20z\"/>\n",
              "  </svg>\n",
              "      </button>\n",
              "      \n",
              "  <style>\n",
              "    .colab-df-container {\n",
              "      display:flex;\n",
              "      flex-wrap:wrap;\n",
              "      gap: 12px;\n",
              "    }\n",
              "\n",
              "    .colab-df-convert {\n",
              "      background-color: #E8F0FE;\n",
              "      border: none;\n",
              "      border-radius: 50%;\n",
              "      cursor: pointer;\n",
              "      display: none;\n",
              "      fill: #1967D2;\n",
              "      height: 32px;\n",
              "      padding: 0 0 0 0;\n",
              "      width: 32px;\n",
              "    }\n",
              "\n",
              "    .colab-df-convert:hover {\n",
              "      background-color: #E2EBFA;\n",
              "      box-shadow: 0px 1px 2px rgba(60, 64, 67, 0.3), 0px 1px 3px 1px rgba(60, 64, 67, 0.15);\n",
              "      fill: #174EA6;\n",
              "    }\n",
              "\n",
              "    [theme=dark] .colab-df-convert {\n",
              "      background-color: #3B4455;\n",
              "      fill: #D2E3FC;\n",
              "    }\n",
              "\n",
              "    [theme=dark] .colab-df-convert:hover {\n",
              "      background-color: #434B5C;\n",
              "      box-shadow: 0px 1px 3px 1px rgba(0, 0, 0, 0.15);\n",
              "      filter: drop-shadow(0px 1px 2px rgba(0, 0, 0, 0.3));\n",
              "      fill: #FFFFFF;\n",
              "    }\n",
              "  </style>\n",
              "\n",
              "      <script>\n",
              "        const buttonEl =\n",
              "          document.querySelector('#df-40e253f3-5ff3-43e6-b858-6bddf532e873 button.colab-df-convert');\n",
              "        buttonEl.style.display =\n",
              "          google.colab.kernel.accessAllowed ? 'block' : 'none';\n",
              "\n",
              "        async function convertToInteractive(key) {\n",
              "          const element = document.querySelector('#df-40e253f3-5ff3-43e6-b858-6bddf532e873');\n",
              "          const dataTable =\n",
              "            await google.colab.kernel.invokeFunction('convertToInteractive',\n",
              "                                                     [key], {});\n",
              "          if (!dataTable) return;\n",
              "\n",
              "          const docLinkHtml = 'Like what you see? Visit the ' +\n",
              "            '<a target=\"_blank\" href=https://colab.research.google.com/notebooks/data_table.ipynb>data table notebook</a>'\n",
              "            + ' to learn more about interactive tables.';\n",
              "          element.innerHTML = '';\n",
              "          dataTable['output_type'] = 'display_data';\n",
              "          await google.colab.output.renderOutput(dataTable, element);\n",
              "          const docLink = document.createElement('div');\n",
              "          docLink.innerHTML = docLinkHtml;\n",
              "          element.appendChild(docLink);\n",
              "        }\n",
              "      </script>\n",
              "    </div>\n",
              "  </div>\n",
              "  "
            ]
          },
          "metadata": {},
          "execution_count": 4
        }
      ],
      "source": [
        "data.head()"
      ],
      "id": "GUbpY3VOBftf"
    },
    {
      "cell_type": "markdown",
      "source": [
        "0. `longitude` - долгота.\n",
        "1. `latitude` - широта.\n",
        "2. `housing_median_age` - средний возраст жилья.\n",
        "3. `total_rooms` - всего комнат.\n",
        "4. `total_bedrooms` - всего спален.\n",
        "5. `population` - общее количество людей, проживающих в квартале.\n",
        "6. `households` - общее количество домохозяйств в квартале.\n",
        "7. `median_income` - средний доход жильцов в многоквартирном доме (десятки тысяч долларов США).\n",
        "8. `median_house_value` - средняя стоимость жилья в квартале  (доллары США).\n",
        "9. `ocean_proximity` - удаленность от океана.\n"
      ],
      "metadata": {
        "id": "btXQJGruBfth"
      },
      "id": "btXQJGruBfth"
    },
    {
      "cell_type": "code",
      "source": [
        "data.describe()"
      ],
      "metadata": {
        "colab": {
          "base_uri": "https://localhost:8080/",
          "height": 364
        },
        "outputId": "ceaf6824-5969-4567-9763-bdcaf8df623d",
        "id": "fWh5_CgOBftj"
      },
      "execution_count": 5,
      "outputs": [
        {
          "output_type": "execute_result",
          "data": {
            "text/plain": [
              "          longitude      latitude  housing_median_age   total_rooms  \\\n",
              "count  20640.000000  20640.000000        20640.000000  20640.000000   \n",
              "mean    -119.569704     35.631861           28.639486   2635.763081   \n",
              "std        2.003532      2.135952           12.585558   2181.615252   \n",
              "min     -124.350000     32.540000            1.000000      2.000000   \n",
              "25%     -121.800000     33.930000           18.000000   1447.750000   \n",
              "50%     -118.490000     34.260000           29.000000   2127.000000   \n",
              "75%     -118.010000     37.710000           37.000000   3148.000000   \n",
              "max     -114.310000     41.950000           52.000000  39320.000000   \n",
              "\n",
              "       total_bedrooms    population    households  median_income  \\\n",
              "count    20433.000000  20640.000000  20640.000000   20640.000000   \n",
              "mean       537.870553   1425.476744    499.539680       3.870671   \n",
              "std        421.385070   1132.462122    382.329753       1.899822   \n",
              "min          1.000000      3.000000      1.000000       0.499900   \n",
              "25%        296.000000    787.000000    280.000000       2.563400   \n",
              "50%        435.000000   1166.000000    409.000000       3.534800   \n",
              "75%        647.000000   1725.000000    605.000000       4.743250   \n",
              "max       6445.000000  35682.000000   6082.000000      15.000100   \n",
              "\n",
              "       median_house_value  \n",
              "count        20640.000000  \n",
              "mean        206855.816909  \n",
              "std         115395.615874  \n",
              "min          14999.000000  \n",
              "25%         119600.000000  \n",
              "50%         179700.000000  \n",
              "75%         264725.000000  \n",
              "max         500001.000000  "
            ],
            "text/html": [
              "\n",
              "  <div id=\"df-ca1b5adb-1e48-42dd-b7e8-20e3ddf9792b\">\n",
              "    <div class=\"colab-df-container\">\n",
              "      <div>\n",
              "<style scoped>\n",
              "    .dataframe tbody tr th:only-of-type {\n",
              "        vertical-align: middle;\n",
              "    }\n",
              "\n",
              "    .dataframe tbody tr th {\n",
              "        vertical-align: top;\n",
              "    }\n",
              "\n",
              "    .dataframe thead th {\n",
              "        text-align: right;\n",
              "    }\n",
              "</style>\n",
              "<table border=\"1\" class=\"dataframe\">\n",
              "  <thead>\n",
              "    <tr style=\"text-align: right;\">\n",
              "      <th></th>\n",
              "      <th>longitude</th>\n",
              "      <th>latitude</th>\n",
              "      <th>housing_median_age</th>\n",
              "      <th>total_rooms</th>\n",
              "      <th>total_bedrooms</th>\n",
              "      <th>population</th>\n",
              "      <th>households</th>\n",
              "      <th>median_income</th>\n",
              "      <th>median_house_value</th>\n",
              "    </tr>\n",
              "  </thead>\n",
              "  <tbody>\n",
              "    <tr>\n",
              "      <th>count</th>\n",
              "      <td>20640.000000</td>\n",
              "      <td>20640.000000</td>\n",
              "      <td>20640.000000</td>\n",
              "      <td>20640.000000</td>\n",
              "      <td>20433.000000</td>\n",
              "      <td>20640.000000</td>\n",
              "      <td>20640.000000</td>\n",
              "      <td>20640.000000</td>\n",
              "      <td>20640.000000</td>\n",
              "    </tr>\n",
              "    <tr>\n",
              "      <th>mean</th>\n",
              "      <td>-119.569704</td>\n",
              "      <td>35.631861</td>\n",
              "      <td>28.639486</td>\n",
              "      <td>2635.763081</td>\n",
              "      <td>537.870553</td>\n",
              "      <td>1425.476744</td>\n",
              "      <td>499.539680</td>\n",
              "      <td>3.870671</td>\n",
              "      <td>206855.816909</td>\n",
              "    </tr>\n",
              "    <tr>\n",
              "      <th>std</th>\n",
              "      <td>2.003532</td>\n",
              "      <td>2.135952</td>\n",
              "      <td>12.585558</td>\n",
              "      <td>2181.615252</td>\n",
              "      <td>421.385070</td>\n",
              "      <td>1132.462122</td>\n",
              "      <td>382.329753</td>\n",
              "      <td>1.899822</td>\n",
              "      <td>115395.615874</td>\n",
              "    </tr>\n",
              "    <tr>\n",
              "      <th>min</th>\n",
              "      <td>-124.350000</td>\n",
              "      <td>32.540000</td>\n",
              "      <td>1.000000</td>\n",
              "      <td>2.000000</td>\n",
              "      <td>1.000000</td>\n",
              "      <td>3.000000</td>\n",
              "      <td>1.000000</td>\n",
              "      <td>0.499900</td>\n",
              "      <td>14999.000000</td>\n",
              "    </tr>\n",
              "    <tr>\n",
              "      <th>25%</th>\n",
              "      <td>-121.800000</td>\n",
              "      <td>33.930000</td>\n",
              "      <td>18.000000</td>\n",
              "      <td>1447.750000</td>\n",
              "      <td>296.000000</td>\n",
              "      <td>787.000000</td>\n",
              "      <td>280.000000</td>\n",
              "      <td>2.563400</td>\n",
              "      <td>119600.000000</td>\n",
              "    </tr>\n",
              "    <tr>\n",
              "      <th>50%</th>\n",
              "      <td>-118.490000</td>\n",
              "      <td>34.260000</td>\n",
              "      <td>29.000000</td>\n",
              "      <td>2127.000000</td>\n",
              "      <td>435.000000</td>\n",
              "      <td>1166.000000</td>\n",
              "      <td>409.000000</td>\n",
              "      <td>3.534800</td>\n",
              "      <td>179700.000000</td>\n",
              "    </tr>\n",
              "    <tr>\n",
              "      <th>75%</th>\n",
              "      <td>-118.010000</td>\n",
              "      <td>37.710000</td>\n",
              "      <td>37.000000</td>\n",
              "      <td>3148.000000</td>\n",
              "      <td>647.000000</td>\n",
              "      <td>1725.000000</td>\n",
              "      <td>605.000000</td>\n",
              "      <td>4.743250</td>\n",
              "      <td>264725.000000</td>\n",
              "    </tr>\n",
              "    <tr>\n",
              "      <th>max</th>\n",
              "      <td>-114.310000</td>\n",
              "      <td>41.950000</td>\n",
              "      <td>52.000000</td>\n",
              "      <td>39320.000000</td>\n",
              "      <td>6445.000000</td>\n",
              "      <td>35682.000000</td>\n",
              "      <td>6082.000000</td>\n",
              "      <td>15.000100</td>\n",
              "      <td>500001.000000</td>\n",
              "    </tr>\n",
              "  </tbody>\n",
              "</table>\n",
              "</div>\n",
              "      <button class=\"colab-df-convert\" onclick=\"convertToInteractive('df-ca1b5adb-1e48-42dd-b7e8-20e3ddf9792b')\"\n",
              "              title=\"Convert this dataframe to an interactive table.\"\n",
              "              style=\"display:none;\">\n",
              "        \n",
              "  <svg xmlns=\"http://www.w3.org/2000/svg\" height=\"24px\"viewBox=\"0 0 24 24\"\n",
              "       width=\"24px\">\n",
              "    <path d=\"M0 0h24v24H0V0z\" fill=\"none\"/>\n",
              "    <path d=\"M18.56 5.44l.94 2.06.94-2.06 2.06-.94-2.06-.94-.94-2.06-.94 2.06-2.06.94zm-11 1L8.5 8.5l.94-2.06 2.06-.94-2.06-.94L8.5 2.5l-.94 2.06-2.06.94zm10 10l.94 2.06.94-2.06 2.06-.94-2.06-.94-.94-2.06-.94 2.06-2.06.94z\"/><path d=\"M17.41 7.96l-1.37-1.37c-.4-.4-.92-.59-1.43-.59-.52 0-1.04.2-1.43.59L10.3 9.45l-7.72 7.72c-.78.78-.78 2.05 0 2.83L4 21.41c.39.39.9.59 1.41.59.51 0 1.02-.2 1.41-.59l7.78-7.78 2.81-2.81c.8-.78.8-2.07 0-2.86zM5.41 20L4 18.59l7.72-7.72 1.47 1.35L5.41 20z\"/>\n",
              "  </svg>\n",
              "      </button>\n",
              "      \n",
              "  <style>\n",
              "    .colab-df-container {\n",
              "      display:flex;\n",
              "      flex-wrap:wrap;\n",
              "      gap: 12px;\n",
              "    }\n",
              "\n",
              "    .colab-df-convert {\n",
              "      background-color: #E8F0FE;\n",
              "      border: none;\n",
              "      border-radius: 50%;\n",
              "      cursor: pointer;\n",
              "      display: none;\n",
              "      fill: #1967D2;\n",
              "      height: 32px;\n",
              "      padding: 0 0 0 0;\n",
              "      width: 32px;\n",
              "    }\n",
              "\n",
              "    .colab-df-convert:hover {\n",
              "      background-color: #E2EBFA;\n",
              "      box-shadow: 0px 1px 2px rgba(60, 64, 67, 0.3), 0px 1px 3px 1px rgba(60, 64, 67, 0.15);\n",
              "      fill: #174EA6;\n",
              "    }\n",
              "\n",
              "    [theme=dark] .colab-df-convert {\n",
              "      background-color: #3B4455;\n",
              "      fill: #D2E3FC;\n",
              "    }\n",
              "\n",
              "    [theme=dark] .colab-df-convert:hover {\n",
              "      background-color: #434B5C;\n",
              "      box-shadow: 0px 1px 3px 1px rgba(0, 0, 0, 0.15);\n",
              "      filter: drop-shadow(0px 1px 2px rgba(0, 0, 0, 0.3));\n",
              "      fill: #FFFFFF;\n",
              "    }\n",
              "  </style>\n",
              "\n",
              "      <script>\n",
              "        const buttonEl =\n",
              "          document.querySelector('#df-ca1b5adb-1e48-42dd-b7e8-20e3ddf9792b button.colab-df-convert');\n",
              "        buttonEl.style.display =\n",
              "          google.colab.kernel.accessAllowed ? 'block' : 'none';\n",
              "\n",
              "        async function convertToInteractive(key) {\n",
              "          const element = document.querySelector('#df-ca1b5adb-1e48-42dd-b7e8-20e3ddf9792b');\n",
              "          const dataTable =\n",
              "            await google.colab.kernel.invokeFunction('convertToInteractive',\n",
              "                                                     [key], {});\n",
              "          if (!dataTable) return;\n",
              "\n",
              "          const docLinkHtml = 'Like what you see? Visit the ' +\n",
              "            '<a target=\"_blank\" href=https://colab.research.google.com/notebooks/data_table.ipynb>data table notebook</a>'\n",
              "            + ' to learn more about interactive tables.';\n",
              "          element.innerHTML = '';\n",
              "          dataTable['output_type'] = 'display_data';\n",
              "          await google.colab.output.renderOutput(dataTable, element);\n",
              "          const docLink = document.createElement('div');\n",
              "          docLink.innerHTML = docLinkHtml;\n",
              "          element.appendChild(docLink);\n",
              "        }\n",
              "      </script>\n",
              "    </div>\n",
              "  </div>\n",
              "  "
            ]
          },
          "metadata": {},
          "execution_count": 5
        }
      ],
      "id": "fWh5_CgOBftj"
    },
    {
      "cell_type": "markdown",
      "source": [
        "1. Большинство жилья имеет возраст от 18 до 37 лет.\n",
        "2. У большинства домов от 1448 до 3148 комнат.\n",
        "3. У большинства домов от 296 до 647 спален.\n",
        "4. В большинстве домов живет от 787 до 1725 людей.\n",
        "5. В большинстве домов от 280 до 605 домохозяйств.\n",
        "6. У большинства жильцов  доход составляет от 2.6 до 4.7 десятков тысяч долларов США.\n",
        "7. Большинство жилищ стоят от 119600 до 264725 долларов США."
      ],
      "metadata": {
        "id": "aw9Yc-JeBftk"
      },
      "id": "aw9Yc-JeBftk"
    },
    {
      "cell_type": "markdown",
      "source": [
        "Проверка наличия пропусков."
      ],
      "metadata": {
        "id": "86T8ah2pBftl"
      },
      "id": "86T8ah2pBftl"
    },
    {
      "cell_type": "code",
      "source": [
        "data.isnull().sum()"
      ],
      "metadata": {
        "colab": {
          "base_uri": "https://localhost:8080/"
        },
        "outputId": "586b3b0c-88c3-4157-f4e5-0c507aca5d45",
        "id": "VvTKizFjBftm"
      },
      "execution_count": 6,
      "outputs": [
        {
          "output_type": "execute_result",
          "data": {
            "text/plain": [
              "longitude               0\n",
              "latitude                0\n",
              "housing_median_age      0\n",
              "total_rooms             0\n",
              "total_bedrooms        207\n",
              "population              0\n",
              "households              0\n",
              "median_income           0\n",
              "median_house_value      0\n",
              "ocean_proximity         0\n",
              "dtype: int64"
            ]
          },
          "metadata": {},
          "execution_count": 6
        }
      ],
      "id": "VvTKizFjBftm"
    },
    {
      "cell_type": "markdown",
      "source": [
        "207 пропусков в `total_bedrooms`."
      ],
      "metadata": {
        "id": "_K0VjoDGBftn"
      },
      "id": "_K0VjoDGBftn"
    },
    {
      "cell_type": "markdown",
      "source": [
        "Заполнение null в `total_bedrooms` средним значением 538."
      ],
      "metadata": {
        "id": "HSjJuNcABqpe"
      },
      "id": "HSjJuNcABqpe"
    },
    {
      "cell_type": "code",
      "source": [
        "data['total_bedrooms'].fillna(538, inplace=True)\n",
        "data['total_bedrooms'] = data['total_bedrooms'].astype('int')"
      ],
      "metadata": {
        "id": "RuRBhAJQBqpg"
      },
      "execution_count": 7,
      "outputs": [],
      "id": "RuRBhAJQBqpg"
    },
    {
      "cell_type": "markdown",
      "source": [
        "Повторная проверка наличия пропусков."
      ],
      "metadata": {
        "id": "JyZwkEYwBqph"
      },
      "id": "JyZwkEYwBqph"
    },
    {
      "cell_type": "code",
      "source": [
        "data.isnull().sum()"
      ],
      "metadata": {
        "colab": {
          "base_uri": "https://localhost:8080/"
        },
        "outputId": "16b37412-9537-4bd1-cc94-3c40ae228e61",
        "id": "_0CLqivIBqpi"
      },
      "execution_count": 8,
      "outputs": [
        {
          "output_type": "execute_result",
          "data": {
            "text/plain": [
              "longitude             0\n",
              "latitude              0\n",
              "housing_median_age    0\n",
              "total_rooms           0\n",
              "total_bedrooms        0\n",
              "population            0\n",
              "households            0\n",
              "median_income         0\n",
              "median_house_value    0\n",
              "ocean_proximity       0\n",
              "dtype: int64"
            ]
          },
          "metadata": {},
          "execution_count": 8
        }
      ],
      "id": "_0CLqivIBqpi"
    },
    {
      "cell_type": "markdown",
      "source": [
        "Пропусков нет."
      ],
      "metadata": {
        "id": "loMplYhdBqpj"
      },
      "id": "loMplYhdBqpj"
    },
    {
      "cell_type": "markdown",
      "source": [
        "#### Выполнить разведочный анализ (EDA), использовать визуализацию, сделать выводы, которые могут быть полезны при дальнейшем решении задачи регрессии."
      ],
      "metadata": {
        "id": "aatJrAO5B8oe"
      },
      "id": "aatJrAO5B8oe"
    },
    {
      "cell_type": "code",
      "source": [
        "import matplotlib.pyplot as plt\n",
        "import seaborn as sns"
      ],
      "metadata": {
        "id": "CZsn901jNjmV"
      },
      "id": "CZsn901jNjmV",
      "execution_count": 9,
      "outputs": []
    },
    {
      "cell_type": "code",
      "source": [
        "plt.scatter(data = data , x = \"longitude\" , y = \"latitude\" , c = data[\"median_house_value\"]  )\n",
        "plt.colorbar ()\n",
        "plt.show()"
      ],
      "metadata": {
        "colab": {
          "base_uri": "https://localhost:8080/",
          "height": 54
        },
        "outputId": "8bd65a01-40ad-4128-ab54-c1d01214057f",
        "id": "cTs8jBXGCHnP"
      },
      "execution_count": 10,
      "outputs": [
        {
          "output_type": "display_data",
          "data": {
            "text/plain": [
              "<Figure size 432x288 with 2 Axes>"
            ],
            "image/png": "[encoded data removed]"
          },
          "metadata": {
            "needs_background": "light"
          }
        }
      ],
      "id": "cTs8jBXGCHnP"
    },
    {
      "cell_type": "markdown",
      "source": [
        "Чем ближе к побережью океана, тем дороже."
      ],
      "metadata": {
        "id": "9rib78o0CHnS"
      },
      "id": "9rib78o0CHnS"
    },
    {
      "cell_type": "code",
      "source": [
        "sns.barplot(x = \"ocean_proximity\",y = \"median_house_value\", data = data)"
      ],
      "metadata": {
        "colab": {
          "base_uri": "https://localhost:8080/",
          "height": 108
        },
        "outputId": "81c16798-1ac3-4397-afe4-be7253aedab9",
        "id": "jqu6iLGcCHnT"
      },
      "execution_count": 11,
      "outputs": [
        {
          "output_type": "execute_result",
          "data": {
            "text/plain": [
              "<matplotlib.axes._subplots.AxesSubplot at 0x7fecc92edf50>"
            ]
          },
          "metadata": {},
          "execution_count": 11
        },
        {
          "output_type": "display_data",
          "data": {
            "text/plain": [
              "<Figure size 432x288 with 1 Axes>"
            ],
            "image/png": "[encoded data removed]"
          },
          "metadata": {
            "needs_background": "light"
          }
        }
      ],
      "id": "jqu6iLGcCHnT"
    },
    {
      "cell_type": "markdown",
      "source": [
        "Самое дорогое жилье на островах."
      ],
      "metadata": {
        "id": "bO5vS6A4CHnU"
      },
      "id": "bO5vS6A4CHnU"
    },
    {
      "cell_type": "markdown",
      "source": [
        "Проверка корреляции признаков между собой."
      ],
      "metadata": {
        "id": "4PaHYzVECHnV"
      },
      "id": "4PaHYzVECHnV"
    },
    {
      "cell_type": "code",
      "source": [
        "plt.figure(figsize=(15,10))\n",
        "sns.heatmap(data.corr(), cbar = True , annot=True)"
      ],
      "metadata": {
        "colab": {
          "base_uri": "https://localhost:8080/",
          "height": 108
        },
        "outputId": "c9902d47-3471-4548-8357-8e38f4b806c6",
        "id": "OPZTIle2CHnX"
      },
      "execution_count": 12,
      "outputs": [
        {
          "output_type": "execute_result",
          "data": {
            "text/plain": [
              "<matplotlib.axes._subplots.AxesSubplot at 0x7fecc92eda50>"
            ]
          },
          "metadata": {},
          "execution_count": 12
        },
        {
          "output_type": "display_data",
          "data": {
            "text/plain": [
              "<Figure size 1080x720 with 2 Axes>"
            ],
            "image/png": "[encoded data removed]"
          },
          "metadata": {
            "needs_background": "light"
          }
        }
      ],
      "id": "OPZTIle2CHnX"
    },
    {
      "cell_type": "markdown",
      "source": [
        "- Сильная корреляция признаков `households`, `population`, `total bedrooms`, `total rooms`. Из этих признаков можно попробовать оставить один из пары `households`, `population` и один из пары `total_bedrooms`, `total_rooms` и сравнить модели. Cравнение моделей приведено после основных заданий в разделе про RFE.\n",
        "- Сильная корреляция признаков `median_house_value`, `median_income`. При этом `median_house_value` является целевым признаком, поэтому его корреляцию в расчет не берем."
      ],
      "metadata": {
        "id": "8_2Req9mCHnY"
      },
      "id": "8_2Req9mCHnY"
    },
    {
      "cell_type": "markdown",
      "source": [
        "#### При необходимости выполнить полезные преобразования данных (например, трансформировать категариальные признаки в количественные), убрать ненужные признаки, создать новые (Feature Engineering)."
      ],
      "metadata": {
        "id": "-tnQ7yrLCSzy"
      },
      "id": "-tnQ7yrLCSzy"
    },
    {
      "cell_type": "markdown",
      "source": [
        "Кодирование категориального признака `ocean_proximity`."
      ],
      "metadata": {
        "id": "OBBwzGWeCZG8"
      },
      "id": "OBBwzGWeCZG8"
    },
    {
      "cell_type": "code",
      "source": [
        "from sklearn.preprocessing import LabelEncoder\n",
        "\n",
        "encoder = LabelEncoder()\n",
        "data['ocean_proximity'] = encoder.fit_transform(data['ocean_proximity'])"
      ],
      "metadata": {
        "id": "LH93vx4nCZG9"
      },
      "execution_count": 13,
      "outputs": [],
      "id": "LH93vx4nCZG9"
    },
    {
      "cell_type": "markdown",
      "source": [
        "Результаты кодирования."
      ],
      "metadata": {
        "id": "UgF_WMeqqt6E"
      },
      "id": "UgF_WMeqqt6E"
    },
    {
      "cell_type": "code",
      "source": [
        "data[\"ocean_proximity\"].value_counts()"
      ],
      "metadata": {
        "colab": {
          "base_uri": "https://localhost:8080/"
        },
        "outputId": "413ab9cb-d9d9-4846-a605-d11c4bdb8146",
        "id": "SudgajxiCZG-"
      },
      "execution_count": 14,
      "outputs": [
        {
          "output_type": "execute_result",
          "data": {
            "text/plain": [
              "0    9136\n",
              "1    6551\n",
              "4    2658\n",
              "3    2290\n",
              "2       5\n",
              "Name: ocean_proximity, dtype: int64"
            ]
          },
          "metadata": {},
          "execution_count": 14
        }
      ],
      "id": "SudgajxiCZG-"
    },
    {
      "cell_type": "markdown",
      "source": [
        "#### Случайным образом разбить данные на обучающую и тестовую выборки, используя методы существующих библиотек."
      ],
      "metadata": {
        "id": "Ivi_hoHdCt9-"
      },
      "id": "Ivi_hoHdCt9-"
    },
    {
      "cell_type": "code",
      "source": [
        "from sklearn.model_selection import train_test_split\n",
        "\n",
        "X = data.drop('median_house_value', axis = 1).values\n",
        "y = data['median_house_value'].values\n",
        "\n",
        "X_train, X_test, y_train, y_test = train_test_split(X, y, test_size=0.33 , random_state=19)"
      ],
      "metadata": {
        "id": "rXUxePgDCy7q"
      },
      "id": "rXUxePgDCy7q",
      "execution_count": 15,
      "outputs": []
    },
    {
      "cell_type": "markdown",
      "source": [
        "#### При обучении моделей использовать масштабирование данных."
      ],
      "metadata": {
        "id": "BDR6lUAQC4VU"
      },
      "id": "BDR6lUAQC4VU"
    },
    {
      "cell_type": "code",
      "source": [
        "from sklearn.preprocessing import StandardScaler\n",
        "scaler = StandardScaler()\n",
        "X_train = scaler.fit_transform(X_train)\n",
        "X_test = scaler.fit_transform(X_test)"
      ],
      "metadata": {
        "id": "co1A9N8XC4qv"
      },
      "id": "co1A9N8XC4qv",
      "execution_count": 16,
      "outputs": []
    },
    {
      "cell_type": "markdown",
      "source": [
        "#### Обучить модель на обучающей выборке, используя функцию **gradient_descent(X, y)**. Оценить качество модели на обучающей и тестовой выборках, используя **MSE**, **RMSE** и $R^2$."
      ],
      "metadata": {
        "id": "lam42xhoDSnL"
      },
      "id": "lam42xhoDSnL"
    },
    {
      "cell_type": "code",
      "source": [
        "gd_weights, gd_bias = gradient_descent(X_train,y_train)\n",
        "gd_predicts_train = np.dot(X_train, gd_weights) + gd_bias\n",
        "gd_predicts_test = np.dot(X_test, gd_weights) + gd_bias"
      ],
      "metadata": {
        "id": "0qpsOklFDofP"
      },
      "id": "0qpsOklFDofP",
      "execution_count": 17,
      "outputs": []
    },
    {
      "cell_type": "code",
      "source": [
        "errors = pd.DataFrame(my_metrics(y_train, gd_predicts_train),\n",
        "                         ['MSE', 'RMSE', 'R2'], columns=['gd train'])\n",
        "\n",
        "errors.insert(errors.shape[1], 'gd test',\n",
        "              my_metrics(y_test, gd_predicts_test), True)"
      ],
      "metadata": {
        "id": "kwcNPMV74IEU"
      },
      "id": "kwcNPMV74IEU",
      "execution_count": 18,
      "outputs": []
    },
    {
      "cell_type": "code",
      "source": [
        "errors.style.format(\"{:.2f}\")"
      ],
      "metadata": {
        "colab": {
          "base_uri": "https://localhost:8080/",
          "height": 143
        },
        "id": "x5YLSaJdNAZ8",
        "outputId": "4f59f5cc-0c7a-4aba-898e-16af62777bfa"
      },
      "id": "x5YLSaJdNAZ8",
      "execution_count": 19,
      "outputs": [
        {
          "output_type": "execute_result",
          "data": {
            "text/plain": [
              "<pandas.io.formats.style.Styler at 0x7fecc46ae250>"
            ],
            "text/html": [
              "<style type=\"text/css\">\n",
              "</style>\n",
              "<table id=\"T_a7452_\" class=\"dataframe\">\n",
              "  <thead>\n",
              "    <tr>\n",
              "      <th class=\"blank level0\" >&nbsp;</th>\n",
              "      <th class=\"col_heading level0 col0\" >gd train</th>\n",
              "      <th class=\"col_heading level0 col1\" >gd test</th>\n",
              "    </tr>\n",
              "  </thead>\n",
              "  <tbody>\n",
              "    <tr>\n",
              "      <th id=\"T_a7452_level0_row0\" class=\"row_heading level0 row0\" >MSE</th>\n",
              "      <td id=\"T_a7452_row0_col0\" class=\"data row0 col0\" >4920806614.52</td>\n",
              "      <td id=\"T_a7452_row0_col1\" class=\"data row0 col1\" >4904858456.40</td>\n",
              "    </tr>\n",
              "    <tr>\n",
              "      <th id=\"T_a7452_level0_row1\" class=\"row_heading level0 row1\" >RMSE</th>\n",
              "      <td id=\"T_a7452_row1_col0\" class=\"data row1 col0\" >70148.46</td>\n",
              "      <td id=\"T_a7452_row1_col1\" class=\"data row1 col1\" >70034.69</td>\n",
              "    </tr>\n",
              "    <tr>\n",
              "      <th id=\"T_a7452_level0_row2\" class=\"row_heading level0 row2\" >R2</th>\n",
              "      <td id=\"T_a7452_row2_col0\" class=\"data row2 col0\" >0.63</td>\n",
              "      <td id=\"T_a7452_row2_col1\" class=\"data row2 col1\" >0.63</td>\n",
              "    </tr>\n",
              "  </tbody>\n",
              "</table>\n"
            ]
          },
          "metadata": {},
          "execution_count": 19
        }
      ]
    },
    {
      "cell_type": "markdown",
      "source": [
        "Качество модели на тренировочной и на тестовой выборке почти не отличается."
      ],
      "metadata": {
        "id": "V1ochg_Lq80a"
      },
      "id": "V1ochg_Lq80a"
    },
    {
      "cell_type": "markdown",
      "source": [
        "#### Обучить модель, используя существующую библиотеку. Например, в **sklearn** для $L_2$-регуляризатора можно использовать **Ridge**. Сравнить качество с вашей реализацией."
      ],
      "metadata": {
        "id": "wWSbWVvAldoX"
      },
      "id": "wWSbWVvAldoX"
    },
    {
      "cell_type": "code",
      "source": [
        "from sklearn.linear_model import Ridge\n",
        "\n",
        "rdg_model = Ridge()\n",
        "rdg_model.fit(X_train, y_train)\n",
        "rdg_predicts_train = rdg_model.predict(X_train)\n",
        "rdg_predicts_test = rdg_model.predict(X_test)\n",
        "\n",
        "errors.insert(errors.shape[1], 'skl Ridge train',\n",
        "              my_metrics(y_train, rdg_predicts_train), True)\n",
        "\n",
        "errors.insert(errors.shape[1], 'skl Ridge test',\n",
        "              my_metrics(y_test, rdg_predicts_test), True)"
      ],
      "metadata": {
        "id": "53KOA-i3vZWr"
      },
      "id": "53KOA-i3vZWr",
      "execution_count": 20,
      "outputs": []
    },
    {
      "cell_type": "code",
      "source": [
        "errors.style.format(\"{:.2f}\")"
      ],
      "metadata": {
        "colab": {
          "base_uri": "https://localhost:8080/",
          "height": 181
        },
        "id": "utTwc3JHrurC",
        "outputId": "3bd2bad7-5953-47bc-9059-0cf051cf18e1"
      },
      "id": "utTwc3JHrurC",
      "execution_count": 21,
      "outputs": [
        {
          "output_type": "execute_result",
          "data": {
            "text/plain": [
              "<pandas.io.formats.style.Styler at 0x7fecc50bf2d0>"
            ],
            "text/html": [
              "<style type=\"text/css\">\n",
              "</style>\n",
              "<table id=\"T_28b5c_\" class=\"dataframe\">\n",
              "  <thead>\n",
              "    <tr>\n",
              "      <th class=\"blank level0\" >&nbsp;</th>\n",
              "      <th class=\"col_heading level0 col0\" >gd train</th>\n",
              "      <th class=\"col_heading level0 col1\" >gd test</th>\n",
              "      <th class=\"col_heading level0 col2\" >skl Ridge train</th>\n",
              "      <th class=\"col_heading level0 col3\" >skl Ridge test</th>\n",
              "    </tr>\n",
              "  </thead>\n",
              "  <tbody>\n",
              "    <tr>\n",
              "      <th id=\"T_28b5c_level0_row0\" class=\"row_heading level0 row0\" >MSE</th>\n",
              "      <td id=\"T_28b5c_row0_col0\" class=\"data row0 col0\" >4920806614.52</td>\n",
              "      <td id=\"T_28b5c_row0_col1\" class=\"data row0 col1\" >4904858456.40</td>\n",
              "      <td id=\"T_28b5c_row0_col2\" class=\"data row0 col2\" >4842253194.33</td>\n",
              "      <td id=\"T_28b5c_row0_col3\" class=\"data row0 col3\" >4863964626.26</td>\n",
              "    </tr>\n",
              "    <tr>\n",
              "      <th id=\"T_28b5c_level0_row1\" class=\"row_heading level0 row1\" >RMSE</th>\n",
              "      <td id=\"T_28b5c_row1_col0\" class=\"data row1 col0\" >70148.46</td>\n",
              "      <td id=\"T_28b5c_row1_col1\" class=\"data row1 col1\" >70034.69</td>\n",
              "      <td id=\"T_28b5c_row1_col2\" class=\"data row1 col2\" >69586.30</td>\n",
              "      <td id=\"T_28b5c_row1_col3\" class=\"data row1 col3\" >69742.13</td>\n",
              "    </tr>\n",
              "    <tr>\n",
              "      <th id=\"T_28b5c_level0_row2\" class=\"row_heading level0 row2\" >R2</th>\n",
              "      <td id=\"T_28b5c_row2_col0\" class=\"data row2 col0\" >0.63</td>\n",
              "      <td id=\"T_28b5c_row2_col1\" class=\"data row2 col1\" >0.63</td>\n",
              "      <td id=\"T_28b5c_row2_col2\" class=\"data row2 col2\" >0.64</td>\n",
              "      <td id=\"T_28b5c_row2_col3\" class=\"data row2 col3\" >0.64</td>\n",
              "    </tr>\n",
              "  </tbody>\n",
              "</table>\n"
            ]
          },
          "metadata": {},
          "execution_count": 21
        }
      ]
    },
    {
      "cell_type": "markdown",
      "source": [
        "Качество реализации немногим хуже библиотечных реализаций по заданным метрикам."
      ],
      "metadata": {
        "id": "QIVBdbJbwh92"
      },
      "id": "QIVBdbJbwh92"
    },
    {
      "cell_type": "markdown",
      "source": [
        "#### Повторить тоже самое, но используя кросс-валидацию."
      ],
      "metadata": {
        "id": "U2llzWRl9MPn"
      },
      "id": "U2llzWRl9MPn"
    },
    {
      "cell_type": "code",
      "source": [
        "metrics_summary = pd.DataFrame([], ['MSE', 'RMSE', 'R2'], columns=[])"
      ],
      "metadata": {
        "id": "0bvp_PAwneUO"
      },
      "id": "0bvp_PAwneUO",
      "execution_count": 22,
      "outputs": []
    },
    {
      "cell_type": "code",
      "source": [
        "from sklearn.model_selection import KFold, cross_validate\n",
        "from statistics import mean\n",
        "\n",
        "rdg_model = Ridge()\n",
        "scoring = {'neg_mse': 'neg_mean_squared_error',\n",
        "           'neg_rmse': 'neg_root_mean_squared_error',\n",
        "           'r2': 'r2'}\n",
        "\n",
        "for i in range(2,20):\n",
        "  k_folds = KFold(n_splits = i, random_state=19, shuffle=True)\n",
        "  metrics_train = cross_validate(rdg_model, X, y, cv = k_folds, scoring=scoring)\n",
        "\n",
        "  metrics_summary.at['MSE', f'{i}'] = -1*mean(metrics_train['test_neg_mse'])\n",
        "  metrics_summary.at['RMSE', f'{i}'] = -1*mean(metrics_train['test_neg_rmse'])\n",
        "  metrics_summary.at['R2', f'{i}'] = mean(metrics_train['test_r2'])\n",
        "\n",
        "metrics_summary['E'] = metrics_summary.iloc[:, 0:8].mean(axis=1)\n",
        "metrics_summary['STD'] = metrics_summary.iloc[:, 0:8].std(axis=1)"
      ],
      "metadata": {
        "id": "SHi6DrL3oc2m"
      },
      "id": "SHi6DrL3oc2m",
      "execution_count": 23,
      "outputs": []
    },
    {
      "cell_type": "markdown",
      "source": [
        "#### Создать таблицу, со строками (mse-train, mse-test, rmse-train, rmse-test, r2-train, r2-test) и столбцами (Fold1, Fold2, ..., Foldk, E, STD), где k --- количество фолдов в кросс-валидации, E --- мат. ожидание и STD --- стандартное отклонение. Сделать выводы."
      ],
      "metadata": {
        "id": "v2giLW38ydBq"
      },
      "id": "v2giLW38ydBq"
    },
    {
      "cell_type": "code",
      "source": [
        "metrics_summary.style.format(\"{:.2f}\")"
      ],
      "metadata": {
        "colab": {
          "base_uri": "https://localhost:8080/",
          "height": 163
        },
        "id": "2Mfi_EUHyjcJ",
        "outputId": "862eb6d1-ec35-45c7-e440-84b3c53145dd"
      },
      "id": "2Mfi_EUHyjcJ",
      "execution_count": 24,
      "outputs": [
        {
          "output_type": "execute_result",
          "data": {
            "text/plain": [
              "<pandas.io.formats.style.Styler at 0x7fecc4003d50>"
            ],
            "text/html": [
              "<style type=\"text/css\">\n",
              "</style>\n",
              "<table id=\"T_e3dd6_\" class=\"dataframe\">\n",
              "  <thead>\n",
              "    <tr>\n",
              "      <th class=\"blank level0\" >&nbsp;</th>\n",
              "      <th class=\"col_heading level0 col0\" >2</th>\n",
              "      <th class=\"col_heading level0 col1\" >3</th>\n",
              "      <th class=\"col_heading level0 col2\" >4</th>\n",
              "      <th class=\"col_heading level0 col3\" >5</th>\n",
              "      <th class=\"col_heading level0 col4\" >6</th>\n",
              "      <th class=\"col_heading level0 col5\" >7</th>\n",
              "      <th class=\"col_heading level0 col6\" >8</th>\n",
              "      <th class=\"col_heading level0 col7\" >9</th>\n",
              "      <th class=\"col_heading level0 col8\" >10</th>\n",
              "      <th class=\"col_heading level0 col9\" >11</th>\n",
              "      <th class=\"col_heading level0 col10\" >12</th>\n",
              "      <th class=\"col_heading level0 col11\" >13</th>\n",
              "      <th class=\"col_heading level0 col12\" >14</th>\n",
              "      <th class=\"col_heading level0 col13\" >15</th>\n",
              "      <th class=\"col_heading level0 col14\" >16</th>\n",
              "      <th class=\"col_heading level0 col15\" >17</th>\n",
              "      <th class=\"col_heading level0 col16\" >18</th>\n",
              "      <th class=\"col_heading level0 col17\" >19</th>\n",
              "      <th class=\"col_heading level0 col18\" >E</th>\n",
              "      <th class=\"col_heading level0 col19\" >STD</th>\n",
              "    </tr>\n",
              "  </thead>\n",
              "  <tbody>\n",
              "    <tr>\n",
              "      <th id=\"T_e3dd6_level0_row0\" class=\"row_heading level0 row0\" >MSE</th>\n",
              "      <td id=\"T_e3dd6_row0_col0\" class=\"data row0 col0\" >4884691142.75</td>\n",
              "      <td id=\"T_e3dd6_row0_col1\" class=\"data row0 col1\" >4872577865.87</td>\n",
              "      <td id=\"T_e3dd6_row0_col2\" class=\"data row0 col2\" >4870617210.25</td>\n",
              "      <td id=\"T_e3dd6_row0_col3\" class=\"data row0 col3\" >4872747423.56</td>\n",
              "      <td id=\"T_e3dd6_row0_col4\" class=\"data row0 col4\" >4870118702.07</td>\n",
              "      <td id=\"T_e3dd6_row0_col5\" class=\"data row0 col5\" >4876113842.66</td>\n",
              "      <td id=\"T_e3dd6_row0_col6\" class=\"data row0 col6\" >4874772227.70</td>\n",
              "      <td id=\"T_e3dd6_row0_col7\" class=\"data row0 col7\" >4875828683.61</td>\n",
              "      <td id=\"T_e3dd6_row0_col8\" class=\"data row0 col8\" >4879016173.42</td>\n",
              "      <td id=\"T_e3dd6_row0_col9\" class=\"data row0 col9\" >4876956522.25</td>\n",
              "      <td id=\"T_e3dd6_row0_col10\" class=\"data row0 col10\" >4870203686.39</td>\n",
              "      <td id=\"T_e3dd6_row0_col11\" class=\"data row0 col11\" >4873817909.62</td>\n",
              "      <td id=\"T_e3dd6_row0_col12\" class=\"data row0 col12\" >4874846711.18</td>\n",
              "      <td id=\"T_e3dd6_row0_col13\" class=\"data row0 col13\" >4875886249.01</td>\n",
              "      <td id=\"T_e3dd6_row0_col14\" class=\"data row0 col14\" >4873807234.57</td>\n",
              "      <td id=\"T_e3dd6_row0_col15\" class=\"data row0 col15\" >4873905254.84</td>\n",
              "      <td id=\"T_e3dd6_row0_col16\" class=\"data row0 col16\" >4869454974.68</td>\n",
              "      <td id=\"T_e3dd6_row0_col17\" class=\"data row0 col17\" >4874333145.39</td>\n",
              "      <td id=\"T_e3dd6_row0_col18\" class=\"data row0 col18\" >4874683387.31</td>\n",
              "      <td id=\"T_e3dd6_row0_col19\" class=\"data row0 col19\" >4614763.44</td>\n",
              "    </tr>\n",
              "    <tr>\n",
              "      <th id=\"T_e3dd6_level0_row1\" class=\"row_heading level0 row1\" >RMSE</th>\n",
              "      <td id=\"T_e3dd6_row1_col0\" class=\"data row1 col0\" >69888.37</td>\n",
              "      <td id=\"T_e3dd6_row1_col1\" class=\"data row1 col1\" >69802.76</td>\n",
              "      <td id=\"T_e3dd6_row1_col2\" class=\"data row1 col2\" >69786.88</td>\n",
              "      <td id=\"T_e3dd6_row1_col3\" class=\"data row1 col3\" >69798.32</td>\n",
              "      <td id=\"T_e3dd6_row1_col4\" class=\"data row1 col4\" >69778.69</td>\n",
              "      <td id=\"T_e3dd6_row1_col5\" class=\"data row1 col5\" >69807.43</td>\n",
              "      <td id=\"T_e3dd6_row1_col6\" class=\"data row1 col6\" >69802.11</td>\n",
              "      <td id=\"T_e3dd6_row1_col7\" class=\"data row1 col7\" >69808.11</td>\n",
              "      <td id=\"T_e3dd6_row1_col8\" class=\"data row1 col8\" >69822.13</td>\n",
              "      <td id=\"T_e3dd6_row1_col9\" class=\"data row1 col9\" >69813.43</td>\n",
              "      <td id=\"T_e3dd6_row1_col10\" class=\"data row1 col10\" >69768.22</td>\n",
              "      <td id=\"T_e3dd6_row1_col11\" class=\"data row1 col11\" >69781.76</td>\n",
              "      <td id=\"T_e3dd6_row1_col12\" class=\"data row1 col12\" >69783.13</td>\n",
              "      <td id=\"T_e3dd6_row1_col13\" class=\"data row1 col13\" >69795.35</td>\n",
              "      <td id=\"T_e3dd6_row1_col14\" class=\"data row1 col14\" >69770.48</td>\n",
              "      <td id=\"T_e3dd6_row1_col15\" class=\"data row1 col15\" >69748.79</td>\n",
              "      <td id=\"T_e3dd6_row1_col16\" class=\"data row1 col16\" >69736.24</td>\n",
              "      <td id=\"T_e3dd6_row1_col17\" class=\"data row1 col17\" >69769.45</td>\n",
              "      <td id=\"T_e3dd6_row1_col18\" class=\"data row1 col18\" >69809.08</td>\n",
              "      <td id=\"T_e3dd6_row1_col19\" class=\"data row1 col19\" >33.62</td>\n",
              "    </tr>\n",
              "    <tr>\n",
              "      <th id=\"T_e3dd6_level0_row2\" class=\"row_heading level0 row2\" >R2</th>\n",
              "      <td id=\"T_e3dd6_row2_col0\" class=\"data row2 col0\" >0.63</td>\n",
              "      <td id=\"T_e3dd6_row2_col1\" class=\"data row2 col1\" >0.63</td>\n",
              "      <td id=\"T_e3dd6_row2_col2\" class=\"data row2 col2\" >0.63</td>\n",
              "      <td id=\"T_e3dd6_row2_col3\" class=\"data row2 col3\" >0.63</td>\n",
              "      <td id=\"T_e3dd6_row2_col4\" class=\"data row2 col4\" >0.63</td>\n",
              "      <td id=\"T_e3dd6_row2_col5\" class=\"data row2 col5\" >0.63</td>\n",
              "      <td id=\"T_e3dd6_row2_col6\" class=\"data row2 col6\" >0.63</td>\n",
              "      <td id=\"T_e3dd6_row2_col7\" class=\"data row2 col7\" >0.63</td>\n",
              "      <td id=\"T_e3dd6_row2_col8\" class=\"data row2 col8\" >0.63</td>\n",
              "      <td id=\"T_e3dd6_row2_col9\" class=\"data row2 col9\" >0.63</td>\n",
              "      <td id=\"T_e3dd6_row2_col10\" class=\"data row2 col10\" >0.63</td>\n",
              "      <td id=\"T_e3dd6_row2_col11\" class=\"data row2 col11\" >0.63</td>\n",
              "      <td id=\"T_e3dd6_row2_col12\" class=\"data row2 col12\" >0.63</td>\n",
              "      <td id=\"T_e3dd6_row2_col13\" class=\"data row2 col13\" >0.63</td>\n",
              "      <td id=\"T_e3dd6_row2_col14\" class=\"data row2 col14\" >0.63</td>\n",
              "      <td id=\"T_e3dd6_row2_col15\" class=\"data row2 col15\" >0.63</td>\n",
              "      <td id=\"T_e3dd6_row2_col16\" class=\"data row2 col16\" >0.63</td>\n",
              "      <td id=\"T_e3dd6_row2_col17\" class=\"data row2 col17\" >0.63</td>\n",
              "      <td id=\"T_e3dd6_row2_col18\" class=\"data row2 col18\" >0.63</td>\n",
              "      <td id=\"T_e3dd6_row2_col19\" class=\"data row2 col19\" >0.00</td>\n",
              "    </tr>\n",
              "  </tbody>\n",
              "</table>\n"
            ]
          },
          "metadata": {},
          "execution_count": 24
        }
      ]
    },
    {
      "cell_type": "markdown",
      "source": [
        "Кросс-валидация с моделью Ridge с числом фолдов 2..19 показала нулевой разброс нормированной среднеквадратичной ошибки ($R^2$). При этом сама ошибка на 0.01 меньше таковой из сравнения Ridge с моей реализацией линейной регрессии.\n",
        "\n",
        "Две других ошибки имеют небольшое стандартное отклонение в сравнении с мат. ожиданием.\n",
        "\n",
        "По итогам сравнения использование кросс-валидации и Ridge не дало улучшения метрик работы модели."
      ],
      "metadata": {
        "id": "Wi0a-QkLw_Vy"
      },
      "id": "Wi0a-QkLw_Vy"
    },
    {
      "cell_type": "markdown",
      "source": [
        "#### * (+2 балла) Также самостоятельно реализовать метод стохастического градиентного спуска (Stochastic Gradient Descent, SGD), обучить модели и добавить их во все сравнения."
      ],
      "metadata": {
        "id": "c-PlKaZJpYuq"
      },
      "id": "c-PlKaZJpYuq"
    },
    {
      "cell_type": "code",
      "source": [
        "def stochastic_gradient_descent(X, y, learning_rate=0.01, n_iterations=1000):\n",
        "    # Инициализация весов и смещения\n",
        "    weights = np.zeros(X.shape[1])\n",
        "    bias = 0\n",
        "    \n",
        "    # Стохастический градиентный спуск\n",
        "    for i in range(n_iterations):\n",
        "        indice = np.random.choice(X_train.shape[0], 1, replace=False)\n",
        "        shuffle_X = X[indice]\n",
        "        shuffle_y = y[indice]\n",
        "        weights, bias = gradient_step(shuffle_X, shuffle_y, weights,\n",
        "                                      bias, learning_rate)\n",
        "\n",
        "    return weights, bias"
      ],
      "metadata": {
        "id": "vLfOUjCtpqTE"
      },
      "id": "vLfOUjCtpqTE",
      "execution_count": 25,
      "outputs": []
    },
    {
      "cell_type": "code",
      "source": [
        "sgd_weights, sgd_bias = stochastic_gradient_descent(X = X_train, y = y_train,\n",
        "                                                    learning_rate = 0.01,\n",
        "                                                    n_iterations=10000)\n",
        "sgd_predicts_test = np.dot(X_test, sgd_weights) + sgd_bias\n",
        "sgd_predicts_train = np.dot(X_train, sgd_weights) + sgd_bias"
      ],
      "metadata": {
        "id": "ycHj9EC1rvfW"
      },
      "id": "ycHj9EC1rvfW",
      "execution_count": 26,
      "outputs": []
    },
    {
      "cell_type": "code",
      "source": [
        "errors.insert(errors.shape[1], 'sgd train',\n",
        "              my_metrics(y_train, sgd_predicts_train), True)\n",
        "errors.insert(errors.shape[1], 'sgd test',\n",
        "              my_metrics(y_test, sgd_predicts_test), True)"
      ],
      "metadata": {
        "id": "fvTwXPAE8eqO"
      },
      "id": "fvTwXPAE8eqO",
      "execution_count": 27,
      "outputs": []
    },
    {
      "cell_type": "markdown",
      "source": [
        "#### * (+2 балла) Также самостоятельно реализовать метод мини-пакетного градиентного спуска (Mini Batch Gradient Descent), обучить модели и добавить их во все сравнения."
      ],
      "metadata": {
        "id": "bfmofXxmtmQr"
      },
      "id": "bfmofXxmtmQr"
    },
    {
      "cell_type": "code",
      "source": [
        "def mb_stochastic_gradient_descent(X, y, learning_rate=0.01, n_iterations=1000, batch_size = 256):\n",
        "    # Инициализация весов и смещения\n",
        "    weights = np.zeros(X.shape[1])\n",
        "    bias = 0\n",
        "    \n",
        "    # мини-пакетный градиентный спуск\n",
        "    for i in range(n_iterations):\n",
        "        indice = np.random.choice(X_train.shape[0], batch_size, replace=False)\n",
        "        shuffle_X = X[indice]\n",
        "        shuffle_y = y[indice]\n",
        "        weights, bias = gradient_step(shuffle_X, shuffle_y, weights, bias, learning_rate)\n",
        "\n",
        "    return weights, bias"
      ],
      "metadata": {
        "id": "DBPMpy49tv0l"
      },
      "execution_count": 28,
      "outputs": [],
      "id": "DBPMpy49tv0l"
    },
    {
      "cell_type": "code",
      "source": [
        "mb_sgd_weights, mb_sgd_bias = mb_stochastic_gradient_descent(X = X_train, y = y_train, learning_rate = 0.01, n_iterations=10000)\n",
        "mb_sgd_predicts_train = np.dot(X_train, mb_sgd_weights) + mb_sgd_bias\n",
        "mb_sgd_predicts_test = np.dot(X_test, mb_sgd_weights) + mb_sgd_bias"
      ],
      "metadata": {
        "id": "HuqFwvq6tv0p"
      },
      "execution_count": 29,
      "outputs": [],
      "id": "HuqFwvq6tv0p"
    },
    {
      "cell_type": "code",
      "source": [
        "errors.insert(errors.shape[1], 'mb sgd train',\n",
        "              my_metrics(y_train, mb_sgd_predicts_train), True)\n",
        "errors.insert(errors.shape[1], 'mb sgd test',\n",
        "              my_metrics(y_test, mb_sgd_predicts_test), True)"
      ],
      "metadata": {
        "id": "NFvyqNDL9CSQ"
      },
      "id": "NFvyqNDL9CSQ",
      "execution_count": 30,
      "outputs": []
    },
    {
      "cell_type": "markdown",
      "source": [
        "#### Итоговая таблица сравнения метрик моделей"
      ],
      "metadata": {
        "id": "19qKx7mx0J5Q"
      },
      "id": "19qKx7mx0J5Q"
    },
    {
      "cell_type": "code",
      "source": [
        "errors.style.format(\"{:.2f}\")"
      ],
      "metadata": {
        "colab": {
          "base_uri": "https://localhost:8080/",
          "height": 181
        },
        "id": "iNkwmc-1y4cG",
        "outputId": "1214a9c2-f8d0-4102-f51f-2750796094f3"
      },
      "id": "iNkwmc-1y4cG",
      "execution_count": 31,
      "outputs": [
        {
          "output_type": "execute_result",
          "data": {
            "text/plain": [
              "<pandas.io.formats.style.Styler at 0x7fecc3fd8d50>"
            ],
            "text/html": [
              "<style type=\"text/css\">\n",
              "</style>\n",
              "<table id=\"T_05840_\" class=\"dataframe\">\n",
              "  <thead>\n",
              "    <tr>\n",
              "      <th class=\"blank level0\" >&nbsp;</th>\n",
              "      <th class=\"col_heading level0 col0\" >gd train</th>\n",
              "      <th class=\"col_heading level0 col1\" >gd test</th>\n",
              "      <th class=\"col_heading level0 col2\" >skl Ridge train</th>\n",
              "      <th class=\"col_heading level0 col3\" >skl Ridge test</th>\n",
              "      <th class=\"col_heading level0 col4\" >sgd train</th>\n",
              "      <th class=\"col_heading level0 col5\" >sgd test</th>\n",
              "      <th class=\"col_heading level0 col6\" >mb sgd train</th>\n",
              "      <th class=\"col_heading level0 col7\" >mb sgd test</th>\n",
              "    </tr>\n",
              "  </thead>\n",
              "  <tbody>\n",
              "    <tr>\n",
              "      <th id=\"T_05840_level0_row0\" class=\"row_heading level0 row0\" >MSE</th>\n",
              "      <td id=\"T_05840_row0_col0\" class=\"data row0 col0\" >4920806614.52</td>\n",
              "      <td id=\"T_05840_row0_col1\" class=\"data row0 col1\" >4904858456.40</td>\n",
              "      <td id=\"T_05840_row0_col2\" class=\"data row0 col2\" >4842253194.33</td>\n",
              "      <td id=\"T_05840_row0_col3\" class=\"data row0 col3\" >4863964626.26</td>\n",
              "      <td id=\"T_05840_row0_col4\" class=\"data row0 col4\" >5564295349.29</td>\n",
              "      <td id=\"T_05840_row0_col5\" class=\"data row0 col5\" >5537522276.59</td>\n",
              "      <td id=\"T_05840_row0_col6\" class=\"data row0 col6\" >4845474696.45</td>\n",
              "      <td id=\"T_05840_row0_col7\" class=\"data row0 col7\" >4867302992.95</td>\n",
              "    </tr>\n",
              "    <tr>\n",
              "      <th id=\"T_05840_level0_row1\" class=\"row_heading level0 row1\" >RMSE</th>\n",
              "      <td id=\"T_05840_row1_col0\" class=\"data row1 col0\" >70148.46</td>\n",
              "      <td id=\"T_05840_row1_col1\" class=\"data row1 col1\" >70034.69</td>\n",
              "      <td id=\"T_05840_row1_col2\" class=\"data row1 col2\" >69586.30</td>\n",
              "      <td id=\"T_05840_row1_col3\" class=\"data row1 col3\" >69742.13</td>\n",
              "      <td id=\"T_05840_row1_col4\" class=\"data row1 col4\" >74594.20</td>\n",
              "      <td id=\"T_05840_row1_col5\" class=\"data row1 col5\" >74414.53</td>\n",
              "      <td id=\"T_05840_row1_col6\" class=\"data row1 col6\" >69609.44</td>\n",
              "      <td id=\"T_05840_row1_col7\" class=\"data row1 col7\" >69766.06</td>\n",
              "    </tr>\n",
              "    <tr>\n",
              "      <th id=\"T_05840_level0_row2\" class=\"row_heading level0 row2\" >R2</th>\n",
              "      <td id=\"T_05840_row2_col0\" class=\"data row2 col0\" >0.63</td>\n",
              "      <td id=\"T_05840_row2_col1\" class=\"data row2 col1\" >0.63</td>\n",
              "      <td id=\"T_05840_row2_col2\" class=\"data row2 col2\" >0.64</td>\n",
              "      <td id=\"T_05840_row2_col3\" class=\"data row2 col3\" >0.64</td>\n",
              "      <td id=\"T_05840_row2_col4\" class=\"data row2 col4\" >0.58</td>\n",
              "      <td id=\"T_05840_row2_col5\" class=\"data row2 col5\" >0.59</td>\n",
              "      <td id=\"T_05840_row2_col6\" class=\"data row2 col6\" >0.64</td>\n",
              "      <td id=\"T_05840_row2_col7\" class=\"data row2 col7\" >0.64</td>\n",
              "    </tr>\n",
              "  </tbody>\n",
              "</table>\n"
            ]
          },
          "metadata": {},
          "execution_count": 31
        }
      ]
    },
    {
      "cell_type": "markdown",
      "source": [
        "Из всех реализаций к библиотечному Ridge по метрикам ближе всех оказалась реализация мини-пакетного градиентного спуска (столбцы `mb sgd train`, `mb sgd test`). Хуже всего себя показала реализация стохастического градиентного спуска (столбцы `sgd train`, `sgd test`). Возможно изменение итоговых результов после подбора оптимальных значений гиперпараметров и обучения моделей с найденными гиперпараметрами."
      ],
      "metadata": {
        "id": "Mp86AAjpo4_5"
      },
      "id": "Mp86AAjpo4_5"
    },
    {
      "cell_type": "markdown",
      "source": [
        "#### * (+1 балл) Перед обучением моделей подобрать наилучшее количество (и само подмножество) признаков, например используя Recursive Feature Elimination (RFE)."
      ],
      "metadata": {
        "id": "Rl80qlJx-tEu"
      },
      "id": "Rl80qlJx-tEu"
    },
    {
      "cell_type": "markdown",
      "source": [
        "На этапе EDA была обнаружена корреляция между признаками  `households`, `population`, `total bedrooms`, `total rooms`. Предполагая, что из 4 признаков нужно оставить два, используем RFE с параметром `n_features_to_select` равным 7, чтобы оставить 7 из 9 признаков."
      ],
      "metadata": {
        "id": "JPRyb_gbY63Z"
      },
      "id": "JPRyb_gbY63Z"
    },
    {
      "cell_type": "code",
      "source": [
        "from sklearn.feature_selection import RFE\n",
        "from sklearn.linear_model import LinearRegression\n",
        "\n",
        "model = LinearRegression()\n",
        "rfe = RFE(estimator = model, n_features_to_select=7, step=1)\n",
        "rfe = rfe.fit(X, y)\n",
        "rfe_features = rfe.get_feature_names_out(input_features = data.drop('median_house_value', axis = 1).columns)"
      ],
      "metadata": {
        "id": "x3iL8bYt3vt1"
      },
      "execution_count": 32,
      "outputs": [],
      "id": "x3iL8bYt3vt1"
    },
    {
      "cell_type": "code",
      "source": [
        "X_rfe = data[rfe_features]\n",
        "X_rfe"
      ],
      "metadata": {
        "colab": {
          "base_uri": "https://localhost:8080/",
          "height": 424
        },
        "id": "4jmQZs9h7co2",
        "outputId": "0c2a4f54-31d3-4b9b-c065-0431e5a22446"
      },
      "id": "4jmQZs9h7co2",
      "execution_count": 33,
      "outputs": [
        {
          "output_type": "execute_result",
          "data": {
            "text/plain": [
              "       longitude  latitude  housing_median_age  total_bedrooms  households  \\\n",
              "0        -122.23     37.88                41.0             129       126.0   \n",
              "1        -122.22     37.86                21.0            1106      1138.0   \n",
              "2        -122.24     37.85                52.0             190       177.0   \n",
              "3        -122.25     37.85                52.0             235       219.0   \n",
              "4        -122.25     37.85                52.0             280       259.0   \n",
              "...          ...       ...                 ...             ...         ...   \n",
              "20635    -121.09     39.48                25.0             374       330.0   \n",
              "20636    -121.21     39.49                18.0             150       114.0   \n",
              "20637    -121.22     39.43                17.0             485       433.0   \n",
              "20638    -121.32     39.43                18.0             409       349.0   \n",
              "20639    -121.24     39.37                16.0             616       530.0   \n",
              "\n",
              "       median_income  ocean_proximity  \n",
              "0             8.3252                3  \n",
              "1             8.3014                3  \n",
              "2             7.2574                3  \n",
              "3             5.6431                3  \n",
              "4             3.8462                3  \n",
              "...              ...              ...  \n",
              "20635         1.5603                1  \n",
              "20636         2.5568                1  \n",
              "20637         1.7000                1  \n",
              "20638         1.8672                1  \n",
              "20639         2.3886                1  \n",
              "\n",
              "[20640 rows x 7 columns]"
            ],
            "text/html": [
              "\n",
              "  <div id=\"df-8f9bc52b-ad88-432b-a92f-9e35edd22715\">\n",
              "    <div class=\"colab-df-container\">\n",
              "      <div>\n",
              "<style scoped>\n",
              "    .dataframe tbody tr th:only-of-type {\n",
              "        vertical-align: middle;\n",
              "    }\n",
              "\n",
              "    .dataframe tbody tr th {\n",
              "        vertical-align: top;\n",
              "    }\n",
              "\n",
              "    .dataframe thead th {\n",
              "        text-align: right;\n",
              "    }\n",
              "</style>\n",
              "<table border=\"1\" class=\"dataframe\">\n",
              "  <thead>\n",
              "    <tr style=\"text-align: right;\">\n",
              "      <th></th>\n",
              "      <th>longitude</th>\n",
              "      <th>latitude</th>\n",
              "      <th>housing_median_age</th>\n",
              "      <th>total_bedrooms</th>\n",
              "      <th>households</th>\n",
              "      <th>median_income</th>\n",
              "      <th>ocean_proximity</th>\n",
              "    </tr>\n",
              "  </thead>\n",
              "  <tbody>\n",
              "    <tr>\n",
              "      <th>0</th>\n",
              "      <td>-122.23</td>\n",
              "      <td>37.88</td>\n",
              "      <td>41.0</td>\n",
              "      <td>129</td>\n",
              "      <td>126.0</td>\n",
              "      <td>8.3252</td>\n",
              "      <td>3</td>\n",
              "    </tr>\n",
              "    <tr>\n",
              "      <th>1</th>\n",
              "      <td>-122.22</td>\n",
              "      <td>37.86</td>\n",
              "      <td>21.0</td>\n",
              "      <td>1106</td>\n",
              "      <td>1138.0</td>\n",
              "      <td>8.3014</td>\n",
              "      <td>3</td>\n",
              "    </tr>\n",
              "    <tr>\n",
              "      <th>2</th>\n",
              "      <td>-122.24</td>\n",
              "      <td>37.85</td>\n",
              "      <td>52.0</td>\n",
              "      <td>190</td>\n",
              "      <td>177.0</td>\n",
              "      <td>7.2574</td>\n",
              "      <td>3</td>\n",
              "    </tr>\n",
              "    <tr>\n",
              "      <th>3</th>\n",
              "      <td>-122.25</td>\n",
              "      <td>37.85</td>\n",
              "      <td>52.0</td>\n",
              "      <td>235</td>\n",
              "      <td>219.0</td>\n",
              "      <td>5.6431</td>\n",
              "      <td>3</td>\n",
              "    </tr>\n",
              "    <tr>\n",
              "      <th>4</th>\n",
              "      <td>-122.25</td>\n",
              "      <td>37.85</td>\n",
              "      <td>52.0</td>\n",
              "      <td>280</td>\n",
              "      <td>259.0</td>\n",
              "      <td>3.8462</td>\n",
              "      <td>3</td>\n",
              "    </tr>\n",
              "    <tr>\n",
              "      <th>...</th>\n",
              "      <td>...</td>\n",
              "      <td>...</td>\n",
              "      <td>...</td>\n",
              "      <td>...</td>\n",
              "      <td>...</td>\n",
              "      <td>...</td>\n",
              "      <td>...</td>\n",
              "    </tr>\n",
              "    <tr>\n",
              "      <th>20635</th>\n",
              "      <td>-121.09</td>\n",
              "      <td>39.48</td>\n",
              "      <td>25.0</td>\n",
              "      <td>374</td>\n",
              "      <td>330.0</td>\n",
              "      <td>1.5603</td>\n",
              "      <td>1</td>\n",
              "    </tr>\n",
              "    <tr>\n",
              "      <th>20636</th>\n",
              "      <td>-121.21</td>\n",
              "      <td>39.49</td>\n",
              "      <td>18.0</td>\n",
              "      <td>150</td>\n",
              "      <td>114.0</td>\n",
              "      <td>2.5568</td>\n",
              "      <td>1</td>\n",
              "    </tr>\n",
              "    <tr>\n",
              "      <th>20637</th>\n",
              "      <td>-121.22</td>\n",
              "      <td>39.43</td>\n",
              "      <td>17.0</td>\n",
              "      <td>485</td>\n",
              "      <td>433.0</td>\n",
              "      <td>1.7000</td>\n",
              "      <td>1</td>\n",
              "    </tr>\n",
              "    <tr>\n",
              "      <th>20638</th>\n",
              "      <td>-121.32</td>\n",
              "      <td>39.43</td>\n",
              "      <td>18.0</td>\n",
              "      <td>409</td>\n",
              "      <td>349.0</td>\n",
              "      <td>1.8672</td>\n",
              "      <td>1</td>\n",
              "    </tr>\n",
              "    <tr>\n",
              "      <th>20639</th>\n",
              "      <td>-121.24</td>\n",
              "      <td>39.37</td>\n",
              "      <td>16.0</td>\n",
              "      <td>616</td>\n",
              "      <td>530.0</td>\n",
              "      <td>2.3886</td>\n",
              "      <td>1</td>\n",
              "    </tr>\n",
              "  </tbody>\n",
              "</table>\n",
              "<p>20640 rows × 7 columns</p>\n",
              "</div>\n",
              "      <button class=\"colab-df-convert\" onclick=\"convertToInteractive('df-8f9bc52b-ad88-432b-a92f-9e35edd22715')\"\n",
              "              title=\"Convert this dataframe to an interactive table.\"\n",
              "              style=\"display:none;\">\n",
              "        \n",
              "  <svg xmlns=\"http://www.w3.org/2000/svg\" height=\"24px\"viewBox=\"0 0 24 24\"\n",
              "       width=\"24px\">\n",
              "    <path d=\"M0 0h24v24H0V0z\" fill=\"none\"/>\n",
              "    <path d=\"M18.56 5.44l.94 2.06.94-2.06 2.06-.94-2.06-.94-.94-2.06-.94 2.06-2.06.94zm-11 1L8.5 8.5l.94-2.06 2.06-.94-2.06-.94L8.5 2.5l-.94 2.06-2.06.94zm10 10l.94 2.06.94-2.06 2.06-.94-2.06-.94-.94-2.06-.94 2.06-2.06.94z\"/><path d=\"M17.41 7.96l-1.37-1.37c-.4-.4-.92-.59-1.43-.59-.52 0-1.04.2-1.43.59L10.3 9.45l-7.72 7.72c-.78.78-.78 2.05 0 2.83L4 21.41c.39.39.9.59 1.41.59.51 0 1.02-.2 1.41-.59l7.78-7.78 2.81-2.81c.8-.78.8-2.07 0-2.86zM5.41 20L4 18.59l7.72-7.72 1.47 1.35L5.41 20z\"/>\n",
              "  </svg>\n",
              "      </button>\n",
              "      \n",
              "  <style>\n",
              "    .colab-df-container {\n",
              "      display:flex;\n",
              "      flex-wrap:wrap;\n",
              "      gap: 12px;\n",
              "    }\n",
              "\n",
              "    .colab-df-convert {\n",
              "      background-color: #E8F0FE;\n",
              "      border: none;\n",
              "      border-radius: 50%;\n",
              "      cursor: pointer;\n",
              "      display: none;\n",
              "      fill: #1967D2;\n",
              "      height: 32px;\n",
              "      padding: 0 0 0 0;\n",
              "      width: 32px;\n",
              "    }\n",
              "\n",
              "    .colab-df-convert:hover {\n",
              "      background-color: #E2EBFA;\n",
              "      box-shadow: 0px 1px 2px rgba(60, 64, 67, 0.3), 0px 1px 3px 1px rgba(60, 64, 67, 0.15);\n",
              "      fill: #174EA6;\n",
              "    }\n",
              "\n",
              "    [theme=dark] .colab-df-convert {\n",
              "      background-color: #3B4455;\n",
              "      fill: #D2E3FC;\n",
              "    }\n",
              "\n",
              "    [theme=dark] .colab-df-convert:hover {\n",
              "      background-color: #434B5C;\n",
              "      box-shadow: 0px 1px 3px 1px rgba(0, 0, 0, 0.15);\n",
              "      filter: drop-shadow(0px 1px 2px rgba(0, 0, 0, 0.3));\n",
              "      fill: #FFFFFF;\n",
              "    }\n",
              "  </style>\n",
              "\n",
              "      <script>\n",
              "        const buttonEl =\n",
              "          document.querySelector('#df-8f9bc52b-ad88-432b-a92f-9e35edd22715 button.colab-df-convert');\n",
              "        buttonEl.style.display =\n",
              "          google.colab.kernel.accessAllowed ? 'block' : 'none';\n",
              "\n",
              "        async function convertToInteractive(key) {\n",
              "          const element = document.querySelector('#df-8f9bc52b-ad88-432b-a92f-9e35edd22715');\n",
              "          const dataTable =\n",
              "            await google.colab.kernel.invokeFunction('convertToInteractive',\n",
              "                                                     [key], {});\n",
              "          if (!dataTable) return;\n",
              "\n",
              "          const docLinkHtml = 'Like what you see? Visit the ' +\n",
              "            '<a target=\"_blank\" href=https://colab.research.google.com/notebooks/data_table.ipynb>data table notebook</a>'\n",
              "            + ' to learn more about interactive tables.';\n",
              "          element.innerHTML = '';\n",
              "          dataTable['output_type'] = 'display_data';\n",
              "          await google.colab.output.renderOutput(dataTable, element);\n",
              "          const docLink = document.createElement('div');\n",
              "          docLink.innerHTML = docLinkHtml;\n",
              "          element.appendChild(docLink);\n",
              "        }\n",
              "      </script>\n",
              "    </div>\n",
              "  </div>\n",
              "  "
            ]
          },
          "metadata": {},
          "execution_count": 33
        }
      ]
    },
    {
      "cell_type": "markdown",
      "source": [
        "Остались признаки `longitude`, `latitude`, `housing_median_age`, ` \ttotal_bedrooms`, `households`, `median_income`, `ocean_proximity`.\n",
        "Признаки `total_rooms` и `population` были отсечены RFE как наименее важные. Это совпадает с предложением *оставить один из пары `households`, `population` и один из пары `total_bedrooms`, `total_rooms`*  из раздела EDA."
      ],
      "metadata": {
        "id": "Z7IECBJk6X73"
      },
      "id": "Z7IECBJk6X73"
    },
    {
      "cell_type": "markdown",
      "source": [
        "Обучим линейную регрессию и сравним результат."
      ],
      "metadata": {
        "id": "CGs7Wxb-dSWr"
      },
      "id": "CGs7Wxb-dSWr"
    },
    {
      "cell_type": "code",
      "source": [
        "X_train, X_test, y_train, y_test = train_test_split(X_rfe, y, test_size=0.33 , random_state=19)"
      ],
      "metadata": {
        "id": "TXDVpdAq8v12"
      },
      "execution_count": 34,
      "outputs": [],
      "id": "TXDVpdAq8v12"
    },
    {
      "cell_type": "code",
      "source": [
        "from sklearn.preprocessing import StandardScaler\n",
        "scaler = StandardScaler ()\n",
        "X_train = scaler.fit_transform(X_train)\n",
        "X_test = scaler.fit_transform(X_test)"
      ],
      "metadata": {
        "id": "W6QaWYqm8v14"
      },
      "execution_count": 35,
      "outputs": [],
      "id": "W6QaWYqm8v14"
    },
    {
      "cell_type": "code",
      "source": [
        "rfe_gd_weights, rfe_gd_bias = gradient_descent(X_train,y_train)\n",
        "\n",
        "rfe_gd_predicts_train = np.dot(X_train, rfe_gd_weights) + rfe_gd_bias\n",
        "rfe_gd_predicts_test = np.dot(X_test, rfe_gd_weights) + rfe_gd_bias\n",
        "\n",
        "rfe_errors = pd.DataFrame(my_metrics(y_train, rfe_gd_predicts_train),\n",
        "                         ['MSE', 'RMSE', 'R2'],\n",
        "                          columns=['(rfe) gd train'])\n",
        "rfe_errors.insert(rfe_errors.shape[1], '(rfe) gd test',\n",
        "                  my_metrics(y_test, rfe_gd_predicts_test), True)"
      ],
      "metadata": {
        "id": "8bkDaOYI8v15"
      },
      "execution_count": 36,
      "outputs": [],
      "id": "8bkDaOYI8v15"
    },
    {
      "cell_type": "code",
      "source": [
        "rfe_rdg_model = Ridge()\n",
        "rfe_rdg_model.fit(X_train, y_train)\n",
        "rfe_rdg_predictions_train = rfe_rdg_model.predict(X_train)\n",
        "rfe_rdg_predictions_test = rfe_rdg_model.predict(X_test)\n",
        "\n",
        "rfe_errors.insert(rfe_errors.shape[1], '(rfe) skl Ridge train',\n",
        "                  my_metrics(y_train, rfe_rdg_predictions_train), True)\n",
        "rfe_errors.insert(rfe_errors.shape[1], '(rfe) skl Ridge test',\n",
        "                  my_metrics(y_test, rfe_rdg_predictions_test), True)"
      ],
      "metadata": {
        "id": "vrOl3y3982O3"
      },
      "id": "vrOl3y3982O3",
      "execution_count": 37,
      "outputs": []
    },
    {
      "cell_type": "code",
      "source": [
        "rfe_sgd_weights, rfe_sgd_bias = stochastic_gradient_descent(X = X_train,\n",
        "                                                          y = y_train,\n",
        "                                                          learning_rate = 0.01,\n",
        "                                                          n_iterations=10000)\n",
        "\n",
        "rfe_sgd_predicts_train = np.dot(X_train, rfe_sgd_weights) + rfe_sgd_bias\n",
        "rfe_sgd_predicts_test = np.dot(X_test, rfe_sgd_weights) + rfe_gd_bias\n",
        "\n",
        "rfe_errors.insert(rfe_errors.shape[1], '(rfe) sgd train',\n",
        "                  my_metrics(y_train, rfe_sgd_predicts_train), True)\n",
        "rfe_errors.insert(rfe_errors.shape[1], '(rfe) sgd test',\n",
        "                  my_metrics(y_test, rfe_sgd_predicts_test), True)"
      ],
      "metadata": {
        "id": "ndduy9opkcHt"
      },
      "id": "ndduy9opkcHt",
      "execution_count": 38,
      "outputs": []
    },
    {
      "cell_type": "code",
      "source": [
        "rfe_mb_sgd_weights, rfe_mb_sgd_bias = mb_stochastic_gradient_descent(X = X_train,\n",
        "                                                          y = y_train,\n",
        "                                                          learning_rate = 0.01,\n",
        "                                                          n_iterations=10000)\n",
        "\n",
        "rfe_mb_sgd_predicts_train = np.dot(X_train, rfe_mb_sgd_weights) + rfe_mb_sgd_bias\n",
        "rfe_mb_sgd_predicts_test = np.dot(X_test, rfe_mb_sgd_weights) + rfe_mb_sgd_bias\n",
        "\n",
        "rfe_errors.insert(rfe_errors.shape[1], '(rfe) mb sgd train',\n",
        "                  my_metrics(y_train, rfe_mb_sgd_predicts_train), True)\n",
        "rfe_errors.insert(rfe_errors.shape[1], '(rfe) mb sgd test',\n",
        "                  my_metrics(y_test, rfe_mb_sgd_predicts_test), True)"
      ],
      "metadata": {
        "id": "JJAdEfTslMeN"
      },
      "id": "JJAdEfTslMeN",
      "execution_count": 39,
      "outputs": []
    },
    {
      "cell_type": "markdown",
      "source": [
        "Метрики моделей, обученных после применения RFE к датасету."
      ],
      "metadata": {
        "id": "cAfnBHETljG2"
      },
      "id": "cAfnBHETljG2"
    },
    {
      "cell_type": "code",
      "source": [
        "rfe_errors.style.format(\"{:.2f}\")"
      ],
      "metadata": {
        "colab": {
          "base_uri": "https://localhost:8080/",
          "height": 143
        },
        "id": "5vUxvQZIgvxd",
        "outputId": "f514c0a4-bbf9-485a-e2c9-1f87055ccefa"
      },
      "id": "5vUxvQZIgvxd",
      "execution_count": 40,
      "outputs": [
        {
          "output_type": "execute_result",
          "data": {
            "text/plain": [
              "<pandas.io.formats.style.Styler at 0x7fecc4386310>"
            ],
            "text/html": [
              "<style type=\"text/css\">\n",
              "</style>\n",
              "<table id=\"T_5ef0b_\" class=\"dataframe\">\n",
              "  <thead>\n",
              "    <tr>\n",
              "      <th class=\"blank level0\" >&nbsp;</th>\n",
              "      <th class=\"col_heading level0 col0\" >(rfe) gd train</th>\n",
              "      <th class=\"col_heading level0 col1\" >(rfe) gd test</th>\n",
              "      <th class=\"col_heading level0 col2\" >(rfe) skl Ridge train</th>\n",
              "      <th class=\"col_heading level0 col3\" >(rfe) skl Ridge test</th>\n",
              "      <th class=\"col_heading level0 col4\" >(rfe) sgd train</th>\n",
              "      <th class=\"col_heading level0 col5\" >(rfe) sgd test</th>\n",
              "      <th class=\"col_heading level0 col6\" >(rfe) mb sgd train</th>\n",
              "      <th class=\"col_heading level0 col7\" >(rfe) mb sgd test</th>\n",
              "    </tr>\n",
              "  </thead>\n",
              "  <tbody>\n",
              "    <tr>\n",
              "      <th id=\"T_5ef0b_level0_row0\" class=\"row_heading level0 row0\" >MSE</th>\n",
              "      <td id=\"T_5ef0b_row0_col0\" class=\"data row0 col0\" >5396462636.61</td>\n",
              "      <td id=\"T_5ef0b_row0_col1\" class=\"data row0 col1\" >5292711516.56</td>\n",
              "      <td id=\"T_5ef0b_row0_col2\" class=\"data row0 col2\" >5287942768.46</td>\n",
              "      <td id=\"T_5ef0b_row0_col3\" class=\"data row0 col3\" >5201590285.26</td>\n",
              "      <td id=\"T_5ef0b_row0_col4\" class=\"data row0 col4\" >5488127273.22</td>\n",
              "      <td id=\"T_5ef0b_row0_col5\" class=\"data row0 col5\" >5328080832.74</td>\n",
              "      <td id=\"T_5ef0b_row0_col6\" class=\"data row0 col6\" >5288892583.41</td>\n",
              "      <td id=\"T_5ef0b_row0_col7\" class=\"data row0 col7\" >5202514651.69</td>\n",
              "    </tr>\n",
              "    <tr>\n",
              "      <th id=\"T_5ef0b_level0_row1\" class=\"row_heading level0 row1\" >RMSE</th>\n",
              "      <td id=\"T_5ef0b_row1_col0\" class=\"data row1 col0\" >73460.62</td>\n",
              "      <td id=\"T_5ef0b_row1_col1\" class=\"data row1 col1\" >72751.02</td>\n",
              "      <td id=\"T_5ef0b_row1_col2\" class=\"data row1 col2\" >72718.24</td>\n",
              "      <td id=\"T_5ef0b_row1_col3\" class=\"data row1 col3\" >72122.05</td>\n",
              "      <td id=\"T_5ef0b_row1_col4\" class=\"data row1 col4\" >74081.90</td>\n",
              "      <td id=\"T_5ef0b_row1_col5\" class=\"data row1 col5\" >72993.70</td>\n",
              "      <td id=\"T_5ef0b_row1_col6\" class=\"data row1 col6\" >72724.77</td>\n",
              "      <td id=\"T_5ef0b_row1_col7\" class=\"data row1 col7\" >72128.46</td>\n",
              "    </tr>\n",
              "    <tr>\n",
              "      <th id=\"T_5ef0b_level0_row2\" class=\"row_heading level0 row2\" >R2</th>\n",
              "      <td id=\"T_5ef0b_row2_col0\" class=\"data row2 col0\" >0.59</td>\n",
              "      <td id=\"T_5ef0b_row2_col1\" class=\"data row2 col1\" >0.60</td>\n",
              "      <td id=\"T_5ef0b_row2_col2\" class=\"data row2 col2\" >0.60</td>\n",
              "      <td id=\"T_5ef0b_row2_col3\" class=\"data row2 col3\" >0.61</td>\n",
              "      <td id=\"T_5ef0b_row2_col4\" class=\"data row2 col4\" >0.59</td>\n",
              "      <td id=\"T_5ef0b_row2_col5\" class=\"data row2 col5\" >0.60</td>\n",
              "      <td id=\"T_5ef0b_row2_col6\" class=\"data row2 col6\" >0.60</td>\n",
              "      <td id=\"T_5ef0b_row2_col7\" class=\"data row2 col7\" >0.61</td>\n",
              "    </tr>\n",
              "  </tbody>\n",
              "</table>\n"
            ]
          },
          "metadata": {},
          "execution_count": 40
        }
      ]
    },
    {
      "cell_type": "markdown",
      "source": [
        "Метрики моделей без применения RFE к датасету."
      ],
      "metadata": {
        "id": "vPSL94V1loO5"
      },
      "id": "vPSL94V1loO5"
    },
    {
      "cell_type": "code",
      "source": [
        "errors.style.format(\"{:.2f}\")"
      ],
      "metadata": {
        "colab": {
          "base_uri": "https://localhost:8080/",
          "height": 143
        },
        "id": "q0fubE3Djts5",
        "outputId": "64cf2589-3709-4939-9f6c-d9ce339000f6"
      },
      "id": "q0fubE3Djts5",
      "execution_count": 41,
      "outputs": [
        {
          "output_type": "execute_result",
          "data": {
            "text/plain": [
              "<pandas.io.formats.style.Styler at 0x7fecc3ddcf10>"
            ],
            "text/html": [
              "<style type=\"text/css\">\n",
              "</style>\n",
              "<table id=\"T_35f10_\" class=\"dataframe\">\n",
              "  <thead>\n",
              "    <tr>\n",
              "      <th class=\"blank level0\" >&nbsp;</th>\n",
              "      <th class=\"col_heading level0 col0\" >gd train</th>\n",
              "      <th class=\"col_heading level0 col1\" >gd test</th>\n",
              "      <th class=\"col_heading level0 col2\" >skl Ridge train</th>\n",
              "      <th class=\"col_heading level0 col3\" >skl Ridge test</th>\n",
              "      <th class=\"col_heading level0 col4\" >sgd train</th>\n",
              "      <th class=\"col_heading level0 col5\" >sgd test</th>\n",
              "      <th class=\"col_heading level0 col6\" >mb sgd train</th>\n",
              "      <th class=\"col_heading level0 col7\" >mb sgd test</th>\n",
              "    </tr>\n",
              "  </thead>\n",
              "  <tbody>\n",
              "    <tr>\n",
              "      <th id=\"T_35f10_level0_row0\" class=\"row_heading level0 row0\" >MSE</th>\n",
              "      <td id=\"T_35f10_row0_col0\" class=\"data row0 col0\" >4920806614.52</td>\n",
              "      <td id=\"T_35f10_row0_col1\" class=\"data row0 col1\" >4904858456.40</td>\n",
              "      <td id=\"T_35f10_row0_col2\" class=\"data row0 col2\" >4842253194.33</td>\n",
              "      <td id=\"T_35f10_row0_col3\" class=\"data row0 col3\" >4863964626.26</td>\n",
              "      <td id=\"T_35f10_row0_col4\" class=\"data row0 col4\" >5564295349.29</td>\n",
              "      <td id=\"T_35f10_row0_col5\" class=\"data row0 col5\" >5537522276.59</td>\n",
              "      <td id=\"T_35f10_row0_col6\" class=\"data row0 col6\" >4845474696.45</td>\n",
              "      <td id=\"T_35f10_row0_col7\" class=\"data row0 col7\" >4867302992.95</td>\n",
              "    </tr>\n",
              "    <tr>\n",
              "      <th id=\"T_35f10_level0_row1\" class=\"row_heading level0 row1\" >RMSE</th>\n",
              "      <td id=\"T_35f10_row1_col0\" class=\"data row1 col0\" >70148.46</td>\n",
              "      <td id=\"T_35f10_row1_col1\" class=\"data row1 col1\" >70034.69</td>\n",
              "      <td id=\"T_35f10_row1_col2\" class=\"data row1 col2\" >69586.30</td>\n",
              "      <td id=\"T_35f10_row1_col3\" class=\"data row1 col3\" >69742.13</td>\n",
              "      <td id=\"T_35f10_row1_col4\" class=\"data row1 col4\" >74594.20</td>\n",
              "      <td id=\"T_35f10_row1_col5\" class=\"data row1 col5\" >74414.53</td>\n",
              "      <td id=\"T_35f10_row1_col6\" class=\"data row1 col6\" >69609.44</td>\n",
              "      <td id=\"T_35f10_row1_col7\" class=\"data row1 col7\" >69766.06</td>\n",
              "    </tr>\n",
              "    <tr>\n",
              "      <th id=\"T_35f10_level0_row2\" class=\"row_heading level0 row2\" >R2</th>\n",
              "      <td id=\"T_35f10_row2_col0\" class=\"data row2 col0\" >0.63</td>\n",
              "      <td id=\"T_35f10_row2_col1\" class=\"data row2 col1\" >0.63</td>\n",
              "      <td id=\"T_35f10_row2_col2\" class=\"data row2 col2\" >0.64</td>\n",
              "      <td id=\"T_35f10_row2_col3\" class=\"data row2 col3\" >0.64</td>\n",
              "      <td id=\"T_35f10_row2_col4\" class=\"data row2 col4\" >0.58</td>\n",
              "      <td id=\"T_35f10_row2_col5\" class=\"data row2 col5\" >0.59</td>\n",
              "      <td id=\"T_35f10_row2_col6\" class=\"data row2 col6\" >0.64</td>\n",
              "      <td id=\"T_35f10_row2_col7\" class=\"data row2 col7\" >0.64</td>\n",
              "    </tr>\n",
              "  </tbody>\n",
              "</table>\n"
            ]
          },
          "metadata": {},
          "execution_count": 41
        }
      ]
    },
    {
      "cell_type": "markdown",
      "source": [
        "Уменьшение числа признаков с 9 до 7 ухудшило метрики моделей: $R^2$ уменьшилась на 0.03-0.04, ошибки MSE и RMSE увеличились."
      ],
      "metadata": {
        "id": "KY98ELTTNTNJ"
      },
      "id": "KY98ELTTNTNJ"
    },
    {
      "cell_type": "markdown",
      "source": [
        "Попробуем кросс-валидацию на датасете после использования RFE и модели Ridge."
      ],
      "metadata": {
        "id": "cQGFQbIeiGo1"
      },
      "id": "cQGFQbIeiGo1"
    },
    {
      "cell_type": "code",
      "source": [
        "rfe_metrics_summary = pd.DataFrame([], ['MSE', 'RMSE', 'R2'], columns=[])"
      ],
      "metadata": {
        "id": "kLBrLue2Oqrq"
      },
      "execution_count": 42,
      "outputs": [],
      "id": "kLBrLue2Oqrq"
    },
    {
      "cell_type": "code",
      "source": [
        "from sklearn.model_selection import KFold, cross_validate\n",
        "from statistics import mean\n",
        "\n",
        "scoring = {'neg_mse': 'neg_mean_squared_error',\n",
        "           'neg_rmse': 'neg_root_mean_squared_error',\n",
        "           'r2': 'r2'}\n",
        "\n",
        "rdg_model = Ridge()\n",
        "for i in range(2,20):\n",
        "  k_folds = KFold(n_splits = i, random_state=19, shuffle=True)\n",
        "  metrics_train = cross_validate(rdg_model, X, y,\n",
        "                                 cv = k_folds,\n",
        "                                 scoring = scoring)\n",
        "\n",
        "  rfe_metrics_summary.at['MSE', f'{i}'] =-1 *mean(metrics_train['test_neg_mse'])\n",
        "  rfe_metrics_summary.at['RMSE', f'{i}'] = -1 * mean(metrics_train['test_neg_rmse'])\n",
        "  rfe_metrics_summary.at['R2', f'{i}'] = mean(metrics_train['test_r2'])\n",
        "\n",
        "\n",
        "rfe_metrics_summary['E'] = rfe_metrics_summary.iloc[:, 0:8].mean(axis=1)\n",
        "rfe_metrics_summary['STD'] = rfe_metrics_summary.iloc[:, 0:8].std(axis=1)"
      ],
      "metadata": {
        "id": "12lzjHkCOqrr"
      },
      "execution_count": 43,
      "outputs": [],
      "id": "12lzjHkCOqrr"
    },
    {
      "cell_type": "code",
      "source": [
        "rfe_metrics_summary.style.format(\"{:.2f}\")"
      ],
      "metadata": {
        "colab": {
          "base_uri": "https://localhost:8080/",
          "height": 163
        },
        "outputId": "ded9a265-1578-4111-a446-338e6f1b7252",
        "id": "i_3hVfXoOqrt"
      },
      "execution_count": 44,
      "outputs": [
        {
          "output_type": "execute_result",
          "data": {
            "text/plain": [
              "<pandas.io.formats.style.Styler at 0x7fecc3dcbbd0>"
            ],
            "text/html": [
              "<style type=\"text/css\">\n",
              "</style>\n",
              "<table id=\"T_a75f2_\" class=\"dataframe\">\n",
              "  <thead>\n",
              "    <tr>\n",
              "      <th class=\"blank level0\" >&nbsp;</th>\n",
              "      <th class=\"col_heading level0 col0\" >2</th>\n",
              "      <th class=\"col_heading level0 col1\" >3</th>\n",
              "      <th class=\"col_heading level0 col2\" >4</th>\n",
              "      <th class=\"col_heading level0 col3\" >5</th>\n",
              "      <th class=\"col_heading level0 col4\" >6</th>\n",
              "      <th class=\"col_heading level0 col5\" >7</th>\n",
              "      <th class=\"col_heading level0 col6\" >8</th>\n",
              "      <th class=\"col_heading level0 col7\" >9</th>\n",
              "      <th class=\"col_heading level0 col8\" >10</th>\n",
              "      <th class=\"col_heading level0 col9\" >11</th>\n",
              "      <th class=\"col_heading level0 col10\" >12</th>\n",
              "      <th class=\"col_heading level0 col11\" >13</th>\n",
              "      <th class=\"col_heading level0 col12\" >14</th>\n",
              "      <th class=\"col_heading level0 col13\" >15</th>\n",
              "      <th class=\"col_heading level0 col14\" >16</th>\n",
              "      <th class=\"col_heading level0 col15\" >17</th>\n",
              "      <th class=\"col_heading level0 col16\" >18</th>\n",
              "      <th class=\"col_heading level0 col17\" >19</th>\n",
              "      <th class=\"col_heading level0 col18\" >E</th>\n",
              "      <th class=\"col_heading level0 col19\" >STD</th>\n",
              "    </tr>\n",
              "  </thead>\n",
              "  <tbody>\n",
              "    <tr>\n",
              "      <th id=\"T_a75f2_level0_row0\" class=\"row_heading level0 row0\" >MSE</th>\n",
              "      <td id=\"T_a75f2_row0_col0\" class=\"data row0 col0\" >4884691142.75</td>\n",
              "      <td id=\"T_a75f2_row0_col1\" class=\"data row0 col1\" >4872577865.87</td>\n",
              "      <td id=\"T_a75f2_row0_col2\" class=\"data row0 col2\" >4870617210.25</td>\n",
              "      <td id=\"T_a75f2_row0_col3\" class=\"data row0 col3\" >4872747423.56</td>\n",
              "      <td id=\"T_a75f2_row0_col4\" class=\"data row0 col4\" >4870118702.07</td>\n",
              "      <td id=\"T_a75f2_row0_col5\" class=\"data row0 col5\" >4876113842.66</td>\n",
              "      <td id=\"T_a75f2_row0_col6\" class=\"data row0 col6\" >4874772227.70</td>\n",
              "      <td id=\"T_a75f2_row0_col7\" class=\"data row0 col7\" >4875828683.61</td>\n",
              "      <td id=\"T_a75f2_row0_col8\" class=\"data row0 col8\" >4879016173.42</td>\n",
              "      <td id=\"T_a75f2_row0_col9\" class=\"data row0 col9\" >4876956522.25</td>\n",
              "      <td id=\"T_a75f2_row0_col10\" class=\"data row0 col10\" >4870203686.39</td>\n",
              "      <td id=\"T_a75f2_row0_col11\" class=\"data row0 col11\" >4873817909.62</td>\n",
              "      <td id=\"T_a75f2_row0_col12\" class=\"data row0 col12\" >4874846711.18</td>\n",
              "      <td id=\"T_a75f2_row0_col13\" class=\"data row0 col13\" >4875886249.01</td>\n",
              "      <td id=\"T_a75f2_row0_col14\" class=\"data row0 col14\" >4873807234.57</td>\n",
              "      <td id=\"T_a75f2_row0_col15\" class=\"data row0 col15\" >4873905254.84</td>\n",
              "      <td id=\"T_a75f2_row0_col16\" class=\"data row0 col16\" >4869454974.68</td>\n",
              "      <td id=\"T_a75f2_row0_col17\" class=\"data row0 col17\" >4874333145.39</td>\n",
              "      <td id=\"T_a75f2_row0_col18\" class=\"data row0 col18\" >4874683387.31</td>\n",
              "      <td id=\"T_a75f2_row0_col19\" class=\"data row0 col19\" >4614763.44</td>\n",
              "    </tr>\n",
              "    <tr>\n",
              "      <th id=\"T_a75f2_level0_row1\" class=\"row_heading level0 row1\" >RMSE</th>\n",
              "      <td id=\"T_a75f2_row1_col0\" class=\"data row1 col0\" >69888.37</td>\n",
              "      <td id=\"T_a75f2_row1_col1\" class=\"data row1 col1\" >69802.76</td>\n",
              "      <td id=\"T_a75f2_row1_col2\" class=\"data row1 col2\" >69786.88</td>\n",
              "      <td id=\"T_a75f2_row1_col3\" class=\"data row1 col3\" >69798.32</td>\n",
              "      <td id=\"T_a75f2_row1_col4\" class=\"data row1 col4\" >69778.69</td>\n",
              "      <td id=\"T_a75f2_row1_col5\" class=\"data row1 col5\" >69807.43</td>\n",
              "      <td id=\"T_a75f2_row1_col6\" class=\"data row1 col6\" >69802.11</td>\n",
              "      <td id=\"T_a75f2_row1_col7\" class=\"data row1 col7\" >69808.11</td>\n",
              "      <td id=\"T_a75f2_row1_col8\" class=\"data row1 col8\" >69822.13</td>\n",
              "      <td id=\"T_a75f2_row1_col9\" class=\"data row1 col9\" >69813.43</td>\n",
              "      <td id=\"T_a75f2_row1_col10\" class=\"data row1 col10\" >69768.22</td>\n",
              "      <td id=\"T_a75f2_row1_col11\" class=\"data row1 col11\" >69781.76</td>\n",
              "      <td id=\"T_a75f2_row1_col12\" class=\"data row1 col12\" >69783.13</td>\n",
              "      <td id=\"T_a75f2_row1_col13\" class=\"data row1 col13\" >69795.35</td>\n",
              "      <td id=\"T_a75f2_row1_col14\" class=\"data row1 col14\" >69770.48</td>\n",
              "      <td id=\"T_a75f2_row1_col15\" class=\"data row1 col15\" >69748.79</td>\n",
              "      <td id=\"T_a75f2_row1_col16\" class=\"data row1 col16\" >69736.24</td>\n",
              "      <td id=\"T_a75f2_row1_col17\" class=\"data row1 col17\" >69769.45</td>\n",
              "      <td id=\"T_a75f2_row1_col18\" class=\"data row1 col18\" >69809.08</td>\n",
              "      <td id=\"T_a75f2_row1_col19\" class=\"data row1 col19\" >33.62</td>\n",
              "    </tr>\n",
              "    <tr>\n",
              "      <th id=\"T_a75f2_level0_row2\" class=\"row_heading level0 row2\" >R2</th>\n",
              "      <td id=\"T_a75f2_row2_col0\" class=\"data row2 col0\" >0.63</td>\n",
              "      <td id=\"T_a75f2_row2_col1\" class=\"data row2 col1\" >0.63</td>\n",
              "      <td id=\"T_a75f2_row2_col2\" class=\"data row2 col2\" >0.63</td>\n",
              "      <td id=\"T_a75f2_row2_col3\" class=\"data row2 col3\" >0.63</td>\n",
              "      <td id=\"T_a75f2_row2_col4\" class=\"data row2 col4\" >0.63</td>\n",
              "      <td id=\"T_a75f2_row2_col5\" class=\"data row2 col5\" >0.63</td>\n",
              "      <td id=\"T_a75f2_row2_col6\" class=\"data row2 col6\" >0.63</td>\n",
              "      <td id=\"T_a75f2_row2_col7\" class=\"data row2 col7\" >0.63</td>\n",
              "      <td id=\"T_a75f2_row2_col8\" class=\"data row2 col8\" >0.63</td>\n",
              "      <td id=\"T_a75f2_row2_col9\" class=\"data row2 col9\" >0.63</td>\n",
              "      <td id=\"T_a75f2_row2_col10\" class=\"data row2 col10\" >0.63</td>\n",
              "      <td id=\"T_a75f2_row2_col11\" class=\"data row2 col11\" >0.63</td>\n",
              "      <td id=\"T_a75f2_row2_col12\" class=\"data row2 col12\" >0.63</td>\n",
              "      <td id=\"T_a75f2_row2_col13\" class=\"data row2 col13\" >0.63</td>\n",
              "      <td id=\"T_a75f2_row2_col14\" class=\"data row2 col14\" >0.63</td>\n",
              "      <td id=\"T_a75f2_row2_col15\" class=\"data row2 col15\" >0.63</td>\n",
              "      <td id=\"T_a75f2_row2_col16\" class=\"data row2 col16\" >0.63</td>\n",
              "      <td id=\"T_a75f2_row2_col17\" class=\"data row2 col17\" >0.63</td>\n",
              "      <td id=\"T_a75f2_row2_col18\" class=\"data row2 col18\" >0.63</td>\n",
              "      <td id=\"T_a75f2_row2_col19\" class=\"data row2 col19\" >0.00</td>\n",
              "    </tr>\n",
              "  </tbody>\n",
              "</table>\n"
            ]
          },
          "metadata": {},
          "execution_count": 44
        }
      ],
      "id": "i_3hVfXoOqrt"
    },
    {
      "cell_type": "markdown",
      "source": [
        "Кросс валидация на линейной регрессии Ridge с числом фолдов 2..19 показала нулевой разброс нормированной среднеквадратичной ошибки ($R^2$) при одновременном улучшении всех метрик.\n",
        "Получается, что кросс-валидация после RFE улучшила работу модели Ridge, однако метрики немного хуже, чем без отбора признаков. "
      ],
      "metadata": {
        "id": "rPn4AAcIO5tb"
      },
      "id": "rPn4AAcIO5tb"
    }
  ],
  "metadata": {
    "kernelspec": {
      "display_name": "Python 3",
      "language": "python",
      "name": "python3"
    },
    "language_info": {
      "codemirror_mode": {
        "name": "ipython",
        "version": 3
      },
      "file_extension": ".py",
      "mimetype": "text/x-python",
      "name": "python",
      "nbconvert_exporter": "python",
      "pygments_lexer": "ipython3",
      "version": "3.7.10"
    },
    "papermill": {
      "default_parameters": {},
      "duration": 14.041283,
      "end_time": "2021-10-31T11:18:58.075111",
      "environment_variables": {},
      "exception": null,
      "input_path": "__notebook__.ipynb",
      "output_path": "__notebook__.ipynb",
      "parameters": {},
      "start_time": "2021-10-31T11:18:44.033828",
      "version": "2.3.3"
    },
    "colab": {
      "provenance": [],
      "collapsed_sections": []
    }
  },
  "nbformat": 4,
  "nbformat_minor": 5
}