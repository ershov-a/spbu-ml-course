{
  "nbformat": 4,
  "nbformat_minor": 0,
  "metadata": {
    "colab": {
      "provenance": []
    },
    "kernelspec": {
      "name": "python3",
      "display_name": "Python 3"
    },
    "language_info": {
      "name": "python"
    }
  },
  "cells": [
    {
      "cell_type": "markdown",
      "source": [
        "## Задача 3. Многоклассовая классификация и множественная классификация/регрессия\n",
        "\n",
        "Ершов Александр Сергеевич, гр. 22.М04-мм\n",
        "\n",
        "Задача:\n",
        "\n",
        "\\+ Изучите возможности sklearn для решения задач Multiclass classification, Multilabel classification и Multioutput Regression. Основные компоненты библиотеки указаны на рисунке ниже.\n",
        "\n",
        "\\+ Найдите данные, на которых можно решить задачу Multiclass classification (классификация с более чем двумя классами). В крайнем случае преобразуйте данные, предназначенные для другой задачи.\n",
        "\n",
        "\\+ Выполнить разведочный анализ (EDA), использовать визуализацию, сделать выводы, которые могут быть полезны при дальнейшем решении задачи.\n",
        "\n",
        "\\+ При необходимости выполнить полезные преобразования данных (например, трансформировать категариальные признаки в количественные), убрать ненужные признаки, создать новые (Feature Engineering).\n",
        "\n",
        "\\+ Используя стратегии OneVsRest, OneVsOne и OutputCode решите задачу Multiclass classification для каждого из пройденных базового алгоритма классификации (logistic regression, svm, knn, naive bayes, decision tree). При обучении использовать подбор гиперпараметров, кросс-валидацию и при необходимости масштабирование данных, добиться наилучшего качества предсказания.\n",
        "\n",
        "\\+ Замерить время обучения каждой модели для каждой стратегии. Для оценки качества моделей используйте метрику AUC-ROC.\n",
        "\n",
        "\\+ Сравнить время обучения и качество всех моделей и всех стратегий. Сделать выводы.\n",
        "\n",
        "\\- * (+3 балла) Повторить все пункты для задачи Multilabel classification (классификация с несколькими целевыми признаками, например, бинарными). В качестве стратегий попробовать MultiOutputClassifier и ClassifierChain.\n",
        "\n",
        "\\+ * (+2 балла) Повторить все пункты для задачи Multioutput Regression (регрессия с несколькими целевыми признаками, вещественными). Модель попробовать как минимум одну: Ridge. В качестве стратегий попробовать MultiOutputRegressor и RegressorChain. В качестве метрики использовать R2.\n"
      ],
      "metadata": {
        "id": "UtVCJ6e2Spq1"
      }
    },
    {
      "cell_type": "markdown",
      "source": [
        "## Multicalss classification\n"
      ],
      "metadata": {
        "id": "PBAdLXpJYn81"
      }
    },
    {
      "cell_type": "markdown",
      "source": [
        "### Найдите данные, на которых можно решить задачу Multiclass classification (классификация с более чем двумя классами). В крайнем случае преобразуйте данные, предназначенные для другой задач"
      ],
      "metadata": {
        "id": "DnfPcvkzYxBV"
      }
    },
    {
      "cell_type": "markdown",
      "source": [
        "Датасет \"Palmer Archipelago (Antarctica) penguin data\" (https://www.kaggle.com/datasets/parulpandey/palmer-archipelago-antarctica-penguin-data)\n"
      ],
      "metadata": {
        "id": "aKYjoN9cYx_u"
      }
    },
    {
      "cell_type": "code",
      "source": [
        "import pandas as pd\n",
        "penguins_data = pd.read_csv(\"penguins_size.csv\")\n",
        "penguins_data.head()"
      ],
      "metadata": {
        "colab": {
          "base_uri": "https://localhost:8080/",
          "height": 206
        },
        "id": "1yoO6DtNZ_sY",
        "outputId": "e16618ec-7078-4ef7-eb70-11ba13a76989"
      },
      "execution_count": 1,
      "outputs": [
        {
          "output_type": "execute_result",
          "data": {
            "text/plain": [
              "  species     island  culmen_length_mm  culmen_depth_mm  flipper_length_mm  \\\n",
              "0  Adelie  Torgersen              39.1             18.7              181.0   \n",
              "1  Adelie  Torgersen              39.5             17.4              186.0   \n",
              "2  Adelie  Torgersen              40.3             18.0              195.0   \n",
              "3  Adelie  Torgersen               NaN              NaN                NaN   \n",
              "4  Adelie  Torgersen              36.7             19.3              193.0   \n",
              "\n",
              "   body_mass_g     sex  \n",
              "0       3750.0    MALE  \n",
              "1       3800.0  FEMALE  \n",
              "2       3250.0  FEMALE  \n",
              "3          NaN     NaN  \n",
              "4       3450.0  FEMALE  "
            ],
            "text/html": [
              "\n",
              "  <div id=\"df-a09761ba-2de6-4217-8021-62ccca50f28f\">\n",
              "    <div class=\"colab-df-container\">\n",
              "      <div>\n",
              "<style scoped>\n",
              "    .dataframe tbody tr th:only-of-type {\n",
              "        vertical-align: middle;\n",
              "    }\n",
              "\n",
              "    .dataframe tbody tr th {\n",
              "        vertical-align: top;\n",
              "    }\n",
              "\n",
              "    .dataframe thead th {\n",
              "        text-align: right;\n",
              "    }\n",
              "</style>\n",
              "<table border=\"1\" class=\"dataframe\">\n",
              "  <thead>\n",
              "    <tr style=\"text-align: right;\">\n",
              "      <th></th>\n",
              "      <th>species</th>\n",
              "      <th>island</th>\n",
              "      <th>culmen_length_mm</th>\n",
              "      <th>culmen_depth_mm</th>\n",
              "      <th>flipper_length_mm</th>\n",
              "      <th>body_mass_g</th>\n",
              "      <th>sex</th>\n",
              "    </tr>\n",
              "  </thead>\n",
              "  <tbody>\n",
              "    <tr>\n",
              "      <th>0</th>\n",
              "      <td>Adelie</td>\n",
              "      <td>Torgersen</td>\n",
              "      <td>39.1</td>\n",
              "      <td>18.7</td>\n",
              "      <td>181.0</td>\n",
              "      <td>3750.0</td>\n",
              "      <td>MALE</td>\n",
              "    </tr>\n",
              "    <tr>\n",
              "      <th>1</th>\n",
              "      <td>Adelie</td>\n",
              "      <td>Torgersen</td>\n",
              "      <td>39.5</td>\n",
              "      <td>17.4</td>\n",
              "      <td>186.0</td>\n",
              "      <td>3800.0</td>\n",
              "      <td>FEMALE</td>\n",
              "    </tr>\n",
              "    <tr>\n",
              "      <th>2</th>\n",
              "      <td>Adelie</td>\n",
              "      <td>Torgersen</td>\n",
              "      <td>40.3</td>\n",
              "      <td>18.0</td>\n",
              "      <td>195.0</td>\n",
              "      <td>3250.0</td>\n",
              "      <td>FEMALE</td>\n",
              "    </tr>\n",
              "    <tr>\n",
              "      <th>3</th>\n",
              "      <td>Adelie</td>\n",
              "      <td>Torgersen</td>\n",
              "      <td>NaN</td>\n",
              "      <td>NaN</td>\n",
              "      <td>NaN</td>\n",
              "      <td>NaN</td>\n",
              "      <td>NaN</td>\n",
              "    </tr>\n",
              "    <tr>\n",
              "      <th>4</th>\n",
              "      <td>Adelie</td>\n",
              "      <td>Torgersen</td>\n",
              "      <td>36.7</td>\n",
              "      <td>19.3</td>\n",
              "      <td>193.0</td>\n",
              "      <td>3450.0</td>\n",
              "      <td>FEMALE</td>\n",
              "    </tr>\n",
              "  </tbody>\n",
              "</table>\n",
              "</div>\n",
              "      <button class=\"colab-df-convert\" onclick=\"convertToInteractive('df-a09761ba-2de6-4217-8021-62ccca50f28f')\"\n",
              "              title=\"Convert this dataframe to an interactive table.\"\n",
              "              style=\"display:none;\">\n",
              "        \n",
              "  <svg xmlns=\"http://www.w3.org/2000/svg\" height=\"24px\"viewBox=\"0 0 24 24\"\n",
              "       width=\"24px\">\n",
              "    <path d=\"M0 0h24v24H0V0z\" fill=\"none\"/>\n",
              "    <path d=\"M18.56 5.44l.94 2.06.94-2.06 2.06-.94-2.06-.94-.94-2.06-.94 2.06-2.06.94zm-11 1L8.5 8.5l.94-2.06 2.06-.94-2.06-.94L8.5 2.5l-.94 2.06-2.06.94zm10 10l.94 2.06.94-2.06 2.06-.94-2.06-.94-.94-2.06-.94 2.06-2.06.94z\"/><path d=\"M17.41 7.96l-1.37-1.37c-.4-.4-.92-.59-1.43-.59-.52 0-1.04.2-1.43.59L10.3 9.45l-7.72 7.72c-.78.78-.78 2.05 0 2.83L4 21.41c.39.39.9.59 1.41.59.51 0 1.02-.2 1.41-.59l7.78-7.78 2.81-2.81c.8-.78.8-2.07 0-2.86zM5.41 20L4 18.59l7.72-7.72 1.47 1.35L5.41 20z\"/>\n",
              "  </svg>\n",
              "      </button>\n",
              "      \n",
              "  <style>\n",
              "    .colab-df-container {\n",
              "      display:flex;\n",
              "      flex-wrap:wrap;\n",
              "      gap: 12px;\n",
              "    }\n",
              "\n",
              "    .colab-df-convert {\n",
              "      background-color: #E8F0FE;\n",
              "      border: none;\n",
              "      border-radius: 50%;\n",
              "      cursor: pointer;\n",
              "      display: none;\n",
              "      fill: #1967D2;\n",
              "      height: 32px;\n",
              "      padding: 0 0 0 0;\n",
              "      width: 32px;\n",
              "    }\n",
              "\n",
              "    .colab-df-convert:hover {\n",
              "      background-color: #E2EBFA;\n",
              "      box-shadow: 0px 1px 2px rgba(60, 64, 67, 0.3), 0px 1px 3px 1px rgba(60, 64, 67, 0.15);\n",
              "      fill: #174EA6;\n",
              "    }\n",
              "\n",
              "    [theme=dark] .colab-df-convert {\n",
              "      background-color: #3B4455;\n",
              "      fill: #D2E3FC;\n",
              "    }\n",
              "\n",
              "    [theme=dark] .colab-df-convert:hover {\n",
              "      background-color: #434B5C;\n",
              "      box-shadow: 0px 1px 3px 1px rgba(0, 0, 0, 0.15);\n",
              "      filter: drop-shadow(0px 1px 2px rgba(0, 0, 0, 0.3));\n",
              "      fill: #FFFFFF;\n",
              "    }\n",
              "  </style>\n",
              "\n",
              "      <script>\n",
              "        const buttonEl =\n",
              "          document.querySelector('#df-a09761ba-2de6-4217-8021-62ccca50f28f button.colab-df-convert');\n",
              "        buttonEl.style.display =\n",
              "          google.colab.kernel.accessAllowed ? 'block' : 'none';\n",
              "\n",
              "        async function convertToInteractive(key) {\n",
              "          const element = document.querySelector('#df-a09761ba-2de6-4217-8021-62ccca50f28f');\n",
              "          const dataTable =\n",
              "            await google.colab.kernel.invokeFunction('convertToInteractive',\n",
              "                                                     [key], {});\n",
              "          if (!dataTable) return;\n",
              "\n",
              "          const docLinkHtml = 'Like what you see? Visit the ' +\n",
              "            '<a target=\"_blank\" href=https://colab.research.google.com/notebooks/data_table.ipynb>data table notebook</a>'\n",
              "            + ' to learn more about interactive tables.';\n",
              "          element.innerHTML = '';\n",
              "          dataTable['output_type'] = 'display_data';\n",
              "          await google.colab.output.renderOutput(dataTable, element);\n",
              "          const docLink = document.createElement('div');\n",
              "          docLink.innerHTML = docLinkHtml;\n",
              "          element.appendChild(docLink);\n",
              "        }\n",
              "      </script>\n",
              "    </div>\n",
              "  </div>\n",
              "  "
            ]
          },
          "metadata": {},
          "execution_count": 1
        }
      ]
    },
    {
      "cell_type": "markdown",
      "source": [
        "Описание датасета:\n",
        "- species - вид пингвина\n",
        "- island - название острова в архипелаге\n",
        "- culmen_length_mm - длина клюва (culmen) в мм\n",
        "- culmen_depth_mm - глубина клюва (culmen) в мм\n",
        "- flipper_length_mm - длина ласта в мм\n",
        "- body_mass_g - масса тела в гр\n",
        "- sex - пол пингвина\n",
        "\n"
      ],
      "metadata": {
        "id": "pbHXFrcre9mL"
      }
    },
    {
      "cell_type": "markdown",
      "source": [
        "### EDA"
      ],
      "metadata": {
        "id": "XUWUkOh7ZsCv"
      }
    },
    {
      "cell_type": "code",
      "source": [
        "penguins_data.shape"
      ],
      "metadata": {
        "colab": {
          "base_uri": "https://localhost:8080/"
        },
        "id": "jNfaoalYaYSl",
        "outputId": "9223fa06-c5a6-4d39-dc75-5d96d9a76637"
      },
      "execution_count": 2,
      "outputs": [
        {
          "output_type": "execute_result",
          "data": {
            "text/plain": [
              "(344, 7)"
            ]
          },
          "metadata": {},
          "execution_count": 2
        }
      ]
    },
    {
      "cell_type": "code",
      "source": [
        "penguins_data.isnull().sum()"
      ],
      "metadata": {
        "colab": {
          "base_uri": "https://localhost:8080/"
        },
        "id": "Ocxm9_f3ad9b",
        "outputId": "8e1afe29-2949-408f-f107-568dfcae2421"
      },
      "execution_count": 3,
      "outputs": [
        {
          "output_type": "execute_result",
          "data": {
            "text/plain": [
              "species               0\n",
              "island                0\n",
              "culmen_length_mm      2\n",
              "culmen_depth_mm       2\n",
              "flipper_length_mm     2\n",
              "body_mass_g           2\n",
              "sex                  10\n",
              "dtype: int64"
            ]
          },
          "metadata": {},
          "execution_count": 3
        }
      ]
    },
    {
      "cell_type": "markdown",
      "source": [
        "В данных есть пропуски в признаках culmen_length_mm, culmen_depth_mm, flipper_length_mm, body_mass_g, sex."
      ],
      "metadata": {
        "id": "wNJXDps5ajrY"
      }
    },
    {
      "cell_type": "markdown",
      "source": [
        "Удалим строки с пропусками в 4 признаках."
      ],
      "metadata": {
        "id": "bkk5QI1WikmN"
      }
    },
    {
      "cell_type": "code",
      "source": [
        "penguins_data.drop(penguins_data[penguins_data['body_mass_g'].isnull()].index,axis=0, inplace=True)"
      ],
      "metadata": {
        "id": "-TWD2FCWiSSU"
      },
      "execution_count": 4,
      "outputs": []
    },
    {
      "cell_type": "code",
      "source": [
        "penguins_data.isnull().sum()"
      ],
      "metadata": {
        "colab": {
          "base_uri": "https://localhost:8080/"
        },
        "id": "H9uMVQtOiVxJ",
        "outputId": "b49c74f9-e8a1-41b0-db85-c22404d30b81"
      },
      "execution_count": 5,
      "outputs": [
        {
          "output_type": "execute_result",
          "data": {
            "text/plain": [
              "species              0\n",
              "island               0\n",
              "culmen_length_mm     0\n",
              "culmen_depth_mm      0\n",
              "flipper_length_mm    0\n",
              "body_mass_g          0\n",
              "sex                  8\n",
              "dtype: int64"
            ]
          },
          "metadata": {},
          "execution_count": 5
        }
      ]
    },
    {
      "cell_type": "markdown",
      "source": [
        "Остались только пропуски в признаке `Sex`. Заполним их значением `MALE`."
      ],
      "metadata": {
        "id": "ZPdAU7kWiok_"
      }
    },
    {
      "cell_type": "code",
      "source": [
        "penguins_data['sex'] = penguins_data['sex'].fillna('MALE')"
      ],
      "metadata": {
        "id": "ckuwL9f8iyDw"
      },
      "execution_count": 6,
      "outputs": []
    },
    {
      "cell_type": "code",
      "source": [
        "penguins_data.isnull().sum()"
      ],
      "metadata": {
        "colab": {
          "base_uri": "https://localhost:8080/"
        },
        "id": "rtygGD9_i1ak",
        "outputId": "9e3e7636-6564-4658-98e1-ef715ab1a225"
      },
      "execution_count": 7,
      "outputs": [
        {
          "output_type": "execute_result",
          "data": {
            "text/plain": [
              "species              0\n",
              "island               0\n",
              "culmen_length_mm     0\n",
              "culmen_depth_mm      0\n",
              "flipper_length_mm    0\n",
              "body_mass_g          0\n",
              "sex                  0\n",
              "dtype: int64"
            ]
          },
          "metadata": {},
          "execution_count": 7
        }
      ]
    },
    {
      "cell_type": "markdown",
      "source": [
        "Пропусков не осталось."
      ],
      "metadata": {
        "id": "MnTca9GCi2De"
      }
    },
    {
      "cell_type": "markdown",
      "source": [
        "Посмотрим на какие есть уникальные занчения категориальных признаков."
      ],
      "metadata": {
        "id": "FJKs6R-ha56K"
      }
    },
    {
      "cell_type": "code",
      "source": [
        "penguins_data['island'].unique()"
      ],
      "metadata": {
        "colab": {
          "base_uri": "https://localhost:8080/"
        },
        "id": "9pYzZhQ2bAV2",
        "outputId": "402d731d-34ac-4d7b-efba-e3e6e42a445a"
      },
      "execution_count": 8,
      "outputs": [
        {
          "output_type": "execute_result",
          "data": {
            "text/plain": [
              "array(['Torgersen', 'Biscoe', 'Dream'], dtype=object)"
            ]
          },
          "metadata": {},
          "execution_count": 8
        }
      ]
    },
    {
      "cell_type": "code",
      "source": [
        "penguins_data['species'].unique()"
      ],
      "metadata": {
        "colab": {
          "base_uri": "https://localhost:8080/"
        },
        "id": "AH1stNmrcpMq",
        "outputId": "17053a27-4503-4409-ac3e-3a03e835b0ce"
      },
      "execution_count": 9,
      "outputs": [
        {
          "output_type": "execute_result",
          "data": {
            "text/plain": [
              "array(['Adelie', 'Chinstrap', 'Gentoo'], dtype=object)"
            ]
          },
          "metadata": {},
          "execution_count": 9
        }
      ]
    },
    {
      "cell_type": "markdown",
      "source": [
        "Данные по трем островам и трем видам."
      ],
      "metadata": {
        "id": "KA1cGltJchqo"
      }
    },
    {
      "cell_type": "code",
      "source": [
        "penguins_data['sex'].unique()"
      ],
      "metadata": {
        "colab": {
          "base_uri": "https://localhost:8080/"
        },
        "id": "JIkMwD5WbDcj",
        "outputId": "2e0cb593-5e4a-4e64-8961-078c2760a97d"
      },
      "execution_count": 10,
      "outputs": [
        {
          "output_type": "execute_result",
          "data": {
            "text/plain": [
              "array(['MALE', 'FEMALE', '.'], dtype=object)"
            ]
          },
          "metadata": {},
          "execution_count": 10
        }
      ]
    },
    {
      "cell_type": "markdown",
      "source": [
        "Кроме `nan` в признаке `sex` есть пропуски в данных в виде `.`."
      ],
      "metadata": {
        "id": "KyXqLzUhcySM"
      }
    },
    {
      "cell_type": "code",
      "source": [
        "penguins_data[penguins_data['sex']=='.']"
      ],
      "metadata": {
        "colab": {
          "base_uri": "https://localhost:8080/",
          "height": 81
        },
        "id": "OycGccwzdAOF",
        "outputId": "2a61d4ec-5677-4153-d132-5b2d1fed0171"
      },
      "execution_count": 11,
      "outputs": [
        {
          "output_type": "execute_result",
          "data": {
            "text/plain": [
              "    species  island  culmen_length_mm  culmen_depth_mm  flipper_length_mm  \\\n",
              "336  Gentoo  Biscoe              44.5             15.7              217.0   \n",
              "\n",
              "     body_mass_g sex  \n",
              "336       4875.0   .  "
            ],
            "text/html": [
              "\n",
              "  <div id=\"df-5a083aac-b14f-4467-90dd-e129ff24987e\">\n",
              "    <div class=\"colab-df-container\">\n",
              "      <div>\n",
              "<style scoped>\n",
              "    .dataframe tbody tr th:only-of-type {\n",
              "        vertical-align: middle;\n",
              "    }\n",
              "\n",
              "    .dataframe tbody tr th {\n",
              "        vertical-align: top;\n",
              "    }\n",
              "\n",
              "    .dataframe thead th {\n",
              "        text-align: right;\n",
              "    }\n",
              "</style>\n",
              "<table border=\"1\" class=\"dataframe\">\n",
              "  <thead>\n",
              "    <tr style=\"text-align: right;\">\n",
              "      <th></th>\n",
              "      <th>species</th>\n",
              "      <th>island</th>\n",
              "      <th>culmen_length_mm</th>\n",
              "      <th>culmen_depth_mm</th>\n",
              "      <th>flipper_length_mm</th>\n",
              "      <th>body_mass_g</th>\n",
              "      <th>sex</th>\n",
              "    </tr>\n",
              "  </thead>\n",
              "  <tbody>\n",
              "    <tr>\n",
              "      <th>336</th>\n",
              "      <td>Gentoo</td>\n",
              "      <td>Biscoe</td>\n",
              "      <td>44.5</td>\n",
              "      <td>15.7</td>\n",
              "      <td>217.0</td>\n",
              "      <td>4875.0</td>\n",
              "      <td>.</td>\n",
              "    </tr>\n",
              "  </tbody>\n",
              "</table>\n",
              "</div>\n",
              "      <button class=\"colab-df-convert\" onclick=\"convertToInteractive('df-5a083aac-b14f-4467-90dd-e129ff24987e')\"\n",
              "              title=\"Convert this dataframe to an interactive table.\"\n",
              "              style=\"display:none;\">\n",
              "        \n",
              "  <svg xmlns=\"http://www.w3.org/2000/svg\" height=\"24px\"viewBox=\"0 0 24 24\"\n",
              "       width=\"24px\">\n",
              "    <path d=\"M0 0h24v24H0V0z\" fill=\"none\"/>\n",
              "    <path d=\"M18.56 5.44l.94 2.06.94-2.06 2.06-.94-2.06-.94-.94-2.06-.94 2.06-2.06.94zm-11 1L8.5 8.5l.94-2.06 2.06-.94-2.06-.94L8.5 2.5l-.94 2.06-2.06.94zm10 10l.94 2.06.94-2.06 2.06-.94-2.06-.94-.94-2.06-.94 2.06-2.06.94z\"/><path d=\"M17.41 7.96l-1.37-1.37c-.4-.4-.92-.59-1.43-.59-.52 0-1.04.2-1.43.59L10.3 9.45l-7.72 7.72c-.78.78-.78 2.05 0 2.83L4 21.41c.39.39.9.59 1.41.59.51 0 1.02-.2 1.41-.59l7.78-7.78 2.81-2.81c.8-.78.8-2.07 0-2.86zM5.41 20L4 18.59l7.72-7.72 1.47 1.35L5.41 20z\"/>\n",
              "  </svg>\n",
              "      </button>\n",
              "      \n",
              "  <style>\n",
              "    .colab-df-container {\n",
              "      display:flex;\n",
              "      flex-wrap:wrap;\n",
              "      gap: 12px;\n",
              "    }\n",
              "\n",
              "    .colab-df-convert {\n",
              "      background-color: #E8F0FE;\n",
              "      border: none;\n",
              "      border-radius: 50%;\n",
              "      cursor: pointer;\n",
              "      display: none;\n",
              "      fill: #1967D2;\n",
              "      height: 32px;\n",
              "      padding: 0 0 0 0;\n",
              "      width: 32px;\n",
              "    }\n",
              "\n",
              "    .colab-df-convert:hover {\n",
              "      background-color: #E2EBFA;\n",
              "      box-shadow: 0px 1px 2px rgba(60, 64, 67, 0.3), 0px 1px 3px 1px rgba(60, 64, 67, 0.15);\n",
              "      fill: #174EA6;\n",
              "    }\n",
              "\n",
              "    [theme=dark] .colab-df-convert {\n",
              "      background-color: #3B4455;\n",
              "      fill: #D2E3FC;\n",
              "    }\n",
              "\n",
              "    [theme=dark] .colab-df-convert:hover {\n",
              "      background-color: #434B5C;\n",
              "      box-shadow: 0px 1px 3px 1px rgba(0, 0, 0, 0.15);\n",
              "      filter: drop-shadow(0px 1px 2px rgba(0, 0, 0, 0.3));\n",
              "      fill: #FFFFFF;\n",
              "    }\n",
              "  </style>\n",
              "\n",
              "      <script>\n",
              "        const buttonEl =\n",
              "          document.querySelector('#df-5a083aac-b14f-4467-90dd-e129ff24987e button.colab-df-convert');\n",
              "        buttonEl.style.display =\n",
              "          google.colab.kernel.accessAllowed ? 'block' : 'none';\n",
              "\n",
              "        async function convertToInteractive(key) {\n",
              "          const element = document.querySelector('#df-5a083aac-b14f-4467-90dd-e129ff24987e');\n",
              "          const dataTable =\n",
              "            await google.colab.kernel.invokeFunction('convertToInteractive',\n",
              "                                                     [key], {});\n",
              "          if (!dataTable) return;\n",
              "\n",
              "          const docLinkHtml = 'Like what you see? Visit the ' +\n",
              "            '<a target=\"_blank\" href=https://colab.research.google.com/notebooks/data_table.ipynb>data table notebook</a>'\n",
              "            + ' to learn more about interactive tables.';\n",
              "          element.innerHTML = '';\n",
              "          dataTable['output_type'] = 'display_data';\n",
              "          await google.colab.output.renderOutput(dataTable, element);\n",
              "          const docLink = document.createElement('div');\n",
              "          docLink.innerHTML = docLinkHtml;\n",
              "          element.appendChild(docLink);\n",
              "        }\n",
              "      </script>\n",
              "    </div>\n",
              "  </div>\n",
              "  "
            ]
          },
          "metadata": {},
          "execution_count": 11
        }
      ]
    },
    {
      "cell_type": "markdown",
      "source": [
        "Пропуск в виде `.` один. Удалим данную строку."
      ],
      "metadata": {
        "id": "DYXONMxkdE9t"
      }
    },
    {
      "cell_type": "code",
      "source": [
        "penguins_data.drop(penguins_data[penguins_data['sex']=='.'].index, inplace=True)"
      ],
      "metadata": {
        "id": "Wm5RdX8BgqVP"
      },
      "execution_count": 12,
      "outputs": []
    },
    {
      "cell_type": "markdown",
      "source": [
        "Распределение по признаку `Species` неравномерное."
      ],
      "metadata": {
        "id": "Buqhk4GudtXD"
      }
    },
    {
      "cell_type": "code",
      "source": [
        "species = penguins_data.species.value_counts()\n",
        "species.plot(kind='pie', autopct=\"%.2f%%\")"
      ],
      "metadata": {
        "colab": {
          "base_uri": "https://localhost:8080/",
          "height": 266
        },
        "id": "KJ2wvJn3doRn",
        "outputId": "4b38e546-058a-4f02-9fbf-5a36dfb335e3"
      },
      "execution_count": 13,
      "outputs": [
        {
          "output_type": "execute_result",
          "data": {
            "text/plain": [
              "<matplotlib.axes._subplots.AxesSubplot at 0x7f47b89ece90>"
            ]
          },
          "metadata": {},
          "execution_count": 13
        },
        {
          "output_type": "display_data",
          "data": {
            "text/plain": [
              "<Figure size 432x288 with 1 Axes>"
            ],
            "image/png": "[encoded data removed]"
          },
          "metadata": {}
        }
      ]
    },
    {
      "cell_type": "markdown",
      "source": [
        "Распределение по признаку `Island` также неравномерное и схоже с таковым по признаку `Species`."
      ],
      "metadata": {
        "id": "z7f7CnB6d3i4"
      }
    },
    {
      "cell_type": "code",
      "source": [
        "island = penguins_data.island.value_counts()\n",
        "island.plot(kind='pie', autopct=\"%.2f%%\")"
      ],
      "metadata": {
        "colab": {
          "base_uri": "https://localhost:8080/",
          "height": 266
        },
        "id": "2sqCdw4od9m8",
        "outputId": "78742ef4-5e24-4d2b-c678-96472d383cfd"
      },
      "execution_count": 14,
      "outputs": [
        {
          "output_type": "execute_result",
          "data": {
            "text/plain": [
              "<matplotlib.axes._subplots.AxesSubplot at 0x7f47b892bbd0>"
            ]
          },
          "metadata": {},
          "execution_count": 14
        },
        {
          "output_type": "display_data",
          "data": {
            "text/plain": [
              "<Figure size 432x288 with 1 Axes>"
            ],
            "image/png": "[encoded data removed]"
          },
          "metadata": {}
        }
      ]
    },
    {
      "cell_type": "markdown",
      "source": [
        "По признаку `Sex` данных почти одинаковое количество."
      ],
      "metadata": {
        "id": "TsqP_zNbeHcA"
      }
    },
    {
      "cell_type": "code",
      "source": [
        "sex = penguins_data.sex.value_counts()\n",
        "sex.plot(kind='pie',autopct=\"%.2f%%\")"
      ],
      "metadata": {
        "colab": {
          "base_uri": "https://localhost:8080/",
          "height": 266
        },
        "id": "qbQVXBA0eHw0",
        "outputId": "b42c0b15-8ac1-480e-f7ca-62f221696f56"
      },
      "execution_count": 15,
      "outputs": [
        {
          "output_type": "execute_result",
          "data": {
            "text/plain": [
              "<matplotlib.axes._subplots.AxesSubplot at 0x7f47b84c4850>"
            ]
          },
          "metadata": {},
          "execution_count": 15
        },
        {
          "output_type": "display_data",
          "data": {
            "text/plain": [
              "<Figure size 432x288 with 1 Axes>"
            ],
            "image/png": "[encoded data removed]"
          },
          "metadata": {}
        }
      ]
    },
    {
      "cell_type": "markdown",
      "source": [
        "Длина ласт и вид пингвина."
      ],
      "metadata": {
        "id": "z-VM8J38hV6x"
      }
    },
    {
      "cell_type": "code",
      "source": [
        "import matplotlib.pyplot as plt\n",
        "import seaborn as sns\n",
        "sns.violinplot(x = \"species\", y = \"flipper_length_mm\", data = penguins_data)"
      ],
      "metadata": {
        "colab": {
          "base_uri": "https://localhost:8080/",
          "height": 297
        },
        "id": "Eemcm_ZuhZYC",
        "outputId": "d1da9561-c708-4dbc-8fe5-9553b50edc79"
      },
      "execution_count": 16,
      "outputs": [
        {
          "output_type": "execute_result",
          "data": {
            "text/plain": [
              "<matplotlib.axes._subplots.AxesSubplot at 0x7f47ac0e2310>"
            ]
          },
          "metadata": {},
          "execution_count": 16
        },
        {
          "output_type": "display_data",
          "data": {
            "text/plain": [
              "<Figure size 432x288 with 1 Axes>"
            ],
            "image/png": "[encoded data removed]"
          },
          "metadata": {
            "needs_background": "light"
          }
        }
      ]
    },
    {
      "cell_type": "markdown",
      "source": [
        "У большинства пингвинов вида `Gentoo` ласты длиннее, чем у других видов."
      ],
      "metadata": {
        "id": "-WqNnT7NjuKj"
      }
    },
    {
      "cell_type": "markdown",
      "source": [
        "Длина ласт по виду и полу пингвина.\n"
      ],
      "metadata": {
        "id": "3PycoepyeyI1"
      }
    },
    {
      "cell_type": "code",
      "source": [
        "sns.violinplot(x = \"species\", y = \"flipper_length_mm\", data = penguins_data, hue = \"sex\")"
      ],
      "metadata": {
        "colab": {
          "base_uri": "https://localhost:8080/",
          "height": 297
        },
        "id": "AbVwtYIre3yu",
        "outputId": "f13fefdf-073f-4abb-8424-222fd4d5665a"
      },
      "execution_count": 17,
      "outputs": [
        {
          "output_type": "execute_result",
          "data": {
            "text/plain": [
              "<matplotlib.axes._subplots.AxesSubplot at 0x7f47ac07e690>"
            ]
          },
          "metadata": {},
          "execution_count": 17
        },
        {
          "output_type": "display_data",
          "data": {
            "text/plain": [
              "<Figure size 432x288 with 1 Axes>"
            ],
            "image/png": "[encoded data removed]"
          },
          "metadata": {
            "needs_background": "light"
          }
        }
      ]
    },
    {
      "cell_type": "markdown",
      "source": [
        "У мужских особей всех видов ласты в большинстве длиннее, чем у женских. У мужских особей вида `Gentoo` одни из самых длинных ласт."
      ],
      "metadata": {
        "id": "1tD-tyGBkSVW"
      }
    },
    {
      "cell_type": "markdown",
      "source": [
        "Корреляция признаков.\n"
      ],
      "metadata": {
        "id": "FUOv7Zbqg92w"
      }
    },
    {
      "cell_type": "code",
      "source": [
        "sns.heatmap(penguins_data.corr(), annot = True)"
      ],
      "metadata": {
        "colab": {
          "base_uri": "https://localhost:8080/",
          "height": 375
        },
        "id": "0y6keNM_g_jn",
        "outputId": "e79d79e4-9cf0-426f-c9af-c3f4667bc61c"
      },
      "execution_count": 18,
      "outputs": [
        {
          "output_type": "execute_result",
          "data": {
            "text/plain": [
              "<matplotlib.axes._subplots.AxesSubplot at 0x7f47abfca4d0>"
            ]
          },
          "metadata": {},
          "execution_count": 18
        },
        {
          "output_type": "display_data",
          "data": {
            "text/plain": [
              "<Figure size 432x288 with 2 Axes>"
            ],
            "image/png": "[encoded data removed]"
          },
          "metadata": {
            "needs_background": "light"
          }
        }
      ]
    },
    {
      "cell_type": "markdown",
      "source": [
        "У признаков `body_mass_g` и `flipper_length_mm` высокая корреляция 0.87, можно попробовать убрать один из них. "
      ],
      "metadata": {
        "id": "IwXCC8JFhGmu"
      }
    },
    {
      "cell_type": "markdown",
      "source": [
        "### При необходимости выполнить полезные преобразования данных (например, трансформировать категариальные признаки в количественные), убрать ненужные признаки, создать новые (Feature Engineering)."
      ],
      "metadata": {
        "id": "BPAy7whlddxs"
      }
    },
    {
      "cell_type": "markdown",
      "source": [
        "Трансформируем категориальные признаки `species`, `islands`, `sex`."
      ],
      "metadata": {
        "id": "d287Vuvqdbyk"
      }
    },
    {
      "cell_type": "code",
      "source": [
        "penguins_data['species'] = penguins_data['species'].map({'Adelie' : 0, 'Chinstrap' : 1, 'Gentoo' : 2})\n",
        "penguins_data['island'] = penguins_data['island'].map({'Torgersen' : 0, 'Biscoe' : 1, 'Dream' : 2})\n",
        "penguins_data['sex'] = penguins_data['sex'].map({'MALE' : 0, 'FEMALE' : 1})"
      ],
      "metadata": {
        "id": "PU1mizrOpDpx"
      },
      "execution_count": 19,
      "outputs": []
    },
    {
      "cell_type": "code",
      "source": [
        "penguins_data.head()"
      ],
      "metadata": {
        "colab": {
          "base_uri": "https://localhost:8080/",
          "height": 206
        },
        "id": "PTD7h0NQpgDk",
        "outputId": "413cf4d2-080e-4dd3-a2b6-eb283c631614"
      },
      "execution_count": 20,
      "outputs": [
        {
          "output_type": "execute_result",
          "data": {
            "text/plain": [
              "   species  island  culmen_length_mm  culmen_depth_mm  flipper_length_mm  \\\n",
              "0        0       0              39.1             18.7              181.0   \n",
              "1        0       0              39.5             17.4              186.0   \n",
              "2        0       0              40.3             18.0              195.0   \n",
              "4        0       0              36.7             19.3              193.0   \n",
              "5        0       0              39.3             20.6              190.0   \n",
              "\n",
              "   body_mass_g  sex  \n",
              "0       3750.0    0  \n",
              "1       3800.0    1  \n",
              "2       3250.0    1  \n",
              "4       3450.0    1  \n",
              "5       3650.0    0  "
            ],
            "text/html": [
              "\n",
              "  <div id=\"df-1ea7dd91-0ead-4019-870f-141e6e63efc1\">\n",
              "    <div class=\"colab-df-container\">\n",
              "      <div>\n",
              "<style scoped>\n",
              "    .dataframe tbody tr th:only-of-type {\n",
              "        vertical-align: middle;\n",
              "    }\n",
              "\n",
              "    .dataframe tbody tr th {\n",
              "        vertical-align: top;\n",
              "    }\n",
              "\n",
              "    .dataframe thead th {\n",
              "        text-align: right;\n",
              "    }\n",
              "</style>\n",
              "<table border=\"1\" class=\"dataframe\">\n",
              "  <thead>\n",
              "    <tr style=\"text-align: right;\">\n",
              "      <th></th>\n",
              "      <th>species</th>\n",
              "      <th>island</th>\n",
              "      <th>culmen_length_mm</th>\n",
              "      <th>culmen_depth_mm</th>\n",
              "      <th>flipper_length_mm</th>\n",
              "      <th>body_mass_g</th>\n",
              "      <th>sex</th>\n",
              "    </tr>\n",
              "  </thead>\n",
              "  <tbody>\n",
              "    <tr>\n",
              "      <th>0</th>\n",
              "      <td>0</td>\n",
              "      <td>0</td>\n",
              "      <td>39.1</td>\n",
              "      <td>18.7</td>\n",
              "      <td>181.0</td>\n",
              "      <td>3750.0</td>\n",
              "      <td>0</td>\n",
              "    </tr>\n",
              "    <tr>\n",
              "      <th>1</th>\n",
              "      <td>0</td>\n",
              "      <td>0</td>\n",
              "      <td>39.5</td>\n",
              "      <td>17.4</td>\n",
              "      <td>186.0</td>\n",
              "      <td>3800.0</td>\n",
              "      <td>1</td>\n",
              "    </tr>\n",
              "    <tr>\n",
              "      <th>2</th>\n",
              "      <td>0</td>\n",
              "      <td>0</td>\n",
              "      <td>40.3</td>\n",
              "      <td>18.0</td>\n",
              "      <td>195.0</td>\n",
              "      <td>3250.0</td>\n",
              "      <td>1</td>\n",
              "    </tr>\n",
              "    <tr>\n",
              "      <th>4</th>\n",
              "      <td>0</td>\n",
              "      <td>0</td>\n",
              "      <td>36.7</td>\n",
              "      <td>19.3</td>\n",
              "      <td>193.0</td>\n",
              "      <td>3450.0</td>\n",
              "      <td>1</td>\n",
              "    </tr>\n",
              "    <tr>\n",
              "      <th>5</th>\n",
              "      <td>0</td>\n",
              "      <td>0</td>\n",
              "      <td>39.3</td>\n",
              "      <td>20.6</td>\n",
              "      <td>190.0</td>\n",
              "      <td>3650.0</td>\n",
              "      <td>0</td>\n",
              "    </tr>\n",
              "  </tbody>\n",
              "</table>\n",
              "</div>\n",
              "      <button class=\"colab-df-convert\" onclick=\"convertToInteractive('df-1ea7dd91-0ead-4019-870f-141e6e63efc1')\"\n",
              "              title=\"Convert this dataframe to an interactive table.\"\n",
              "              style=\"display:none;\">\n",
              "        \n",
              "  <svg xmlns=\"http://www.w3.org/2000/svg\" height=\"24px\"viewBox=\"0 0 24 24\"\n",
              "       width=\"24px\">\n",
              "    <path d=\"M0 0h24v24H0V0z\" fill=\"none\"/>\n",
              "    <path d=\"M18.56 5.44l.94 2.06.94-2.06 2.06-.94-2.06-.94-.94-2.06-.94 2.06-2.06.94zm-11 1L8.5 8.5l.94-2.06 2.06-.94-2.06-.94L8.5 2.5l-.94 2.06-2.06.94zm10 10l.94 2.06.94-2.06 2.06-.94-2.06-.94-.94-2.06-.94 2.06-2.06.94z\"/><path d=\"M17.41 7.96l-1.37-1.37c-.4-.4-.92-.59-1.43-.59-.52 0-1.04.2-1.43.59L10.3 9.45l-7.72 7.72c-.78.78-.78 2.05 0 2.83L4 21.41c.39.39.9.59 1.41.59.51 0 1.02-.2 1.41-.59l7.78-7.78 2.81-2.81c.8-.78.8-2.07 0-2.86zM5.41 20L4 18.59l7.72-7.72 1.47 1.35L5.41 20z\"/>\n",
              "  </svg>\n",
              "      </button>\n",
              "      \n",
              "  <style>\n",
              "    .colab-df-container {\n",
              "      display:flex;\n",
              "      flex-wrap:wrap;\n",
              "      gap: 12px;\n",
              "    }\n",
              "\n",
              "    .colab-df-convert {\n",
              "      background-color: #E8F0FE;\n",
              "      border: none;\n",
              "      border-radius: 50%;\n",
              "      cursor: pointer;\n",
              "      display: none;\n",
              "      fill: #1967D2;\n",
              "      height: 32px;\n",
              "      padding: 0 0 0 0;\n",
              "      width: 32px;\n",
              "    }\n",
              "\n",
              "    .colab-df-convert:hover {\n",
              "      background-color: #E2EBFA;\n",
              "      box-shadow: 0px 1px 2px rgba(60, 64, 67, 0.3), 0px 1px 3px 1px rgba(60, 64, 67, 0.15);\n",
              "      fill: #174EA6;\n",
              "    }\n",
              "\n",
              "    [theme=dark] .colab-df-convert {\n",
              "      background-color: #3B4455;\n",
              "      fill: #D2E3FC;\n",
              "    }\n",
              "\n",
              "    [theme=dark] .colab-df-convert:hover {\n",
              "      background-color: #434B5C;\n",
              "      box-shadow: 0px 1px 3px 1px rgba(0, 0, 0, 0.15);\n",
              "      filter: drop-shadow(0px 1px 2px rgba(0, 0, 0, 0.3));\n",
              "      fill: #FFFFFF;\n",
              "    }\n",
              "  </style>\n",
              "\n",
              "      <script>\n",
              "        const buttonEl =\n",
              "          document.querySelector('#df-1ea7dd91-0ead-4019-870f-141e6e63efc1 button.colab-df-convert');\n",
              "        buttonEl.style.display =\n",
              "          google.colab.kernel.accessAllowed ? 'block' : 'none';\n",
              "\n",
              "        async function convertToInteractive(key) {\n",
              "          const element = document.querySelector('#df-1ea7dd91-0ead-4019-870f-141e6e63efc1');\n",
              "          const dataTable =\n",
              "            await google.colab.kernel.invokeFunction('convertToInteractive',\n",
              "                                                     [key], {});\n",
              "          if (!dataTable) return;\n",
              "\n",
              "          const docLinkHtml = 'Like what you see? Visit the ' +\n",
              "            '<a target=\"_blank\" href=https://colab.research.google.com/notebooks/data_table.ipynb>data table notebook</a>'\n",
              "            + ' to learn more about interactive tables.';\n",
              "          element.innerHTML = '';\n",
              "          dataTable['output_type'] = 'display_data';\n",
              "          await google.colab.output.renderOutput(dataTable, element);\n",
              "          const docLink = document.createElement('div');\n",
              "          docLink.innerHTML = docLinkHtml;\n",
              "          element.appendChild(docLink);\n",
              "        }\n",
              "      </script>\n",
              "    </div>\n",
              "  </div>\n",
              "  "
            ]
          },
          "metadata": {},
          "execution_count": 20
        }
      ]
    },
    {
      "cell_type": "markdown",
      "source": [
        "### Используя стратегии OneVsRest, OneVsOne и OutputCode решите задачу Multiclass classification для каждого из пройденных базового алгоритма классификации (logistic regression, svm, knn, naive bayes, decision tree). При обучении использовать подбор гиперпараметров, кросс-валидацию и при необходимости масштабирование данных, добиться наилучшего качества предсказания."
      ],
      "metadata": {
        "id": "2NGrL_YcqedK"
      }
    },
    {
      "cell_type": "markdown",
      "source": [
        "Целевой переменной будет `species`."
      ],
      "metadata": {
        "id": "30pPsVtumqaP"
      }
    },
    {
      "cell_type": "code",
      "source": [
        "penguins_data_X = penguins_data.drop(columns=['species'])\n",
        "penguins_data_y = penguins_data['species']\n",
        "\n",
        "from sklearn.model_selection import train_test_split\n",
        "\n",
        "penguins_train_X, penguins_test_X, penguins_train_y, penguins_test_y = train_test_split(penguins_data_X, penguins_data_y, test_size = 0.3, random_state=19)"
      ],
      "metadata": {
        "id": "qbFbU6Pj2pd9"
      },
      "execution_count": 21,
      "outputs": []
    },
    {
      "cell_type": "markdown",
      "source": [
        "#### Linear regression"
      ],
      "metadata": {
        "id": "ZvlDwSK3qygx"
      }
    },
    {
      "cell_type": "code",
      "source": [
        "from sklearn.linear_model import LogisticRegression\n",
        "from sklearn.model_selection import GridSearchCV\n",
        "from sklearn.multiclass import OneVsOneClassifier, OneVsRestClassifier, OutputCodeClassifier\n",
        "from sklearn.metrics import accuracy_score\n",
        "from sklearn.metrics import confusion_matrix"
      ],
      "metadata": {
        "id": "PFdKkVRhq2Tn"
      },
      "execution_count": 22,
      "outputs": []
    },
    {
      "cell_type": "code",
      "source": [
        "import time\n",
        "import numpy as np\n",
        "\n",
        "lr_hp = { 'C' : np.logspace(-2, 4, 7),\n",
        "               'solver' : [\"liblinear\", \"newton-cg\",\"sag\"],\n",
        "               'max_iter' : [5000]\n",
        "}\n",
        "\n",
        "Grid_LR_penguins = GridSearchCV(LogisticRegression(),\n",
        "                      lr_hp,\n",
        "                      scoring='roc_auc',\n",
        "                      cv = 3)"
      ],
      "metadata": {
        "id": "hfDoFUAlvw2Y"
      },
      "execution_count": 23,
      "outputs": []
    },
    {
      "cell_type": "markdown",
      "source": [
        "- OneVsOne"
      ],
      "metadata": {
        "id": "wT9T-sjg4kUx"
      }
    },
    {
      "cell_type": "code",
      "source": [
        "LR_penguins_ovo = OneVsOneClassifier(Grid_LR_penguins)\n",
        "start_LR_penguins_ovo = time.time()\n",
        "LR_penguins_ovo.fit(penguins_train_X, penguins_train_y)\n",
        "training_time_LR_penguins_ovo = time.time() - start_LR_penguins_ovo"
      ],
      "metadata": {
        "id": "jJ_uJijGxq8p"
      },
      "execution_count": null,
      "outputs": []
    },
    {
      "cell_type": "code",
      "source": [
        "LR_penguins_train_predict = LR_penguins_ovo.predict(penguins_train_X)\n",
        "accuracy_lr_train_ovo = accuracy_score(penguins_train_y, LR_penguins_train_predict)\n",
        "print(\"OneVsOne\\n train accuracy: \", accuracy_lr_train_ovo, \"\\n training time: \", training_time_LR_penguins_ovo)"
      ],
      "metadata": {
        "colab": {
          "base_uri": "https://localhost:8080/"
        },
        "id": "qHZxtmXX6dnP",
        "outputId": "cc3666f7-f0e0-4079-c9be-2567d89b260f"
      },
      "execution_count": 25,
      "outputs": [
        {
          "output_type": "stream",
          "name": "stdout",
          "text": [
            "OneVsOne\n",
            " train accuracy:  1.0 \n",
            " training time:  22.15861964225769\n"
          ]
        }
      ]
    },
    {
      "cell_type": "code",
      "source": [
        "LR_penguins_test_predict = LR_penguins_ovo.predict(penguins_test_X)\n",
        "accuracy_lr_test_ovo = accuracy_score(penguins_test_y, LR_penguins_test_predict)\n",
        "print(\"OneVsOne\\n test accuracy: \", accuracy_lr_test_ovo)"
      ],
      "metadata": {
        "colab": {
          "base_uri": "https://localhost:8080/"
        },
        "id": "E2HrnzOx79Vj",
        "outputId": "3cf13e93-2e2e-4354-dd7c-198a17268942"
      },
      "execution_count": 26,
      "outputs": [
        {
          "output_type": "stream",
          "name": "stdout",
          "text": [
            "OneVsOne\n",
            " test accuracy:  1.0\n"
          ]
        }
      ]
    },
    {
      "cell_type": "code",
      "source": [
        "sns.heatmap(confusion_matrix(penguins_test_y, LR_penguins_test_predict), annot = True, fmt = '.0f')\n",
        "plt.show()"
      ],
      "metadata": {
        "colab": {
          "base_uri": "https://localhost:8080/",
          "height": 265
        },
        "id": "nbbzWf3fMnN6",
        "outputId": "787d364f-3dfe-4a89-852a-e2ca36887988"
      },
      "execution_count": 27,
      "outputs": [
        {
          "output_type": "display_data",
          "data": {
            "text/plain": [
              "<Figure size 432x288 with 2 Axes>"
            ],
            "image/png": "[encoded data removed]"
          },
          "metadata": {
            "needs_background": "light"
          }
        }
      ]
    },
    {
      "cell_type": "markdown",
      "source": [
        "- OneVsRest"
      ],
      "metadata": {
        "id": "E_KxYrI54llF"
      }
    },
    {
      "cell_type": "code",
      "source": [
        "LR_penguins_ovr = OneVsRestClassifier(Grid_LR_penguins)\n",
        "start_LR_penguins_ovr = time.time()\n",
        "LR_penguins_ovr.fit(penguins_train_X, penguins_train_y)\n",
        "training_time_LR_penguins_ovr = time.time() - start_LR_penguins_ovr"
      ],
      "metadata": {
        "id": "6qlD0EXp4sdt"
      },
      "execution_count": null,
      "outputs": []
    },
    {
      "cell_type": "code",
      "source": [
        "LR_penguins_train_predict = LR_penguins_ovr.predict(penguins_train_X)\n",
        "accuracy_lr_train_ovr = accuracy_score(penguins_train_y, LR_penguins_train_predict)\n",
        "print(\"OneVsRest\\n train accuracy: \", accuracy_lr_train_ovr, \"\\n training time: \", training_time_LR_penguins_ovr)"
      ],
      "metadata": {
        "colab": {
          "base_uri": "https://localhost:8080/"
        },
        "outputId": "f9889e99-44c1-4766-a425-1cca14cedcdd",
        "id": "dhZf7FEp8Sea"
      },
      "execution_count": 29,
      "outputs": [
        {
          "output_type": "stream",
          "name": "stdout",
          "text": [
            "OneVsRest\n",
            " train accuracy:  1.0 \n",
            " training time:  16.024529933929443\n"
          ]
        }
      ]
    },
    {
      "cell_type": "code",
      "source": [
        "LR_penguins_test_predict = LR_penguins_ovr.predict(penguins_test_X)\n",
        "accuracy_lr_test_ovr = accuracy_score(penguins_test_y, LR_penguins_test_predict)\n",
        "print(\"OneVsRest\\n test accuracy: \", accuracy_lr_test_ovr)"
      ],
      "metadata": {
        "colab": {
          "base_uri": "https://localhost:8080/"
        },
        "outputId": "acbb95fe-6c6e-4cf1-b927-a96f07cc85c0",
        "id": "k-sqEC0X8Sec"
      },
      "execution_count": 30,
      "outputs": [
        {
          "output_type": "stream",
          "name": "stdout",
          "text": [
            "OneVsRest\n",
            " test accuracy:  0.9902912621359223\n"
          ]
        }
      ]
    },
    {
      "cell_type": "code",
      "source": [
        "sns.heatmap(confusion_matrix(penguins_test_y, LR_penguins_test_predict), annot = True, fmt = '.0f')\n",
        "plt.show()"
      ],
      "metadata": {
        "colab": {
          "base_uri": "https://localhost:8080/",
          "height": 265
        },
        "id": "flnNbqY3NkvC",
        "outputId": "657630bf-a551-4ecf-8e3e-02ec59051f1e"
      },
      "execution_count": 31,
      "outputs": [
        {
          "output_type": "display_data",
          "data": {
            "text/plain": [
              "<Figure size 432x288 with 2 Axes>"
            ],
            "image/png": "[encoded data removed]"
          },
          "metadata": {
            "needs_background": "light"
          }
        }
      ]
    },
    {
      "cell_type": "markdown",
      "source": [
        "- OutputCode"
      ],
      "metadata": {
        "id": "afHCIJFx4syO"
      }
    },
    {
      "cell_type": "code",
      "source": [
        "LR_penguins_oc = OutputCodeClassifier(Grid_LR_penguins)\n",
        "start_LR_penguins_oc = time.time()\n",
        "LR_penguins_oc.fit(penguins_train_X, penguins_train_y)\n",
        "training_time_LR_penguins_oc = time.time() - start_LR_penguins_oc"
      ],
      "metadata": {
        "id": "iPE4K55T4u4N"
      },
      "execution_count": null,
      "outputs": []
    },
    {
      "cell_type": "code",
      "source": [
        "LR_penguins_train_predict = LR_penguins_oc.predict(penguins_train_X)\n",
        "accuracy_lr_train_oc = accuracy_score(penguins_train_y, LR_penguins_train_predict)\n",
        "print(\"OutputCode\\n train accuracy: \", accuracy_lr_train_oc, \"\\n training time: \", training_time_LR_penguins_oc)"
      ],
      "metadata": {
        "colab": {
          "base_uri": "https://localhost:8080/"
        },
        "outputId": "1415f1ab-2219-467d-dcca-9895ccb6ba82",
        "id": "fovFrgvi8oS3"
      },
      "execution_count": 33,
      "outputs": [
        {
          "output_type": "stream",
          "name": "stdout",
          "text": [
            "OutputCode\n",
            " train accuracy:  1.0 \n",
            " training time:  16.273345947265625\n"
          ]
        }
      ]
    },
    {
      "cell_type": "code",
      "source": [
        "LR_penguins_test_predict = LR_penguins_oc.predict(penguins_test_X)\n",
        "accuracy_lr_test_oc = accuracy_score(penguins_test_y, LR_penguins_test_predict)\n",
        "print(\"OutputCode\\n test accuracy: \", accuracy_lr_test_oc)"
      ],
      "metadata": {
        "colab": {
          "base_uri": "https://localhost:8080/"
        },
        "outputId": "c905dd45-26af-4698-8863-b5b86fd9a479",
        "id": "z-cQZhCl8oS4"
      },
      "execution_count": 34,
      "outputs": [
        {
          "output_type": "stream",
          "name": "stdout",
          "text": [
            "OutputCode\n",
            " test accuracy:  0.9902912621359223\n"
          ]
        }
      ]
    },
    {
      "cell_type": "code",
      "source": [
        "sns.heatmap(confusion_matrix(penguins_test_y, LR_penguins_test_predict), annot = True, fmt = '.0f')\n",
        "plt.show()"
      ],
      "metadata": {
        "colab": {
          "base_uri": "https://localhost:8080/",
          "height": 265
        },
        "id": "s2RwiMm0N8n9",
        "outputId": "7e5de593-3d1b-4c45-af70-02de7490a4ab"
      },
      "execution_count": 35,
      "outputs": [
        {
          "output_type": "display_data",
          "data": {
            "text/plain": [
              "<Figure size 432x288 with 2 Axes>"
            ],
            "image/png": "[encoded data removed]"
          },
          "metadata": {
            "needs_background": "light"
          }
        }
      ]
    },
    {
      "cell_type": "markdown",
      "source": [
        "#### SVM"
      ],
      "metadata": {
        "id": "7TGq8Yut9gYX"
      }
    },
    {
      "cell_type": "code",
      "source": [
        "from sklearn.svm import SVC\n",
        "from sklearn.model_selection import GridSearchCV\n",
        "from sklearn.multiclass import OneVsOneClassifier, OneVsRestClassifier, OutputCodeClassifier\n",
        "from sklearn.metrics import accuracy_score"
      ],
      "metadata": {
        "id": "_PnG3rQs9gYY"
      },
      "execution_count": 36,
      "outputs": []
    },
    {
      "cell_type": "code",
      "source": [
        "import time\n",
        "import numpy as np\n",
        "\n",
        "SVM_hp = {'C': [0.1, 1, 10, 100, 1000], \n",
        "              'gamma': [1, 0.1, 0.01, 0.001, 0.0001],\n",
        "              'kernel': ['rbf']} \n",
        "\n",
        "Grid_SVM_penguins = GridSearchCV(SVC(),\n",
        "                      SVM_hp,\n",
        "                      scoring='roc_auc',\n",
        "                      cv = 3)"
      ],
      "metadata": {
        "id": "0ymu99ek9gYa"
      },
      "execution_count": 37,
      "outputs": []
    },
    {
      "cell_type": "markdown",
      "source": [
        "- OneVsOne"
      ],
      "metadata": {
        "id": "-RLiXVi-9gYb"
      }
    },
    {
      "cell_type": "code",
      "source": [
        "SVM_penguins_ovo = OneVsOneClassifier(Grid_SVM_penguins)\n",
        "start_SVM_penguins_ovo = time.time()\n",
        "SVM_penguins_ovo.fit(penguins_train_X, penguins_train_y)\n",
        "training_time_SVM_penguins_ovo = time.time() - start_SVM_penguins_ovo"
      ],
      "metadata": {
        "id": "h6Xr4bTF9gYb"
      },
      "execution_count": 38,
      "outputs": []
    },
    {
      "cell_type": "code",
      "source": [
        "SVM_penguins_train_predict = SVM_penguins_ovo.predict(penguins_train_X)\n",
        "accuracy_svm_train_ovo = accuracy_score(penguins_train_y, SVM_penguins_train_predict)\n",
        "print(\"OneVsOne\\n train accuracy: \", accuracy_svm_train_ovo, \"\\n training time: \", training_time_SVM_penguins_ovo)"
      ],
      "metadata": {
        "colab": {
          "base_uri": "https://localhost:8080/"
        },
        "outputId": "f08f9580-d10b-4ffe-b315-6a7d7e75c118",
        "id": "XH0PvG0n9gYc"
      },
      "execution_count": 39,
      "outputs": [
        {
          "output_type": "stream",
          "name": "stdout",
          "text": [
            "OneVsOne\n",
            " train accuracy:  0.9957983193277311 \n",
            " training time:  0.8828577995300293\n"
          ]
        }
      ]
    },
    {
      "cell_type": "code",
      "source": [
        "SVM_penguins_test_predict = SVM_penguins_ovo.predict(penguins_test_X)\n",
        "accuracy_svm_test_ovo = accuracy_score(penguins_test_y, SVM_penguins_test_predict)\n",
        "print(\"OneVsOne\\n test accuracy: \", accuracy_svm_test_ovo)"
      ],
      "metadata": {
        "colab": {
          "base_uri": "https://localhost:8080/"
        },
        "outputId": "99083601-3fca-48df-ad65-7185aa3f4b07",
        "id": "xQDBcUzN9gYd"
      },
      "execution_count": 40,
      "outputs": [
        {
          "output_type": "stream",
          "name": "stdout",
          "text": [
            "OneVsOne\n",
            " test accuracy:  0.9223300970873787\n"
          ]
        }
      ]
    },
    {
      "cell_type": "code",
      "source": [
        "sns.heatmap(confusion_matrix(penguins_test_y, SVM_penguins_test_predict), annot = True, fmt = '.0f')\n",
        "plt.show()"
      ],
      "metadata": {
        "colab": {
          "base_uri": "https://localhost:8080/",
          "height": 265
        },
        "id": "pm65RkBnOdB4",
        "outputId": "65dd873f-714b-4430-8256-441dcb0b7699"
      },
      "execution_count": 41,
      "outputs": [
        {
          "output_type": "display_data",
          "data": {
            "text/plain": [
              "<Figure size 432x288 with 2 Axes>"
            ],
            "image/png": "[encoded data removed]"
          },
          "metadata": {
            "needs_background": "light"
          }
        }
      ]
    },
    {
      "cell_type": "markdown",
      "source": [
        "- OneVsRest"
      ],
      "metadata": {
        "id": "fg4RbyHf9gYd"
      }
    },
    {
      "cell_type": "code",
      "source": [
        "SVM_penguins_ovr = OneVsRestClassifier(Grid_SVM_penguins)\n",
        "start_SVM_penguins_ovr = time.time()\n",
        "SVM_penguins_ovr.fit(penguins_train_X, penguins_train_y)\n",
        "training_time_SVM_penguins_ovr = time.time() - start_SVM_penguins_ovr"
      ],
      "metadata": {
        "id": "ojMySq8v9gYe"
      },
      "execution_count": 42,
      "outputs": []
    },
    {
      "cell_type": "code",
      "source": [
        "SVM_penguins_train_predict = SVM_penguins_ovr.predict(penguins_train_X)\n",
        "accuracy_svm_train_ovr = accuracy_score(penguins_train_y, SVM_penguins_train_predict)\n",
        "print(\"OneVsRest\\n train accuracy: \", accuracy_svm_train_ovr, \"\\n training time: \", training_time_SVM_penguins_ovr)"
      ],
      "metadata": {
        "colab": {
          "base_uri": "https://localhost:8080/"
        },
        "outputId": "f0cbc1d8-b9b5-4972-fe7c-d7e938c26b1e",
        "id": "ZD6Nw-KE9gYf"
      },
      "execution_count": 43,
      "outputs": [
        {
          "output_type": "stream",
          "name": "stdout",
          "text": [
            "OneVsRest\n",
            " train accuracy:  0.9957983193277311 \n",
            " training time:  1.9180586338043213\n"
          ]
        }
      ]
    },
    {
      "cell_type": "code",
      "source": [
        "SVM_penguins_test_predict = SVM_penguins_ovr.predict(penguins_test_X)\n",
        "accuracy_svm_test_ovr = accuracy_score(penguins_test_y, SVM_penguins_test_predict)\n",
        "print(\"OneVsRest\\n test accuracy: \", accuracy_svm_test_ovr)"
      ],
      "metadata": {
        "colab": {
          "base_uri": "https://localhost:8080/"
        },
        "outputId": "3fb915ec-12ce-4b94-cdb5-dc000d39f99a",
        "id": "HKYzFUrq9gYg"
      },
      "execution_count": 44,
      "outputs": [
        {
          "output_type": "stream",
          "name": "stdout",
          "text": [
            "OneVsRest\n",
            " test accuracy:  0.9320388349514563\n"
          ]
        }
      ]
    },
    {
      "cell_type": "code",
      "source": [
        "sns.heatmap(confusion_matrix(penguins_test_y, SVM_penguins_test_predict), annot = True, fmt = '.0f')\n",
        "plt.show()"
      ],
      "metadata": {
        "colab": {
          "base_uri": "https://localhost:8080/",
          "height": 265
        },
        "id": "iy8p2hfCOjzL",
        "outputId": "bd434525-8921-433a-e781-bc234150df5b"
      },
      "execution_count": 45,
      "outputs": [
        {
          "output_type": "display_data",
          "data": {
            "text/plain": [
              "<Figure size 432x288 with 2 Axes>"
            ],
            "image/png": "[encoded data removed]"
          },
          "metadata": {
            "needs_background": "light"
          }
        }
      ]
    },
    {
      "cell_type": "markdown",
      "source": [
        "- OutputCode"
      ],
      "metadata": {
        "id": "vGciy6Ce9gYg"
      }
    },
    {
      "cell_type": "code",
      "source": [
        "SVM_penguins_oc = OutputCodeClassifier(Grid_SVM_penguins)\n",
        "start_SVM_penguins_oc = time.time()\n",
        "SVM_penguins_oc.fit(penguins_train_X, penguins_train_y)\n",
        "training_time_SVM_penguins_oc = time.time() - start_SVM_penguins_oc"
      ],
      "metadata": {
        "id": "SMlxHx6b9gYh"
      },
      "execution_count": 46,
      "outputs": []
    },
    {
      "cell_type": "code",
      "source": [
        "SVM_penguins_train_predict = SVM_penguins_oc.predict(penguins_train_X)\n",
        "accuracy_svm_train_oc = accuracy_score(penguins_train_y, SVM_penguins_train_predict)\n",
        "print(\"OutputCode\\n train accuracy: \", accuracy_svm_train_oc, \"\\n training time: \", training_time_SVM_penguins_oc)"
      ],
      "metadata": {
        "colab": {
          "base_uri": "https://localhost:8080/"
        },
        "outputId": "7ef0cbea-c7e8-48cb-aaa2-252231801f70",
        "id": "WpmYyHDd9gYi"
      },
      "execution_count": 47,
      "outputs": [
        {
          "output_type": "stream",
          "name": "stdout",
          "text": [
            "OutputCode\n",
            " train accuracy:  0.9957983193277311 \n",
            " training time:  1.9010882377624512\n"
          ]
        }
      ]
    },
    {
      "cell_type": "code",
      "source": [
        "SVM_penguins_test_predict = SVM_penguins_oc.predict(penguins_test_X)\n",
        "accuracy_svm_test_oc = accuracy_score(penguins_test_y, SVM_penguins_test_predict)\n",
        "print(\"OutputCode\\n test accuracy: \", accuracy_svm_test_oc)"
      ],
      "metadata": {
        "colab": {
          "base_uri": "https://localhost:8080/"
        },
        "outputId": "d2b39507-2a9d-47bc-8eec-985ef0f34a65",
        "id": "tc4Z5VSv9gYj"
      },
      "execution_count": 48,
      "outputs": [
        {
          "output_type": "stream",
          "name": "stdout",
          "text": [
            "OutputCode\n",
            " test accuracy:  0.9320388349514563\n"
          ]
        }
      ]
    },
    {
      "cell_type": "code",
      "source": [
        "sns.heatmap(confusion_matrix(penguins_test_y, SVM_penguins_test_predict), annot = True, fmt = '.0f')\n",
        "plt.show()"
      ],
      "metadata": {
        "colab": {
          "base_uri": "https://localhost:8080/",
          "height": 265
        },
        "id": "e1Z2b5MxOk7Z",
        "outputId": "3082de33-d5df-4932-b5de-0948f1406071"
      },
      "execution_count": 49,
      "outputs": [
        {
          "output_type": "display_data",
          "data": {
            "text/plain": [
              "<Figure size 432x288 with 2 Axes>"
            ],
            "image/png": "[encoded data removed]"
          },
          "metadata": {
            "needs_background": "light"
          }
        }
      ]
    },
    {
      "cell_type": "markdown",
      "source": [
        "#### KNN"
      ],
      "metadata": {
        "id": "JA6t_LzZNaMY"
      }
    },
    {
      "cell_type": "code",
      "source": [
        "from sklearn.neighbors import KNeighborsClassifier\n",
        "from sklearn.model_selection import GridSearchCV\n",
        "from sklearn.multiclass import OneVsOneClassifier, OneVsRestClassifier, OutputCodeClassifier\n",
        "from sklearn.metrics import accuracy_score"
      ],
      "metadata": {
        "id": "It6xrjSLNaMh"
      },
      "execution_count": 50,
      "outputs": []
    },
    {
      "cell_type": "code",
      "source": [
        "import time\n",
        "import numpy as np\n",
        "\n",
        "KNN_hp = {'n_neighbors': list(range(1, 31))} \n",
        "\n",
        "Grid_KNN_penguins = GridSearchCV(KNeighborsClassifier(),\n",
        "                      KNN_hp,\n",
        "                      scoring='roc_auc',\n",
        "                      cv = 3)"
      ],
      "metadata": {
        "id": "u91306xQNaMt"
      },
      "execution_count": 51,
      "outputs": []
    },
    {
      "cell_type": "markdown",
      "source": [
        "- OneVsOne"
      ],
      "metadata": {
        "id": "ITWigbgcNaM1"
      }
    },
    {
      "cell_type": "code",
      "source": [
        "KNN_penguins_ovo = OneVsOneClassifier(Grid_KNN_penguins)\n",
        "start_KNN_penguins_ovo = time.time()\n",
        "KNN_penguins_ovo.fit(penguins_train_X, penguins_train_y)\n",
        "training_time_KNN_penguins_ovo = time.time() - start_KNN_penguins_ovo"
      ],
      "metadata": {
        "id": "fCKBCNuwNaM-"
      },
      "execution_count": 52,
      "outputs": []
    },
    {
      "cell_type": "code",
      "source": [
        "KNN_penguins_train_predict = KNN_penguins_ovo.predict(penguins_train_X)\n",
        "accuracy_knn_train_ovo = accuracy_score(penguins_train_y, KNN_penguins_train_predict)\n",
        "print(\"OneVsOne\\n train accuracy: \", accuracy_knn_train_ovo, \"\\n training time: \", training_time_KNN_penguins_ovo)"
      ],
      "metadata": {
        "colab": {
          "base_uri": "https://localhost:8080/"
        },
        "outputId": "78e7fda1-429a-4fc5-b146-7b06b57c278e",
        "id": "7gCHOv2hNaNE"
      },
      "execution_count": 53,
      "outputs": [
        {
          "output_type": "stream",
          "name": "stdout",
          "text": [
            "OneVsOne\n",
            " train accuracy:  0.8949579831932774 \n",
            " training time:  0.9051504135131836\n"
          ]
        }
      ]
    },
    {
      "cell_type": "code",
      "source": [
        "KNN_penguins_test_predict = KNN_penguins_ovo.predict(penguins_test_X)\n",
        "accuracy_knn_test_ovo = accuracy_score(penguins_test_y, KNN_penguins_test_predict)\n",
        "print(\"OneVsOne\\n test accuracy: \", accuracy_knn_test_ovo)"
      ],
      "metadata": {
        "colab": {
          "base_uri": "https://localhost:8080/"
        },
        "outputId": "2d348499-df3e-42eb-c587-0bcdf5811f78",
        "id": "3pHsbRfhNaNK"
      },
      "execution_count": 54,
      "outputs": [
        {
          "output_type": "stream",
          "name": "stdout",
          "text": [
            "OneVsOne\n",
            " test accuracy:  0.8737864077669902\n"
          ]
        }
      ]
    },
    {
      "cell_type": "code",
      "source": [
        "sns.heatmap(confusion_matrix(penguins_test_y, KNN_penguins_test_predict), annot = True, fmt = '.0f')\n",
        "plt.show()"
      ],
      "metadata": {
        "colab": {
          "base_uri": "https://localhost:8080/",
          "height": 269
        },
        "id": "aL_ExWhtOqCt",
        "outputId": "f5f34612-e185-4a92-b7b6-614dc6d2ea54"
      },
      "execution_count": 55,
      "outputs": [
        {
          "output_type": "display_data",
          "data": {
            "text/plain": [
              "<Figure size 432x288 with 2 Axes>"
            ],
            "image/png": "[encoded data removed]"
          },
          "metadata": {
            "needs_background": "light"
          }
        }
      ]
    },
    {
      "cell_type": "markdown",
      "source": [
        "- OneVsRest"
      ],
      "metadata": {
        "id": "6vg20hKENaNP"
      }
    },
    {
      "cell_type": "code",
      "source": [
        "KNN_penguins_ovr = OneVsRestClassifier(Grid_KNN_penguins)\n",
        "start_KNN_penguins_ovr = time.time()\n",
        "KNN_penguins_ovr.fit(penguins_train_X, penguins_train_y)\n",
        "training_time_KNN_penguins_ovr = time.time() - start_KNN_penguins_ovr"
      ],
      "metadata": {
        "id": "SZKr16djNaNU"
      },
      "execution_count": 56,
      "outputs": []
    },
    {
      "cell_type": "code",
      "source": [
        "KNN_penguins_train_predict = KNN_penguins_ovr.predict(penguins_train_X)\n",
        "accuracy_knn_train_ovr = accuracy_score(penguins_train_y, KNN_penguins_train_predict)\n",
        "print(\"OneVsRest\\n train accuracy: \", accuracy_knn_train_ovr, \"\\n training time: \", training_time_KNN_penguins_ovr)"
      ],
      "metadata": {
        "colab": {
          "base_uri": "https://localhost:8080/"
        },
        "outputId": "c288a73d-ac9e-45fe-bc5c-db7199c621e7",
        "id": "mAOhproZNaNa"
      },
      "execution_count": 57,
      "outputs": [
        {
          "output_type": "stream",
          "name": "stdout",
          "text": [
            "OneVsRest\n",
            " train accuracy:  0.8109243697478992 \n",
            " training time:  1.8416993618011475\n"
          ]
        }
      ]
    },
    {
      "cell_type": "code",
      "source": [
        "KNN_penguins_test_predict = KNN_penguins_ovr.predict(penguins_test_X)\n",
        "accuracy_knn_test_ovr = accuracy_score(penguins_test_y, KNN_penguins_test_predict)\n",
        "print(\"OneVsRest\\n test accuracy: \", accuracy_knn_test_ovr)"
      ],
      "metadata": {
        "colab": {
          "base_uri": "https://localhost:8080/"
        },
        "outputId": "b9c8c32e-55b8-4849-87e7-9209b4298570",
        "id": "yrXgTjjoNaNh"
      },
      "execution_count": 58,
      "outputs": [
        {
          "output_type": "stream",
          "name": "stdout",
          "text": [
            "OneVsRest\n",
            " test accuracy:  0.7864077669902912\n"
          ]
        }
      ]
    },
    {
      "cell_type": "code",
      "source": [
        "sns.heatmap(confusion_matrix(penguins_test_y, KNN_penguins_test_predict), annot = True, fmt = '.0f')\n",
        "plt.show()"
      ],
      "metadata": {
        "colab": {
          "base_uri": "https://localhost:8080/",
          "height": 265
        },
        "id": "3-i10AgjOtzq",
        "outputId": "0381a5a4-71b0-4c34-ed8f-29f67cb0f13f"
      },
      "execution_count": 59,
      "outputs": [
        {
          "output_type": "display_data",
          "data": {
            "text/plain": [
              "<Figure size 432x288 with 2 Axes>"
            ],
            "image/png": "[encoded data removed]"
          },
          "metadata": {
            "needs_background": "light"
          }
        }
      ]
    },
    {
      "cell_type": "markdown",
      "source": [
        "- OutputCode"
      ],
      "metadata": {
        "id": "WYCnZI_fNaNq"
      }
    },
    {
      "cell_type": "code",
      "source": [
        "KNN_penguins_oc = OutputCodeClassifier(Grid_KNN_penguins)\n",
        "start_KNN_penguins_oc = time.time()\n",
        "KNN_penguins_oc.fit(penguins_train_X, penguins_train_y)\n",
        "training_time_KNN_penguins_oc = time.time() - start_KNN_penguins_oc"
      ],
      "metadata": {
        "id": "99kE0Mo_NaNu"
      },
      "execution_count": 60,
      "outputs": []
    },
    {
      "cell_type": "code",
      "source": [
        "KNN_penguins_train_predict = KNN_penguins_oc.predict(penguins_train_X)\n",
        "accuracy_knn_train_oc = accuracy_score(penguins_train_y, KNN_penguins_train_predict)\n",
        "print(\"OutputCode\\n train accuracy: \", accuracy_knn_train_oc, \"\\n training time: \", training_time_KNN_penguins_oc)"
      ],
      "metadata": {
        "colab": {
          "base_uri": "https://localhost:8080/"
        },
        "outputId": "444fb3af-f65b-44dc-803c-be693fd04f66",
        "id": "OFbOVRxWNaNw"
      },
      "execution_count": 61,
      "outputs": [
        {
          "output_type": "stream",
          "name": "stdout",
          "text": [
            "OutputCode\n",
            " train accuracy:  0.8151260504201681 \n",
            " training time:  2.4950013160705566\n"
          ]
        }
      ]
    },
    {
      "cell_type": "code",
      "source": [
        "KNN_penguins_test_predict = KNN_penguins_oc.predict(penguins_test_X)\n",
        "accuracy_knn_test_oc = accuracy_score(penguins_test_y, KNN_penguins_test_predict)\n",
        "print(\"OutputCode\\n test accuracy: \", accuracy_knn_test_oc)"
      ],
      "metadata": {
        "colab": {
          "base_uri": "https://localhost:8080/"
        },
        "outputId": "f83f5c66-a60e-425e-ee79-2cbc50423b43",
        "id": "355zHX85NaNz"
      },
      "execution_count": 62,
      "outputs": [
        {
          "output_type": "stream",
          "name": "stdout",
          "text": [
            "OutputCode\n",
            " test accuracy:  0.7864077669902912\n"
          ]
        }
      ]
    },
    {
      "cell_type": "code",
      "source": [
        "sns.heatmap(confusion_matrix(penguins_test_y, KNN_penguins_test_predict), annot = True, fmt = '.0f')\n",
        "plt.show()"
      ],
      "metadata": {
        "colab": {
          "base_uri": "https://localhost:8080/",
          "height": 265
        },
        "id": "sDGzKFHfOwh7",
        "outputId": "cac051bb-b5ce-4081-aa21-284b9726b3c7"
      },
      "execution_count": 63,
      "outputs": [
        {
          "output_type": "display_data",
          "data": {
            "text/plain": [
              "<Figure size 432x288 with 2 Axes>"
            ],
            "image/png": "[encoded data removed]"
          },
          "metadata": {
            "needs_background": "light"
          }
        }
      ]
    },
    {
      "cell_type": "markdown",
      "source": [
        "#### Naive bayes"
      ],
      "metadata": {
        "id": "P0bGSlfYJxJJ"
      }
    },
    {
      "cell_type": "code",
      "source": [
        "from sklearn.naive_bayes import GaussianNB\n",
        "from sklearn.model_selection import GridSearchCV\n",
        "from sklearn.multiclass import OneVsOneClassifier, OneVsRestClassifier, OutputCodeClassifier\n",
        "from sklearn.metrics import accuracy_score"
      ],
      "metadata": {
        "id": "5HD0pQ_GJxJM"
      },
      "execution_count": 64,
      "outputs": []
    },
    {
      "cell_type": "code",
      "source": [
        "import time\n",
        "import numpy as np\n",
        "\n",
        "NB_hp = {'var_smoothing': np.logspace(0, -9, num = 100)}\n",
        "\n",
        "Grid_NB_penguins = GridSearchCV(GaussianNB(),\n",
        "                      NB_hp,\n",
        "                      scoring='roc_auc',\n",
        "                      cv = 3)"
      ],
      "metadata": {
        "id": "flTJevBzJxJP"
      },
      "execution_count": 65,
      "outputs": []
    },
    {
      "cell_type": "markdown",
      "source": [
        "- OneVsOne"
      ],
      "metadata": {
        "id": "OyqyRM04JxJR"
      }
    },
    {
      "cell_type": "code",
      "source": [
        "NB_penguins_ovo = OneVsOneClassifier(Grid_NB_penguins)\n",
        "start_NB_penguins_ovo = time.time()\n",
        "NB_penguins_ovo.fit(penguins_train_X, penguins_train_y)\n",
        "training_time_NB_penguins_ovo = time.time() - start_NB_penguins_ovo"
      ],
      "metadata": {
        "id": "AvAFaVFAJxJT"
      },
      "execution_count": 66,
      "outputs": []
    },
    {
      "cell_type": "code",
      "source": [
        "NB_penguins_train_predict = NB_penguins_ovo.predict(penguins_train_X)\n",
        "accuracy_nb_train_ovo = accuracy_score(penguins_train_y, NB_penguins_train_predict)\n",
        "print(\"OneVsOne\\n train accuracy: \", accuracy_nb_train_ovo, \"\\n training time: \", training_time_NB_penguins_ovo)"
      ],
      "metadata": {
        "colab": {
          "base_uri": "https://localhost:8080/"
        },
        "outputId": "b2071f47-d443-4208-bef1-4ef62eb39563",
        "id": "mcrHbORUJxJW"
      },
      "execution_count": 67,
      "outputs": [
        {
          "output_type": "stream",
          "name": "stdout",
          "text": [
            "OneVsOne\n",
            " train accuracy:  0.9621848739495799 \n",
            " training time:  2.427072048187256\n"
          ]
        }
      ]
    },
    {
      "cell_type": "code",
      "source": [
        "NB_penguins_test_predict = NB_penguins_ovo.predict(penguins_test_X)\n",
        "accuracy_nb_test_ovo = accuracy_score(penguins_test_y, NB_penguins_test_predict)\n",
        "print(\"OneVsOne\\n test accuracy: \", accuracy_nb_test_ovo)"
      ],
      "metadata": {
        "colab": {
          "base_uri": "https://localhost:8080/"
        },
        "outputId": "2922bad8-3925-4482-c9fe-b70235e75533",
        "id": "Xu2hXGUDJxJZ"
      },
      "execution_count": 68,
      "outputs": [
        {
          "output_type": "stream",
          "name": "stdout",
          "text": [
            "OneVsOne\n",
            " test accuracy:  0.970873786407767\n"
          ]
        }
      ]
    },
    {
      "cell_type": "code",
      "source": [
        "sns.heatmap(confusion_matrix(penguins_test_y, NB_penguins_test_predict), annot = True, fmt = '.0f')\n",
        "plt.show()"
      ],
      "metadata": {
        "colab": {
          "base_uri": "https://localhost:8080/",
          "height": 269
        },
        "id": "DQ7jJLNZO0kb",
        "outputId": "c843eebc-8ab3-4c6e-a961-fc15761b1cc2"
      },
      "execution_count": 69,
      "outputs": [
        {
          "output_type": "display_data",
          "data": {
            "text/plain": [
              "<Figure size 432x288 with 2 Axes>"
            ],
            "image/png": "[encoded data removed]"
          },
          "metadata": {
            "needs_background": "light"
          }
        }
      ]
    },
    {
      "cell_type": "markdown",
      "source": [
        "- OneVsRest"
      ],
      "metadata": {
        "id": "zjDbhuIPJxJb"
      }
    },
    {
      "cell_type": "code",
      "source": [
        "NB_penguins_ovr = OneVsRestClassifier(Grid_NB_penguins)\n",
        "start_NB_penguins_ovr = time.time()\n",
        "NB_penguins_ovr.fit(penguins_train_X, penguins_train_y)\n",
        "training_time_NB_penguins_ovr = time.time() - start_NB_penguins_ovr"
      ],
      "metadata": {
        "id": "qTzUDTSeJxJc"
      },
      "execution_count": 70,
      "outputs": []
    },
    {
      "cell_type": "code",
      "source": [
        "NB_penguins_train_predict = NB_penguins_ovr.predict(penguins_train_X)\n",
        "accuracy_nb_train_ovr = accuracy_score(penguins_train_y, NB_penguins_train_predict)\n",
        "print(\"OneVsRest\\n train accuracy: \", accuracy_nb_train_ovr, \"\\n training time: \", training_time_NB_penguins_ovr)"
      ],
      "metadata": {
        "colab": {
          "base_uri": "https://localhost:8080/"
        },
        "outputId": "1fafb985-b8f0-4059-9c2e-f913740a12e1",
        "id": "dnVYjaGCJxJe"
      },
      "execution_count": 71,
      "outputs": [
        {
          "output_type": "stream",
          "name": "stdout",
          "text": [
            "OneVsRest\n",
            " train accuracy:  0.9705882352941176 \n",
            " training time:  5.554149150848389\n"
          ]
        }
      ]
    },
    {
      "cell_type": "code",
      "source": [
        "NB_penguins_test_predict = NB_penguins_ovr.predict(penguins_test_X)\n",
        "accuracy_nb_test_ovr = accuracy_score(penguins_test_y, NB_penguins_test_predict)\n",
        "print(\"OneVsRest\\n test accuracy: \", accuracy_nb_test_ovr)"
      ],
      "metadata": {
        "colab": {
          "base_uri": "https://localhost:8080/"
        },
        "outputId": "a7961fc7-4e58-4a87-c92a-2f2b11bb5729",
        "id": "Oi7jgahkJxJh"
      },
      "execution_count": 72,
      "outputs": [
        {
          "output_type": "stream",
          "name": "stdout",
          "text": [
            "OneVsRest\n",
            " test accuracy:  0.970873786407767\n"
          ]
        }
      ]
    },
    {
      "cell_type": "code",
      "source": [
        "sns.heatmap(confusion_matrix(penguins_test_y, NB_penguins_test_predict), annot = True, fmt = '.0f')\n",
        "plt.show()"
      ],
      "metadata": {
        "colab": {
          "base_uri": "https://localhost:8080/",
          "height": 265
        },
        "id": "aQ-iMFh6O5Up",
        "outputId": "087c06e7-32bf-42e2-b1e3-a30192742e65"
      },
      "execution_count": 73,
      "outputs": [
        {
          "output_type": "display_data",
          "data": {
            "text/plain": [
              "<Figure size 432x288 with 2 Axes>"
            ],
            "image/png": "[encoded data removed]"
          },
          "metadata": {
            "needs_background": "light"
          }
        }
      ]
    },
    {
      "cell_type": "markdown",
      "source": [
        "- OutputCode"
      ],
      "metadata": {
        "id": "0D6zC8_xJxJj"
      }
    },
    {
      "cell_type": "code",
      "source": [
        "NB_penguins_oc = OutputCodeClassifier(Grid_NB_penguins)\n",
        "start_NB_penguins_oc = time.time()\n",
        "NB_penguins_oc.fit(penguins_train_X, penguins_train_y)\n",
        "training_time_NB_penguins_oc = time.time() - start_NB_penguins_oc"
      ],
      "metadata": {
        "id": "5w4PXQc1JxJj"
      },
      "execution_count": 74,
      "outputs": []
    },
    {
      "cell_type": "code",
      "source": [
        "NB_penguins_train_predict = NB_penguins_oc.predict(penguins_train_X)\n",
        "accuracy_nb_train_oc = accuracy_score(penguins_train_y, NB_penguins_train_predict)\n",
        "print(\"OutputCode\\n train accuracy: \", accuracy_nb_train_oc, \"\\n training time: \", training_time_NB_penguins_oc)"
      ],
      "metadata": {
        "colab": {
          "base_uri": "https://localhost:8080/"
        },
        "outputId": "451c2355-2dfa-4c1f-eef3-3e5fe60fef1e",
        "id": "ajt1mWylJxJk"
      },
      "execution_count": 75,
      "outputs": [
        {
          "output_type": "stream",
          "name": "stdout",
          "text": [
            "OutputCode\n",
            " train accuracy:  0.6134453781512605 \n",
            " training time:  1.862637996673584\n"
          ]
        }
      ]
    },
    {
      "cell_type": "code",
      "source": [
        "NB_penguins_test_predict = NB_penguins_oc.predict(penguins_test_X)\n",
        "accuracy_nb_test_oc = accuracy_score(penguins_test_y, NB_penguins_test_predict)\n",
        "print(\"OutputCode\\n test accuracy: \", accuracy_nb_test_oc)"
      ],
      "metadata": {
        "colab": {
          "base_uri": "https://localhost:8080/"
        },
        "outputId": "d2c0a82b-c9f2-432c-83e4-64d4a3e753f1",
        "id": "m9nctfpxJxJl"
      },
      "execution_count": 76,
      "outputs": [
        {
          "output_type": "stream",
          "name": "stdout",
          "text": [
            "OutputCode\n",
            " test accuracy:  0.6213592233009708\n"
          ]
        }
      ]
    },
    {
      "cell_type": "code",
      "source": [
        "sns.heatmap(confusion_matrix(penguins_test_y, NB_penguins_test_predict), annot = True, fmt = '.0f')\n",
        "plt.show()"
      ],
      "metadata": {
        "colab": {
          "base_uri": "https://localhost:8080/",
          "height": 265
        },
        "id": "-9HrzzkpO7AC",
        "outputId": "e09cb319-5eb9-4b18-e3da-3b94027b2ad1"
      },
      "execution_count": 77,
      "outputs": [
        {
          "output_type": "display_data",
          "data": {
            "text/plain": [
              "<Figure size 432x288 with 2 Axes>"
            ],
            "image/png": "[encoded data removed]"
          },
          "metadata": {
            "needs_background": "light"
          }
        }
      ]
    },
    {
      "cell_type": "markdown",
      "source": [
        "#### Decision tree"
      ],
      "metadata": {
        "id": "xwpWCvQoKs4t"
      }
    },
    {
      "cell_type": "code",
      "source": [
        "from sklearn.tree import DecisionTreeClassifier\n",
        "from sklearn.model_selection import GridSearchCV\n",
        "from sklearn.multiclass import OneVsOneClassifier, OneVsRestClassifier, OutputCodeClassifier\n",
        "from sklearn.metrics import accuracy_score"
      ],
      "metadata": {
        "id": "FqkfRNyZKs4z"
      },
      "execution_count": 78,
      "outputs": []
    },
    {
      "cell_type": "code",
      "source": [
        "import time\n",
        "import numpy as np\n",
        "\n",
        "DT_hp = {\n",
        "    'max_depth': [2, 3, 5, 10, 20],\n",
        "    'min_samples_leaf': [5, 10, 20, 50, 100],\n",
        "    'criterion': [\"gini\", \"entropy\"]\n",
        "}\n",
        "\n",
        "Grid_DT_penguins = GridSearchCV(DecisionTreeClassifier(),\n",
        "                      DT_hp,\n",
        "                      scoring='roc_auc',\n",
        "                      cv = 3)"
      ],
      "metadata": {
        "id": "Vx2ytC45Ks45"
      },
      "execution_count": 79,
      "outputs": []
    },
    {
      "cell_type": "markdown",
      "source": [
        "- OneVsOne"
      ],
      "metadata": {
        "id": "VRZsm-OVKs4_"
      }
    },
    {
      "cell_type": "code",
      "source": [
        "DT_penguins_ovo = OneVsOneClassifier(Grid_DT_penguins)\n",
        "start_DT_penguins_ovo = time.time()\n",
        "DT_penguins_ovo.fit(penguins_train_X, penguins_train_y)\n",
        "training_time_DT_penguins_ovo = time.time() - start_DT_penguins_ovo"
      ],
      "metadata": {
        "id": "rLygE0ToKs5D"
      },
      "execution_count": 80,
      "outputs": []
    },
    {
      "cell_type": "code",
      "source": [
        "DT_penguins_train_predict = DT_penguins_ovo.predict(penguins_train_X)\n",
        "accuracy_dt_train_ovo = accuracy_score(penguins_train_y, DT_penguins_train_predict)\n",
        "print(\"OneVsOne\\n train accuracy: \", accuracy_dt_train_ovo, \"\\n training time: \", training_time_DT_penguins_ovo)"
      ],
      "metadata": {
        "colab": {
          "base_uri": "https://localhost:8080/"
        },
        "outputId": "62949c6f-dd1d-42da-fc92-dbbee852f0cc",
        "id": "l6jMZf67Ks5I"
      },
      "execution_count": 81,
      "outputs": [
        {
          "output_type": "stream",
          "name": "stdout",
          "text": [
            "OneVsOne\n",
            " train accuracy:  0.9789915966386554 \n",
            " training time:  1.0435316562652588\n"
          ]
        }
      ]
    },
    {
      "cell_type": "code",
      "source": [
        "DT_penguins_test_predict = DT_penguins_ovo.predict(penguins_test_X)\n",
        "accuracy_dt_test_ovo = accuracy_score(penguins_test_y, DT_penguins_test_predict)\n",
        "print(\"OneVsOne\\n test accuracy: \", accuracy_dt_test_ovo)"
      ],
      "metadata": {
        "colab": {
          "base_uri": "https://localhost:8080/"
        },
        "outputId": "33145206-d1da-41dc-ce01-6741e84fe687",
        "id": "17DL7hjKKs5N"
      },
      "execution_count": 82,
      "outputs": [
        {
          "output_type": "stream",
          "name": "stdout",
          "text": [
            "OneVsOne\n",
            " test accuracy:  0.970873786407767\n"
          ]
        }
      ]
    },
    {
      "cell_type": "code",
      "source": [
        "sns.heatmap(confusion_matrix(penguins_test_y, DT_penguins_test_predict), annot = True, fmt = '.0f')\n",
        "plt.show()"
      ],
      "metadata": {
        "colab": {
          "base_uri": "https://localhost:8080/",
          "height": 269
        },
        "id": "BQPsHz7gPAXC",
        "outputId": "8e1df858-0afc-47d1-8e75-39f784adb0ef"
      },
      "execution_count": 83,
      "outputs": [
        {
          "output_type": "display_data",
          "data": {
            "text/plain": [
              "<Figure size 432x288 with 2 Axes>"
            ],
            "image/png": "[encoded data removed]"
          },
          "metadata": {
            "needs_background": "light"
          }
        }
      ]
    },
    {
      "cell_type": "markdown",
      "source": [
        "- OneVsRest"
      ],
      "metadata": {
        "id": "yudj3ZDbKs5S"
      }
    },
    {
      "cell_type": "code",
      "source": [
        "DT_penguins_ovr = OneVsRestClassifier(Grid_DT_penguins)\n",
        "start_DT_penguins_ovr = time.time()\n",
        "DT_penguins_ovr.fit(penguins_train_X, penguins_train_y)\n",
        "training_time_DT_penguins_ovr = time.time() - start_DT_penguins_ovr"
      ],
      "metadata": {
        "id": "NKsq9l8kKs5W"
      },
      "execution_count": 84,
      "outputs": []
    },
    {
      "cell_type": "code",
      "source": [
        "DT_penguins_train_predict = DT_penguins_ovr.predict(penguins_train_X)\n",
        "accuracy_dt_train_ovr = accuracy_score(penguins_train_y, DT_penguins_train_predict)\n",
        "print(\"OneVsRest\\n train accuracy: \", accuracy_dt_train_ovr, \"\\n training time: \", training_time_DT_penguins_ovr)"
      ],
      "metadata": {
        "colab": {
          "base_uri": "https://localhost:8080/"
        },
        "outputId": "15627081-5967-4cec-d11b-f3bde7b9def9",
        "id": "Dvfx35VVKs5b"
      },
      "execution_count": 85,
      "outputs": [
        {
          "output_type": "stream",
          "name": "stdout",
          "text": [
            "OneVsRest\n",
            " train accuracy:  0.9915966386554622 \n",
            " training time:  2.586763620376587\n"
          ]
        }
      ]
    },
    {
      "cell_type": "code",
      "source": [
        "DT_penguins_test_predict = DT_penguins_ovr.predict(penguins_test_X)\n",
        "accuracy_dt_test_ovr = accuracy_score(penguins_test_y, DT_penguins_test_predict)\n",
        "print(\"OneVsRest\\n test accuracy: \", accuracy_dt_test_ovr)"
      ],
      "metadata": {
        "colab": {
          "base_uri": "https://localhost:8080/"
        },
        "outputId": "886104a4-c204-4d2e-b883-4c3748c00608",
        "id": "I8yRPLUjKs5i"
      },
      "execution_count": 86,
      "outputs": [
        {
          "output_type": "stream",
          "name": "stdout",
          "text": [
            "OneVsRest\n",
            " test accuracy:  0.9902912621359223\n"
          ]
        }
      ]
    },
    {
      "cell_type": "code",
      "source": [
        "sns.heatmap(confusion_matrix(penguins_test_y, DT_penguins_test_predict), annot = True, fmt = '.0f')\n",
        "plt.show()"
      ],
      "metadata": {
        "colab": {
          "base_uri": "https://localhost:8080/",
          "height": 265
        },
        "id": "alUohxYQPFQ4",
        "outputId": "e9acbcb6-aa08-4628-b606-98b069c16a16"
      },
      "execution_count": 87,
      "outputs": [
        {
          "output_type": "display_data",
          "data": {
            "text/plain": [
              "<Figure size 432x288 with 2 Axes>"
            ],
            "image/png": "[encoded data removed]"
          },
          "metadata": {
            "needs_background": "light"
          }
        }
      ]
    },
    {
      "cell_type": "markdown",
      "source": [
        "- OutputCode"
      ],
      "metadata": {
        "id": "_3N4CL2kKs5m"
      }
    },
    {
      "cell_type": "code",
      "source": [
        "DT_penguins_oc = OutputCodeClassifier(Grid_DT_penguins)\n",
        "start_DT_penguins_oc = time.time()\n",
        "DT_penguins_oc.fit(penguins_train_X, penguins_train_y)\n",
        "training_time_DT_penguins_oc = time.time() - start_DT_penguins_oc"
      ],
      "metadata": {
        "id": "JHP8AFIbKs5o"
      },
      "execution_count": 88,
      "outputs": []
    },
    {
      "cell_type": "code",
      "source": [
        "DT_penguins_train_predict = DT_penguins_oc.predict(penguins_train_X)\n",
        "accuracy_dt_train_oc = accuracy_score(penguins_train_y, DT_penguins_train_predict)\n",
        "print(\"OutputCode\\n train accuracy: \", accuracy_dt_train_oc, \"\\n training time: \", training_time_DT_penguins_oc)"
      ],
      "metadata": {
        "colab": {
          "base_uri": "https://localhost:8080/"
        },
        "outputId": "fdce3865-c0cd-4f96-8536-77e118e8a84c",
        "id": "ijzDqSUFKs5q"
      },
      "execution_count": 89,
      "outputs": [
        {
          "output_type": "stream",
          "name": "stdout",
          "text": [
            "OutputCode\n",
            " train accuracy:  0.634453781512605 \n",
            " training time:  1.76297926902771\n"
          ]
        }
      ]
    },
    {
      "cell_type": "code",
      "source": [
        "DT_penguins_test_predict = DT_penguins_oc.predict(penguins_test_X)\n",
        "accuracy_dt_test_oc = accuracy_score(penguins_test_y, DT_penguins_test_predict)\n",
        "print(\"OutputCode\\n test accuracy: \", accuracy_dt_test_oc)"
      ],
      "metadata": {
        "colab": {
          "base_uri": "https://localhost:8080/"
        },
        "outputId": "a595c9b9-08ae-4b30-a2fc-22cbd4d8cbd5",
        "id": "Suu-Y0OVKs5u"
      },
      "execution_count": 90,
      "outputs": [
        {
          "output_type": "stream",
          "name": "stdout",
          "text": [
            "OutputCode\n",
            " test accuracy:  0.6407766990291263\n"
          ]
        }
      ]
    },
    {
      "cell_type": "code",
      "source": [
        "sns.heatmap(confusion_matrix(penguins_test_y, DT_penguins_test_predict), annot = True, fmt = '.0f')\n",
        "plt.show()"
      ],
      "metadata": {
        "colab": {
          "base_uri": "https://localhost:8080/",
          "height": 265
        },
        "id": "q8DurfaUPG8u",
        "outputId": "ab67fd13-0625-4298-909e-da8e5e9b1934"
      },
      "execution_count": 91,
      "outputs": [
        {
          "output_type": "display_data",
          "data": {
            "text/plain": [
              "<Figure size 432x288 with 2 Axes>"
            ],
            "image/png": "[encoded data removed]"
          },
          "metadata": {
            "needs_background": "light"
          }
        }
      ]
    },
    {
      "cell_type": "markdown",
      "source": [
        "### Сравнить время обучения и качество всех моделей и всех стратегий. Сделать выводы."
      ],
      "metadata": {
        "id": "1bK7tt9oOkRH"
      }
    },
    {
      "cell_type": "code",
      "source": [
        "stats = [('Logistic Regression', accuracy_lr_train_ovo, accuracy_lr_train_ovr,  accuracy_lr_train_oc,\n",
        "                                   accuracy_lr_test_ovo, accuracy_lr_test_ovr, accuracy_lr_test_oc,\n",
        "                                   training_time_LR_penguins_ovo, training_time_LR_penguins_ovr, training_time_LR_penguins_oc),\n",
        "          ('KNN', accuracy_knn_train_ovo, accuracy_knn_train_ovr, accuracy_knn_train_oc, \n",
        "                accuracy_knn_test_ovo, accuracy_knn_test_ovr, accuracy_knn_test_oc, \n",
        "               training_time_KNN_penguins_ovo, training_time_KNN_penguins_ovr, training_time_KNN_penguins_oc),\n",
        "          ('SVM', accuracy_svm_train_ovo, accuracy_svm_train_ovr, accuracy_svm_train_oc, \n",
        "                       accuracy_svm_test_ovo, accuracy_svm_test_ovr, accuracy_svm_test_oc, \n",
        "                       training_time_SVM_penguins_ovo, training_time_SVM_penguins_ovr, training_time_SVM_penguins_oc),\n",
        "          ('Naive Bayes', accuracy_nb_train_ovo, accuracy_nb_train_ovr, accuracy_nb_train_oc, \n",
        "                        accuracy_nb_test_ovo, accuracy_nb_test_ovr, accuracy_nb_test_oc,\n",
        "                        training_time_NB_penguins_ovo, training_time_NB_penguins_ovr, training_time_NB_penguins_oc),\n",
        "          ('Decision Tree', accuracy_dt_train_ovo, accuracy_dt_train_ovr, accuracy_dt_train_oc,\n",
        "                        accuracy_dt_test_ovo, accuracy_dt_test_ovr, accuracy_dt_test_oc,\n",
        "                        training_time_DT_penguins_ovo, training_time_DT_penguins_ovr, training_time_DT_penguins_oc)\n",
        "         ]\n",
        "\n",
        "stats_pd = pd.DataFrame(data = stats, columns=['Model', 'Train accuracy OVO', 'Train accuracy OVR', 'Train accuracy OC', \n",
        "                                               'Test accuracy OVO', 'Test accuracy OVR', 'Test accuracy OC',  \n",
        "                                               'Train time OVO', 'Train time OVR','Train time OC'])"
      ],
      "metadata": {
        "id": "Y0bK0ZqtOmn_"
      },
      "execution_count": 92,
      "outputs": []
    },
    {
      "cell_type": "code",
      "source": [
        "stats_pd = stats_pd.round(decimals = 2)"
      ],
      "metadata": {
        "id": "Q4BhkXicSYZy"
      },
      "execution_count": 93,
      "outputs": []
    },
    {
      "cell_type": "code",
      "source": [
        "stats_pd"
      ],
      "metadata": {
        "colab": {
          "base_uri": "https://localhost:8080/",
          "height": 206
        },
        "id": "Wyv-Rre0Q6Vj",
        "outputId": "624ef5f3-5e07-4dec-efac-f19c6dd189e8"
      },
      "execution_count": 94,
      "outputs": [
        {
          "output_type": "execute_result",
          "data": {
            "text/plain": [
              "                 Model  Train accuracy OVO  Train accuracy OVR  \\\n",
              "0  Logistic Regression                1.00                1.00   \n",
              "1                  KNN                0.89                0.81   \n",
              "2                  SVM                1.00                1.00   \n",
              "3          Naive Bayes                0.96                0.97   \n",
              "4        Decision Tree                0.98                0.99   \n",
              "\n",
              "   Train accuracy OC  Test accuracy OVO  Test accuracy OVR  Test accuracy OC  \\\n",
              "0               1.00               1.00               0.99              0.99   \n",
              "1               0.82               0.87               0.79              0.79   \n",
              "2               1.00               0.92               0.93              0.93   \n",
              "3               0.61               0.97               0.97              0.62   \n",
              "4               0.63               0.97               0.99              0.64   \n",
              "\n",
              "   Train time OVO  Train time OVR  Train time OC  \n",
              "0           22.16           16.02          16.27  \n",
              "1            0.91            1.84           2.50  \n",
              "2            0.88            1.92           1.90  \n",
              "3            2.43            5.55           1.86  \n",
              "4            1.04            2.59           1.76  "
            ],
            "text/html": [
              "\n",
              "  <div id=\"df-26c951d5-da52-49a2-aaa1-c3b7941202dd\">\n",
              "    <div class=\"colab-df-container\">\n",
              "      <div>\n",
              "<style scoped>\n",
              "    .dataframe tbody tr th:only-of-type {\n",
              "        vertical-align: middle;\n",
              "    }\n",
              "\n",
              "    .dataframe tbody tr th {\n",
              "        vertical-align: top;\n",
              "    }\n",
              "\n",
              "    .dataframe thead th {\n",
              "        text-align: right;\n",
              "    }\n",
              "</style>\n",
              "<table border=\"1\" class=\"dataframe\">\n",
              "  <thead>\n",
              "    <tr style=\"text-align: right;\">\n",
              "      <th></th>\n",
              "      <th>Model</th>\n",
              "      <th>Train accuracy OVO</th>\n",
              "      <th>Train accuracy OVR</th>\n",
              "      <th>Train accuracy OC</th>\n",
              "      <th>Test accuracy OVO</th>\n",
              "      <th>Test accuracy OVR</th>\n",
              "      <th>Test accuracy OC</th>\n",
              "      <th>Train time OVO</th>\n",
              "      <th>Train time OVR</th>\n",
              "      <th>Train time OC</th>\n",
              "    </tr>\n",
              "  </thead>\n",
              "  <tbody>\n",
              "    <tr>\n",
              "      <th>0</th>\n",
              "      <td>Logistic Regression</td>\n",
              "      <td>1.00</td>\n",
              "      <td>1.00</td>\n",
              "      <td>1.00</td>\n",
              "      <td>1.00</td>\n",
              "      <td>0.99</td>\n",
              "      <td>0.99</td>\n",
              "      <td>22.16</td>\n",
              "      <td>16.02</td>\n",
              "      <td>16.27</td>\n",
              "    </tr>\n",
              "    <tr>\n",
              "      <th>1</th>\n",
              "      <td>KNN</td>\n",
              "      <td>0.89</td>\n",
              "      <td>0.81</td>\n",
              "      <td>0.82</td>\n",
              "      <td>0.87</td>\n",
              "      <td>0.79</td>\n",
              "      <td>0.79</td>\n",
              "      <td>0.91</td>\n",
              "      <td>1.84</td>\n",
              "      <td>2.50</td>\n",
              "    </tr>\n",
              "    <tr>\n",
              "      <th>2</th>\n",
              "      <td>SVM</td>\n",
              "      <td>1.00</td>\n",
              "      <td>1.00</td>\n",
              "      <td>1.00</td>\n",
              "      <td>0.92</td>\n",
              "      <td>0.93</td>\n",
              "      <td>0.93</td>\n",
              "      <td>0.88</td>\n",
              "      <td>1.92</td>\n",
              "      <td>1.90</td>\n",
              "    </tr>\n",
              "    <tr>\n",
              "      <th>3</th>\n",
              "      <td>Naive Bayes</td>\n",
              "      <td>0.96</td>\n",
              "      <td>0.97</td>\n",
              "      <td>0.61</td>\n",
              "      <td>0.97</td>\n",
              "      <td>0.97</td>\n",
              "      <td>0.62</td>\n",
              "      <td>2.43</td>\n",
              "      <td>5.55</td>\n",
              "      <td>1.86</td>\n",
              "    </tr>\n",
              "    <tr>\n",
              "      <th>4</th>\n",
              "      <td>Decision Tree</td>\n",
              "      <td>0.98</td>\n",
              "      <td>0.99</td>\n",
              "      <td>0.63</td>\n",
              "      <td>0.97</td>\n",
              "      <td>0.99</td>\n",
              "      <td>0.64</td>\n",
              "      <td>1.04</td>\n",
              "      <td>2.59</td>\n",
              "      <td>1.76</td>\n",
              "    </tr>\n",
              "  </tbody>\n",
              "</table>\n",
              "</div>\n",
              "      <button class=\"colab-df-convert\" onclick=\"convertToInteractive('df-26c951d5-da52-49a2-aaa1-c3b7941202dd')\"\n",
              "              title=\"Convert this dataframe to an interactive table.\"\n",
              "              style=\"display:none;\">\n",
              "        \n",
              "  <svg xmlns=\"http://www.w3.org/2000/svg\" height=\"24px\"viewBox=\"0 0 24 24\"\n",
              "       width=\"24px\">\n",
              "    <path d=\"M0 0h24v24H0V0z\" fill=\"none\"/>\n",
              "    <path d=\"M18.56 5.44l.94 2.06.94-2.06 2.06-.94-2.06-.94-.94-2.06-.94 2.06-2.06.94zm-11 1L8.5 8.5l.94-2.06 2.06-.94-2.06-.94L8.5 2.5l-.94 2.06-2.06.94zm10 10l.94 2.06.94-2.06 2.06-.94-2.06-.94-.94-2.06-.94 2.06-2.06.94z\"/><path d=\"M17.41 7.96l-1.37-1.37c-.4-.4-.92-.59-1.43-.59-.52 0-1.04.2-1.43.59L10.3 9.45l-7.72 7.72c-.78.78-.78 2.05 0 2.83L4 21.41c.39.39.9.59 1.41.59.51 0 1.02-.2 1.41-.59l7.78-7.78 2.81-2.81c.8-.78.8-2.07 0-2.86zM5.41 20L4 18.59l7.72-7.72 1.47 1.35L5.41 20z\"/>\n",
              "  </svg>\n",
              "      </button>\n",
              "      \n",
              "  <style>\n",
              "    .colab-df-container {\n",
              "      display:flex;\n",
              "      flex-wrap:wrap;\n",
              "      gap: 12px;\n",
              "    }\n",
              "\n",
              "    .colab-df-convert {\n",
              "      background-color: #E8F0FE;\n",
              "      border: none;\n",
              "      border-radius: 50%;\n",
              "      cursor: pointer;\n",
              "      display: none;\n",
              "      fill: #1967D2;\n",
              "      height: 32px;\n",
              "      padding: 0 0 0 0;\n",
              "      width: 32px;\n",
              "    }\n",
              "\n",
              "    .colab-df-convert:hover {\n",
              "      background-color: #E2EBFA;\n",
              "      box-shadow: 0px 1px 2px rgba(60, 64, 67, 0.3), 0px 1px 3px 1px rgba(60, 64, 67, 0.15);\n",
              "      fill: #174EA6;\n",
              "    }\n",
              "\n",
              "    [theme=dark] .colab-df-convert {\n",
              "      background-color: #3B4455;\n",
              "      fill: #D2E3FC;\n",
              "    }\n",
              "\n",
              "    [theme=dark] .colab-df-convert:hover {\n",
              "      background-color: #434B5C;\n",
              "      box-shadow: 0px 1px 3px 1px rgba(0, 0, 0, 0.15);\n",
              "      filter: drop-shadow(0px 1px 2px rgba(0, 0, 0, 0.3));\n",
              "      fill: #FFFFFF;\n",
              "    }\n",
              "  </style>\n",
              "\n",
              "      <script>\n",
              "        const buttonEl =\n",
              "          document.querySelector('#df-26c951d5-da52-49a2-aaa1-c3b7941202dd button.colab-df-convert');\n",
              "        buttonEl.style.display =\n",
              "          google.colab.kernel.accessAllowed ? 'block' : 'none';\n",
              "\n",
              "        async function convertToInteractive(key) {\n",
              "          const element = document.querySelector('#df-26c951d5-da52-49a2-aaa1-c3b7941202dd');\n",
              "          const dataTable =\n",
              "            await google.colab.kernel.invokeFunction('convertToInteractive',\n",
              "                                                     [key], {});\n",
              "          if (!dataTable) return;\n",
              "\n",
              "          const docLinkHtml = 'Like what you see? Visit the ' +\n",
              "            '<a target=\"_blank\" href=https://colab.research.google.com/notebooks/data_table.ipynb>data table notebook</a>'\n",
              "            + ' to learn more about interactive tables.';\n",
              "          element.innerHTML = '';\n",
              "          dataTable['output_type'] = 'display_data';\n",
              "          await google.colab.output.renderOutput(dataTable, element);\n",
              "          const docLink = document.createElement('div');\n",
              "          docLink.innerHTML = docLinkHtml;\n",
              "          element.appendChild(docLink);\n",
              "        }\n",
              "      </script>\n",
              "    </div>\n",
              "  </div>\n",
              "  "
            ]
          },
          "metadata": {},
          "execution_count": 94
        }
      ]
    },
    {
      "cell_type": "markdown",
      "source": [
        "- Наибольшую точность показал Logistic Regression со стратегией OneVsOne. При этом время обучения данного варианта наибольшее из всех.\n",
        "- На втором месте Decision Tree со стратегией OneVsRest. Точность уменьшилась на 0.01, однако время обучения заметно меньше.\n",
        "- Быстрее всех обучались стратегии с KNN и SVM. SVM со стратегией OneVsOne  показал точность 0.92 при одном из самых маленьких времен обучения.\n"
      ],
      "metadata": {
        "id": "gVWVQTsnRYE5"
      }
    },
    {
      "cell_type": "markdown",
      "source": [
        "## Multioutput Regression\n"
      ],
      "metadata": {
        "id": "u29aqgh_CRkr"
      }
    },
    {
      "cell_type": "markdown",
      "source": [
        "### \\* (+2 балла) Повторить все пункты для задачи Multioutput Regression (регрессия с несколькими целевыми признаками, вещественными). Модель попробовать как минимум одну: Ridge. В качестве стратегий попробовать MultiOutputRegressor и RegressorChain. В качестве метрики использовать R2."
      ],
      "metadata": {
        "id": "c54_2N0bBP34"
      }
    },
    {
      "cell_type": "markdown",
      "source": [
        "Целевыми будут признаки `culmen_depth_mm`, `flipper_length_mm`, `body_mass_g`."
      ],
      "metadata": {
        "id": "mHlrjJiQDVa5"
      }
    },
    {
      "cell_type": "code",
      "source": [
        "penguins_data_X = penguins_data.drop(columns=['culmen_depth_mm', 'flipper_length_mm', 'body_mass_g'])\n",
        "penguins_data_y = penguins_data[['culmen_depth_mm', 'flipper_length_mm', 'body_mass_g']]\n",
        "\n",
        "from sklearn.model_selection import train_test_split\n",
        "\n",
        "penguins_train_X, penguins_test_X, penguins_train_y, penguins_test_y = train_test_split(penguins_data_X, penguins_data_y, test_size = 0.3, random_state=19)"
      ],
      "metadata": {
        "id": "HCH_igX4CWSO"
      },
      "execution_count": 95,
      "outputs": []
    },
    {
      "cell_type": "code",
      "source": [
        "import time\n",
        "import numpy as np\n",
        "from sklearn.linear_model import Ridge\n",
        "from sklearn.multioutput import MultiOutputRegressor, RegressorChain\n",
        "from sklearn.metrics import r2_score\n",
        "\n",
        "Ridge_hp = {'alpha': np.arange(0, 1, 0.01)} \n",
        "\n",
        "Grid_Ridge_penguins = GridSearchCV(Ridge(),\n",
        "                      Ridge_hp,\n",
        "                      scoring='r2',\n",
        "                      cv = 3)"
      ],
      "metadata": {
        "id": "UAkq5FjWDUtN"
      },
      "execution_count": 96,
      "outputs": []
    },
    {
      "cell_type": "markdown",
      "source": [
        "- MultiOutputRegressor"
      ],
      "metadata": {
        "id": "SDt-zaJUE5ij"
      }
    },
    {
      "cell_type": "code",
      "source": [
        "Ridge_penguins_mor = MultiOutputRegressor(Grid_Ridge_penguins)\n",
        "start_Ridge_penguins_mor = time.time()\n",
        "Ridge_penguins_mor.fit(penguins_train_X, penguins_train_y)\n",
        "training_time_Ridge_penguins_mor = time.time() - start_Ridge_penguins_mor"
      ],
      "metadata": {
        "id": "aFUKK61tE5il"
      },
      "execution_count": 97,
      "outputs": []
    },
    {
      "cell_type": "code",
      "source": [
        "Ridge_penguins_train_predict = Ridge_penguins_mor.predict(penguins_train_X)\n",
        "r2_ridge_train_mor = r2_score(penguins_train_y, Ridge_penguins_train_predict)\n",
        "print(\"MultiOutputRegressor\\n train r2: \", r2_ridge_train_mor, \"\\n training time: \", training_time_Ridge_penguins_mor)"
      ],
      "metadata": {
        "colab": {
          "base_uri": "https://localhost:8080/"
        },
        "outputId": "5e2df5e7-bf08-4c0f-effc-b3ba5de16753",
        "id": "lOOQpZRfE5im"
      },
      "execution_count": 98,
      "outputs": [
        {
          "output_type": "stream",
          "name": "stdout",
          "text": [
            "MultiOutputRegressor\n",
            " train r2:  0.8012749265570314 \n",
            " training time:  4.424698352813721\n"
          ]
        }
      ]
    },
    {
      "cell_type": "code",
      "source": [
        "Ridge_penguins_test_predict = Ridge_penguins_mor.predict(penguins_test_X)\n",
        "r2_ridge_test_mor = r2_score(penguins_test_y, Ridge_penguins_test_predict)\n",
        "print(\"MultiOutputRegressor\\n test r2: \", r2_ridge_test_mor)"
      ],
      "metadata": {
        "colab": {
          "base_uri": "https://localhost:8080/"
        },
        "outputId": "ff2d9ca4-d506-4148-c057-a760f074ace4",
        "id": "b5SVpxIIE5io"
      },
      "execution_count": 99,
      "outputs": [
        {
          "output_type": "stream",
          "name": "stdout",
          "text": [
            "MultiOutputRegressor\n",
            " test r2:  0.7424631568618154\n"
          ]
        }
      ]
    },
    {
      "cell_type": "markdown",
      "source": [
        "- RegressorChain"
      ],
      "metadata": {
        "id": "HWa_ABNsF06s"
      }
    },
    {
      "cell_type": "code",
      "source": [
        "Ridge_penguins_rc = RegressorChain(Grid_Ridge_penguins)\n",
        "start_Ridge_penguins_rc = time.time()\n",
        "Ridge_penguins_rc.fit(penguins_train_X, penguins_train_y)\n",
        "training_time_Ridge_penguins_rc = time.time() - start_Ridge_penguins_rc"
      ],
      "metadata": {
        "id": "7tNQdLIZF06t"
      },
      "execution_count": 100,
      "outputs": []
    },
    {
      "cell_type": "code",
      "source": [
        "Ridge_penguins_train_predict = Ridge_penguins_rc.predict(penguins_train_X)\n",
        "r2_ridge_train_rc = r2_score(penguins_train_y, Ridge_penguins_train_predict)\n",
        "print(\"RegressorChain\\n train r2: \", r2_ridge_train_rc, \"\\n training time: \", training_time_Ridge_penguins_rc)"
      ],
      "metadata": {
        "colab": {
          "base_uri": "https://localhost:8080/"
        },
        "outputId": "b54046d9-7aab-4c7d-fcd5-f16b8c777a34",
        "id": "HT5wPMymF06v"
      },
      "execution_count": 101,
      "outputs": [
        {
          "output_type": "stream",
          "name": "stdout",
          "text": [
            "RegressorChain\n",
            " train r2:  0.8012506424846085 \n",
            " training time:  1.4562876224517822\n"
          ]
        }
      ]
    },
    {
      "cell_type": "code",
      "source": [
        "Ridge_penguins_test_predict = Ridge_penguins_rc.predict(penguins_test_X)\n",
        "r2_ridge_test_rc = r2_score(penguins_test_y, Ridge_penguins_test_predict)\n",
        "print(\"RegressorChain\\n test r2: \", r2_ridge_test_rc)"
      ],
      "metadata": {
        "colab": {
          "base_uri": "https://localhost:8080/"
        },
        "outputId": "a2ac7795-c9b3-4931-94d3-95505f9e3143",
        "id": "pEsVPs-rF06w"
      },
      "execution_count": 102,
      "outputs": [
        {
          "output_type": "stream",
          "name": "stdout",
          "text": [
            "RegressorChain\n",
            " test r2:  0.7423604228412563\n"
          ]
        }
      ]
    },
    {
      "cell_type": "code",
      "source": [
        "stats_mo_regression = [('Ridge', r2_ridge_train_mor, r2_ridge_train_rc,  r2_ridge_test_mor,\n",
        "                                   r2_ridge_test_rc, training_time_Ridge_penguins_mor, training_time_Ridge_penguins_rc)\n",
        "         ]\n",
        "\n",
        "stats_mo_regression_pd = pd.DataFrame(data = stats_mo_regression, columns=['Model', 'Train r2 MOR', 'Train r2 RC', \n",
        "                                               'Test r2 MOR', 'Test r2 RC',  \n",
        "                                               'Train time MOR', 'Train time RC'])"
      ],
      "metadata": {
        "id": "WfvkG5foHO5z"
      },
      "execution_count": 103,
      "outputs": []
    },
    {
      "cell_type": "code",
      "source": [
        "stats_mo_regression_pd = stats_mo_regression_pd.round(decimals = 3)"
      ],
      "metadata": {
        "id": "etDegZ_tHO51"
      },
      "execution_count": 104,
      "outputs": []
    },
    {
      "cell_type": "code",
      "source": [
        "stats_mo_regression_pd"
      ],
      "metadata": {
        "colab": {
          "base_uri": "https://localhost:8080/",
          "height": 81
        },
        "outputId": "4178c464-de8d-4e46-d1b4-ff2f18c87420",
        "id": "MCGsGM-5HO52"
      },
      "execution_count": 105,
      "outputs": [
        {
          "output_type": "execute_result",
          "data": {
            "text/plain": [
              "   Model  Train r2 MOR  Train r2 RC  Test r2 MOR  Test r2 RC  Train time MOR  \\\n",
              "0  Ridge         0.801        0.801        0.742       0.742           4.425   \n",
              "\n",
              "   Train time RC  \n",
              "0          1.456  "
            ],
            "text/html": [
              "\n",
              "  <div id=\"df-5e02d0bc-7950-4c6e-92bb-26166613b17d\">\n",
              "    <div class=\"colab-df-container\">\n",
              "      <div>\n",
              "<style scoped>\n",
              "    .dataframe tbody tr th:only-of-type {\n",
              "        vertical-align: middle;\n",
              "    }\n",
              "\n",
              "    .dataframe tbody tr th {\n",
              "        vertical-align: top;\n",
              "    }\n",
              "\n",
              "    .dataframe thead th {\n",
              "        text-align: right;\n",
              "    }\n",
              "</style>\n",
              "<table border=\"1\" class=\"dataframe\">\n",
              "  <thead>\n",
              "    <tr style=\"text-align: right;\">\n",
              "      <th></th>\n",
              "      <th>Model</th>\n",
              "      <th>Train r2 MOR</th>\n",
              "      <th>Train r2 RC</th>\n",
              "      <th>Test r2 MOR</th>\n",
              "      <th>Test r2 RC</th>\n",
              "      <th>Train time MOR</th>\n",
              "      <th>Train time RC</th>\n",
              "    </tr>\n",
              "  </thead>\n",
              "  <tbody>\n",
              "    <tr>\n",
              "      <th>0</th>\n",
              "      <td>Ridge</td>\n",
              "      <td>0.801</td>\n",
              "      <td>0.801</td>\n",
              "      <td>0.742</td>\n",
              "      <td>0.742</td>\n",
              "      <td>4.425</td>\n",
              "      <td>1.456</td>\n",
              "    </tr>\n",
              "  </tbody>\n",
              "</table>\n",
              "</div>\n",
              "      <button class=\"colab-df-convert\" onclick=\"convertToInteractive('df-5e02d0bc-7950-4c6e-92bb-26166613b17d')\"\n",
              "              title=\"Convert this dataframe to an interactive table.\"\n",
              "              style=\"display:none;\">\n",
              "        \n",
              "  <svg xmlns=\"http://www.w3.org/2000/svg\" height=\"24px\"viewBox=\"0 0 24 24\"\n",
              "       width=\"24px\">\n",
              "    <path d=\"M0 0h24v24H0V0z\" fill=\"none\"/>\n",
              "    <path d=\"M18.56 5.44l.94 2.06.94-2.06 2.06-.94-2.06-.94-.94-2.06-.94 2.06-2.06.94zm-11 1L8.5 8.5l.94-2.06 2.06-.94-2.06-.94L8.5 2.5l-.94 2.06-2.06.94zm10 10l.94 2.06.94-2.06 2.06-.94-2.06-.94-.94-2.06-.94 2.06-2.06.94z\"/><path d=\"M17.41 7.96l-1.37-1.37c-.4-.4-.92-.59-1.43-.59-.52 0-1.04.2-1.43.59L10.3 9.45l-7.72 7.72c-.78.78-.78 2.05 0 2.83L4 21.41c.39.39.9.59 1.41.59.51 0 1.02-.2 1.41-.59l7.78-7.78 2.81-2.81c.8-.78.8-2.07 0-2.86zM5.41 20L4 18.59l7.72-7.72 1.47 1.35L5.41 20z\"/>\n",
              "  </svg>\n",
              "      </button>\n",
              "      \n",
              "  <style>\n",
              "    .colab-df-container {\n",
              "      display:flex;\n",
              "      flex-wrap:wrap;\n",
              "      gap: 12px;\n",
              "    }\n",
              "\n",
              "    .colab-df-convert {\n",
              "      background-color: #E8F0FE;\n",
              "      border: none;\n",
              "      border-radius: 50%;\n",
              "      cursor: pointer;\n",
              "      display: none;\n",
              "      fill: #1967D2;\n",
              "      height: 32px;\n",
              "      padding: 0 0 0 0;\n",
              "      width: 32px;\n",
              "    }\n",
              "\n",
              "    .colab-df-convert:hover {\n",
              "      background-color: #E2EBFA;\n",
              "      box-shadow: 0px 1px 2px rgba(60, 64, 67, 0.3), 0px 1px 3px 1px rgba(60, 64, 67, 0.15);\n",
              "      fill: #174EA6;\n",
              "    }\n",
              "\n",
              "    [theme=dark] .colab-df-convert {\n",
              "      background-color: #3B4455;\n",
              "      fill: #D2E3FC;\n",
              "    }\n",
              "\n",
              "    [theme=dark] .colab-df-convert:hover {\n",
              "      background-color: #434B5C;\n",
              "      box-shadow: 0px 1px 3px 1px rgba(0, 0, 0, 0.15);\n",
              "      filter: drop-shadow(0px 1px 2px rgba(0, 0, 0, 0.3));\n",
              "      fill: #FFFFFF;\n",
              "    }\n",
              "  </style>\n",
              "\n",
              "      <script>\n",
              "        const buttonEl =\n",
              "          document.querySelector('#df-5e02d0bc-7950-4c6e-92bb-26166613b17d button.colab-df-convert');\n",
              "        buttonEl.style.display =\n",
              "          google.colab.kernel.accessAllowed ? 'block' : 'none';\n",
              "\n",
              "        async function convertToInteractive(key) {\n",
              "          const element = document.querySelector('#df-5e02d0bc-7950-4c6e-92bb-26166613b17d');\n",
              "          const dataTable =\n",
              "            await google.colab.kernel.invokeFunction('convertToInteractive',\n",
              "                                                     [key], {});\n",
              "          if (!dataTable) return;\n",
              "\n",
              "          const docLinkHtml = 'Like what you see? Visit the ' +\n",
              "            '<a target=\"_blank\" href=https://colab.research.google.com/notebooks/data_table.ipynb>data table notebook</a>'\n",
              "            + ' to learn more about interactive tables.';\n",
              "          element.innerHTML = '';\n",
              "          dataTable['output_type'] = 'display_data';\n",
              "          await google.colab.output.renderOutput(dataTable, element);\n",
              "          const docLink = document.createElement('div');\n",
              "          docLink.innerHTML = docLinkHtml;\n",
              "          element.appendChild(docLink);\n",
              "        }\n",
              "      </script>\n",
              "    </div>\n",
              "  </div>\n",
              "  "
            ]
          },
          "metadata": {},
          "execution_count": 105
        }
      ]
    },
    {
      "cell_type": "markdown",
      "source": [
        "- Стратегии MultiOutputRegressor и RegressorChain показали схожий результат по метрике R2.\n",
        "- При этом стратегия RegressorChain обучалась быстрее, чем MultiOutputRegressor."
      ],
      "metadata": {
        "id": "5cEiuvvzKHZK"
      }
    }
  ]
}